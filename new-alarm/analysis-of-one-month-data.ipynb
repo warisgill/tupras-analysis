{
 "cells": [
  {
   "cell_type": "code",
   "execution_count": 3,
   "metadata": {},
   "outputs": [
    {
     "name": "stdout",
     "output_type": "stream",
     "text": [
      "Renderers configuration\n",
      "-----------------------\n",
      "    Default renderer: 'vscode'\n",
      "    Available renderers:\n",
      "        ['plotly_mimetype', 'jupyterlab', 'nteract', 'vscode',\n",
      "         'notebook', 'notebook_connected', 'kaggle', 'azure', 'colab',\n",
      "         'cocalc', 'databricks', 'json', 'png', 'jpeg', 'jpg', 'svg',\n",
      "         'pdf', 'browser', 'firefox', 'chrome', 'chromium', 'iframe',\n",
      "         'iframe_connected', 'sphinx_gallery']\n",
      "\n"
     ]
    }
   ],
   "source": [
    "import math\n",
    "import numpy as np\n",
    "import pandas as pd\n",
    "from datetime import timedelta\n",
    "from datetime import datetime\n",
    "from dateutil.parser import parse\n",
    "import plotly.io as pio\n",
    "import plotly.express as px\n",
    "import plotly.graph_objs as go\n",
    "from plotly.subplots import make_subplots\n",
    "print(pio.renderers)\n",
    "pio.renderers.default = \"notebook\""
   ]
  },
  {
   "cell_type": "code",
   "execution_count": 20,
   "metadata": {},
   "outputs": [],
   "source": [
    "path = \"/home/waris/Github/tupras-analysis/new-alarm/stats-one-month.csv\"\n",
    "df = pd.read_csv(\"stats-one-month.csv\", low_memory=False)\n",
    "df[\"StartTime\"] = df[\"StartTime\"].apply(lambda d: parse(d))\n",
    "df[\"EndTime\"] = df[\"EndTime\"].apply(lambda d: parse(d))\n",
    "df[\"Time\"] = df[\"Time\"].apply(lambda d: datetime.strptime(d,\"%H:%M\").time())\n",
    "# for col in df.columns:\n",
    "#     print(col, type(df[col][0]))\n",
    "# print(\"===============\")\n",
    "# df.info()\n",
    "df.head(20)"
   ]
  },
  {
   "cell_type": "code",
   "execution_count": 17,
   "metadata": {
    "scrolled": true
   },
   "outputs": [
    {
     "data": {
      "text/html": [
       "<div>\n",
       "<style scoped>\n",
       "    .dataframe tbody tr th:only-of-type {\n",
       "        vertical-align: middle;\n",
       "    }\n",
       "\n",
       "    .dataframe tbody tr th {\n",
       "        vertical-align: top;\n",
       "    }\n",
       "\n",
       "    .dataframe thead th {\n",
       "        text-align: right;\n",
       "    }\n",
       "</style>\n",
       "<table border=\"1\" class=\"dataframe\">\n",
       "  <thead>\n",
       "    <tr style=\"text-align: right;\">\n",
       "      <th></th>\n",
       "      <th>Quality</th>\n",
       "      <th>Mask</th>\n",
       "      <th>NewState</th>\n",
       "      <th>Status</th>\n",
       "      <th>TimeDelta</th>\n",
       "      <th>Year</th>\n",
       "      <th>Month</th>\n",
       "      <th>MonthDay</th>\n",
       "      <th>Hour</th>\n",
       "      <th>Minute</th>\n",
       "    </tr>\n",
       "  </thead>\n",
       "  <tbody>\n",
       "    <tr>\n",
       "      <th>count</th>\n",
       "      <td>284750.000000</td>\n",
       "      <td>284750.000000</td>\n",
       "      <td>284750.000000</td>\n",
       "      <td>284750.000000</td>\n",
       "      <td>284750.000000</td>\n",
       "      <td>284750.0</td>\n",
       "      <td>284750.0</td>\n",
       "      <td>284750.000000</td>\n",
       "      <td>284750.000000</td>\n",
       "      <td>284750.000000</td>\n",
       "    </tr>\n",
       "    <tr>\n",
       "      <th>mean</th>\n",
       "      <td>37.271263</td>\n",
       "      <td>199.261517</td>\n",
       "      <td>3.000471</td>\n",
       "      <td>0.964158</td>\n",
       "      <td>347.286160</td>\n",
       "      <td>2019.0</td>\n",
       "      <td>3.0</td>\n",
       "      <td>14.422005</td>\n",
       "      <td>11.323326</td>\n",
       "      <td>29.279856</td>\n",
       "    </tr>\n",
       "    <tr>\n",
       "      <th>std</th>\n",
       "      <td>75.940474</td>\n",
       "      <td>4.231012</td>\n",
       "      <td>0.036528</td>\n",
       "      <td>0.185896</td>\n",
       "      <td>5354.781415</td>\n",
       "      <td>0.0</td>\n",
       "      <td>0.0</td>\n",
       "      <td>5.298439</td>\n",
       "      <td>7.128231</td>\n",
       "      <td>17.314135</td>\n",
       "    </tr>\n",
       "    <tr>\n",
       "      <th>min</th>\n",
       "      <td>0.000000</td>\n",
       "      <td>128.000000</td>\n",
       "      <td>3.000000</td>\n",
       "      <td>0.000000</td>\n",
       "      <td>0.000000</td>\n",
       "      <td>2019.0</td>\n",
       "      <td>3.0</td>\n",
       "      <td>6.000000</td>\n",
       "      <td>0.000000</td>\n",
       "      <td>0.000000</td>\n",
       "    </tr>\n",
       "    <tr>\n",
       "      <th>25%</th>\n",
       "      <td>0.000000</td>\n",
       "      <td>201.000000</td>\n",
       "      <td>3.000000</td>\n",
       "      <td>1.000000</td>\n",
       "      <td>16.000000</td>\n",
       "      <td>2019.0</td>\n",
       "      <td>3.0</td>\n",
       "      <td>10.000000</td>\n",
       "      <td>5.000000</td>\n",
       "      <td>14.000000</td>\n",
       "    </tr>\n",
       "    <tr>\n",
       "      <th>50%</th>\n",
       "      <td>0.000000</td>\n",
       "      <td>201.000000</td>\n",
       "      <td>3.000000</td>\n",
       "      <td>1.000000</td>\n",
       "      <td>29.000000</td>\n",
       "      <td>2019.0</td>\n",
       "      <td>3.0</td>\n",
       "      <td>14.000000</td>\n",
       "      <td>11.000000</td>\n",
       "      <td>29.000000</td>\n",
       "    </tr>\n",
       "    <tr>\n",
       "      <th>75%</th>\n",
       "      <td>0.000000</td>\n",
       "      <td>201.000000</td>\n",
       "      <td>3.000000</td>\n",
       "      <td>1.000000</td>\n",
       "      <td>44.000000</td>\n",
       "      <td>2019.0</td>\n",
       "      <td>3.0</td>\n",
       "      <td>19.000000</td>\n",
       "      <td>18.000000</td>\n",
       "      <td>44.000000</td>\n",
       "    </tr>\n",
       "    <tr>\n",
       "      <th>max</th>\n",
       "      <td>192.000000</td>\n",
       "      <td>249.000000</td>\n",
       "      <td>7.000000</td>\n",
       "      <td>1.000000</td>\n",
       "      <td>482009.000000</td>\n",
       "      <td>2019.0</td>\n",
       "      <td>3.0</td>\n",
       "      <td>23.000000</td>\n",
       "      <td>23.000000</td>\n",
       "      <td>59.000000</td>\n",
       "    </tr>\n",
       "  </tbody>\n",
       "</table>\n",
       "</div>"
      ],
      "text/plain": [
       "             Quality           Mask       NewState         Status  \\\n",
       "count  284750.000000  284750.000000  284750.000000  284750.000000   \n",
       "mean       37.271263     199.261517       3.000471       0.964158   \n",
       "std        75.940474       4.231012       0.036528       0.185896   \n",
       "min         0.000000     128.000000       3.000000       0.000000   \n",
       "25%         0.000000     201.000000       3.000000       1.000000   \n",
       "50%         0.000000     201.000000       3.000000       1.000000   \n",
       "75%         0.000000     201.000000       3.000000       1.000000   \n",
       "max       192.000000     249.000000       7.000000       1.000000   \n",
       "\n",
       "           TimeDelta      Year     Month       MonthDay           Hour  \\\n",
       "count  284750.000000  284750.0  284750.0  284750.000000  284750.000000   \n",
       "mean      347.286160    2019.0       3.0      14.422005      11.323326   \n",
       "std      5354.781415       0.0       0.0       5.298439       7.128231   \n",
       "min         0.000000    2019.0       3.0       6.000000       0.000000   \n",
       "25%        16.000000    2019.0       3.0      10.000000       5.000000   \n",
       "50%        29.000000    2019.0       3.0      14.000000      11.000000   \n",
       "75%        44.000000    2019.0       3.0      19.000000      18.000000   \n",
       "max    482009.000000    2019.0       3.0      23.000000      23.000000   \n",
       "\n",
       "              Minute  \n",
       "count  284750.000000  \n",
       "mean       29.279856  \n",
       "std        17.314135  \n",
       "min         0.000000  \n",
       "25%        14.000000  \n",
       "50%        29.000000  \n",
       "75%        44.000000  \n",
       "max        59.000000  "
      ]
     },
     "execution_count": 17,
     "metadata": {},
     "output_type": "execute_result"
    }
   ],
   "source": [
    "# df.describe()"
   ]
  },
  {
   "cell_type": "markdown",
   "metadata": {},
   "source": [
    "# StartTime \n",
    "\n",
    "The following graph shows all the alarms triggered in this dataset. The x-axis represents the activation time of an alarm, and the y-axis shows the duration (i.e., TimeDelta= StartTime - EndTime) of the corresponding activation. As we can see that most of the alarms deactivated within 20 seconds (it will be more clear in followings sections)."
   ]
  },
  {
   "cell_type": "code",
   "execution_count": 22,
   "metadata": {},
   "outputs": [],
   "source": [
    "\n",
    "# fig = px.scatter(df, x=\"StartTime\", y=\"TimeDelta\",render_mode=\"webgl\")\n",
    "# fig.show()"
   ]
  },
  {
   "cell_type": "markdown",
   "metadata": {},
   "source": [
    "# Box Plot of  TimeDelta for all alarms\n",
    "This is one of the most important box plots in the whole analysis. It will help us to determine the threshold for TimeDelta. If the duration between activation and deactivation (i.e., TimeDelta = Deactivation - Activation) is less than the threshold then we will not transmit such alarm to the historian. From the following box plot, we can see that the first quartile (q1) is equal to 16 seconds which means if we set the threshold constant equals to 16 seconds we will directly reduce 25% of the communications between the DCS systems and Historian server. Similarly, if we set threshold constant to 29 seconds (i.e., q2 or median value) the 50 % of the storage & and communication will be reduced.  \n",
    "**Questions:**\n",
    "* We need more data to determine the threshold constant value. Can I get more data of the same plant? For example, 1 year or  6 months.\n",
    "* Can I choose threshold value equals to 29 seconds?\n",
    "\n",
    "**Note: If hover the mouse over any graph it will show the values.**"
   ]
  },
  {
   "cell_type": "code",
   "execution_count": 12,
   "metadata": {},
   "outputs": [],
   "source": [
    "# fig = px.box(df, y=\"TimeDelta\")\n",
    "# fig.update_yaxes(range=[0, 100])\n",
    "# fig.show()"
   ]
  },
  {
   "cell_type": "markdown",
   "metadata": {},
   "source": [
    "# SourceName Analysis\n",
    "\n",
    "From the first histograms, we can see that \"47TI931\" triggered the most number of alarms. Additionally, all the alarms are related to “IOP” condition. \n",
    "\n",
    "**Questions** \n",
    "* Why so many communications problems occur? Is it normal?\n"
   ]
  },
  {
   "cell_type": "code",
   "execution_count": 10,
   "metadata": {},
   "outputs": [],
   "source": [
    "# fig = px.histogram(df, x = \"SourceName\")\n",
    "# fig.update_layout(title=\"Number of times each SourceName triggered an alarm.\")\n",
    "# fig.show()\n",
    "\n",
    "# fig = px.histogram(df, x = \"SourceName\", color=\"Condition\",  barmode='group')\n",
    "# fig.update_layout(title=\"Number of times a condition occured for a SourceName.\")\n",
    "# fig.show()\n",
    "\n",
    "# fig = px.box(df, x= \"SourceName\", y=\"TimeDelta\")\n",
    "# fig.update_yaxes(range=[0, 200])\n",
    "# fig.update_layout(title=\"Box Plot of TimeDelats (Deactivaion - Activation) for each SourceName\")\n",
    "# fig.show()\n"
   ]
  },
  {
   "cell_type": "markdown",
   "metadata": {},
   "source": [
    "# Conditions Analysis\n",
    "\n",
    "As we can see from the following graphs, the most frequent alarms are related to communication problems. For instance, IOP condition occurred more 191 thousand time. Additionally, from the box plot, we can see that that durations (i.e., timedelta = deactivation time - activation time)  of IOP alarms are shorter.\n",
    "\n",
    "**Conclusion:** IOP communications can discard easily as it just represent only the communication issue between the field device and the DCS system. So if we discard such alarms we reduce the communication between the DCS system and historian server to a few hundreds instead of thousands. \n",
    "\n",
    "**Questions:**\n",
    "* Why the Vel+ and Vel- conditions are lesser than compared to other conditions? Because they were the most in 1-day data (old data). Is it normal?\n",
    "* Whether my conclusion is correct or not? \n"
   ]
  },
  {
   "cell_type": "code",
   "execution_count": 1,
   "metadata": {},
   "outputs": [],
   "source": [
    "# fig = px.histogram(df, x = \"Condition\")\n",
    "# fig.show()\n",
    "\n",
    "\n",
    "# fig = px.box(df, x= \"Condition\", y=\"TimeDelta\")\n",
    "# fig.update_yaxes(range=[0, 200])\n",
    "# fig.show()"
   ]
  },
  {
   "cell_type": "markdown",
   "metadata": {},
   "source": [
    "### Condtions Occuring on each day of Week"
   ]
  },
  {
   "cell_type": "code",
   "execution_count": 21,
   "metadata": {},
   "outputs": [],
   "source": [
    "# fig = px.histogram(df, x=\"WeekDay\", color=\"Condition\",  barmode='group')\n",
    "# fig.show()"
   ]
  },
  {
   "cell_type": "markdown",
   "metadata": {},
   "source": [
    "# Chattering Processing and Algorithms"
   ]
  },
  {
   "cell_type": "code",
   "execution_count": 3,
   "metadata": {},
   "outputs": [],
   "source": [
    "sources = {} # contains each unique sourcename as key and corresponding alarms in a list\n",
    "for sname in df[\"SourceName\"].unique():\n",
    "    sources[sname] =  []\n",
    "temp_dict = None\n",
    "for i in range(df.shape[0]):\n",
    "    temp_dict = {}\n",
    "    for key in df.columns:\n",
    "        temp_dict[key] = df[key][i]\n",
    "    sources[df[\"SourceName\"][i]].append(temp_dict)"
   ]
  },
  {
   "cell_type": "markdown",
   "metadata": {},
   "source": [
    "### Chattering Algorithm"
   ]
  },
  {
   "cell_type": "code",
   "execution_count": 10,
   "metadata": {},
   "outputs": [],
   "source": [
    "def findChatterings(alarms, chattering_timedelta_threshold=60.0, chattering_count_threshold=3):\n",
    "    chattering = {}\n",
    "    \n",
    "    alarms = [alarm for alarm in sorted(alarms, key=lambda arg: arg[\"StartTime\"], reverse=False)]    \n",
    "    count = 0\n",
    "    \n",
    "    for i in range(len(alarms)):\n",
    "        t_prev = alarms[i][\"StartTime\"]\n",
    "        count = 0\n",
    "        for j in range(i+1, len(alarms)):\n",
    "            t_next = alarms[j][\"StartTime\"]    \n",
    "            \n",
    "            if timedelta.total_seconds(t_next - t_prev) > chattering_timedelta_threshold:\n",
    "                break\n",
    "                \n",
    "            count += 1\n",
    "#             print(time_delta, \"count ++ \", count, t_prev, t_next)\n",
    "        \n",
    "#         if count > chattering_count_threshold:\n",
    "        chattering[t_prev] = {\"own_index\": i, \"count\": count}\n",
    "            \n",
    "    return chattering"
   ]
  },
  {
   "cell_type": "code",
   "execution_count": null,
   "metadata": {},
   "outputs": [],
   "source": [
    "chats = findChatterings(sources.k)\n",
    "chats = [v[\"count\"] for v in chats.values()]\n",
    "trace = go.Histogram(x=chats)\n",
    "fig.show(data=[trace])"
   ]
  },
  {
   "cell_type": "markdown",
   "metadata": {},
   "source": [
    "#### Chattering Histograms \n",
    "If an alarm from the same source is triggered 3 times or less then such situation of chattering is considered normal.  However, from the following the histograms, we can see that thousands of alarms are triggered more than thrice in most of the sensors. For instance, consider \"47TI931A\", it chatters 6 times in a minute more than 31 thousand times. \n",
    "\n",
    "**Note:  x-axis represents the number of times an alarm chatter in the duration of one minute. The y-axis represents how many times such conditions (i.e., chatters) occur.** \n",
    "\n",
    "**Conclusion:** Such conditions (in which an alarm is triggered more than 3 times in a minute) are abnormals. So, if we detect such conditions at the edge it may help to do.... [list the usages].\n",
    " \n",
    "**Questions:** \n",
    "* Is my conclusion correct? \n",
    "* What are the use cases if we detect chatters in real-time? \n",
    "* How too much chattering effect system performance?"
   ]
  },
  {
   "cell_type": "code",
   "execution_count": 23,
   "metadata": {},
   "outputs": [],
   "source": [
    "# cols = 2\n",
    "# rows = math.ceil(len(sources.keys())/cols)\n",
    "# fig = make_subplots(rows=rows, cols=cols)\n",
    "\n",
    "\n",
    "# t = 0\n",
    "# snames = list(sources.keys())\n",
    "# for row in range(1, rows+1):\n",
    "#     for col in range(1,cols+1):\n",
    "#         chats = findChatterings(sources[snames[t]])\n",
    "#         chats = [v[\"count\"] for v in chats.values()]\n",
    "#         trace = go.Histogram(x=chats,name=snames[t])\n",
    "#         fig.add_trace(trace,row =row, col=col)\n",
    "#         t += 1\n",
    "# fig.show()"
   ]
  },
  {
   "cell_type": "markdown",
   "metadata": {},
   "source": [
    "# Time Between form one Deactivation to Next Deactivation for whole Data\n",
    "\n",
    "In this section, I tried to find the time between 1 deactivation to next deactivation. In ideal scenario, there should be 1 alarm per minute. However, when I took the time difference between 1 deactivation to the next activation of any alarm the difference (delta) was mostly under 10 seconds which means that a huge number alarms are generated in 1 minute.\n",
    "\n",
    "**Note: The x-axis represents the time delta (i.e., the time difference between deactivation and activation of an alarm), while the y-axis represents the frequency (count) of corresponding deltas.**\n",
    "\n",
    "**Questions:**  \n",
    "* Are my observations correct? If not please let me know what should I do to cross-check my results\n",
    "* If my observations are correct then what kind of conclusions I can draw from this graph?\n"
   ]
  },
  {
   "cell_type": "code",
   "execution_count": 42,
   "metadata": {},
   "outputs": [],
   "source": [
    "def frequencyOfAlarmsActivated(alarms, timediff=60):\n",
    "    alarms_by_start_time = [alarm for alarm in sorted(alarms, key=lambda arg: arg[\"StartTime\"], reverse=False)]\n",
    "    alarms_by_end_time = [alarm for alarm in sorted(alarms, key=lambda arg: arg[\"EndTime\"], reverse=False)]\n",
    "    freq = []\n",
    "    max_delta = -1\n",
    "    temp = 0\n",
    "    for i in range(len(alarms)):\n",
    "        t_end = alarms_by_end_time[i][\"EndTime\"]\n",
    "        j = 0 \n",
    "        for j in range(temp,len(alarms)):        \n",
    "            t_start = alarms_by_start_time[j][\"StartTime\"]\n",
    "            delta = timedelta.total_seconds(t_start - t_end)\n",
    "            \n",
    "            if delta< 0:\n",
    "#                 print(delta)\n",
    "                continue\n",
    "            else:\n",
    "                temp = j-1\n",
    "                if max_delta < delta:\n",
    "                    max_delta = delta\n",
    "#                 print(delta)\n",
    "                freq.append(delta)\n",
    "                break\n",
    "#     print(\"Max seconds :\", max_delta)\n",
    "    return freq"
   ]
  },
  {
   "cell_type": "code",
   "execution_count": 24,
   "metadata": {},
   "outputs": [],
   "source": [
    "# alarms = []\n",
    "# # concatenating lists of alarms\n",
    "# for sname in sources.keys():\n",
    "#     alarms = alarms + sources[sname] \n",
    "\n",
    "# freq = frequencyOfAlarmsActivated(alarms)\n",
    "# d = {}\n",
    "# for v in freq:\n",
    "#     if v < 200:\n",
    "#         d[v] = 0\n",
    "\n",
    "# for v in freq:\n",
    "#     if v < 200:\n",
    "#         d[v] +=1\n",
    "\n",
    "# counts = [v for v in d.values()]\n",
    "# deltas = [k for k in d.keys()]\n",
    "\n",
    "# fig = px.bar(x=deltas, y = counts)\n",
    "# fig.show()"
   ]
  },
  {
   "cell_type": "code",
   "execution_count": null,
   "metadata": {},
   "outputs": [],
   "source": []
  }
 ],
 "metadata": {
  "file_extension": ".py",
  "kernelspec": {
   "display_name": "Python 3.8.1 64-bit ('tupras': conda)",
   "language": "python",
   "name": "python38164bittuprasconda29eef5dda6c1493eac8cbe71aa58a6d6"
  },
  "language_info": {
   "codemirror_mode": {
    "name": "ipython",
    "version": 3
   },
   "file_extension": ".py",
   "mimetype": "text/x-python",
   "name": "python",
   "nbconvert_exporter": "python",
   "pygments_lexer": "ipython3",
   "version": "3.8.1"
  },
  "mimetype": "text/x-python",
  "name": "python",
  "npconvert_exporter": "python",
  "pygments_lexer": "ipython3",
  "version": 3
 },
 "nbformat": 4,
 "nbformat_minor": 4
}
