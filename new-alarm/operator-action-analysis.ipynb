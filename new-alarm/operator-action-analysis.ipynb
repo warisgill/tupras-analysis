{
 "cells": [
  {
   "cell_type": "code",
   "execution_count": null,
   "metadata": {},
   "outputs": [],
   "source": [
    "from alarms import *\n",
    "import networkx as nx\n",
    "import matplotlib.pyplot as plt\n",
    "from pyvis.network import Network"
   ]
  },
  {
   "cell_type": "markdown",
   "metadata": {},
   "source": [
    "### Enter the input variables"
   ]
  },
  {
   "cell_type": "code",
   "execution_count": null,
   "metadata": {},
   "outputs": [],
   "source": [
    "filter_short_alarms = 2 * 60  #seconds"
   ]
  },
  {
   "cell_type": "markdown",
   "metadata": {},
   "source": [
    "# Section 0: Reading CSV files and Preprocesssing (filtering)"
   ]
  },
  {
   "cell_type": "code",
   "execution_count": 56,
   "metadata": {
    "tags": []
   },
   "outputs": [
    {
     "output_type": "stream",
     "name": "stdout",
     "text": "==================== File : formatted-pre-2-mayis2019.csv =============\n==================== File : MayOperation_v2.xls =============\n >> # of unique SourceNames in Alarms 647, Unique SourceNames in Operator Actions 358\n >> # of Common SourceName bw filtered alarms and non-filtered alarms 175 182 with operator action, respectively\n >> # of filtered Alarms: 17306, # of Operator Actions: 17348\nRaw Alarms  873548\n >> Complete\n"
    }
   ],
   "source": [
    "# files = [\"haziran2019.csv\",\"march2019.csv\",\"mayis2019.csv\",\"nisan2019.csv\"]\n",
    "files = [\"mayis2019.csv\"]\n",
    "files = [\"formatted-pre-2-\"+f for f in files]\n",
    "files_operator = [\"MayOperation_v2.xls\"]\n",
    "path = \"./data/new/\"\n",
    "\n",
    "\n",
    "# Reading alarms data\n",
    "\n",
    "f = files[0]\n",
    "print(\"==================== File : {} =============\".format(f))\n",
    "input_fname = f\n",
    "df_csv_alarms = pd.read_csv(path + input_fname, low_memory=False ,parse_dates=[\"StartTime\", \"EndTime\"])\n",
    "df_csv_alarms[\"TimeDelta\"] = df_csv_alarms[\"EndTime\"] - df_csv_alarms[\"StartTime\"]\n",
    "df_csv_alarms[\"TimeDelta\"] = df_csv_alarms[\"TimeDelta\"].apply(lambda arg: timedelta.total_seconds(arg)) \n",
    "df_alarms_filtered = df_csv_alarms[df_csv_alarms[\"TimeDelta\"]>filter_short_alarms] \n",
    "\n",
    "# df_temp = df_csv_alarms.loc[df_csv_alarms[\"SourceName\"].isin(df_excel_operator[\"SourceName\"].unique())]\n",
    "# df_alarms_filtered.info()\n",
    "\n",
    "\n",
    "# Reading operator data\n",
    "f = files_operator[0]\n",
    "print(\"==================== File : {} =============\".format(f))\n",
    "cols = [\"MachineName\",\"SourceName\",\"EventTime\",\"Message\",\"Severity\",\"Mask\",\"NewState\",\"EventType\",\"EventCategory\",\"AckReq\",\"ActorID\",\"Area\",\"Attributes\"]\n",
    "df_excel_operator = pd.read_excel(path+\"/operator-action/\"+f,usecols=cols)\n",
    "# print(\"Column  Type\")\n",
    "for col in df_excel_operator.columns:\n",
    "    # print(col, type(df_excel_operator[col][0]))\n",
    "    if isinstance(df_excel_operator[col][0],str):\n",
    "        df_excel_operator[col] = df_excel_operator[col].apply(lambda s: \" \".join(s.split()))\n",
    "\n",
    "# print(type(df_excel_operator[\"EventTime\"][0]))\n",
    "\n",
    "def changeDate(d):\n",
    "    d = d.replace(\".000000000\",\"\")\n",
    "    d = d.replace(\"/\",\"-\")\n",
    "    return parse(d)\n",
    "df_excel_operator[\"EventTime\"] = df_excel_operator[\"EventTime\"].apply(changeDate)\n",
    "\n",
    "assert len(df_alarms_filtered[\"MachineName\"].unique())==1\n",
    "assert len(df_excel_operator[\"MachineName\"].unique()) == 1\n",
    "assert df_alarms_filtered[\"MachineName\"].unique()[0]  == df_excel_operator[\"MachineName\"].unique()[0]\n",
    " \n",
    "talrms = len(df_alarms_filtered[\"SourceName\"].unique())\n",
    "toperator = len(df_excel_operator[\"SourceName\"].unique())\n",
    "\n",
    "\n",
    "temp_commons = [s for s in df_csv_alarms[\"SourceName\"].unique()  if s in df_excel_operator[\"SourceName\"].unique()]\n",
    "commons = [s for s in df_alarms_filtered[\"SourceName\"].unique()  if s in df_excel_operator[\"SourceName\"].unique()]\n",
    "\n",
    "# df_common_operator = df_excel_operator.loc[df_excel_operator[\"SourceName\"].isin(commons)]\n",
    "# assert len(df_common_operator][\"SourceName\"].unique())\n",
    "\n",
    "print(\" >> # of unique SourceNames in Alarms {}, Unique SourceNames in Operator Actions {}\".format(talrms,toperator))\n",
    "print(\" >> # of Common SourceName bw filtered alarms and non-filtered alarms {} {} with operator action, respectively\".format(len(commons),len(temp_commons)))\n",
    "print(\" >> # of filtered Alarms: {}, # of Operator Actions: {}\".format(df_alarms_filtered.shape[0],df_excel_operator.shape[0]))\n",
    "print(\"Raw Alarms \",df_csv_alarms.shape[0])\n",
    "print(\" >> Complete\")"
   ]
  },
  {
   "cell_type": "markdown",
   "metadata": {},
   "source": [
    "# Case 2: Analyze the Common SourceNames (Alarms SourceNames and Operator Action Source Names)"
   ]
  },
  {
   "cell_type": "code",
   "execution_count": null,
   "metadata": {},
   "outputs": [],
   "source": [
    "# >>> from pyvis.network import Network\n",
    "# >>> import networkx as nx\n",
    "# >>> nx_graph = nx.cycle_graph(10)\n",
    "# >>> nx_graph.nodes[1]['title'] = 'Number 1'\n",
    "# >>> nx_graph.nodes[1]['group'] = 1\n",
    "# >>> nx_graph.nodes[3]['title'] = 'I belong to a different group!'\n",
    "# >>> nx_graph.nodes[3]['group'] = 10\n",
    "# >>> nx_graph.add_node(20, size=20, title='couple', group=2)\n",
    "# >>> nx_graph.add_node(21, size=15, title='couple', group=2)\n",
    "# >>> nx_graph.add_edge(20, 21, weight=5)\n",
    "# >>> nx_graph.add_node(25, size=25, label='lonely', title='lonely node', group=3)\n",
    "# >>> nt = Network(\"500px\", \"500px\")\n",
    "# populates the nodes and edges data structures\n",
    "# >>> nt.from_nx(nx_graph)\n",
    "# >>> nt.show(\"nx.html\")"
   ]
  },
  {
   "cell_type": "markdown",
   "metadata": {},
   "source": [
    "### Construting Graph\n",
    "\n",
    "\n"
   ]
  },
  {
   "cell_type": "code",
   "execution_count": null,
   "metadata": {
    "tags": []
   },
   "outputs": [],
   "source": [
    "def case2Graph(df_alarms,df_operator, common_sources):\n",
    "    g = nx.Graph() # Undirected graph\n",
    "    df_operator = df_operator.loc[df_operator[\"SourceName\"].isin(common_sources)]\n",
    "    df_alarms = df_alarms.loc[df_alarms[\"SourceName\"].isin(common_sources)]\n",
    "    print(\">> Alarms:{}, Operator Actions:{}\".format(df_alarms.shape[0], df_operator.shape[0]))\n",
    "    for s in common_sources:\n",
    "        g.add_node(s,size=10,count=0,color=\"Green\", group = 1)\n",
    "    \n",
    "    for s in common_sources:\n",
    "        g.add_node(\"Operator->\"+s,size=10,count=0,color=\"Orange\", group = 1)\n",
    "\n",
    "    for s in df_alarms[\"SourceName\"]:\n",
    "        if g.has_node(s) == True:\n",
    "            g.nodes[s][\"size\"] += 0.2\n",
    "            g.nodes[s][\"count\"] += 1\n",
    "\n",
    "    for s in df_operator[\"SourceName\"]:\n",
    "        if g.has_node(\"Operator->\"+s) == True:\n",
    "            g.nodes[\"Operator->\"+s][\"size\"] += 0.2\n",
    "            g.nodes[\"Operator->\"+s][\"count\"] += 1\n",
    "\n",
    "    for s in common_sources:\n",
    "        g.add_edge(s,\"Operator->\"+s)\n",
    "    \n",
    "    for s in list(g.nodes):\n",
    "        g.nodes[s][\"title\"] = \"{}:{}\".format(s,g.nodes[s][\"count\"]) \n",
    "    \n",
    "    print(\">> {}\".format(nx.classes.function.info(g)))\n",
    "\n",
    "    return g\n",
    "\n",
    "\n",
    "ug = case2Graph(df_alarms_filtered, df_excel_operator, commons) \n"
   ]
  },
  {
   "cell_type": "markdown",
   "metadata": {},
   "source": [
    "### Orange Nodes are operator action nodes"
   ]
  },
  {
   "cell_type": "code",
   "execution_count": 51,
   "metadata": {},
   "outputs": [
    {
     "output_type": "execute_result",
     "data": {
      "text/plain": "<IPython.lib.display.IFrame at 0x7ff6ffe513a0>",
      "text/html": "\n        <iframe\n            width=\"100%\"\n            height=\"500px\"\n            src=\"nt.html\"\n            frameborder=\"0\"\n            allowfullscreen\n        ></iframe>\n        "
     },
     "metadata": {},
     "execution_count": 51
    }
   ],
   "source": [
    "nt = Network(\"500px\", \"100%\", notebook=True)\n",
    "nt.from_nx(ug)\n",
    "# nt.show_buttons()\n",
    "# nt.repulsion()\n",
    "nt.show(\"nt.html\")"
   ]
  },
  {
   "cell_type": "markdown",
   "metadata": {},
   "source": [
    "# Case 3: Relating alarms with actions\n",
    "\n",
    "### Process data to cross check this use case."
   ]
  },
  {
   "cell_type": "code",
   "execution_count": 70,
   "metadata": {
    "tags": []
   },
   "outputs": [
    {
     "output_type": "stream",
     "name": "stdout",
     "text": ">> Alarms:17306, Operator Actions:17348\n>> Name: \nType: DiGraph\nNumber of nodes: 1005\nNumber of edges: 1286\nAverage in degree:   1.2796\nAverage out degree:   1.2796\n"
    }
   ],
   "source": [
    "def case3RelatingAlarmsWithActions(df_alarms,df_actions, common_sources, filter1 = (60*60) * 5):\n",
    "    print(\">> Alarms:{}, Operator Actions:{}\".format(df_alarms.shape[0], df_actions.shape[0]))    \n",
    "    \n",
    "    g = nx.DiGraph() # Directed graph\n",
    "    \n",
    "    #---------- Adding Nodes----------------\n",
    "    for s in df_alarms[\"SourceName\"]:\n",
    "        if g.has_node(s) == True:\n",
    "            # g.nodes[s][\"size\"] += 0.2\n",
    "            g.nodes[s][\"count\"] += 1\n",
    "        else:\n",
    "            g.add_node(s,size=10,count=1,color=\"Black\", group = 1) \n",
    "\n",
    "    for s in df_actions[\"SourceName\"]:\n",
    "        if g.has_node(\"Operator->\"+s) == True:\n",
    "            g.nodes[\"Operator->\"+s][\"size\"] += 0.2\n",
    "            g.nodes[\"Operator->\"+s][\"count\"] += 1\n",
    "        else:\n",
    "            g.add_node(\"Operator->\"+s,size=10,count=1,color=\"Orange\", group = 1)    \n",
    "\n",
    "    #------------------ ADDING EDGES --------------------------\n",
    "    alarms_by_etime = [a for a in sorted(df_alarms.to_dict(orient=\"records\"), key=lambda arg: arg[\"EndTime\"], reverse=False)]\n",
    "    actions_by_time = [r for r in sorted(df_actions.to_dict(orient=\"records\"), key=lambda arg: arg[\"EventTime\"], reverse=False)]\n",
    "    \n",
    "    for i in range(len(actions_by_time)):\n",
    "         action = actions_by_time[i]\n",
    "        #  if i%100 == 0:\n",
    "        #     print(i,end=\",\")\n",
    "         for j in range(len(alarms_by_etime)):            \n",
    "            alarm = alarms_by_etime[j]\n",
    "            if action[\"EventTime\"] > alarm[\"StartTime\"] and action[\"EventTime\"] <= alarm[\"EndTime\"] and timedelta.total_seconds(alarm[\"EndTime\"]-action[\"EventTime\"])<filter1:\n",
    "                if g.has_edge(\"Operator->\"+action[\"SourceName\"],alarm[\"SourceName\"])==False:  \n",
    "                    g.add_edge(\"Operator->\"+action[\"SourceName\"],alarm[\"SourceName\"],weight=1)\n",
    "                else:\n",
    "                    g.edges[\"Operator->\"+action[\"SourceName\"],alarm[\"SourceName\"]][\"weight\"] +=1\n",
    "    \n",
    "\n",
    "    for s in list(g.nodes):\n",
    "        g.nodes[s][\"title\"] = \"{}:{}\".format(s,g.nodes[s][\"count\"])\n",
    "\n",
    "    for e in list(g.edges):\n",
    "        g.edges[e][\"title\"] = \"{}:{}\".format(e,g.edges[e][\"weight\"])\n",
    "\n",
    "    remove_edges = []\n",
    "\n",
    "    for edge in list(g.edges):\n",
    "        if g.edges[edge][\"weight\"] <=100:\n",
    "            remove_edges.append(edge)\n",
    "\n",
    "    g.remove_edges_from(remove_edges)\n",
    "\n",
    "    print(\">> {}\".format(nx.classes.function.info(g)))\n",
    "    return g\n",
    "\n",
    "dG_case3 = case3RelatingAlarmsWithActions(df_alarms_filtered, df_excel_operator, commons) \n"
   ]
  },
  {
   "cell_type": "markdown",
   "metadata": {},
   "source": [
    "### Orange nodes are the operator action nodes"
   ]
  },
  {
   "cell_type": "code",
   "execution_count": 71,
   "metadata": {},
   "outputs": [
    {
     "output_type": "execute_result",
     "data": {
      "text/plain": "<IPython.lib.display.IFrame at 0x7ff6ffda8820>",
      "text/html": "\n        <iframe\n            width=\"100%\"\n            height=\"500px\"\n            src=\"nt.html\"\n            frameborder=\"0\"\n            allowfullscreen\n        ></iframe>\n        "
     },
     "metadata": {},
     "execution_count": 71
    }
   ],
   "source": [
    "nt = Network(\"500px\", \"100%\", notebook=True)\n",
    "nt.from_nx(dG_case3)\n",
    "nt.show_buttons()\n",
    "# nt.repulsion()\n",
    "nt.show(\"nt.html\")"
   ]
  },
  {
   "cell_type": "code",
   "execution_count": 72,
   "metadata": {
    "tags": []
   },
   "outputs": [
    {
     "output_type": "stream",
     "name": "stdout",
     "text": "{'47FLI-039': {'count': 416, 'outd': 0, 'ind': 23994, 'totald': 23994}, '47TI1713': {'count': 2712, 'outd': 0, 'ind': 9838, 'totald': 9838}, '48FI2003A': {'count': 200, 'outd': 0, 'ind': 8146, 'totald': 8146}, '48LI015': {'count': 106, 'outd': 0, 'ind': 5961, 'totald': 5961}, '47LIC1503': {'count': 31, 'outd': 0, 'ind': 5841, 'totald': 5841}, '47XL016-ANN': {'count': 155, 'outd': 0, 'ind': 5575, 'totald': 5575}, '47XL015-ANN': {'count': 155, 'outd': 0, 'ind': 5575, 'totald': 5575}, '48PI2025': {'count': 955, 'outd': 0, 'ind': 5523, 'totald': 5523}, '47TI1769': {'count': 186, 'outd': 0, 'ind': 4717, 'totald': 4717}, '47PIC1505': {'count': 166, 'outd': 0, 'ind': 4657, 'totald': 4657}, '47TIC3520': {'count': 364, 'outd': 0, 'ind': 4581, 'totald': 4581}, '47TIC1501': {'count': 63, 'outd': 0, 'ind': 3995, 'totald': 3995}, '48XL002-ANN': {'count': 453, 'outd': 0, 'ind': 3642, 'totald': 3642}, '47LIC1509': {'count': 102, 'outd': 0, 'ind': 3227, 'totald': 3227}, '47FIC1563': {'count': 54, 'outd': 0, 'ind': 2718, 'totald': 2718}, '48TIC034': {'count': 174, 'outd': 0, 'ind': 2667, 'totald': 2667}, '47TI1533': {'count': 45, 'outd': 0, 'ind': 2556, 'totald': 2556}, '48XL001-ANN': {'count': 582, 'outd': 0, 'ind': 2494, 'totald': 2494}, '48XL009-ANN': {'count': 58, 'outd': 0, 'ind': 2449, 'totald': 2449}, '48XL010-ANN': {'count': 58, 'outd': 0, 'ind': 2449, 'totald': 2449}, '48LI013': {'count': 47, 'outd': 0, 'ind': 2403, 'totald': 2403}, '47FIC1503': {'count': 24, 'outd': 0, 'ind': 2394, 'totald': 2394}, '47FIC1505': {'count': 33, 'outd': 0, 'ind': 2279, 'totald': 2279}, '47PI1734': {'count': 130, 'outd': 0, 'ind': 2152, 'totald': 2152}, '48FALL2003-ANN': {'count': 106, 'outd': 0, 'ind': 2092, 'totald': 2092}, '47FIC1504': {'count': 32, 'outd': 0, 'ind': 2072, 'totald': 2072}, '47LIC005': {'count': 449, 'outd': 0, 'ind': 2032, 'totald': 2032}, '47PDI1746': {'count': 384, 'outd': 0, 'ind': 2009, 'totald': 2009}, '47TIC1535': {'count': 52, 'outd': 0, 'ind': 1645, 'totald': 1645}, '47PIC3522': {'count': 79, 'outd': 0, 'ind': 1500, 'totald': 1500}, '47TIC1511': {'count': 22, 'outd': 0, 'ind': 1449, 'totald': 1449}, '47LIC1506': {'count': 53, 'outd': 0, 'ind': 1363, 'totald': 1363}, '47PIC2033A': {'count': 133, 'outd': 0, 'ind': 1344, 'totald': 1344}, '47FIC1502': {'count': 35, 'outd': 0, 'ind': 1262, 'totald': 1262}, '47FI1005': {'count': 100, 'outd': 0, 'ind': 1230, 'totald': 1230}, '47LIC1511': {'count': 41, 'outd': 0, 'ind': 1129, 'totald': 1129}, '47PI1003': {'count': 36, 'outd': 0, 'ind': 1064, 'totald': 1064}, '47LIC3409': {'count': 41, 'outd': 0, 'ind': 1035, 'totald': 1035}, '47TI414B': {'count': 26, 'outd': 0, 'ind': 980, 'totald': 980}, '47TI003A': {'count': 98, 'outd': 0, 'ind': 947, 'totald': 947}, '47TI2112A': {'count': 61, 'outd': 0, 'ind': 903, 'totald': 903}, '47LIC009': {'count': 91, 'outd': 0, 'ind': 829, 'totald': 829}, '47TI1529': {'count': 29, 'outd': 0, 'ind': 825, 'totald': 825}, '47TI3519': {'count': 53, 'outd': 0, 'ind': 794, 'totald': 794}, '47LIC1513': {'count': 47, 'outd': 0, 'ind': 778, 'totald': 778}, '47FI1568': {'count': 1037, 'outd': 0, 'ind': 761, 'totald': 761}, '47FIC1515': {'count': 30, 'outd': 0, 'ind': 747, 'totald': 747}, 'SIO-18XA001': {'count': 481, 'outd': 0, 'ind': 742, 'totald': 742}, '47TI3531': {'count': 26, 'outd': 0, 'ind': 683, 'totald': 683}, '47TI414Q': {'count': 26, 'outd': 0, 'ind': 683, 'totald': 683}, '47TI002C': {'count': 53, 'outd': 0, 'ind': 664, 'totald': 664}, '47FI1505B': {'count': 31, 'outd': 0, 'ind': 640, 'totald': 640}, '19LI105A': {'count': 158, 'outd': 0, 'ind': 633, 'totald': 633}, '47LIC1504': {'count': 23, 'outd': 0, 'ind': 632, 'totald': 632}, '47TI003B': {'count': 146, 'outd': 0, 'ind': 500, 'totald': 500}, '47LIC1502': {'count': 22, 'outd': 0, 'ind': 490, 'totald': 490}, '47FI1505D': {'count': 24, 'outd': 0, 'ind': 474, 'totald': 474}, '47TI870D': {'count': 31, 'outd': 0, 'ind': 439, 'totald': 439}, '47LIC1505': {'count': 48, 'outd': 0, 'ind': 374, 'totald': 374}, '47LIC3408': {'count': 44, 'outd': 0, 'ind': 369, 'totald': 369}, '47TI1705': {'count': 29, 'outd': 0, 'ind': 355, 'totald': 355}, '47TI1506': {'count': 38, 'outd': 0, 'ind': 349, 'totald': 349}, '47FSL019-ANN': {'count': 38, 'outd': 0, 'ind': 348, 'totald': 348}, '47PI1710': {'count': 35, 'outd': 0, 'ind': 335, 'totald': 335}, '47FI1503B': {'count': 27, 'outd': 0, 'ind': 325, 'totald': 325}, '47FI1503C': {'count': 23, 'outd': 0, 'ind': 322, 'totald': 322}, '47FI1503D': {'count': 23, 'outd': 0, 'ind': 320, 'totald': 320}, '47PIC2023': {'count': 21, 'outd': 0, 'ind': 249, 'totald': 249}, '47LIC002': {'count': 37, 'outd': 0, 'ind': 230, 'totald': 230}, '47TI2111A': {'count': 70, 'outd': 0, 'ind': 229, 'totald': 229}, '47LIC1522': {'count': 52, 'outd': 0, 'ind': 223, 'totald': 223}, '47PIC1504': {'count': 27, 'outd': 0, 'ind': 223, 'totald': 223}, '47FI1502D': {'count': 38, 'outd': 0, 'ind': 216, 'totald': 216}, '47PI2039A': {'count': 25, 'outd': 0, 'ind': 215, 'totald': 215}, '47FI1504C': {'count': 26, 'outd': 0, 'ind': 214, 'totald': 214}, '47PI2039B': {'count': 23, 'outd': 0, 'ind': 213, 'totald': 213}, '47PI2029A': {'count': 25, 'outd': 0, 'ind': 213, 'totald': 213}, '47PI2029B': {'count': 28, 'outd': 0, 'ind': 211, 'totald': 211}, '47LIC1551': {'count': 49, 'outd': 0, 'ind': 211, 'totald': 211}, '47PI2039C': {'count': 29, 'outd': 0, 'ind': 208, 'totald': 208}, '47FI1502C': {'count': 40, 'outd': 0, 'ind': 207, 'totald': 207}, '47LIC1518': {'count': 23, 'outd': 0, 'ind': 163, 'totald': 163}, '48LIC2003': {'count': 27, 'outd': 0, 'ind': 159, 'totald': 159}, '47LIC1501': {'count': 63, 'outd': 0, 'ind': 155, 'totald': 155}, '48LI010': {'count': 38, 'outd': 0, 'ind': 129, 'totald': 129}, '47LI003': {'count': 232, 'outd': 0, 'ind': 124, 'totald': 124}, '47FI1575': {'count': 255, 'outd': 0, 'ind': 119, 'totald': 119}, '47TAH808-ANN': {'count': 67, 'outd': 0, 'ind': 114, 'totald': 114}, '47FIC1701': {'count': 21, 'outd': 0, 'ind': 113, 'totald': 113}, '48XL005-ANN': {'count': 23, 'outd': 0, 'ind': 113, 'totald': 113}, '47PI2029C': {'count': 32, 'outd': 0, 'ind': 112, 'totald': 112}, '47FI1502B': {'count': 39, 'outd': 0, 'ind': 106, 'totald': 106}, '48XL006-ANN': {'count': 22, 'outd': 0, 'ind': 105, 'totald': 105}, '47FI1504D': {'count': 23, 'outd': 0, 'ind': 103, 'totald': 103}, '47FI1504B': {'count': 21, 'outd': 0, 'ind': 103, 'totald': 103}, 'Operator->47PIC2033B': {'count': 293, 'outd': 3152, 'ind': 0, 'totald': 3152}, 'Operator->47TIC274': {'count': 373, 'outd': 7568, 'ind': 0, 'totald': 7568}, 'Operator->47PIC3522': {'count': 267, 'outd': 2909, 'ind': 0, 'totald': 2909}, 'Operator->47TIC3520': {'count': 220, 'outd': 1785, 'ind': 0, 'totald': 1785}, 'Operator->47PIC028': {'count': 202, 'outd': 2204, 'ind': 0, 'totald': 2204}, 'Operator->47PIC2027': {'count': 155, 'outd': 957, 'ind': 0, 'totald': 957}, 'Operator->47PIC029': {'count': 169, 'outd': 1148, 'ind': 0, 'totald': 1148}, 'Operator->47PIC2033A': {'count': 324, 'outd': 3933, 'ind': 0, 'totald': 3933}, 'Operator->47PIC027': {'count': 430, 'outd': 7096, 'ind': 0, 'totald': 7096}, 'Operator->47TIC009': {'count': 103, 'outd': 285, 'ind': 0, 'totald': 285}, 'Operator->47TIC259': {'count': 184, 'outd': 3236, 'ind': 0, 'totald': 3236}, 'Operator->47TIC007': {'count': 215, 'outd': 1646, 'ind': 0, 'totald': 1646}, 'Operator->47PIC3205': {'count': 81, 'outd': 1656, 'ind': 0, 'totald': 1656}, 'Operator->47TIC415': {'count': 133, 'outd': 627, 'ind': 0, 'totald': 627}, 'Operator->47FIC017': {'count': 271, 'outd': 4104, 'ind': 0, 'totald': 4104}, 'Operator->47FIC035': {'count': 198, 'outd': 1609, 'ind': 0, 'totald': 1609}, 'Operator->47FIC036': {'count': 237, 'outd': 2627, 'ind': 0, 'totald': 2627}, 'Operator->47FIC013': {'count': 427, 'outd': 14655, 'ind': 0, 'totald': 14655}, 'Operator->47FIC1524': {'count': 157, 'outd': 651, 'ind': 0, 'totald': 651}, 'Operator->47FIC1520': {'count': 345, 'outd': 4845, 'ind': 0, 'totald': 4845}, 'Operator->47FIC1523': {'count': 190, 'outd': 2694, 'ind': 0, 'totald': 2694}, 'Operator->47PIC1504': {'count': 151, 'outd': 771, 'ind': 0, 'totald': 771}, 'Operator->47FIC011': {'count': 166, 'outd': 3652, 'ind': 0, 'totald': 3652}, 'Operator->47FIC1522A': {'count': 93, 'outd': 182, 'ind': 0, 'totald': 182}, 'Operator->47FIC037': {'count': 98, 'outd': 260, 'ind': 0, 'totald': 260}, 'Operator->47PK017': {'count': 72, 'outd': 2364, 'ind': 0, 'totald': 2364}, 'Operator->47FIC1542': {'count': 73, 'outd': 146, 'ind': 0, 'totald': 146}, 'Operator->47FIC1544': {'count': 65, 'outd': 110, 'ind': 0, 'totald': 110}, 'Operator->47FIC033': {'count': 62, 'outd': 106, 'ind': 0, 'totald': 106}, 'Operator->47FIC020': {'count': 174, 'outd': 3858, 'ind': 0, 'totald': 3858}, 'Operator->47FIC012': {'count': 65, 'outd': 283, 'ind': 0, 'totald': 283}, 'Operator->47FIC016': {'count': 106, 'outd': 1645, 'ind': 0, 'totald': 1645}, 'Operator->47FIC021': {'count': 151, 'outd': 2942, 'ind': 0, 'totald': 2942}, 'Operator->47FIC100': {'count': 69, 'outd': 512, 'ind': 0, 'totald': 512}, 'Operator->47FIC1502': {'count': 72, 'outd': 652, 'ind': 0, 'totald': 652}, 'Operator->47FIC1503': {'count': 74, 'outd': 641, 'ind': 0, 'totald': 641}, 'Operator->47FIC1505': {'count': 121, 'outd': 936, 'ind': 0, 'totald': 936}, 'Operator->47FIC1504': {'count': 76, 'outd': 675, 'ind': 0, 'totald': 675}, 'Operator->47FIC1508': {'count': 80, 'outd': 485, 'ind': 0, 'totald': 485}, 'Operator->47FIC1527': {'count': 152, 'outd': 5124, 'ind': 0, 'totald': 5124}, 'Operator->47FIC1522B': {'count': 76, 'outd': 597, 'ind': 0, 'totald': 597}, 'Operator->47FIC2026': {'count': 93, 'outd': 252, 'ind': 0, 'totald': 252}, 'Operator->47FIC2032': {'count': 322, 'outd': 3628, 'ind': 0, 'totald': 3628}, 'Operator->47HIC2008': {'count': 372, 'outd': 5453, 'ind': 0, 'totald': 5453}, 'Operator->47HIC2004': {'count': 285, 'outd': 3358, 'ind': 0, 'totald': 3358}, 'Operator->47HIC003C': {'count': 140, 'outd': 577, 'ind': 0, 'totald': 577}, 'Operator->47HIC003A': {'count': 135, 'outd': 770, 'ind': 0, 'totald': 770}, 'Operator->47FIC2036': {'count': 423, 'outd': 5445, 'ind': 0, 'totald': 5445}, 'Operator->47PDIC1759': {'count': 141, 'outd': 358, 'ind': 0, 'totald': 358}, 'Operator->47FIC3102': {'count': 366, 'outd': 10395, 'ind': 0, 'totald': 10395}, 'Operator->47FIC3410': {'count': 234, 'outd': 5402, 'ind': 0, 'totald': 5402}, 'Operator->47HIC003B': {'count': 118, 'outd': 426, 'ind': 0, 'totald': 426}, 'Operator->47LIC2017': {'count': 93, 'outd': 273, 'ind': 0, 'totald': 273}, 'Operator->47LIC1551': {'count': 59, 'outd': 116, 'ind': 0, 'totald': 116}, 'Operator->47HIC003D': {'count': 91, 'outd': 146, 'ind': 0, 'totald': 146}, 'Operator->47FIC2002': {'count': 286, 'outd': 3906, 'ind': 0, 'totald': 3906}, 'Operator->47FIC2001': {'count': 122, 'outd': 690, 'ind': 0, 'totald': 690}, 'Operator->47LIC3103': {'count': 179, 'outd': 8392, 'ind': 0, 'totald': 8392}, 'Operator->47LIC3404': {'count': 171, 'outd': 5469, 'ind': 0, 'totald': 5469}, 'Operator->47LIC1509': {'count': 117, 'outd': 290, 'ind': 0, 'totald': 290}, 'Operator->47LIC1505': {'count': 142, 'outd': 395, 'ind': 0, 'totald': 395}, 'Operator->47HIC1501': {'count': 109, 'outd': 285, 'ind': 0, 'totald': 285}, 'Operator->47HIC1502': {'count': 106, 'outd': 279, 'ind': 0, 'totald': 279}, 'Operator->47HIC1504': {'count': 73, 'outd': 118, 'ind': 0, 'totald': 118}, 'Operator->47HIC1503': {'count': 78, 'outd': 128, 'ind': 0, 'totald': 128}, 'Operator->47LIC006': {'count': 82, 'outd': 394, 'ind': 0, 'totald': 394}, 'Operator->47PDIC1521': {'count': 68, 'outd': 132, 'ind': 0, 'totald': 132}, 'Operator->47HIC2015': {'count': 143, 'outd': 2394, 'ind': 0, 'totald': 2394}, 'Operator->47HIC2016': {'count': 142, 'outd': 2380, 'ind': 0, 'totald': 2380}, 'Operator->47PIC017': {'count': 214, 'outd': 1483, 'ind': 0, 'totald': 1483}, 'Operator->47FIC1563': {'count': 369, 'outd': 11312, 'ind': 0, 'totald': 11312}, 'Operator->47LIC1510': {'count': 97, 'outd': 158, 'ind': 0, 'totald': 158}, 'Operator->47HIC034': {'count': 190, 'outd': 4941, 'ind': 0, 'totald': 4941}, 'Operator->47FIC2025': {'count': 80, 'outd': 1009, 'ind': 0, 'totald': 1009}, 'Operator->47HIC1536': {'count': 130, 'outd': 1866, 'ind': 0, 'totald': 1866}, 'Operator->47FIC1545': {'count': 69, 'outd': 235, 'ind': 0, 'totald': 235}, 'Operator->47LIC3102': {'count': 108, 'outd': 128, 'ind': 0, 'totald': 128}, 'Operator->19FIC105': {'count': 82, 'outd': 160, 'ind': 0, 'totald': 160}, 'Operator->47TIC937E': {'count': 228, 'outd': 2794, 'ind': 0, 'totald': 2794}, 'Operator->48TIC008': {'count': 106, 'outd': 188, 'ind': 0, 'totald': 188}, 'Operator->48LI015': {'count': 131, 'outd': 313, 'ind': 0, 'totald': 313}, 'Operator->48FFX005': {'count': 66, 'outd': 114, 'ind': 0, 'totald': 114}, 'Operator->47TIC927E': {'count': 229, 'outd': 2733, 'ind': 0, 'totald': 2733}, 'Operator->48FFIC031': {'count': 66, 'outd': 124, 'ind': 0, 'totald': 124}, 'Operator->48TIC034': {'count': 226, 'outd': 1970, 'ind': 0, 'totald': 1970}, 'Operator->48TIC016': {'count': 135, 'outd': 4857, 'ind': 0, 'totald': 4857}, 'Operator->48FFIC019': {'count': 69, 'outd': 102, 'ind': 0, 'totald': 102}, 'Operator->47TIC933E': {'count': 90, 'outd': 4118, 'ind': 0, 'totald': 4118}}\n"
    }
   ],
   "source": [
    "nodes_dict = {}\n",
    "for s in list(dG_case3.nodes):\n",
    "    nodes_dict[s] = {\"count\":dG_case3.nodes[s][\"count\"], \"outd\" : dG_case3.out_degree(s,\"weight\"), \"ind\":dG_case3.in_degree(s,\"weight\"), \"totald\": dG_case3.degree(s,\"weight\")}\n",
    "\n",
    "nodes_dict = {k:v for k, v in sorted(nodes_dict.items(), key=lambda arg: arg[1][\"ind\"], reverse=True) if v[\"count\"]>20 and v[\"totald\"]>20}\n",
    "print(nodes_dict)"
   ]
  },
  {
   "cell_type": "markdown",
   "metadata": {},
   "source": [
    "# Case 4 (Extra): Find the most important SourceName in the Graph using PageRank or Centrality Algos\n",
    "Not considering operator data overhere\n",
    " "
   ]
  },
  {
   "cell_type": "code",
   "execution_count": null,
   "metadata": {
    "tags": []
   },
   "outputs": [],
   "source": [
    "def case4FindImportantSensorNodes(df_alarms, common_sources, tfilter1 = 60):\n",
    "    print(\">> Alarms:{} \".format(df_alarms.shape[0]))\n",
    "    G = nx.DiGraph() # Directed Graph\n",
    "\n",
    "    # # Adding Nodes\n",
    "    for s in df_alarms[\"SourceName\"]:\n",
    "        if G.has_node(s) == True:\n",
    "            G.nodes[s][\"size\"] += 0.1\n",
    "            G.nodes[s][\"count\"] += 1\n",
    "        else:\n",
    "            G.add_node(s,size=5,count =1)\n",
    "    \n",
    "    for s in list(G.nodes):\n",
    "        G.nodes[s][\"title\"] = \"{}:{}\".format(s,G.nodes[s][\"count\"])\n",
    "\n",
    "    start_records = [v for v in sorted(df_alarms.to_dict(orient=\"records\"), key=lambda arg: arg[\"StartTime\"], reverse=False)]\n",
    "    for i in range(len(start_records)):\n",
    "        prevd = start_records[i]\n",
    "        for j in range(i+1,len(start_records)):        \n",
    "            nextd = start_records[j]\n",
    "            if timedelta.total_seconds(nextd[\"StartTime\"]-prevd[\"StartTime\"]) > tfilter1: # if next alarm is not triggered within tfilter1 duration then break \n",
    "                break \n",
    "            if nextd[\"SourceName\"] != prevd[\"SourceName\"] and nextd[\"StartTime\"] >= prevd[\"StartTime\"]: \n",
    "               if nextd[\"EndTime\"] <= prevd[\"EndTime\"] or timedelta.total_seconds(nextd[\"EndTime\"]-prevd[\"EndTime\"]) < tfilter1:\n",
    "                    if G.has_edge(prevd[\"SourceName\"],nextd[\"SourceName\"]) == False:\n",
    "                        G.add_edge(prevd[\"SourceName\"],nextd[\"SourceName\"],color=\"Red\",weight=1)\n",
    "                    else:\n",
    "                        G.edges[prevd[\"SourceName\"],nextd[\"SourceName\"]][\"weight\"] +=1\n",
    "\n",
    "\n",
    "    # remove_edges = []\n",
    "\n",
    "    for edge in list(G.edges):\n",
    "        G.edges[edge][\"title\"] = \"{}\".format(G.edges[edge][\"weight\"])\n",
    "        # G.edges[edge][\"weight\"] = 1\n",
    "        # if G.edges[edge][\"weight\"] <=2:\n",
    "        #     remove_edges.append(edge)\n",
    "\n",
    "    # G.remove_edges_from(remove_edges)\n",
    "    \n",
    "    G.remove_nodes_from(list(nx.isolates(G)))\n",
    "    print(\">> {}\".format(nx.classes.function.info(G)))\n",
    "    return G \n",
    "\n",
    "dG_case4 = case4FindImportantSensorNodes(df_alarms_filtered, commons)\n"
   ]
  },
  {
   "cell_type": "markdown",
   "metadata": {},
   "source": [
    "### Importan SourceNames"
   ]
  },
  {
   "cell_type": "code",
   "execution_count": 73,
   "metadata": {
    "tags": []
   },
   "outputs": [
    {
     "output_type": "stream",
     "name": "stdout",
     "text": ">> Page Rank (Highest to Lowest) : [('47TI1713', 0.0653), ('47FI1568', 0.0305), ('48PI2025', 0.0282), ('19LI105A', 0.0228), ('47LIC005', 0.0151), ('47LI003', 0.0142), ('47PI2029B', 0.0126), ('47TIC3520', 0.0125), ('47PIC1755', 0.0124), ('47PI2039C', 0.0115), ('SIO-18XA001', 0.0108), ('47PDI1746', 0.0106), ('47TI1512C', 0.0103), ('47PI2029A', 0.0099), ('47LIC1509', 0.0093), ('47FIC1502', 0.0092), ('47FI1575', 0.0091), ('48XL002-ANN', 0.0088), ('47TIC1501', 0.0086), ('47FIC1505', 0.0083), ('47FI1505C', 0.0076), ('47FI1505D', 0.0075), ('47FI043', 0.007), ('47FLI-039', 0.0069), ('47FI1502C', 0.0067), ('47FI1502D', 0.0064), ('47PIC027', 0.006), ('47FI1502B', 0.006), ('47FIC1563', 0.006), ('47FI1504B', 0.006), ('47FI1505B', 0.0059), ('47FI1606', 0.0059), ('47FIC1504', 0.0058), ('47TI1512B', 0.0057), ('47FI1504C', 0.0056), ('47TI1512A', 0.0056), ('47PIC3522', 0.0056), ('47FI1504D', 0.0056), ('48XL001-ANN', 0.0055), ('47TIC1535', 0.0054), ('48FALL2003-ANN', 0.0053), ('47LIC1511', 0.0053), ('47LIC1502', 0.0052), ('47TIC1503', 0.0051), ('47LIC1551', 0.0051), ('47PI2029C', 0.005), ('47AIC003', 0.005), ('48FI2003A', 0.0048), ('47TI1512ABC', 0.0047), ('47PI123C', 0.0046)]\n              --------------------------------------------------\n>> Eigenvector Centrality (Highest to Lowest) : [('47TI1713', 0.5817), ('47FI1568', 0.4725), ('48PI2025', 0.3724), ('47LIC005', 0.2013), ('47PIC1755', 0.1877), ('47PDI1746', 0.1702), ('47LI003', 0.1682), ('19LI105A', 0.151), ('47TIC3520', 0.1505), ('47FI1575', 0.1314), ('SIO-18XA001', 0.1169), ('48FALL2003-ANN', 0.1154), ('48XL002-ANN', 0.0932), ('47FI043', 0.0776), ('48XL001-ANN', 0.0752), ('48FI2003A', 0.0702), ('47PDI1747', 0.0526), ('47FI1571', 0.0471), ('47PIC3522', 0.0434), ('47TI1723', 0.0428), ('47LIC1509', 0.0414), ('48FIX2040', 0.0411), ('47PIC2033A', 0.0396), ('47PDIC1759', 0.0396), ('47FIC1505', 0.0372), ('47FLI-039', 0.0369), ('47LIC1513', 0.036), ('47PI2029B', 0.0346), ('47XL015-ANN', 0.0346), ('47FI1005', 0.0343), ('47PI2039C', 0.0331), ('47PI1519', 0.031), ('47TI1769', 0.0308), ('48TIC034', 0.0308), ('47TI003B', 0.0299), ('47FI1502D', 0.029), ('47FLI-037', 0.0286), ('47FI1505C', 0.0274), ('47PI2029A', 0.0262), ('47FI1504B', 0.0261), ('47FIC1502', 0.0254), ('47FI1502C', 0.0249), ('47FI1504D', 0.0245), ('48TIC2027', 0.0235), ('47FI1505D', 0.0234), ('47FIC1504', 0.0234), ('47TI003A', 0.0229), ('47TI3519', 0.0225), ('47PIC2064', 0.0224), ('47AI2003', 0.0215)]\n"
    }
   ],
   "source": [
    "# Google PageRank Algo\n",
    "result = nx.algorithms.link_analysis.pagerank_alg.pagerank(dG_case4,weight=\"weight\",max_iter=100000)\n",
    "result = {k:float(format(v, '.4f')) for k,v in sorted(result.items(), key=lambda arg: arg[1], reverse=True)}\n",
    "print(\">> Page Rank (Highest to Lowest) :\",list(result.items())[:50])\n",
    "\n",
    "print(\"              --------------------------------------------------\")\n",
    "\n",
    "# Eigenvector Centrality Algo\n",
    "result = nx.eigenvector_centrality(dG_case4, weight=\"weight\")\n",
    "result = {k:float(format(v, '.4f')) for k,v in sorted(result.items(), key=lambda arg: arg[1], reverse=True)}\n",
    "print(\">> Eigenvector Centrality (Highest to Lowest) :\",list(result.items())[:50])\n",
    "\n",
    "# result = nx.closeness_centrality(G)\n",
    "# result = {k:float(format(v, '.4f')) for k,v in sorted(result.items(), key=lambda arg: arg[1], reverse=True)}\n",
    "# print(\"Closeness Centrality:\",list(result.items())[:50])\n",
    "# # closeness_centrality"
   ]
  },
  {
   "cell_type": "markdown",
   "metadata": {},
   "source": [
    "### Important nodes based on incoming and outgoing edges\n",
    "\n",
    "outgoing-> triggering other alarms;\n",
    "\n",
    "incoming -> triggered after another alarm"
   ]
  },
  {
   "cell_type": "code",
   "execution_count": null,
   "metadata": {
    "tags": []
   },
   "outputs": [],
   "source": [
    "# Hits Algo\n",
    "h, a = nx.hits(dG_case4)\n",
    "result = h\n",
    "result = {k:float(format(v, '.4f')) for k,v in sorted(result.items(), key=lambda arg: arg[1], reverse=True)}\n",
    "print(\">> Hub => Outgoing Edges: Based on out_degree (max to min):\",list(result.items())[:50])\n",
    "\n",
    "print(\"              --------------------------------------------------\")\n",
    "\n",
    "result = a\n",
    "result = {k:float(format(v, '.4f')) for k,v in sorted(result.items(), key=lambda arg: arg[1], reverse=True)}\n",
    "print(\"Auth => Incoming Edges: Based on in_degree (max to min):\",list(result.items())[:50])\n"
   ]
  },
  {
   "cell_type": "markdown",
   "metadata": {},
   "source": [
    "### Degree Analysis"
   ]
  },
  {
   "cell_type": "code",
   "execution_count": null,
   "metadata": {
    "tags": []
   },
   "outputs": [],
   "source": [
    "nodes_dict = {}\n",
    "for s in list(dG_case4.nodes):\n",
    "    nodes_dict[s] = {\"count\":dG_case4.nodes[s][\"count\"], \"outd\" : dG_case4.out_degree(s,\"weight\"), \"ind\":dG_case4.in_degree(s,\"weight\"), \"totald\": dG_case4.degree(s,\"weight\")}\n",
    "\n",
    "nodes_dict = {k:v for k, v in sorted(nodes_dict.items(), key=lambda arg: arg[1][\"ind\"], reverse=True) if v[\"count\"]>4 and v[\"totald\"]>1}\n",
    "print(nodes_dict)"
   ]
  },
  {
   "cell_type": "markdown",
   "metadata": {},
   "source": [
    "### Visualiztion"
   ]
  },
  {
   "cell_type": "code",
   "execution_count": null,
   "metadata": {},
   "outputs": [],
   "source": [
    "# undirected = ipycytoscape.CytoscapeWidget()\n",
    "# undirected.graph.add_graph_from_networkx(G )\n",
    "# undirected\n"
   ]
  },
  {
   "cell_type": "code",
   "execution_count": null,
   "metadata": {},
   "outputs": [],
   "source": [
    "# nt.enable_physics(False)\n",
    "# nt.set_options('{nodes: {shape: \"dot\",size: 30,font: {size: 32,color: \"#ffffff\"},borderWidth: 2},edges: {width: 2}}')\n",
    "# nt.toggle_physics(False)\n",
    "# nt.toggle_stabilization(False)\n"
   ]
  },
  {
   "cell_type": "markdown",
   "metadata": {},
   "source": [
    "### Old"
   ]
  },
  {
   "cell_type": "code",
   "execution_count": null,
   "metadata": {
    "tags": []
   },
   "outputs": [],
   "source": [
    "# ranks_dict_alarms = df_common_alarms[\"SourceName\"].value_counts()\n",
    "# ranks_dict_actions =df_common_operator[\"SourceName\"].value_counts()\n",
    "\n",
    "# for sname in sorted(df_common_alarms[\"SourceName\"].unique()):\n",
    "#     if ranks_dict_actions[sname]== ranks_dict_alarms[sname]:\n",
    "#         print(\">{}, Operator = {}, Alarms = {}\".format(sname, ranks_dict_actions[sname], ranks_dict_alarms[sname]))\n",
    "\n",
    "\n"
   ]
  },
  {
   "cell_type": "code",
   "execution_count": null,
   "metadata": {},
   "outputs": [],
   "source": [
    "# def getDF (df, col, values_arra):\n",
    "#     return df.loc[df[col].isin(values_arra)]\n"
   ]
  },
  {
   "cell_type": "code",
   "execution_count": null,
   "metadata": {},
   "outputs": [],
   "source": [
    "# sname = \"47FIC1569\"\n",
    "\n",
    "# getDF(df_common_alarms,\"SourceName\", [sname]).sort_values(by=[\"StartTime\"])"
   ]
  },
  {
   "cell_type": "code",
   "execution_count": null,
   "metadata": {},
   "outputs": [],
   "source": [
    "# getDF(df_common_operator,\"SourceName\", [sname]).sort_values(by=[\"EventTime\"])"
   ]
  },
  {
   "cell_type": "code",
   "execution_count": null,
   "metadata": {},
   "outputs": [],
   "source": [
    "# cols = [\"MachineName\",\"SourceName\",\"EventTime\", \"Message\",\"MessageType\",\"Quality\",\"Condition\",\"Mask\",\"NewState\",\"Status\"]\n",
    "# df_normal = pd.read_csv(path+\"formatted-pre-1-mayis2019.csv\",parse_dates=[\"EventTime\"],usecols=cols)\n",
    "# getDF(df_normal,\"SourceName\",[sname]).sort_values(by=[\"EventTime\"])"
   ]
  },
  {
   "cell_type": "code",
   "execution_count": null,
   "metadata": {},
   "outputs": [],
   "source": []
  }
 ],
 "metadata": {
  "kernelspec": {
   "display_name": "Python 3.8.3 64-bit ('tupras': conda)",
   "language": "python",
   "name": "python38364bittuprascondad3f64d142d7848d8b5ff812324ef08eb"
  },
  "language_info": {
   "codemirror_mode": {
    "name": "ipython",
    "version": 3
   },
   "file_extension": ".py",
   "mimetype": "text/x-python",
   "name": "python",
   "nbconvert_exporter": "python",
   "pygments_lexer": "ipython3",
   "version": "3.8.3-final"
  }
 },
 "nbformat": 4,
 "nbformat_minor": 2
}