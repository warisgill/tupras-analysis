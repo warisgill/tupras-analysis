{
 "cells": [
  {
   "cell_type": "markdown",
   "metadata": {},
   "source": [
    "# Preprocessing Script\n",
    "This notebook take preprocess the csv file generated from pre-1.ipynb. \n"
   ]
  },
  {
   "cell_type": "code",
   "execution_count": 1,
   "metadata": {},
   "outputs": [
    {
     "output_type": "stream",
     "name": "stdout",
     "text": "Renderers configuration\n-----------------------\n    Default renderer: 'plotly_mimetype+notebook'\n    Available renderers:\n        ['plotly_mimetype', 'jupyterlab', 'nteract', 'vscode',\n         'notebook', 'notebook_connected', 'kaggle', 'azure', 'colab',\n         'cocalc', 'databricks', 'json', 'png', 'jpeg', 'jpg', 'svg',\n         'pdf', 'browser', 'firefox', 'chrome', 'chromium', 'iframe',\n         'iframe_connected', 'sphinx_gallery']\n\n"
    }
   ],
   "source": [
    "import numpy as np\n",
    "import json\n",
    "import pandas as pd\n",
    "from datetime import datetime\n",
    "from dateutil.parser import parse\n",
    "import plotly.io as pio\n",
    "import plotly.express as px\n",
    "print(pio.renderers)\n",
    "# pio.renderers.default = \"notebook\""
   ]
  },
  {
   "cell_type": "code",
   "execution_count": 2,
   "metadata": {},
   "outputs": [
    {
     "output_type": "execute_result",
     "data": {
      "text/plain": "'formatted-pre-2-nisan2019.csv'"
     },
     "metadata": {},
     "execution_count": 2
    }
   ],
   "source": [
    "input_fname = \"formatted-pre-1-nisan2019.csv\" \n",
    "output_fname = \"formatted-pre-2-\" + input_fname.split(\"-\")[-1]\n",
    "path = \"./data/new/\"\n",
    "output_fname"
   ]
  },
  {
   "cell_type": "markdown",
   "metadata": {},
   "source": []
  },
  {
   "cell_type": "code",
   "execution_count": 3,
   "metadata": {},
   "outputs": [
    {
     "output_type": "stream",
     "name": "stdout",
     "text": "Column  Type\nMachineName <class 'str'>\nServerProgID <class 'str'>\nServerNodeName <class 'str'>\nSubscriptionName <class 'str'>\nSourceName <class 'str'>\nEventTime <class 'str'>\nEventTime_MS <class 'numpy.int64'>\nSeverity <class 'numpy.int64'>\nMessage <class 'str'>\nQuality <class 'numpy.int64'>\nCondition <class 'str'>\nSubCondition <class 'str'>\nMask <class 'numpy.int64'>\nNewState <class 'numpy.int64'>\nEventType <class 'str'>\nEventCategory <class 'str'>\nAckReq <class 'numpy.bool_'>\nActiveTime <class 'str'>\nActiveTime_MS <class 'numpy.int64'>\nCookie <class 'numpy.int64'>\nActorID <class 'numpy.float64'>\nAttributes <class 'str'>\nArea <class 'str'>\nStatus <class 'numpy.int64'>\nShelving <class 'numpy.int64'>\nPriority <class 'numpy.float64'>\n<class 'pandas.core.frame.DataFrame'>\nRangeIndex: 1277118 entries, 0 to 1277117\nData columns (total 26 columns):\n #   Column            Non-Null Count    Dtype         \n---  ------            --------------    -----         \n 0   MachineName       1277118 non-null  object        \n 1   ServerProgID      1277118 non-null  object        \n 2   ServerNodeName    1277118 non-null  object        \n 3   SubscriptionName  1277118 non-null  object        \n 4   SourceName        1277118 non-null  object        \n 5   EventTime         1277118 non-null  datetime64[ns]\n 6   EventTime_MS      1277118 non-null  int64         \n 7   Severity          1277118 non-null  int64         \n 8   Message           1277118 non-null  object        \n 9   Quality           1277118 non-null  int64         \n 10  Condition         1277118 non-null  object        \n 11  SubCondition      1277118 non-null  object        \n 12  Mask              1277118 non-null  int64         \n 13  NewState          1277118 non-null  int64         \n 14  EventType         1277118 non-null  object        \n 15  EventCategory     1277118 non-null  object        \n 16  AckReq            1277118 non-null  bool          \n 17  ActiveTime        1277118 non-null  object        \n 18  ActiveTime_MS     1277118 non-null  int64         \n 19  Cookie            1277118 non-null  int64         \n 20  ActorID           0 non-null        float64       \n 21  Attributes        1277118 non-null  object        \n 22  Area              1277118 non-null  object        \n 23  Status            1277118 non-null  int64         \n 24  Shelving          1277118 non-null  int64         \n 25  Priority          0 non-null        float64       \ndtypes: bool(1), datetime64[ns](1), float64(2), int64(9), object(13)\nmemory usage: 244.8+ MB\n"
    }
   ],
   "source": [
    "cols = [\"MachineName\",\"SourceName\",\"EventTime\", \"Message\",\"Quality\",\"Condition\",\"Mask\",\"NewState\",\"Status\"]\n",
    "df = pd.read_csv(path + input_fname)\n",
    "print(\"Column  Type\")\n",
    "for col in df.columns:\n",
    "    print(col, type(df[col][0]))\n",
    "df[\"EventTime\"] = df[\"EventTime\"].apply(lambda d: parse(d))\n",
    "df.info()"
   ]
  },
  {
   "cell_type": "code",
   "execution_count": 4,
   "metadata": {},
   "outputs": [
    {
     "output_type": "execute_result",
     "data": {
      "text/plain": "        MachineName            ServerProgID ServerNodeName  \\\n1277108      PHD47B  Yokogawa.ExaopcAECS1.1        STN0830   \n1277109      PHD47B  Yokogawa.ExaopcAECS1.1        STN0830   \n1277110      PHD47B  Yokogawa.ExaopcAECS1.1        STN0830   \n1277111      PHD47B  Yokogawa.ExaopcAECS1.1        STN0830   \n1277112      PHD47B  Yokogawa.ExaopcAECS1.1        STN0830   \n1277113      PHD47B  Yokogawa.ExaopcAECS1.1        STN0830   \n1277114      PHD47B  Yokogawa.ExaopcAECS1.1        STN0830   \n1277115      PHD47B  Yokogawa.ExaopcAECS1.1        STN0830   \n1277116      PHD47B  Yokogawa.ExaopcAECS1.1        STN0830   \n1277117      PHD47B  Yokogawa.ExaopcAECS1.1        STN0830   \n\n               SubscriptionName SourceName           EventTime  EventTime_MS  \\\n1277108  Yokogawa.ExaopcAECS1.1   47TI931A 2019-04-08 07:34:18    1410040064   \n1277109  Yokogawa.ExaopcAECS1.1  48FIX2040 2019-04-08 07:38:54    -124927232   \n1277110  Yokogawa.ExaopcAECS1.1   47TI931A 2019-04-08 07:30:00   -1169959936   \n1277111  Yokogawa.ExaopcAECS1.1  48FIX2040 2019-04-08 07:33:25     880040064   \n1277112  Yokogawa.ExaopcAECS1.1  48TIC2027 2019-04-08 07:33:12     750040064   \n1277113  Yokogawa.ExaopcAECS1.1   47TI931A 2019-04-08 07:31:28    -289959936   \n1277114  Yokogawa.ExaopcAECS1.1  48FIX2040 2019-04-08 07:33:40    1030040064   \n1277115  Yokogawa.ExaopcAECS1.1   47TI931A 2019-04-08 07:33:34     970040064   \n1277116  Yokogawa.ExaopcAECS1.1   47TI931A 2019-04-08 07:31:44    -129959936   \n1277117  Yokogawa.ExaopcAECS1.1   47TI931A 2019-04-08 07:32:09     120040064   \n\n         Severity                                            Message  Quality  \\\n1277108       500   47TI931A C5 1.YTK GIRDISCAP SICAK PV = 691 C IOP        0   \n1277109       500  48FIX2040 C206'DAN C4'E A.GAZ CPV = 170 m3/h IOP-      192   \n1277110       500   47TI931A C5 1.YTK GIRDISCAP SICAK PV = 691 C IOP        0   \n1277111       500  48FIX2040 C206'DAN C4'E A.GAZ CPV = 170 m3/h IOP-      192   \n1277112       500   48TIC2027 E209 CIKIS REJEN DRAM PV = -6.1 C IOP-        0   \n1277113       500   47TI931A C5 1.YTK GIRDISCAP SICAK PV = 691 C IOP        0   \n1277114       500  48FIX2040 C206'DAN C4'E A.GAZ CPV = 170 m3/h IOP-      192   \n1277115       500   47TI931A C5 1.YTK GIRDISCAP SICAK PV = 691 C IOP        0   \n1277116       500   47TI931A C5 1.YTK GIRDISCAP SICAK PV = 691 C IOP        0   \n1277117       500   47TI931A C5 1.YTK GIRDISCAP SICAK PV = 691 C IOP        0   \n\n         ... AckReq                     ActiveTime  ActiveTime_MS    Cookie  \\\n1277108  ...   True  2019/04/08 07:34:18.000000000     1410040064  10591992   \n1277109  ...   True  2019/04/08 07:38:54.000000000     -124927232  10591992   \n1277110  ...   True  2019/04/08 07:30:00.000000000    -1169959936  10591992   \n1277111  ...   True  2019/04/08 07:33:25.000000000      880040064  10591992   \n1277112  ...   True  2019/04/08 07:33:12.000000000      750040064  10591992   \n1277113  ...   True  2019/04/08 07:31:28.000000000     -289959936  10591992   \n1277114  ...   True  2019/04/08 07:33:40.000000000     1030040064  10591992   \n1277115  ...   True  2019/04/08 07:33:34.000000000      970040064  10591992   \n1277116  ...   True  2019/04/08 07:31:44.000000000     -129959936  10591992   \n1277117  ...   True  2019/04/08 07:32:09.000000000      120040064  10591992   \n\n        ActorID                                         Attributes     Area  \\\n1277108     NaN  [4353,\"FCS0102\",\"47TI931A\",\"PV\",690.9027,0,\"\",...  FCS0102   \n1277109     NaN  [4353,\"FCS0105\",\"48FIX2040\",\"CPV\",170.23291544...  FCS0105   \n1277110     NaN  [4353,\"FCS0102\",\"47TI931A\",\"PV\",690.9027,0,\"\",...  FCS0102   \n1277111     NaN  [4353,\"FCS0105\",\"48FIX2040\",\"CPV\",170.34243118...  FCS0105   \n1277112     NaN  [4353,\"FCS0105\",\"48TIC2027\",\"PV\",-6.0650825500...  FCS0105   \n1277113     NaN  [4353,\"FCS0102\",\"47TI931A\",\"PV\",690.9423,0,\"\",...  FCS0102   \n1277114     NaN  [4353,\"FCS0105\",\"48FIX2040\",\"CPV\",170.37302867...  FCS0105   \n1277115     NaN  [4353,\"FCS0102\",\"47TI931A\",\"PV\",690.9027,0,\"\",...  FCS0102   \n1277116     NaN  [4353,\"FCS0102\",\"47TI931A\",\"PV\",690.9423,0,\"\",...  FCS0102   \n1277117     NaN  [4353,\"FCS0102\",\"47TI931A\",\"PV\",690.9423,0,\"\",...  FCS0102   \n\n        Status  Shelving  Priority  \n1277108      1         0       NaN  \n1277109      1         0       NaN  \n1277110      1         0       NaN  \n1277111      1         0       NaN  \n1277112      1         0       NaN  \n1277113      1         0       NaN  \n1277114      1         0       NaN  \n1277115      1         0       NaN  \n1277116      1         0       NaN  \n1277117      1         0       NaN  \n\n[10 rows x 26 columns]",
      "text/html": "<div>\n<style scoped>\n    .dataframe tbody tr th:only-of-type {\n        vertical-align: middle;\n    }\n\n    .dataframe tbody tr th {\n        vertical-align: top;\n    }\n\n    .dataframe thead th {\n        text-align: right;\n    }\n</style>\n<table border=\"1\" class=\"dataframe\">\n  <thead>\n    <tr style=\"text-align: right;\">\n      <th></th>\n      <th>MachineName</th>\n      <th>ServerProgID</th>\n      <th>ServerNodeName</th>\n      <th>SubscriptionName</th>\n      <th>SourceName</th>\n      <th>EventTime</th>\n      <th>EventTime_MS</th>\n      <th>Severity</th>\n      <th>Message</th>\n      <th>Quality</th>\n      <th>...</th>\n      <th>AckReq</th>\n      <th>ActiveTime</th>\n      <th>ActiveTime_MS</th>\n      <th>Cookie</th>\n      <th>ActorID</th>\n      <th>Attributes</th>\n      <th>Area</th>\n      <th>Status</th>\n      <th>Shelving</th>\n      <th>Priority</th>\n    </tr>\n  </thead>\n  <tbody>\n    <tr>\n      <th>1277108</th>\n      <td>PHD47B</td>\n      <td>Yokogawa.ExaopcAECS1.1</td>\n      <td>STN0830</td>\n      <td>Yokogawa.ExaopcAECS1.1</td>\n      <td>47TI931A</td>\n      <td>2019-04-08 07:34:18</td>\n      <td>1410040064</td>\n      <td>500</td>\n      <td>47TI931A C5 1.YTK GIRDISCAP SICAK PV = 691 C IOP</td>\n      <td>0</td>\n      <td>...</td>\n      <td>True</td>\n      <td>2019/04/08 07:34:18.000000000</td>\n      <td>1410040064</td>\n      <td>10591992</td>\n      <td>NaN</td>\n      <td>[4353,\"FCS0102\",\"47TI931A\",\"PV\",690.9027,0,\"\",...</td>\n      <td>FCS0102</td>\n      <td>1</td>\n      <td>0</td>\n      <td>NaN</td>\n    </tr>\n    <tr>\n      <th>1277109</th>\n      <td>PHD47B</td>\n      <td>Yokogawa.ExaopcAECS1.1</td>\n      <td>STN0830</td>\n      <td>Yokogawa.ExaopcAECS1.1</td>\n      <td>48FIX2040</td>\n      <td>2019-04-08 07:38:54</td>\n      <td>-124927232</td>\n      <td>500</td>\n      <td>48FIX2040 C206'DAN C4'E A.GAZ CPV = 170 m3/h IOP-</td>\n      <td>192</td>\n      <td>...</td>\n      <td>True</td>\n      <td>2019/04/08 07:38:54.000000000</td>\n      <td>-124927232</td>\n      <td>10591992</td>\n      <td>NaN</td>\n      <td>[4353,\"FCS0105\",\"48FIX2040\",\"CPV\",170.23291544...</td>\n      <td>FCS0105</td>\n      <td>1</td>\n      <td>0</td>\n      <td>NaN</td>\n    </tr>\n    <tr>\n      <th>1277110</th>\n      <td>PHD47B</td>\n      <td>Yokogawa.ExaopcAECS1.1</td>\n      <td>STN0830</td>\n      <td>Yokogawa.ExaopcAECS1.1</td>\n      <td>47TI931A</td>\n      <td>2019-04-08 07:30:00</td>\n      <td>-1169959936</td>\n      <td>500</td>\n      <td>47TI931A C5 1.YTK GIRDISCAP SICAK PV = 691 C IOP</td>\n      <td>0</td>\n      <td>...</td>\n      <td>True</td>\n      <td>2019/04/08 07:30:00.000000000</td>\n      <td>-1169959936</td>\n      <td>10591992</td>\n      <td>NaN</td>\n      <td>[4353,\"FCS0102\",\"47TI931A\",\"PV\",690.9027,0,\"\",...</td>\n      <td>FCS0102</td>\n      <td>1</td>\n      <td>0</td>\n      <td>NaN</td>\n    </tr>\n    <tr>\n      <th>1277111</th>\n      <td>PHD47B</td>\n      <td>Yokogawa.ExaopcAECS1.1</td>\n      <td>STN0830</td>\n      <td>Yokogawa.ExaopcAECS1.1</td>\n      <td>48FIX2040</td>\n      <td>2019-04-08 07:33:25</td>\n      <td>880040064</td>\n      <td>500</td>\n      <td>48FIX2040 C206'DAN C4'E A.GAZ CPV = 170 m3/h IOP-</td>\n      <td>192</td>\n      <td>...</td>\n      <td>True</td>\n      <td>2019/04/08 07:33:25.000000000</td>\n      <td>880040064</td>\n      <td>10591992</td>\n      <td>NaN</td>\n      <td>[4353,\"FCS0105\",\"48FIX2040\",\"CPV\",170.34243118...</td>\n      <td>FCS0105</td>\n      <td>1</td>\n      <td>0</td>\n      <td>NaN</td>\n    </tr>\n    <tr>\n      <th>1277112</th>\n      <td>PHD47B</td>\n      <td>Yokogawa.ExaopcAECS1.1</td>\n      <td>STN0830</td>\n      <td>Yokogawa.ExaopcAECS1.1</td>\n      <td>48TIC2027</td>\n      <td>2019-04-08 07:33:12</td>\n      <td>750040064</td>\n      <td>500</td>\n      <td>48TIC2027 E209 CIKIS REJEN DRAM PV = -6.1 C IOP-</td>\n      <td>0</td>\n      <td>...</td>\n      <td>True</td>\n      <td>2019/04/08 07:33:12.000000000</td>\n      <td>750040064</td>\n      <td>10591992</td>\n      <td>NaN</td>\n      <td>[4353,\"FCS0105\",\"48TIC2027\",\"PV\",-6.0650825500...</td>\n      <td>FCS0105</td>\n      <td>1</td>\n      <td>0</td>\n      <td>NaN</td>\n    </tr>\n    <tr>\n      <th>1277113</th>\n      <td>PHD47B</td>\n      <td>Yokogawa.ExaopcAECS1.1</td>\n      <td>STN0830</td>\n      <td>Yokogawa.ExaopcAECS1.1</td>\n      <td>47TI931A</td>\n      <td>2019-04-08 07:31:28</td>\n      <td>-289959936</td>\n      <td>500</td>\n      <td>47TI931A C5 1.YTK GIRDISCAP SICAK PV = 691 C IOP</td>\n      <td>0</td>\n      <td>...</td>\n      <td>True</td>\n      <td>2019/04/08 07:31:28.000000000</td>\n      <td>-289959936</td>\n      <td>10591992</td>\n      <td>NaN</td>\n      <td>[4353,\"FCS0102\",\"47TI931A\",\"PV\",690.9423,0,\"\",...</td>\n      <td>FCS0102</td>\n      <td>1</td>\n      <td>0</td>\n      <td>NaN</td>\n    </tr>\n    <tr>\n      <th>1277114</th>\n      <td>PHD47B</td>\n      <td>Yokogawa.ExaopcAECS1.1</td>\n      <td>STN0830</td>\n      <td>Yokogawa.ExaopcAECS1.1</td>\n      <td>48FIX2040</td>\n      <td>2019-04-08 07:33:40</td>\n      <td>1030040064</td>\n      <td>500</td>\n      <td>48FIX2040 C206'DAN C4'E A.GAZ CPV = 170 m3/h IOP-</td>\n      <td>192</td>\n      <td>...</td>\n      <td>True</td>\n      <td>2019/04/08 07:33:40.000000000</td>\n      <td>1030040064</td>\n      <td>10591992</td>\n      <td>NaN</td>\n      <td>[4353,\"FCS0105\",\"48FIX2040\",\"CPV\",170.37302867...</td>\n      <td>FCS0105</td>\n      <td>1</td>\n      <td>0</td>\n      <td>NaN</td>\n    </tr>\n    <tr>\n      <th>1277115</th>\n      <td>PHD47B</td>\n      <td>Yokogawa.ExaopcAECS1.1</td>\n      <td>STN0830</td>\n      <td>Yokogawa.ExaopcAECS1.1</td>\n      <td>47TI931A</td>\n      <td>2019-04-08 07:33:34</td>\n      <td>970040064</td>\n      <td>500</td>\n      <td>47TI931A C5 1.YTK GIRDISCAP SICAK PV = 691 C IOP</td>\n      <td>0</td>\n      <td>...</td>\n      <td>True</td>\n      <td>2019/04/08 07:33:34.000000000</td>\n      <td>970040064</td>\n      <td>10591992</td>\n      <td>NaN</td>\n      <td>[4353,\"FCS0102\",\"47TI931A\",\"PV\",690.9027,0,\"\",...</td>\n      <td>FCS0102</td>\n      <td>1</td>\n      <td>0</td>\n      <td>NaN</td>\n    </tr>\n    <tr>\n      <th>1277116</th>\n      <td>PHD47B</td>\n      <td>Yokogawa.ExaopcAECS1.1</td>\n      <td>STN0830</td>\n      <td>Yokogawa.ExaopcAECS1.1</td>\n      <td>47TI931A</td>\n      <td>2019-04-08 07:31:44</td>\n      <td>-129959936</td>\n      <td>500</td>\n      <td>47TI931A C5 1.YTK GIRDISCAP SICAK PV = 691 C IOP</td>\n      <td>0</td>\n      <td>...</td>\n      <td>True</td>\n      <td>2019/04/08 07:31:44.000000000</td>\n      <td>-129959936</td>\n      <td>10591992</td>\n      <td>NaN</td>\n      <td>[4353,\"FCS0102\",\"47TI931A\",\"PV\",690.9423,0,\"\",...</td>\n      <td>FCS0102</td>\n      <td>1</td>\n      <td>0</td>\n      <td>NaN</td>\n    </tr>\n    <tr>\n      <th>1277117</th>\n      <td>PHD47B</td>\n      <td>Yokogawa.ExaopcAECS1.1</td>\n      <td>STN0830</td>\n      <td>Yokogawa.ExaopcAECS1.1</td>\n      <td>47TI931A</td>\n      <td>2019-04-08 07:32:09</td>\n      <td>120040064</td>\n      <td>500</td>\n      <td>47TI931A C5 1.YTK GIRDISCAP SICAK PV = 691 C IOP</td>\n      <td>0</td>\n      <td>...</td>\n      <td>True</td>\n      <td>2019/04/08 07:32:09.000000000</td>\n      <td>120040064</td>\n      <td>10591992</td>\n      <td>NaN</td>\n      <td>[4353,\"FCS0102\",\"47TI931A\",\"PV\",690.9423,0,\"\",...</td>\n      <td>FCS0102</td>\n      <td>1</td>\n      <td>0</td>\n      <td>NaN</td>\n    </tr>\n  </tbody>\n</table>\n<p>10 rows × 26 columns</p>\n</div>"
     },
     "metadata": {},
     "execution_count": 4
    }
   ],
   "source": [
    "df.tail(10)"
   ]
  },
  {
   "cell_type": "markdown",
   "metadata": {},
   "source": [
    "# Preprocessing of Alarm data\n",
    "\n",
    "There are different types of alarm data but Excel file only contains \"Process Alarm Data\".\n",
    "\n",
    "**Excel Columns Description**\n",
    "* MachineName: It represent the unit (e.g.,Plant-47)\n",
    "* SourceName: The names of the devices operating in a unit (e.g., controller, transmitter, and calculator block names)\n",
    "    1. Five types of controllers: TIC, PIC, FIC, LIC, and AIC.\n",
    "    2. Three types of transmitters: TI, FI, LI\n",
    "    3. Calculator block names ?\n",
    "\n",
    "* EventTime: The date when an alarm is appeared. It also represent when it recovered right?\n",
    "\n",
    "**Deactivation of an Alarm:**\n",
    "* Recover : The alram is deactivated.\n",
    "* IOP  : Communication between the DCS and field is cut off (alarm activated).\n",
    "* IOP + Recover: communication problem is solved and the alarm is deactivated. \n",
    "* ALM : It represent alarm is activated\n",
    "* NR : The alarm is returned to normal state. \n",
    "\n",
    "**Questions:**\n",
    "1. Before alarm data analysis, if ALM, NR and RECOVER messages are seen, these rows must be deleted. Why?\n",
    "2. Alarm-off \n",
    "3. shelving of alarms\n",
    "4. Can alarm cannot trigger twice? \n",
    "5. "
   ]
  },
  {
   "cell_type": "code",
   "execution_count": 5,
   "metadata": {},
   "outputs": [],
   "source": [
    "sources = {}\n",
    "source_conditions = {}\n",
    "conditions = {} # Vel, IOP ALM, NR etc\n",
    "key = \"\"\n",
    "temp_dict = None\n",
    "d = None\n",
    "conditions[\"Recover\"] = 0\n",
    "for i in range(0, len(df[\"EventTime\"])):\n",
    "    key = df[\"SourceName\"][i]\n",
    "    temp_dict = {\"Quality\":df[\"Quality\"][i], \"Mask\":df[\"Mask\"][i], \"NewState\":df[\"NewState\"][i], \"Status\": df[\"Status\"][i] ,\"SourceName\": key,\"EventTime\": df[\"EventTime\"][i], \"Message\":df[\"Message\"][i],\"Condition\": df[\"Condition\"][i]}\n",
    "    \n",
    "    if sources.get(key) != None:\n",
    "        sources[key].append(temp_dict)\n",
    "        \n",
    "        #source conditions\n",
    "        d =  source_conditions[key]\n",
    "        if d.get(temp_dict[\"Condition\"]) == None:\n",
    "            d[temp_dict[\"Condition\"]] = 0    \n",
    "        d[temp_dict[\"Condition\"]]  += 1\n",
    "        d[\"Total\"] += 1\n",
    "        \n",
    "        if d.get(\"Recover\") == None:\n",
    "            d[\"Recover\"] = 0\n",
    "        \n",
    "        # conditions           \n",
    "        c = temp_dict[\"Condition\"]\n",
    "        if conditions.get(c) == None:  \n",
    "            conditions[c] = 0\n",
    "        conditions[c] +=1\n",
    "        \n",
    "        if temp_dict[\"Message\"].find(\"Recover\") != -1:\n",
    "            conditions[\"Recover\"] += 1\n",
    "            d[\"Recover\"] += 1\n",
    "        if temp_dict[\"Message\"].strip().find(\"NR\") != -1:\n",
    "#             print(temp_dict[\"Message\"])\n",
    "            d[\"Recover\"] +=1\n",
    "            conditions[\"Recover\"] += 1\n",
    "    else:\n",
    "        sources[key] = []\n",
    "        source_conditions[key] = {}\n",
    "        sources[key].append(temp_dict)\n",
    "        d = source_conditions[key]\n",
    "        d[temp_dict[\"Condition\"]] = 1\n",
    "        d[\"Total\"] = 1\n",
    "        \n",
    "        if d.get(\"Recover\") == None:\n",
    "            d[\"Recover\"] = 0\n",
    "        \n",
    "        c = temp_dict[\"Condition\"]\n",
    "        if conditions.get(c) == None:  \n",
    "            conditions[c] = 0\n",
    "        conditions[c] +=1\n",
    "        \n",
    "        if temp_dict[\"Message\"].find(\"Recover\") != -1:\n",
    "            conditions[\"Recover\"] += 1\n",
    "            d[\"Recover\"] +=1\n",
    "        if temp_dict[\"Message\"].strip().find(\"NR\") != -1:\n",
    "#             print(temp_dict[\"Message\"])\n",
    "            d[\"Recover\"] +=1\n",
    "            conditions[\"Recover\"] += 1\n",
    "\n",
    "\n",
    "# sorting the source conditions dictionary based on the number of alarms related to each sensor\n",
    "source_conditions = {k:v for k,v in sorted(source_conditions.items(), key=lambda item: item[1][\"Total\"],reverse=True)}\n",
    "conditions = {k:v for k,v in sorted(conditions.items(), key=lambda item: item[1], reverse=True)}"
   ]
  },
  {
   "cell_type": "markdown",
   "metadata": {},
   "source": [
    "\n",
    "### Total number of disctinct SourceNames in the excel sheet."
   ]
  },
  {
   "cell_type": "code",
   "execution_count": 6,
   "metadata": {},
   "outputs": [
    {
     "output_type": "stream",
     "name": "stdout",
     "text": "Total Number of Sourcenames: 485\nSourceName\n47PDI1747\n47FLI-042\n47PIC1505\n47PI123ABC\n48LI013\n47FIC034\n47PIC2033A\n47XL015-ANN\n47LI003\n47TXI1594\n48TIC034\n47TI013\n47TI1506\n47XL016-ANN\n47FLI-037\n47PI1701\n48XL006-ANN\n48XL002-ANN\n47FIC016\n47PI1710\n19FI108A\n47PDI003\n47TI1512A\n47PDI1749\n48LI015\n47TI931A\n48FIX2040\n48TIC2027\n48AAHH004-ANN\n48AI004\n47FI1568\n47TI1713\n47_AMPSB_PMCC1L\n47TI1723\n47PIC2038\n47TI260\n47FIC1515\n47TI1765\n47TI1727\n47PDI1746\n47FIC1522A\n47_AMPSA_PMCC1L\n48FALL2003-ANN\n47FIC021\n19LAH101-ANN\n47LIC1509\n48XL012-ANN\n47_AMPSC_PMCC1L\n47TI1003\n47TI008\n47PI2002\n47PI123B\n47PI123A\n47TI1505\nSIO-18XA001\n47TI1705\n47TIC3520\n47LIC1505\n47TI003B\n47TI1512C\n47TI2086\n48FI2021B\n48XL010-ANN\n47PIC1760\n47XL026A-ANN\n47TI134\n48LI011\n47TI1769\n47LIC1501\n47TI1512B\n47TI1512ABC\n47TXI1592\n48XL009-ANN\n47TI1540\n47FI1571\n47PDIC1759\n47PI123C\n48LI010\n47PIC2064\n47TI926I\n47TI1722\n47TI443\n47FIC1524\n47TI2003\n47PIC1755\n47TI1533\n47XL1001-ANN\n47TI2077\n47TI1508\n47TI3519\n47PDI3104\n47C56SUM_DT\n48XL005-ANN\n47G122-ANN\n47FIC037\n48LIC009\n47TAL003AB-ANN\n47TI3531\n47FIC020\n47LIC1518\n47TI416\n47LIC1506\n47TI017\n47FI2030\n47FI047\n47LIC004\n48FFIC031\n47LIC2006\n47XL2022-ANN\n47TIC2056\n47FI046\n47YS_ORAN\n19TI104\n47TIC2050\n47XL026B-ANN\n47G12-A\n47TIC1535\n47FIC2017\n47FIC1523\n47FIC1524_CALX\n19PI119A\n47PIC1504\n47FIC1520\n47TIC2078\n47TI436\n47PIC027-ANN\n47FALL2020-ANN\n47FIC2001\n47TI600\n47PI2100\n47LIC1520\n48TIC038\n47TIC1511\n47LIC1510\n47FSL014-ANN\n47TI1507\n47LIC3408\n47LIC1513\n47PIC3522\n47FI2020BCD\n47FI2020\n47FI2019\n47TIC259\n47XL1525B-ANN\n47AI1503\n47PI1003\n47FI2020B\n47FI2020D\n47FI2020C\n19ZAL119A-ANN\n47TI2057A\n47LIC002\n47FIC1516\n19ZAH119A-ANN\n47TI2058B\n47TI1521\n47LIC005\n19TI105\n47TI414Q\n47XL1538B-ANN\n48FI2003A\n47PI2029C\n47PIC2023\n47TI002C\n47TI2112ABC\n47TI2111ABC\n47PIC027\n47FIC004\n47UA2500-ANN\n47FD-036HH-ANN\n47FI1016\n47PI2018\n47TI2112B\n47PI2022\n47TI2111A\n47TI2111C\n47TI414G\n47TI414H\n47HIC1573\n47FD-036H-ANN\n47TI2112A\n47TI414L\n47PIC028\n47TI002\n47LI024\n47TI414I\n47FD-032H-ANN\n47TI2111B\n47XL1539B-ANN\n47XL1539A-ANN\n48HA019-ANN\n48BAL007-ANN\n48UA005-ANN\n48FI011B\n48FFIC019\n48UA007-ANN\n48BAL005-ANN\n48TIC008\n47PI2031A\n47PI2031ABC\n47PIC3522-ANN\n47LALL3616-ANN\n48FI013\n48FALL011-ANN\n47TI3416\n48TIC016\n48FFIC005\n48FFIC014\n48LIC004\n48FFX019\n47HSD-006HH-ANN\n48XL003-ANN\n48BAL004-ANN\n48FI011A\n48FALL006-ANN\n48FI001\n48PI001\n48FI012\n48FI020\n48PALL001-ANN\n48FIX008\n48UA014-ANN\n48UA002-ANN\n48FALL002-ANN\n47TI3419\n47PI2031C\n48PI048\n48PAL010-ANN\n47LIC1511\n47FIC012\n48TIC024\n47FIC2002\n47FI1509\n47TI870D\n47LIC1555\n47FIC1507\n47XA1503-ANN\n48FI030B\n48TIC034-ANN\n48TI023\n47TI2095\n48UA010-ANN\n48TAHH035-ANN\n48TI035A\n48PIC009\nTEST2_FIC2065\n47TI2092\n48TI003A\n48TI035B\n47XL3508-ANN\n47AIT2014\n47LIC3409\n47TI414P\n47LI011\n47FIC1514\n47TI414R\n47XL1538A-ANN\n47FIC2008\n47FI2002\n47PI2020\n47TIC3417\n47FIC1563\n47AI2003\n47FIC013\n47AI2014\n47FIC2007\n47XL017G-ANN\n47TI618\n47FIC036\n47XL1525A-ANN\n47TI2112C\n47LAL603-ANN\n47APC_FRC_OFF-AN\n47PIC2024\n47PI2039C\n47PIC2028\n47PI2029B\n47PI2039A\n47PI2029A\n47LAH603-ANN\n47PI2039B\n47TI3433\n48UA012-ANN\n47FI2024\n47FIC2023\n47XL1526B-ANN\n47APC_NS_OFF-AN\n47APC_ST_WD-ANN\n47PIC1507\n47APC_NS_WD-ANN\n47XL011-ANN\n47XL1526A-ANN\n47LIC015\n47PI1707\n47APC_FRC_WD-ANN\n47LIC009\n47TI1546\n47G17B-ANN\n47LIC1515\n47TI414E\n47PIC1713\n47LIC1514\n47XL1557B-ANN\n47TI412\n48PALL001X-ANN\n48FIC007\n47FLI-033\n47FD-033F-ANN\n01XA049-ANN\n48FI002B\n48HA012-ANN\n47XL3602-ANN\n48XL004-ANN\n48HA005-ANN\n48FI002A\n47HSD-006H-ANN\n48FI006A\n47PI2064\n47HSD-005H-ANN\n48FI006B\n47AAH301-ANN\n47LIC1507\n47HCI-003\n47EM306A-ANN\n47FI1005\n47TAH418A-ANN\n47PI1734\nTESTPIC027\n47TI2094\n48HA031-ANN\nTEST_FIC2065\n47HSD-005HH-ANN\n47XL3109-ANN\n47AIT2011\n47TI2111\n47PI1512\n47FLI-039\n47FIC2026\n47FI2027\n48FFIC2002\n47TI003A\n47FIC1535\n48LIC2003\n47PI2019\n47HCD-004H-ANN\n47HCD-044H-ANN\n47PTOPC62\n47TAH3602-ANN\n47FIC3410\n47G17A-ANN\n19FI101\n48PI2025\n47TDI3313\n47FI1575\n47APC_FRC_ON-ANN\n47APC_NS_ON-ANN\n19LI105A\n47TI3415\n47TI1724\n47PDI3420\n47TI3418\n47FIC3513\n47TAL002CD-ANN\n47LIC2017\n47FSL019-ANN\n47TI2072\n47XL2016A-ANN\n47TI2076\n47BA001P-ANN\n47TIC274\n47PDI3315\n47PI1711\n47FIC1527\n47PIC1757\n47LIC1504\n47FI3006\n47AIT2013\n47TIC937E\n47FIC038\n47XL3503B-ANN\n47LIC1551\n47XL3503A-ANN\n47LI1512\n47TI3102\n47TIC929E\n47TI929F\n47TI275\n47PI861\n47TIC927E\n48XL001-ANN\n47TIC1501\n47TI010\n47AI005\n47LIC1503\n47TI442\n47FLI-032\n47BA001D-ANN\n48PAL007-ANN\n47FIC035\n47PDAH605-ANN\n47PI632ABC\n47PI614ABC\n47PDAH624-ANN\n47PAL620-ANN\n47PAL621-ANN\n47AI2008\n47FIC011\n47XL1557C-ANN\n47PI1517B\n47PI1517ABC\n47PI1517C\n47PI1517A\n47TIC009\n47PI055\n48FI2021A\n48FALL2021-ANN\n47FD-032HH-ANN\n47PIC029\n47TI1509\n47XL1557A-ANN\n48AAH010-ANN\n47EM304D-ANN\n47XL600-ANN\n47PDAH625-ANN\n47PDAH619-ANN\n47XL602-ANN\n47XL606-ANN\n47XL604-ANN\n47TI611\n47PDAHH619-ANN\n47PI604\n48TIC2026\n47XL603-ANN\n47XL605-ANN\n47XL601-ANN\n47XL1537-ANN\n47FLI-036\n47PI707ABC\n47PDI709\n47FI3005\n47XL017D-ANN\n47XL017C-ANN\n47XL017H-ANN\n47XL017F-ANN\n47TI1529\n47TI414O\nF201-CEM-CAL4\n47TAH808-ANN\n47TI808\n47XA1502-ANN\n47EM304C-ANN\n47XL1558-ANN\n47XA1508-ANN\n47XL1535-ANN\n47XL1529-ANN\n47XL1523-ANN\n47XL1527-ANN\n47XL1567-ANN\n47FI033BCD\n47FI1540BCD\n47FI1540\n47XL1536-ANN\n47XL1553-ANN\n47XL1560-ANN\n47PI1512BCD\n47XL1555-ANN\n47PI053ABC\n47XL1563-ANN\n47FI1001\n47FI3016\n47PIC3640\n47EM304B-ANN\n47LIC008\n47XL1528-ANN\n47XL1564-ANN\n47XL017B-ANN\n47EM304A-ANN\n19LIC104\n19G402\n47FI2010D\n47FI2010C\n47FALL2010-ANN\n47FFAL2012-ANN\n47FI2010BCD\n47XL1566-ANN\n"
    }
   ],
   "source": [
    "\n",
    "print(\"Total Number of Sourcenames: {s}\".format(s=len(sources.keys())))\n",
    "print(\"SourceName\")\n",
    "for s in sources.keys():\n",
    "    print(s)\n"
   ]
  },
  {
   "cell_type": "markdown",
   "metadata": {},
   "source": [
    "### How many times each SourceName has been triggered (activation + Deactivation)?"
   ]
  },
  {
   "cell_type": "code",
   "execution_count": 7,
   "metadata": {
    "tags": [
     "outputPrepend"
    ]
   },
   "outputs": [
    {
     "output_type": "stream",
     "name": "stdout",
     "text": "LO 83, HI 41, \n77.  Source: 47LIC1518, Total: 189 | LO 9, HI 158, HH 22, \n78.  Source: 47LI024, Total: 189 | HI 60, IOP 120, HH 9, \n79.  Source: 47TI416, Total: 180 | LO 24, HI 156, \n80.  Source: 47TI870D, Total: 180 | HHH 100, HTRP 80, \n81.  Source: 48XL012-ANN, Total: 179 | ALM 179, \n82.  Source: 48HA012-ANN, Total: 174 | ALM 174, \n83.  Source: 47PI1710, Total: 172 | HI 130, HH 21, LO 21, \n84.  Source: 47TXI1594, Total: 171 | HI 171, \n85.  Source: 47FIC1524, Total: 167 | IOP 167, \n86.  Source: 47FI1509, Total: 164 | LO 100, HI 64, \n87.  Source: 47FI1005, Total: 163 | IOP 115, LO 48, \n88.  Source: 47FIC1524_CALX, Total: 160 | IOP 160, \n89.  Source: 47TI3531, Total: 147 | LO 90, LL 45, HI 12, \n90.  Source: 19FI108A, Total: 135 | HI 43, VEL+ 8, LL 16, VEL- 20, LO 45, IOP 3, \n91.  Source: 47TIC2056, Total: 134 | LO 80, LL 54, \n92.  Source: 47FIC1515, Total: 129 | LO 64, HI 53, LL 3, DV- 9, \n93.  Source: 47TI1521, Total: 129 | HI 78, LO 51, \n94.  Source: 48BAL007-ANN, Total: 128 | ALM 128, \n95.  Source: 47FI1575, Total: 123 | IOP 123, \n96.  Source: 48UA007-ANN, Total: 122 | ALM 122, \n97.  Source: 47TI1533, Total: 121 | HI 94, LO 12, LL 12, HH 3, \n98.  Source: 47TI2086, Total: 118 | LL 62, LO 56, \n99.  Source: 47TI1507, Total: 111 | HI 108, HH 3, \n100.  Source: 47PIC3522-ANN, Total: 110 | ALM 110, \n101.  Source: 48LI010, Total: 108 | LO 45, HI 63, \n102.  Source: 47PI2039B, Total: 105 | LLL 105, \n103.  Source: 47LIC009, Total: 105 | LO 105, \n104.  Source: 47PI2039A, Total: 104 | LLL 104, \n105.  Source: 47TI1705, Total: 103 | LO 79, HI 18, HH 6, \n106.  Source: 47FD-032H-ANN, Total: 102 | ALM 102, \n107.  Source: 48FI2021B, Total: 97 | LLL 48, LTRP 49, \n108.  Source: 47TI1540, Total: 95 | HI 45, LO 50, \n109.  Source: 48UA012-ANN, Total: 94 | ALM 94, \n110.  Source: 47TIC2050, Total: 92 | LO 60, LL 32, \n111.  Source: 47FIC1507, Total: 89 | HH 8, HI 61, LO 20, \n112.  Source: 47UA2500-ANN, Total: 87 | ALM 87, \n113.  Source: 48UA014-ANN, Total: 87 | ALM 87, \n114.  Source: 47FI2030, Total: 86 | HI 86, \n115.  Source: 47PIC2023, Total: 86 | HI 29, LO 30, LL 24, HH 3, \n116.  Source: 47FI1571, Total: 85 | IOP 85, \n117.  Source: 19PI119A, Total: 85 | LO 47, LL 35, HI 3, \n118.  Source: 47FD-032HH-ANN, Total: 84 | ALM 84, \n119.  Source: 47_AMPSA_PMCC1L, Total: 83 | HI 83, \n120.  Source: 47PIC027, Total: 83 | HI 42, LO 23, LL 3, HH 9, DV- 6, \n121.  Source: 47LIC1501, Total: 81 | HI 81, \n122.  Source: 48XL006-ANN, Total: 80 | ALM 80, \n123.  Source: 47PI2029A, Total: 80 | LLL 80, \n124.  Source: 48FI2021A, Total: 80 | LLL 39, LTRP 41, \n125.  Source: 48LIC009, Total: 77 | HI 44, LO 30, LL 3, \n126.  Source: 48XL005-ANN, Total: 75 | ALM 75, \n127.  Source: 48FFIC014, Total: 75 | DV+ 3, LO 28, DV- 21, VEL+ 8, VEL- 15, \n128.  Source: 47_AMPSC_PMCC1L, Total: 74 | HI 74, \n129.  Source: 47FD-036H-ANN, Total: 73 | ALM 73, \n130.  Source: 47PI2029B, Total: 73 | LLL 73, \n131.  Source: 47TI2003, Total: 72 | LO 72, \n132.  Source: 47FIC2002, Total: 72 | LO 41, LL 8, DV- 23, \n133.  Source: 47LIC1503, Total: 72 | IOP 7, LL 16, HI 30, LO 8, HH 8, DV- 3, \n134.  Source: 47FD-036HH-ANN, Total: 71 | ALM 71, \n135.  Source: 48FI013, Total: 71 | LO 25, LL 25, HI 15, HH 6, \n136.  Source: 47XL1001-ANN, Total: 70 | ALM 70, \n137.  Source: 47G12-A, Total: 70 | ANS- 70, \n138.  Source: 47PI1003, Total: 69 | LL 25, LO 44, \n139.  Source: 47TI414Q, Total: 69 | LO 42, LL 27, \n140.  Source: 47FIC004, Total: 66 | LO 55, LL 11, \n141.  Source: 47TI2112A, Total: 65 | LLL 65, \n142.  Source: 48PIC009, Total: 60 | HH 42, HI 12, LO 3, LL 3, \n143.  Source: 47PI2039C, Total: 58 | LLL 58, \n144.  Source: 47PIC1504, Total: 57 | HI 54, LO 3, \n145.  Source: 47FIC038, Total: 57 | LO 54, DV- 3, \n146.  Source: 47LIC3408, Total: 56 | LO 18, HI 32, HH 6, \n147.  Source: 47TI1727, Total: 55 | HI 33, HH 22, \n148.  Source: 47TI2095, Total: 55 | HI 55, \n149.  Source: 47TIC1511, Total: 54 | HI 42, LO 9, HH 3, \n150.  Source: 19TI104, Total: 53 | LO 50, HI 3, \n151.  Source: 48XL003-ANN, Total: 53 | ALM 53, \n152.  Source: 47AI2014, Total: 53 | IOP 53, \n153.  Source: 47PI1701, Total: 52 | HH 15, HI 37, \n154.  Source: 47FIC016, Total: 52 | LO 7, HI 45, \n155.  Source: 47_AMPSB_PMCC1L, Total: 52 | HI 52, \n156.  Source: 47TIC2078, Total: 52 | LL 43, HI 9, \n157.  Source: 47TI2057A, Total: 52 | HI 52, \n158.  Source: 47TI2058B, Total: 50 | HI 50, \n159.  Source: 47LAL603-ANN, Total: 50 | ALM 50, \n160.  Source: 19LAH101-ANN, Total: 45 | ALM 45, \n161.  Source: 47TI1505, Total: 44 | HI 44, \n162.  Source: 47PIC1760, Total: 44 | LL 22, LO 22, \n163.  Source: F201-CEM-CAL4, Total: 44 | IOP 44, \n164.  Source: 47FIC2001, Total: 43 | LO 12, LL 11, DV- 14, DV+ 6, \n165.  Source: 47XL1525B-ANN, Total: 43 | ALM 43, \n166.  Source: 47TI414L, Total: 43 | LO 34, LL 9, \n167.  Source: 48FFIC019, Total: 42 | LO 21, DV+ 6, DV- 15, \n168.  Source: 48FFIC005, Total: 42 | LO 6, DV- 18, LL 6, VEL- 6, VEL+ 6, \n169.  Source: 47FIC012, Total: 42 | HI 21, HH 9, LO 12, \n170.  Source: 48LIC2003, Total: 42 | LO 42, \n171.  Source: 47TI1765, Total: 41 | HI 29, HH 12, \n172.  Source: 48FALL2021-ANN, Total: 41 | ALM 41, \n173.  Source: 19ZAL119A-ANN, Total: 40 | ALM 40, \n174.  Source: 47BA001P-ANN, Total: 40 | ALM 40, \n175.  Source: 47TI926I, Total: 39 | HI 39, \n176.  Source: 47PDI3104, Total: 39 | HI 36, HH 3, \n177.  Source: 47FIC1520, Total: 39 | LO 30, DV- 6, DV+ 3, \n178.  Source: 47TI1508, Total: 38 | HI 38, \n179.  Source: 19ZAH119A-ANN, Total: 38 | ALM 38, \n180.  Source: 47PIC2038, Total: 36 | HI 36, \n181.  Source: 47PI123ABC, Total: 35 | HHH 4, LTRP 14, HTRP 3, LLL 14, \n182.  Source: 47C56SUM_DT, Total: 34 | HI 17, HH 17, \n183.  Source: 47FIC1523, Total: 34 | DV+ 11, DV- 23, \n184.  Source: 48FFX019, Total: 34 | LO 17, LL 17, \n185.  Source: 48FFIC031, Total: 33 | HI 27, LO 3, LL 3, \n186.  Source: 48UA010-ANN, Total: 33 | ALM 33, \n187.  Source: 48FI011B, Total: 32 | LTRP 11, LLL 21, \n188.  Source: 47FI046, Total: 31 | IOP 17, HI 14, \n189.  Source: 47PI123A, Total: 30 | HHH 12, HTRP 18, \n190.  Source: 47PI123C, Total: 30 | HHH 12, HTRP 18, \n191.  Source: 47TIC1535, Total: 30 | LO 18, HI 6, LL 3, HH 3, \n192.  Source: 47TI414H, Total: 30 | LO 24, LL 6, \n193.  Source: 48TI035A, Total: 30 | HHH 27, HTRP 3, \n194.  Source: 47LAH603-ANN, Total: 30 | ALM 30, \n195.  Source: 47FI2024, Total: 30 | HI 15, HH 15, \n196.  Source: 47TI2112B, Total: 28 | LLL 28, \n197.  Source: 47LIC1515, Total: 28 | HI 9, LO 19, \n198.  Source: TESTPIC027, Total: 28 | DV- 7, DV+ 5, LL 5, LO 5, HH 3, HI 3, \n199.  Source: 47FIC3513, Total: 28 | LL 14, LO 14, \n200.  Source: 47PI123B, Total: 27 | HHH 12, HTRP 15, \n201.  Source: 47G122-ANN, Total: 27 | ALM 27, \n202.  Source: 47XL1538B-ANN, Total: 27 | ALM 27, \n203.  Source: 47TI414G, Total: 27 | LL 9, LO 18, \n204.  Source: 47TAH418A-ANN, Total: 27 | ALM 27, \n205.  Source: 47PI2002, Total: 26 | LO 14, LL 9, HI 3, \n206.  Source: 47PIC2028, Total: 26 | HI 26, \n207.  Source: 47TI443, Total: 25 | HI 14, HH 11, \n208.  Source: 47LIC1513, Total: 24 | LO 18, HI 6, \n209.  Source: 47AI1503, Total: 24 | LO 24, \n210.  Source: 47PI2031A, Total: 24 | LLL 10, LTRP 14, \n211.  Source: 47PI2031ABC, Total: 24 | LLL 10, LTRP 14, \n212.  Source: 48FI011A, Total: 24 | LTRP 9, LLL 15, \n213.  Source: 48FI020, Total: 24 | LL 12, LO 12, \n214.  Source: 47PI2031C, Total: 24 | LLL 10, LTRP 14, \n215.  Source: 47FIC1514, Total: 24 | LO 12, HH 6, HI 6, \n216.  Source: 47PI2020, Total: 24 | HI 24, \n217.  Source: 47XL1526A-ANN, Total: 24 | ALM 24, \n218.  Source: 48FIC007, Total: 24 | VEL- 12, VEL+ 12, \n219.  Source: 47XA1503-ANN, Total: 23 | ALM 23, \n220.  Source: 47XL1525A-ANN, Total: 23 | ALM 23, \n221.  Source: 47AIT2011, Total: 23 | LO 7, HH 5, HI 5, LL 6, \n222.  Source: 47TI1003, Total: 22 | LO 22, \n223.  Source: 47LIC1511, Total: 21 | LO 18, HI 3, \n224.  Source: 47TI412, Total: 21 | IOP 21, \n225.  Source: 47PTOPC62, Total: 21 | IOP 21, \n226.  Source: 47XL3503A-ANN, Total: 21 | ALM 21, \n227.  Source: 47XL1526B-ANN, Total: 20 | ALM 20, \n228.  Source: 47TI929F, Total: 20 | HI 5, LO 15, \n229.  Source: 47FIC020, Total: 18 | LO 3, HI 15, \n230.  Source: 47LIC2006, Total: 18 | HH 3, HI 6, DV- 3, LL 3, LO 3, \n231.  Source: 47FIC2017, Total: 18 | HI 18, \n232.  Source: 47TI600, Total: 18 | LO 18, \n233.  Source: 48TIC008, Total: 18 | LL 12, LO 6, \n234.  Source: 48TI003A, Total: 18 | HHH 18, \n235.  Source: 47FIC3410, Total: 18 | DV- 6, LO 5, LL 7, \n236.  Source: 19FI101, Total: 18 | HI 9, HH 9, \n237.  Source: 47TI1724, Total: 18 | LO 18, \n238.  Source: 47TI2072, Total: 18 | HI 18, \n239.  Source: 47TIC929E, Total: 18 | HI 6, LO 12, \n240.  Source: 47PI632ABC, Total: 18 | LTRP 9, LLL 9, \n241.  Source: 47PI614ABC, Total: 18 | LTRP 9, LLL 9, \n242.  Source: 47TI1509, Total: 18 | HI 18, \n243.  Source: 47FI047, Total: 17 | IOP 17, \n244.  Source: 47YS_ORAN, Total: 17 | IOP 17, \n245.  Source: 47TI2111B, Total: 17 | LLL 17, \n246.  Source: 48BAL004-ANN, Total: 16 | ALM 16, \n247.  Source: 48PAL010-ANN, Total: 16 | ALM 16, \n248.  Source: 47FI3005, Total: 16 | IOP 16, \n249.  Source: 47LIC1520, Total: 15 | HI 9, LO 6, \n250.  Source: 48TIC038, Total: 15 | LO 12, HI 3, \n251.  Source: 47FIC1516, Total: 15 | HI 15, \n252.  Source: 47TI2112ABC, Total: 15 | LLL 15, \n253.  Source: 47TI2111A, Total: 15 | LLL 15, \n254.  Source: 47XL1539B-ANN, Total: 15 | ALM 15, \n255.  Source: 47LIC1555, Total: 15 | LO 15, \n256.  Source: 47LIC1507, Total: 15 | HI 15, \n257.  Source: 47FIC2026, Total: 15 | HI 12, LO 3, \n258.  Source: 47PIC1757, Total: 15 | IOP 7, HI 3, HH 5, \n259.  Source: 47XL3503B-ANN, Total: 15 | ALM 15, \n260.  Source: 47TAH808-ANN, Total: 15 | ALM 15, \n261.  Source: 48FALL011-ANN, Total: 14 | ALM 14, \n262.  Source: 48TIC024, Total: 14 | HI 6, LO 8, \n263.  Source: 47XL1557B-ANN, Total: 14 | ALM 14, \n264.  Source: 47FI2010C, Total: 14 | LTRP 7, LLL 7, \n265.  Source: 47XL017G-ANN, Total: 13 | ALM 13, \n266.  Source: 47LIC1514, Total: 13 | LO 13, \n267.  Source: 48HA005-ANN, Total: 13 | ALM 13, \n268.  Source: 47TIC927E, Total: 13 | HI 9, LO 4, \n269.  Source: 47TI013, Total: 12 | HI 12, \n270.  Source: 47FI2020, Total: 12 | LL 6, LO 6, \n271.  Source: 47FI2019, Total: 12 | LL 6, LO 6, \n272.  Source: 47PIC028, Total: 12 | HI 6, LO 6, \n273.  Source: 48FI001, Total: 12 | LL 6, LO 6, \n274.  Source: 48PI001, Total: 12 | HH 6, HI 6, \n275.  Source: 48UA002-ANN, Total: 12 | ALM 12, \n276.  Source: 48PI048, Total: 12 | LO 6, LL 6, \n277.  Source: 47PIC2024, Total: 12 | LO 12, \n278.  Source: 47PI1707, Total: 12 | LO 12, \n279.  Source: 48FI002B, Total: 12 | LLL 6, LTRP 6, \n280.  Source: 48FI002A, Total: 12 | LTRP 6, LLL 6, \n281.  Source: 48FI006A, Total: 12 | LTRP 6, LLL 6, \n282.  Source: 47HSD-005H-ANN, Total: 12 | ALM 12, \n283.  Source: 48FI006B, Total: 12 | LTRP 6, LLL 6, \n284.  Source: 47PDI3420, Total: 12 | LO 12, \n285.  Source: 47PI1711, Total: 12 | LO 6, LL 3, HI 3, \n286.  Source: 47TIC937E, Total: 12 | HI 9, HH 3, \n287.  Source: 48AAH010-ANN, Total: 12 | ALM 12, \n288.  Source: 47FI033BCD, Total: 12 | LTRP 6, LLL 6, \n289.  Source: 47LALL3616-ANN, Total: 11 | ALM 11, \n290.  Source: 48LIC004, Total: 11 | LO 11, \n291.  Source: 47TI2112C, Total: 11 | LLL 11, \n292.  Source: 47HSD-006H-ANN, Total: 11 | ALM 11, \n293.  Source: 47FI3006, Total: 11 | LO 11, \n294.  Source: 48XL001-ANN, Total: 11 | ALM 11, \n295.  Source: 47FI1540BCD, Total: 11 | LTRP 6, LLL 5, \n296.  Source: 47LIC004, Total: 10 | HH 10, \n297.  Source: 47TIC259, Total: 10 | HI 1, LO 9, \n298.  Source: 47TI618, Total: 10 | HI 10, \n299.  Source: 19LIC104, Total: 10 | LO 5, LL 5, \n300.  Source: 47FI2010D, Total: 10 | LLL 5, LTRP 5, \n301.  Source: 47XL026A-ANN, Total: 9 | ALM 9, \n302.  Source: 47XL026B-ANN, Total: 9 | ALM 9, \n303.  Source: 47LIC1510, Total: 9 | LO 6, LL 3, \n304.  Source: 47FI2020BCD, Total: 9 | LLL 6, LTRP 3, \n305.  Source: 47FI2020B, Total: 9 | LLL 6, LTRP 3, \n306.  Source: 47FI2020D, Total: 9 | LLL 6, LTRP 3, \n307.  Source: 47FI2020C, Total: 9 | LLL 6, LTRP 3, \n308.  Source: 47TI2111ABC, Total: 9 | LLL 9, \n309.  Source: 47PI2018, Total: 9 | LO 9, \n310.  Source: 47TI2111C, Total: 9 | LLL 9, \n311.  Source: 47XL1539A-ANN, Total: 9 | ALM 9, \n312.  Source: 47TI3416, Total: 9 | HI 9, \n313.  Source: 48TIC016, Total: 9 | LL 6, LO 3, \n314.  Source: 47TI3419, Total: 9 | HI 9, \n315.  Source: 47TI414R, Total: 9 | LO 9, \n316.  Source: 47FIC2008, Total: 9 | HI 6, DV+ 3, \n317.  Source: 47FIC1563, Total: 9 | HI 3, LO 3, LL 3, \n318.  Source: 47FIC013, Total: 9 | HI 6, LO 3, \n319.  Source: 47FIC2007, Total: 9 | HI 6, DV+ 3, \n320.  Source: 47FIC036, Total: 9 | DV- 6, DV+ 3, \n321.  Source: 47XL011-ANN, Total: 9 | ALM 9, \n322.  Source: 47TI1546, Total: 9 | HI 9, \n323.  Source: 48PALL001X-ANN, Total: 9 | ALM 9, \n324.  Source: 48XL004-ANN, Total: 9 | ALM 9, \n325.  Source: 47PI1512, Total: 9 | LO 9, \n326.  Source: 47FI2027, Total: 9 | HI 9, \n327.  Source: 47TI3102, Total: 9 | LO 3, HI 6, \n328.  Source: 47TIC1501, Total: 9 | HI 6, LO 3, \n329.  Source: 47FIC035, Total: 9 | DV+ 6, DV- 3, \n330.  Source: 47PAL620-ANN, Total: 9 | ALM 9, \n331.  Source: 47FIC011, Total: 9 | DV+ 3, HI 6, \n332.  Source: 47EM304D-ANN, Total: 9 | ALM 9, \n333.  Source: 47HIC1573, Total: 8 | OOP 3, IOP- 5, \n334.  Source: 47FI2002, Total: 8 | LO 8, \n335.  Source: 47FIC021, Total: 7 | LO 4, HI 3, \n336.  Source: 47TI436, Total: 7 | LO 7, \n337.  Source: 47HSD-006HH-ANN, Total: 7 | ALM 7, \n338.  Source: 47AAH301-ANN, Total: 7 | ALM 7, \n339.  Source: TEST_FIC2065, Total: 7 | MHI 7, \n340.  Source: 47PDI3315, Total: 7 | HI 5, LO 2, \n341.  Source: 47TI134, Total: 6 | HI 6, \n342.  Source: 47TI1722, Total: 6 | LO 6, \n343.  Source: 47TI017, Total: 6 | HI 6, \n344.  Source: 47PI2100, Total: 6 | HI 6, \n345.  Source: 47FSL014-ANN, Total: 6 | ALM 6, \n346.  Source: 19TI105, Total: 6 | LO 6, \n347.  Source: 47PI2022, Total: 6 | LO 6, \n348.  Source: 47TI414I, Total: 6 | LO 6, \n349.  Source: 48FALL006-ANN, Total: 6 | ALM 6, \n350.  Source: 48FI012, Total: 6 | LO 6, \n351.  Source: 48PALL001-ANN, Total: 6 | ALM 6, \n352.  Source: 48FIX008, Total: 6 | LO 6, \n353.  Source: 48FALL002-ANN, Total: 6 | ALM 6, \n354.  Source: 48FI030B, Total: 6 | LO 3, LL 3, \n355.  Source: 47TI2092, Total: 6 | HI 6, \n356.  Source: 47TI414P, Total: 6 | LO 6, \n357.  Source: 47XL1538A-ANN, Total: 6 | ALM 6, \n358.  Source: 47TIC3417, Total: 6 | HI 6, \n359.  Source: 47TI3433, Total: 6 | HI 3, LO 3, \n360.  Source: 47FIC2023, Total: 6 | VEL+ 6, \n361.  Source: 47APC_NS_OFF-AN, Total: 6 | ALM 6, \n362.  Source: 47APC_FRC_WD-ANN, Total: 6 | ALM 6, \n363.  Source: 47TI414E, Total: 6 | HI 6, \n364.  Source: 47PIC1713, Total: 6 | LO 3, LL 3, \n365.  Source: 47FLI-033, Total: 6 | IOP 3, CNF 3, \n366.  Source: 48HA031-ANN, Total: 6 | ALM 6, \n367.  Source: 47G17A-ANN, Total: 6 | ALM 6, \n368.  Source: 47APC_NS_ON-ANN, Total: 6 | ALM 6, \n369.  Source: 47TI3418, Total: 6 | LL 3, LO 3, \n370.  Source: 47LIC2017, Total: 6 | HI 6, \n371.  Source: 47TI2076, Total: 6 | HI 6, \n372.  Source: 47TIC274, Total: 6 | HI 6, \n373.  Source: 47LIC1504, Total: 6 | LO 6, \n374.  Source: 47LI1512, Total: 6 | HI 6, \n375.  Source: 47TI275, Total: 6 | HI 6, \n376.  Source: 47AI005, Total: 6 | HI 6, \n377.  Source: 47TI442, Total: 6 | HI 6, \n378.  Source: 47FLI-032, Total: 6 | IOP 3, CNF 3, \n379.  Source: 47PDAH624-ANN, Total: 6 | ALM 6, \n380.  Source: 47PAL621-ANN, Total: 6 | ALM 6, \n381.  Source: 47PI1517ABC, Total: 6 | LLL 3, LTRP 3, \n382.  Source: 47PI055, Total: 6 | LO 6, \n383.  Source: 47XL1557A-ANN, Total: 6 | ALM 6, \n384.  Source: 47TI611, Total: 6 | HI 3, HH 3, \n385.  Source: 47PI707ABC, Total: 6 | LLL 3, LTRP 3, \n386.  Source: 47XL1567-ANN, Total: 6 | ALM 6, \n387.  Source: 47PI053ABC, Total: 6 | HHH 6, \n388.  Source: 47EM304B-ANN, Total: 6 | ALM 6, \n389.  Source: 47FI2010BCD, Total: 6 | LTRP 3, LLL 3, \n390.  Source: 47XL3602-ANN, Total: 5 | ALM 5, \n391.  Source: 47HSD-005HH-ANN, Total: 5 | ALM 5, \n392.  Source: 47FIC1527, Total: 5 | HI 5, \n393.  Source: 47XL1557C-ANN, Total: 5 | ALM 5, \n394.  Source: 47XA1508-ANN, Total: 5 | ALM 5, \n395.  Source: 19G402, Total: 5 | ANS+ 5, \n396.  Source: 47FALL2010-ANN, Total: 5 | ALM 5, \n397.  Source: 47TI260, Total: 4 | HI 4, \n398.  Source: TEST2_FIC2065, Total: 4 | MHI 4, \n399.  Source: 47EM306A-ANN, Total: 4 | ALM 4, \n400.  Source: 47PDI709, Total: 4 | HH 3, HI 1, \n401.  Source: 47XL1529-ANN, Total: 4 | ALM 4, \n402.  Source: 47FI3016, Total: 4 | IOP 4, \n403.  Source: 47TI008, Total: 3 | HI 3, \n404.  Source: 47XL2022-ANN, Total: 3 | ALM 3, \n405.  Source: 47FALL2020-ANN, Total: 3 | ALM 3, \n406.  Source: 47FI1016, Total: 3 | HI 3, \n407.  Source: 47TI002, Total: 3 | HI 3, \n408.  Source: 48TIC034-ANN, Total: 3 | ALM 3, \n409.  Source: 48TI023, Total: 3 | LO 3, \n410.  Source: 48TAHH035-ANN, Total: 3 | ALM 3, \n411.  Source: 47XL3508-ANN, Total: 3 | ALM 3, \n412.  Source: 47LI011, Total: 3 | HI 3, \n413.  Source: 47APC_FRC_OFF-AN, Total: 3 | ALM 3, \n414.  Source: 47PIC1507, Total: 3 | MLO 3, \n415.  Source: 47APC_NS_WD-ANN, Total: 3 | ALM 3, \n416.  Source: 47G17B-ANN, Total: 3 | ALM 3, \n417.  Source: 47FD-033F-ANN, Total: 3 | ALM 3, \n418.  Source: 01XA049-ANN, Total: 3 | ALM 3, \n419.  Source: 47TI2094, Total: 3 | HI 3, \n420.  Source: 47XL3109-ANN, Total: 3 | ALM 3, \n421.  Source: 47TI2111, Total: 3 | IOP- 3, \n422.  Source: 47FIC1535, Total: 3 | VEL- 3, \n423.  Source: 47PI2019, Total: 3 | HI 3, \n424.  Source: 47HCD-004H-ANN, Total: 3 | ALM 3, \n425.  Source: 47HCD-044H-ANN, Total: 3 | ALM 3, \n426.  Source: 47TAH3602-ANN, Total: 3 | ALM 3, \n427.  Source: 47TDI3313, Total: 3 | LO 3, \n428.  Source: 47APC_FRC_ON-ANN, Total: 3 | ALM 3, \n429.  Source: 47TI3415, Total: 3 | LO 3, \n430.  Source: 47XL2016A-ANN, Total: 3 | ALM 3, \n431.  Source: 47AIT2013, Total: 3 | LO 3, \n432.  Source: 47LIC1551, Total: 3 | HI 3, \n433.  Source: 47PI861, Total: 3 | LO 3, \n434.  Source: 47TI010, Total: 3 | HI 3, \n435.  Source: 47BA001D-ANN, Total: 3 | ALM 3, \n436.  Source: 47AI2008, Total: 3 | IOP- 3, \n437.  Source: 47PI1517B, Total: 3 | LLL 3, \n438.  Source: 47PI1517C, Total: 3 | LLL 3, \n439.  Source: 47PI1517A, Total: 3 | LLL 3, \n440.  Source: 47TIC009, Total: 3 | MLO 3, \n441.  Source: 47PIC029, Total: 3 | HI 3, \n442.  Source: 47PDAH625-ANN, Total: 3 | ALM 3, \n443.  Source: 47PDAH619-ANN, Total: 3 | ALM 3, \n444.  Source: 47PDAHH619-ANN, Total: 3 | ALM 3, \n445.  Source: 47PI604, Total: 3 | LLL 3, \n446.  Source: 47XL603-ANN, Total: 3 | ALM 3, \n447.  Source: 47XL605-ANN, Total: 3 | ALM 3, \n448.  Source: 47XL601-ANN, Total: 3 | ALM 3, \n449.  Source: 47XL1537-ANN, Total: 3 | ALM 3, \n450.  Source: 47XL017D-ANN, Total: 3 | ALM 3, \n451.  Source: 47XL017C-ANN, Total: 3 | ALM 3, \n452.  Source: 47XL017H-ANN, Total: 3 | ALM 3, \n453.  Source: 47TI1529, Total: 3 | LO 3, \n454.  Source: 47TI414O, Total: 3 | HI 3, \n455.  Source: 47TI808, Total: 3 | HI 3, \n456.  Source: 47EM304C-ANN, Total: 3 | ALM 3, \n457.  Source: 47PI1512BCD, Total: 3 | HHH 3, \n458.  Source: 47FI1001, Total: 3 | HI 3, \n459.  Source: 47LIC008, Total: 3 | HI 3, \n460.  Source: 47EM304A-ANN, Total: 3 | ALM 3, \n461.  Source: 47FFAL2012-ANN, Total: 3 | ALM 3, \n462.  Source: 47APC_ST_WD-ANN, Total: 2 | ALM 2, \n463.  Source: 47XL600-ANN, Total: 2 | ALM 2, \n464.  Source: 47XL602-ANN, Total: 2 | ALM 2, \n465.  Source: 47XL606-ANN, Total: 2 | ALM 2, \n466.  Source: 47XL604-ANN, Total: 2 | ALM 2, \n467.  Source: 47XL017F-ANN, Total: 2 | ALM 2, \n468.  Source: 47XA1502-ANN, Total: 2 | ALM 2, \n469.  Source: 47XL1558-ANN, Total: 2 | ALM 2, \n470.  Source: 47XL1535-ANN, Total: 2 | ALM 2, \n471.  Source: 47XL1523-ANN, Total: 2 | ALM 2, \n472.  Source: 47XL1527-ANN, Total: 2 | ALM 2, \n473.  Source: 47FI1540, Total: 2 | LO 2, \n474.  Source: 47XL1536-ANN, Total: 2 | ALM 2, \n475.  Source: 47XL1553-ANN, Total: 2 | ALM 2, \n476.  Source: 47XL1560-ANN, Total: 2 | ALM 2, \n477.  Source: 47XL1555-ANN, Total: 2 | ALM 2, \n478.  Source: 47XL1563-ANN, Total: 2 | ALM 2, \n479.  Source: 47PIC3640, Total: 2 | LO 2, \n480.  Source: 47XL1566-ANN, Total: 2 | ALM 2, \n481.  Source: 47LIC015, Total: 1 | LO 1, \n482.  Source: 47XL1528-ANN, Total: 1 | ALM 1, \n483.  Source: 47XL1564-ANN, Total: 1 | ALM 1, \n484.  Source: 47XL017B-ANN, Total: 1 | ALM 1, \n\n\n Total Number of Entries in the excel: 1277118\n"
    }
   ],
   "source": [
    "total  = 0\n",
    "i =0\n",
    "for key in source_conditions.keys():\n",
    "    s1 = \"Source: \" + key + \", Total: {} | \".format(source_conditions[key][\"Total\"])\n",
    "    s2 = \"\"\n",
    "    total += source_conditions[key][\"Total\"]\n",
    "    for k in source_conditions[key].keys():\n",
    "        if k == \"Total\" or k == \"Recover\":\n",
    "            continue\n",
    "        s2 = s2 + k +\" \"+ str(source_conditions[key][k]) + \", \"    \n",
    "    s1 = s1 + s2\n",
    "    print(\"{}. \".format(i),s1)\n",
    "    i +=1\n",
    "#     if i == 10:\n",
    "#         break\n",
    "print(\"\\n\\n Total Number of Entries in the excel:\", total)\n",
    "# assert(total== len(df[\"SourceName\"]))\n"
   ]
  },
  {
   "cell_type": "markdown",
   "metadata": {},
   "source": [
    "### Number of times each condition appear"
   ]
  },
  {
   "cell_type": "code",
   "execution_count": 8,
   "metadata": {},
   "outputs": [
    {
     "output_type": "stream",
     "name": "stdout",
     "text": "Recover 633722\nIOP 591778\nIOP- 267647\nVEL- 112634\nVEL+ 100657\nLL 56268\nLO 38279\nALM 37765\nLTRP 28006\nLLL 27733\nHI 6945\nHHH 2901\nCNF 1870\nHTRP 1407\nHH 1113\nANS- 1057\nDV- 836\nDV+ 197\nMHI 11\nMLO 6\nANS+ 5\nOOP 3\n"
    }
   ],
   "source": [
    "plot_dict = {} \n",
    "plot_dict[\"Condition\"] = [k for k in conditions.keys()]\n",
    "plot_dict[\"Freq\"] = [v for v in conditions.values()]\n",
    "# print(x_axis)\n",
    "# print(y_axis)\n",
    "\n",
    "for k in conditions.keys():\n",
    "#     if k == \"Recover\":\n",
    "#         continue\n",
    "    print(k,conditions[k])\n",
    "\n",
    "# print(\"Recover\", conditions[\"Recover\"]) ### including \"NR\" message\n",
    "\n",
    "# fig = px.bar(x=plot_dict[\"Condition\"],y=plot_dict[\"Freq\"])\n",
    "\n",
    "# fig.show()"
   ]
  },
  {
   "cell_type": "markdown",
   "metadata": {},
   "source": [
    "### Displaying Messages of top SourceName alarms (oreder by EventTime)\n",
    "Which message is related to which message (i.e., activation and deactivation) ?\n"
   ]
  },
  {
   "cell_type": "code",
   "execution_count": 9,
   "metadata": {
    "jupyter": {
     "outputs_hidden": true
    },
    "tags": [
     "outputPrepend"
    ]
   },
   "outputs": [
    {
     "output_type": "stream",
     "name": "stdout",
     "text": "6 m3/h IOP-\n2019-04-01 00:05:44,---,IOP-,--- Message: 48FIX2040 C206'DAN C4'E A.GAZ CPV = 126 m3/h IOP- Recover\n2019-04-01 00:05:54,---,IOP-,--- Message: 48FIX2040 C206'DAN C4'E A.GAZ CPV = 126 m3/h IOP-\n2019-04-01 00:05:55,---,IOP-,--- Message: 48FIX2040 C206'DAN C4'E A.GAZ CPV = 126 m3/h IOP- Recover\n2019-04-01 00:06:06,---,IOP-,--- Message: 48FIX2040 C206'DAN C4'E A.GAZ CPV = 126 m3/h IOP-\n2019-04-01 00:06:08,---,IOP-,--- Message: 48FIX2040 C206'DAN C4'E A.GAZ CPV = 126 m3/h IOP- Recover\n2019-04-01 00:06:55,---,IOP-,--- Message: 48FIX2040 C206'DAN C4'E A.GAZ CPV = 126 m3/h IOP-\n2019-04-01 00:06:57,---,IOP-,--- Message: 48FIX2040 C206'DAN C4'E A.GAZ CPV = 126 m3/h IOP- Recover\n2019-04-01 00:08:52,---,IOP-,--- Message: 48FIX2040 C206'DAN C4'E A.GAZ CPV = 126 m3/h IOP-\n2019-04-01 00:08:53,---,IOP-,--- Message: 48FIX2040 C206'DAN C4'E A.GAZ CPV = 126 m3/h IOP- Recover\n2019-04-01 00:09:20,---,IOP-,--- Message: 48FIX2040 C206'DAN C4'E A.GAZ CPV = 126 m3/h IOP-\n2019-04-01 00:09:21,---,IOP-,--- Message: 48FIX2040 C206'DAN C4'E A.GAZ CPV = 126 m3/h IOP- Recover\n2019-04-01 00:09:34,---,IOP-,--- Message: 48FIX2040 C206'DAN C4'E A.GAZ CPV = 126 m3/h IOP-\n2019-04-01 00:09:35,---,IOP-,--- Message: 48FIX2040 C206'DAN C4'E A.GAZ CPV = 126 m3/h IOP- Recover\n2019-04-01 00:09:50,---,IOP-,--- Message: 48FIX2040 C206'DAN C4'E A.GAZ CPV = 126 m3/h IOP-\n2019-04-01 00:09:51,---,IOP-,--- Message: 48FIX2040 C206'DAN C4'E A.GAZ CPV = 126 m3/h IOP- Recover\n2019-04-01 00:10:26,---,IOP-,--- Message: 48FIX2040 C206'DAN C4'E A.GAZ CPV = 126 m3/h IOP-\n2019-04-01 00:10:27,---,IOP-,--- Message: 48FIX2040 C206'DAN C4'E A.GAZ CPV = 126 m3/h IOP- Recover\n2019-04-01 00:11:15,---,IOP-,--- Message: 48FIX2040 C206'DAN C4'E A.GAZ CPV = 126 m3/h IOP-\n2019-04-01 00:11:17,---,IOP-,--- Message: 48FIX2040 C206'DAN C4'E A.GAZ CPV = 126 m3/h IOP- Recover\n2019-04-01 00:11:40,---,IOP-,--- Message: 48FIX2040 C206'DAN C4'E A.GAZ CPV = 126 m3/h IOP-\n2019-04-01 00:11:41,---,IOP-,--- Message: 48FIX2040 C206'DAN C4'E A.GAZ CPV = 126 m3/h IOP- Recover\n2019-04-01 00:12:14,---,IOP-,--- Message: 48FIX2040 C206'DAN C4'E A.GAZ CPV = 126 m3/h IOP-\n2019-04-01 00:12:15,---,IOP-,--- Message: 48FIX2040 C206'DAN C4'E A.GAZ CPV = 126 m3/h IOP- Recover\n=======Source 3: 48TIC2027========\n2019-04-01 00:01:07,---,IOP-,--- Message: 48TIC2027 E209 CIKIS REJEN DRAM PV = -6.1 C IOP-\n2019-04-01 00:01:08,---,IOP-,--- Message: 48TIC2027 E209 CIKIS REJEN DRAM PV = -5.9 C IOP- Recover\n2019-04-01 00:01:36,---,IOP-,--- Message: 48TIC2027 E209 CIKIS REJEN DRAM PV = -6.2 C IOP-\n2019-04-01 00:01:38,---,IOP-,--- Message: 48TIC2027 E209 CIKIS REJEN DRAM PV = -5.8 C IOP- Recover\n2019-04-01 00:04:13,---,IOP-,--- Message: 48TIC2027 E209 CIKIS REJEN DRAM PV = -6.0 C IOP-\n2019-04-01 00:04:14,---,IOP-,--- Message: 48TIC2027 E209 CIKIS REJEN DRAM PV = -6.0 C IOP- Recover\n2019-04-01 00:05:42,---,IOP-,--- Message: 48TIC2027 E209 CIKIS REJEN DRAM PV = -6.0 C IOP-\n2019-04-01 00:05:44,---,IOP-,--- Message: 48TIC2027 E209 CIKIS REJEN DRAM PV = -5.9 C IOP- Recover\n2019-04-01 00:05:54,---,IOP-,--- Message: 48TIC2027 E209 CIKIS REJEN DRAM PV = -6.0 C IOP-\n2019-04-01 00:05:55,---,IOP-,--- Message: 48TIC2027 E209 CIKIS REJEN DRAM PV = -6.0 C IOP- Recover\n2019-04-01 00:06:06,---,IOP-,--- Message: 48TIC2027 E209 CIKIS REJEN DRAM PV = -6.0 C IOP-\n2019-04-01 00:06:08,---,IOP-,--- Message: 48TIC2027 E209 CIKIS REJEN DRAM PV = -5.7 C IOP- Recover\n2019-04-01 00:06:55,---,IOP-,--- Message: 48TIC2027 E209 CIKIS REJEN DRAM PV = -6.2 C IOP-\n2019-04-01 00:06:57,---,IOP-,--- Message: 48TIC2027 E209 CIKIS REJEN DRAM PV = -6.0 C IOP- Recover\n2019-04-01 00:08:52,---,IOP-,--- Message: 48TIC2027 E209 CIKIS REJEN DRAM PV = -6.0 C IOP-\n2019-04-01 00:08:53,---,IOP-,--- Message: 48TIC2027 E209 CIKIS REJEN DRAM PV = -6.2 C IOP- Recover\n2019-04-01 00:09:20,---,IOP-,--- Message: 48TIC2027 E209 CIKIS REJEN DRAM PV = -6.0 C IOP-\n2019-04-01 00:09:21,---,IOP-,--- Message: 48TIC2027 E209 CIKIS REJEN DRAM PV = -6.0 C IOP- Recover\n2019-04-01 00:09:34,---,IOP-,--- Message: 48TIC2027 E209 CIKIS REJEN DRAM PV = -5.8 C IOP-\n2019-04-01 00:09:35,---,IOP-,--- Message: 48TIC2027 E209 CIKIS REJEN DRAM PV = -6.0 C IOP- Recover\n2019-04-01 00:09:50,---,IOP-,--- Message: 48TIC2027 E209 CIKIS REJEN DRAM PV = -6.2 C IOP-\n2019-04-01 00:09:51,---,IOP-,--- Message: 48TIC2027 E209 CIKIS REJEN DRAM PV = -5.6 C IOP- Recover\n2019-04-01 00:10:26,---,IOP-,--- Message: 48TIC2027 E209 CIKIS REJEN DRAM PV = -5.9 C IOP-\n2019-04-01 00:10:27,---,IOP-,--- Message: 48TIC2027 E209 CIKIS REJEN DRAM PV = -6.0 C IOP- Recover\n2019-04-01 00:11:15,---,IOP-,--- Message: 48TIC2027 E209 CIKIS REJEN DRAM PV = -6.1 C IOP-\n2019-04-01 00:11:17,---,IOP-,--- Message: 48TIC2027 E209 CIKIS REJEN DRAM PV = -6.3 C IOP- Recover\n2019-04-01 00:11:40,---,IOP-,--- Message: 48TIC2027 E209 CIKIS REJEN DRAM PV = -5.9 C IOP-\n2019-04-01 00:11:41,---,IOP-,--- Message: 48TIC2027 E209 CIKIS REJEN DRAM PV = -6.0 C IOP- Recover\n2019-04-01 00:12:14,---,IOP-,--- Message: 48TIC2027 E209 CIKIS REJEN DRAM PV = -6.0 C IOP-\n2019-04-01 00:12:15,---,IOP-,--- Message: 48TIC2027 E209 CIKIS REJEN DRAM PV = -5.7 C IOP- Recover\n=======Source 4: 19LI105A========\n2019-04-03 22:07:30,---,VEL-,--- Message: 19LI105A PV = 92.41 % VEL-\n2019-04-03 22:07:31,---,VEL-,--- Message: 19LI105A PV = 97.78 % VEL- Recover\n2019-04-03 22:12:11,---,LO,--- Message: 19LI105A PV = 87.44 % LO\n2019-04-03 22:12:13,---,LO,--- Message: 19LI105A PV = 94.89 % LO Recover\n2019-04-03 22:19:03,---,VEL-,--- Message: 19LI105A PV = 92.08 % VEL-\n2019-04-03 22:19:04,---,VEL-,--- Message: 19LI105A PV = 97.37 % VEL- Recover\n2019-04-03 22:23:38,---,VEL-,--- Message: 19LI105A PV = 91.26 % VEL-\n2019-04-03 22:23:39,---,VEL-,--- Message: 19LI105A PV = 94.39 % VEL- Recover\n2019-04-03 22:24:03,---,VEL-,--- Message: 19LI105A PV = 91.81 % VEL-\n2019-04-03 22:24:04,---,VEL-,--- Message: 19LI105A PV = 97.39 % VEL- Recover\n2019-04-03 22:26:36,---,LO,--- Message: 19LI105A PV = 87.58 % LO\n2019-04-03 22:26:39,---,LO,--- Message: 19LI105A PV = 94.23 % LO Recover\n2019-04-03 22:35:46,---,LO,--- Message: 19LI105A PV = 85.51 % LO\n2019-04-03 22:35:46,---,VEL-,--- Message: 19LI105A PV = 85.51 % VEL-\n2019-04-03 22:35:47,---,LO,--- Message: 19LI105A PV = 94.15 % LO Recover\n2019-04-03 22:35:47,---,VEL-,--- Message: 19LI105A PV = 94.15 % VEL- Recover\n2019-04-03 22:37:38,---,VEL-,--- Message: 19LI105A PV = 92.69 % VEL-\n2019-04-03 22:37:39,---,VEL-,--- Message: 19LI105A PV = 88.53 % VEL- Recover\n2019-04-03 22:37:40,---,LO,--- Message: 19LI105A PV = 86.60 % LO\n2019-04-03 22:37:42,---,LO,--- Message: 19LI105A PV = 93.25 % LO Recover\n2019-04-03 22:41:18,---,VEL-,--- Message: 19LI105A PV = 89.03 % VEL-\n2019-04-03 22:41:19,---,VEL-,--- Message: 19LI105A PV = 96.03 % VEL- Recover\n2019-04-03 22:43:33,---,VEL-,--- Message: 19LI105A PV = 87.81 % VEL-\n2019-04-03 22:43:33,---,LO,--- Message: 19LI105A PV = 87.81 % LO\n2019-04-03 22:43:34,---,LL,--- Message: 19LI105A PV = 82.84 % LL\n2019-04-03 22:43:34,---,VEL-,--- Message: 19LI105A PV = 82.84 % VEL- Recover\n2019-04-03 22:43:35,---,LL,--- Message: 19LI105A PV = 88.65 % LL Recover\n2019-04-03 22:43:36,---,LO,--- Message: 19LI105A PV = 91.85 % LO Recover\n2019-04-03 22:44:32,---,VEL-,--- Message: 19LI105A PV = 87.83 % VEL-\n2019-04-03 22:44:32,---,LO,--- Message: 19LI105A PV = 87.83 % LO\n=======Source 5: 47FIC034========\n2019-04-01 00:01:37,---,LL,--- Message: 47FIC034 F-1 TOTAL YAKIT KONT. PV = 136 Kg/h LL Recover\n2019-04-01 00:01:38,---,LL,--- Message: 47FIC034 F-1 TOTAL YAKIT KONT. PV = 92 Kg/h LL\n2019-04-01 00:01:50,---,LL,--- Message: 47FIC034 F-1 TOTAL YAKIT KONT. ACK\n2019-04-01 00:19:54,---,LL,--- Message: 47FIC034 F-1 TOTAL YAKIT KONT. PV = 141 Kg/h LL Recover\n2019-04-01 00:19:56,---,LL,--- Message: 47FIC034 F-1 TOTAL YAKIT KONT. PV = 58 Kg/h LL\n2019-04-01 00:20:02,---,LL,--- Message: 47FIC034 F-1 TOTAL YAKIT KONT. ACK\n2019-04-01 00:54:22,---,LL,--- Message: 47FIC034 F-1 TOTAL YAKIT KONT. PV = 140 Kg/h LL Recover\n2019-04-01 00:54:24,---,LL,--- Message: 47FIC034 F-1 TOTAL YAKIT KONT. PV = 70 Kg/h LL\n2019-04-01 00:54:34,---,LL,--- Message: 47FIC034 F-1 TOTAL YAKIT KONT. ACK\n2019-04-01 00:58:33,---,LL,--- Message: 47FIC034 F-1 TOTAL YAKIT KONT. PV = 140 Kg/h LL Recover\n2019-04-01 00:58:35,---,LL,--- Message: 47FIC034 F-1 TOTAL YAKIT KONT. PV = 64 Kg/h LL\n2019-04-01 00:59:16,---,LL,--- Message: 47FIC034 F-1 TOTAL YAKIT KONT. ACK\n2019-04-01 01:05:15,---,LL,--- Message: 47FIC034 F-1 TOTAL YAKIT KONT. PV = 145 Kg/h LL Recover\n2019-04-01 01:05:16,---,LL,--- Message: 47FIC034 F-1 TOTAL YAKIT KONT. PV = 83 Kg/h LL\n2019-04-01 01:06:06,---,LL,--- Message: 47FIC034 F-1 TOTAL YAKIT KONT. ACK\n2019-04-01 01:39:41,---,LL,--- Message: 47FIC034 F-1 TOTAL YAKIT KONT. PV = 136 Kg/h LL Recover\n2019-04-01 01:39:42,---,LL,--- Message: 47FIC034 F-1 TOTAL YAKIT KONT. PV = 75 Kg/h LL\n2019-04-01 01:40:09,---,LL,--- Message: 47FIC034 F-1 TOTAL YAKIT KONT. ACK\n2019-04-01 01:52:18,---,LL,--- Message: 47FIC034 F-1 TOTAL YAKIT KONT. PV = 138 Kg/h LL Recover\n2019-04-01 01:52:20,---,LL,--- Message: 47FIC034 F-1 TOTAL YAKIT KONT. PV = 62 Kg/h LL\n2019-04-01 02:03:23,---,LL,--- Message: 47FIC034 F-1 TOTAL YAKIT KONT. ACK\n2019-04-01 02:30:36,---,LL,--- Message: 47FIC034 F-1 TOTAL YAKIT KONT. PV = 137 Kg/h LL Recover\n2019-04-01 02:30:37,---,LL,--- Message: 47FIC034 F-1 TOTAL YAKIT KONT. PV = 81 Kg/h LL\n2019-04-01 02:40:34,---,LL,--- Message: 47FIC034 F-1 TOTAL YAKIT KONT. PV = 136 Kg/h LL Recover\n2019-04-01 02:40:35,---,LL,--- Message: 47FIC034 F-1 TOTAL YAKIT KONT. PV = 88 Kg/h LL\n2019-04-01 02:40:46,---,LL,--- Message: 47FIC034 F-1 TOTAL YAKIT KONT. ACK\n2019-04-01 02:44:22,---,LL,--- Message: 47FIC034 F-1 TOTAL YAKIT KONT. PV = 138 Kg/h LL Recover\n2019-04-01 02:44:23,---,LL,--- Message: 47FIC034 F-1 TOTAL YAKIT KONT. PV = 76 Kg/h LL\n2019-04-01 02:59:56,---,LL,--- Message: 47FIC034 F-1 TOTAL YAKIT KONT. PV = 136 Kg/h LL Recover\n2019-04-01 02:59:58,---,LL,--- Message: 47FIC034 F-1 TOTAL YAKIT KONT. PV = 99 Kg/h LL\n=======Source 6: 47TI002C========\n2019-04-01 08:54:52,---,LLL,--- Message: 47TI002C G-2 B EMIS SICAKLIGI PV = 95.0 C LLL\n2019-04-01 08:54:52,---,LLL,--- Message: 47TI002C G-2 B EMIS SICAKLIGI PV = 95.0 C LLL Recover\n2019-04-01 08:55:07,---,LLL,--- Message: 47TI002C G-2 B EMIS SICAKLIGI PV = 95.0 C LLL\n2019-04-01 08:55:07,---,LLL,--- Message: 47TI002C G-2 B EMIS SICAKLIGI PV = 95.0 C LLL Recover\n2019-04-01 08:55:11,---,LLL,--- Message: 47TI002C G-2 B EMIS SICAKLIGI PV = 95.0 C LLL\n2019-04-01 08:55:11,---,LLL,--- Message: 47TI002C G-2 B EMIS SICAKLIGI PV = 95.0 C LLL Recover\n2019-04-01 08:55:12,---,LLL,--- Message: 47TI002C G-2 B EMIS SICAKLIGI PV = 95.0 C LLL\n2019-04-01 08:55:12,---,LLL,--- Message: 47TI002C G-2 B EMIS SICAKLIGI PV = 95.0 C LLL Recover\n2019-04-01 08:55:13,---,LLL,--- Message: 47TI002C G-2 B EMIS SICAKLIGI PV = 95.0 C LLL\n2019-04-01 08:55:14,---,LLL,--- Message: 47TI002C G-2 B EMIS SICAKLIGI PV = 95.0 C LLL\n2019-04-01 08:55:14,---,LLL,--- Message: 47TI002C G-2 B EMIS SICAKLIGI PV = 95.0 C LLL Recover\n2019-04-01 08:55:20,---,LLL,--- Message: 47TI002C G-2 B EMIS SICAKLIGI PV = 95.0 C LLL Recover\n2019-04-01 08:55:21,---,LLL,--- Message: 47TI002C G-2 B EMIS SICAKLIGI PV = 94.9 C LLL\n2019-04-01 08:55:25,---,LLL,--- Message: 47TI002C G-2 B EMIS SICAKLIGI PV = 95.0 C LLL Recover\n2019-04-01 08:55:34,---,LLL,--- Message: 47TI002C G-2 B EMIS SICAKLIGI PV = 95.0 C LLL\n2019-04-01 08:55:34,---,LLL,--- Message: 47TI002C G-2 B EMIS SICAKLIGI PV = 95.0 C LLL Recover\n2019-04-01 08:55:35,---,LLL,--- Message: 47TI002C G-2 B EMIS SICAKLIGI PV = 95.0 C LLL\n2019-04-01 08:55:38,---,LLL,--- Message: 47TI002C G-2 B EMIS SICAKLIGI PV = 95.0 C LLL Recover\n2019-04-01 08:55:39,---,LLL,--- Message: 47TI002C G-2 B EMIS SICAKLIGI PV = 95.0 C LLL\n2019-04-01 08:55:40,---,LLL,--- Message: 47TI002C G-2 B EMIS SICAKLIGI PV = 95.0 C LLL Recover\n2019-04-01 08:55:41,---,LLL,--- Message: 47TI002C G-2 B EMIS SICAKLIGI PV = 94.9 C LLL\n2019-04-01 08:55:44,---,LLL,--- Message: 47TI002C G-2 B EMIS SICAKLIGI PV = 94.9 C LLL\n2019-04-01 08:55:44,---,LLL,--- Message: 47TI002C G-2 B EMIS SICAKLIGI PV = 95.0 C LLL Recover\n2019-04-02 00:04:36,---,LLL,--- Message: 47TI002C G-2 B EMIS SICAKLIGI PV = 95.0 C LLL Recover\n2019-04-02 00:04:36,---,LLL,--- Message: 47TI002C G-2 B EMIS SICAKLIGI PV = 94.9 C LLL\n2019-04-02 00:04:55,---,LLL,--- Message: 47TI002C G-2 B EMIS SICAKLIGI PV = 95.0 C LLL Recover\n2019-04-02 00:04:56,---,LLL,--- Message: 47TI002C G-2 B EMIS SICAKLIGI PV = 94.9 C LLL\n2019-04-02 00:05:50,---,LLL,--- Message: 47TI002C G-2 B EMIS SICAKLIGI PV = 95.0 C LLL Recover\n2019-04-02 00:05:52,---,LLL,--- Message: 47TI002C G-2 B EMIS SICAKLIGI PV = 94.9 C LLL\n2019-04-02 00:07:08,---,LLL,--- Message: 47TI002C G-2 B EMIS SICAKLIGI PV = 95.0 C LLL Recover\n=======Source 7: 47TI003A========\n2019-04-01 05:55:17,---,LTRP,--- Message: 47TI003A G-3 GOVDE SICAKLIGI PV = 50.0 C LTRP\n2019-04-01 05:55:17,---,LTRP,--- Message: 47TI003A G-3 GOVDE SICAKLIGI PV = 50.1 C LTRP Recover\n2019-04-01 05:55:18,---,LTRP,--- Message: 47TI003A G-3 GOVDE SICAKLIGI PV = 50.0 C LTRP\n2019-04-01 05:55:18,---,LTRP,--- Message: 47TI003A G-3 GOVDE SICAKLIGI PV = 50.1 C LTRP Recover\n2019-04-01 05:55:48,---,LTRP,--- Message: 47TI003A G-3 GOVDE SICAKLIGI PV = 50.0 C LTRP\n2019-04-01 05:55:51,---,LTRP,--- Message: 47TI003A G-3 GOVDE SICAKLIGI PV = 50.0 C LTRP\n2019-04-01 05:55:51,---,LTRP,--- Message: 47TI003A G-3 GOVDE SICAKLIGI PV = 50.0 C LTRP Recover\n2019-04-01 05:55:53,---,LTRP,--- Message: 47TI003A G-3 GOVDE SICAKLIGI PV = 50.0 C LTRP Recover\n2019-04-01 05:55:54,---,LTRP,--- Message: 47TI003A G-3 GOVDE SICAKLIGI PV = 50.0 C LTRP\n2019-04-01 05:55:56,---,LTRP,--- Message: 47TI003A G-3 GOVDE SICAKLIGI PV = 50.0 C LTRP Recover\n2019-04-01 05:55:57,---,LTRP,--- Message: 47TI003A G-3 GOVDE SICAKLIGI PV = 50.0 C LTRP\n2019-04-01 05:55:57,---,LTRP,--- Message: 47TI003A G-3 GOVDE SICAKLIGI PV = 50.1 C LTRP Recover\n2019-04-01 05:55:58,---,LTRP,--- Message: 47TI003A G-3 GOVDE SICAKLIGI PV = 50.0 C LTRP\n2019-04-01 05:55:59,---,LTRP,--- Message: 47TI003A G-3 GOVDE SICAKLIGI PV = 50.0 C LTRP Recover\n2019-04-01 05:56:00,---,LTRP,--- Message: 47TI003A G-3 GOVDE SICAKLIGI PV = 50.0 C LTRP\n2019-04-01 05:56:00,---,LTRP,--- Message: 47TI003A G-3 GOVDE SICAKLIGI PV = 50.0 C LTRP Recover\n2019-04-01 05:56:07,---,LTRP,--- Message: 47TI003A G-3 GOVDE SICAKLIGI PV = 50.0 C LTRP\n2019-04-01 05:56:08,---,LTRP,--- Message: 47TI003A G-3 GOVDE SICAKLIGI PV = 50.0 C LTRP Recover\n2019-04-01 05:56:11,---,LTRP,--- Message: 47TI003A G-3 GOVDE SICAKLIGI PV = 50.0 C LTRP\n2019-04-01 05:56:15,---,LTRP,--- Message: 47TI003A G-3 GOVDE SICAKLIGI PV = 50.0 C LTRP\n2019-04-01 05:56:15,---,LTRP,--- Message: 47TI003A G-3 GOVDE SICAKLIGI PV = 50.0 C LTRP Recover\n2019-04-01 05:56:16,---,LTRP,--- Message: 47TI003A G-3 GOVDE SICAKLIGI PV = 50.0 C LTRP\n2019-04-01 05:56:16,---,LTRP,--- Message: 47TI003A G-3 GOVDE SICAKLIGI PV = 50.0 C LTRP Recover\n2019-04-01 05:56:20,---,LTRP,--- Message: 47TI003A G-3 GOVDE SICAKLIGI PV = 50.0 C LTRP\n2019-04-01 05:56:20,---,LTRP,--- Message: 47TI003A G-3 GOVDE SICAKLIGI PV = 50.0 C LTRP Recover\n2019-04-01 05:56:21,---,LTRP,--- Message: 47TI003A G-3 GOVDE SICAKLIGI PV = 50.0 C LTRP Recover\n2019-04-01 05:56:22,---,LTRP,--- Message: 47TI003A G-3 GOVDE SICAKLIGI PV = 50.0 C LTRP\n2019-04-01 05:56:25,---,LTRP,--- Message: 47TI003A G-3 GOVDE SICAKLIGI PV = 50.0 C LTRP Recover\n2019-04-01 05:56:26,---,LTRP,--- Message: 47TI003A G-3 GOVDE SICAKLIGI PV = 50.0 C LTRP\n2019-04-01 05:56:28,---,LTRP,--- Message: 47TI003A G-3 GOVDE SICAKLIGI PV = 50.0 C LTRP\n=======Source 8: 47TAL003AB-ANN========\n2019-04-01 05:55:17,---,ALM,--- Message: 47TAL003AB-ANN G-3 EMIS SICAKLIGI ALM\n2019-04-01 05:55:17,---,ALM,--- Message: 47TAL003AB-ANN G-3 EMIS SICAKLIGI NR\n2019-04-01 05:55:18,---,ALM,--- Message: 47TAL003AB-ANN G-3 EMIS SICAKLIGI ALM\n2019-04-01 05:55:18,---,ALM,--- Message: 47TAL003AB-ANN G-3 EMIS SICAKLIGI NR\n2019-04-01 05:55:49,---,ALM,--- Message: 47TAL003AB-ANN G-3 EMIS SICAKLIGI ALM\n2019-04-01 05:55:51,---,ALM,--- Message: 47TAL003AB-ANN G-3 EMIS SICAKLIGI NR\n2019-04-01 05:55:52,---,ALM,--- Message: 47TAL003AB-ANN G-3 EMIS SICAKLIGI ALM\n2019-04-01 05:55:53,---,ALM,--- Message: 47TAL003AB-ANN G-3 EMIS SICAKLIGI ALM\n2019-04-01 05:55:53,---,ALM,--- Message: 47TAL003AB-ANN G-3 EMIS SICAKLIGI NR\n2019-04-01 05:55:54,---,ALM,--- Message: 47TAL003AB-ANN G-3 EMIS SICAKLIGI NR\n2019-04-01 05:55:55,---,ALM,--- Message: 47TAL003AB-ANN G-3 EMIS SICAKLIGI ALM\n2019-04-01 05:55:56,---,ALM,--- Message: 47TAL003AB-ANN G-3 EMIS SICAKLIGI NR\n2019-04-01 05:55:57,---,ALM,--- Message: 47TAL003AB-ANN G-3 EMIS SICAKLIGI ALM\n2019-04-01 05:55:58,---,ALM,--- Message: 47TAL003AB-ANN G-3 EMIS SICAKLIGI ALM\n2019-04-01 05:55:58,---,ALM,--- Message: 47TAL003AB-ANN G-3 EMIS SICAKLIGI NR\n2019-04-01 05:55:59,---,ALM,--- Message: 47TAL003AB-ANN G-3 EMIS SICAKLIGI ALM\n2019-04-01 05:55:59,---,ALM,--- Message: 47TAL003AB-ANN G-3 EMIS SICAKLIGI NR\n2019-04-01 05:56:00,---,ALM,--- Message: 47TAL003AB-ANN G-3 EMIS SICAKLIGI ALM\n2019-04-01 05:56:00,---,ALM,--- Message: 47TAL003AB-ANN G-3 EMIS SICAKLIGI NR\n2019-04-01 05:56:01,---,ALM,--- Message: 47TAL003AB-ANN G-3 EMIS SICAKLIGI NR\n2019-04-01 05:56:07,---,ALM,--- Message: 47TAL003AB-ANN G-3 EMIS SICAKLIGI ALM\n2019-04-01 05:56:08,---,ALM,--- Message: 47TAL003AB-ANN G-3 EMIS SICAKLIGI NR\n2019-04-01 05:56:11,---,ALM,--- Message: 47TAL003AB-ANN G-3 EMIS SICAKLIGI ALM\n2019-04-01 05:56:15,---,ALM,--- Message: 47TAL003AB-ANN G-3 EMIS SICAKLIGI ALM\n2019-04-01 05:56:15,---,ALM,--- Message: 47TAL003AB-ANN G-3 EMIS SICAKLIGI NR\n2019-04-01 05:56:16,---,ALM,--- Message: 47TAL003AB-ANN G-3 EMIS SICAKLIGI NR\n2019-04-01 05:56:17,---,ALM,--- Message: 47TAL003AB-ANN G-3 EMIS SICAKLIGI ALM\n2019-04-01 05:56:20,---,ALM,--- Message: 47TAL003AB-ANN G-3 EMIS SICAKLIGI ALM\n2019-04-01 05:56:20,---,ALM,--- Message: 47TAL003AB-ANN G-3 EMIS SICAKLIGI NR\n2019-04-01 05:56:21,---,ALM,--- Message: 47TAL003AB-ANN G-3 EMIS SICAKLIGI ALM\n=======Source 9: 47TI1713========\n2019-04-01 00:03:00,---,IOP,--- Message: 47TI1713 PV = 2.8 C IOP Recover\n2019-04-01 00:03:01,---,IOP,--- Message: 47TI1713 PV = 2.8 C IOP\n2019-04-01 00:11:06,---,IOP,--- Message: 47TI1713 PV = 12.2 C IOP Recover\n2019-04-01 00:11:07,---,IOP,--- Message: 47TI1713 PV = 12.2 C IOP\n2019-04-01 00:13:34,---,IOP,--- Message: 47TI1713 PV = 12.2 C IOP Recover\n2019-04-01 00:13:35,---,IOP,--- Message: 47TI1713 PV = 12.2 C IOP\n2019-04-01 00:18:00,---,IOP,--- Message: 47TI1713 PV = 12.2 C IOP Recover\n2019-04-01 00:18:01,---,IOP,--- Message: 47TI1713 PV = 12.2 C IOP\n2019-04-01 00:23:26,---,IOP,--- Message: 47TI1713 PV = 12.2 C IOP Recover\n2019-04-01 00:23:27,---,IOP,--- Message: 47TI1713 PV = 12.2 C IOP\n2019-04-01 00:38:06,---,IOP,--- Message: 47TI1713 PV = 12.2 C IOP Recover\n2019-04-01 00:38:07,---,IOP,--- Message: 47TI1713 PV = 12.2 C IOP\n2019-04-01 00:38:56,---,IOP,--- Message: 47TI1713 PV = 12.2 C IOP Recover\n2019-04-01 00:38:57,---,IOP,--- Message: 47TI1713 PV = 12.2 C IOP\n2019-04-01 00:39:15,---,IOP,--- Message: 47TI1713 PV = 12.2 C IOP Recover\n2019-04-01 00:39:16,---,IOP,--- Message: 47TI1713 PV = 12.2 C IOP\n2019-04-01 00:52:15,---,IOP,--- Message: 47TI1713 PV = 12.2 C IOP Recover\n2019-04-01 00:52:16,---,IOP,--- Message: 47TI1713 PV = 12.2 C IOP\n2019-04-01 00:52:29,---,IOP,--- Message: 47TI1713 PV = 18.2 C IOP Recover\n2019-04-01 00:52:30,---,IOP,--- Message: 47TI1713 PV = 18.2 C IOP\n2019-04-01 00:55:36,---,IOP,--- Message: 47TI1713 PV = 37.4 C IOP Recover\n2019-04-01 00:55:37,---,IOP,--- Message: 47TI1713 PV = 37.4 C IOP\n2019-04-01 00:56:21,---,IOP,--- Message: 47TI1713 PV = 22.2 C IOP Recover\n2019-04-01 00:56:22,---,IOP,--- Message: 47TI1713 PV = 22.2 C IOP\n2019-04-01 01:08:36,---,IOP,--- Message: 47TI1713 PV = 13.6 C IOP Recover\n2019-04-01 01:08:37,---,IOP,--- Message: 47TI1713 PV = 13.6 C IOP\n2019-04-01 01:30:20,---,IOP,--- Message: 47TI1713 PV = 24.1 C IOP Recover\n2019-04-01 01:30:21,---,IOP,--- Message: 47TI1713 PV = 24.1 C IOP\n2019-04-01 01:34:10,---,IOP,--- Message: 47TI1713 PV = 24.1 C IOP Recover\n2019-04-01 01:34:11,---,IOP-,--- Message: 47TI1713 PV = 24.1 C IOP-\n"
    }
   ],
   "source": [
    "# conditions = {k:v for k,v in sorted(conditions.items(), key=lambda item: item[1], reverse=True)}\n",
    "\n",
    "i = 0\n",
    "for sname in source_conditions.keys():\n",
    "    \n",
    "    print(\"=======Source {}: {}========\".format(i,sname))\n",
    "    single_source_alarms = sources[sname]\n",
    "    single_source_alarms = [v for v in sorted(single_source_alarms, key=lambda arg: arg[\"EventTime\"], reverse = False) ]\n",
    "    \n",
    "    j = 0\n",
    "    for alarm in single_source_alarms:\n",
    "        print(\"{},---,{},--- Message: {}\".format(alarm[\"EventTime\"],alarm[\"Condition\"], alarm[\"Message\"]))\n",
    "        j += 1\n",
    "        if j == 30:\n",
    "            break\n",
    "    i += 1\n",
    "    if i == 10:\n",
    "        break\n"
   ]
  },
  {
   "cell_type": "markdown",
   "metadata": {},
   "source": [
    "### **Find the duration of activation of each Alarm i.e., duration =  DeactivationTime - ActivationTime**\n",
    "\n",
    "Compute mean, median, mode, on the duration...\n",
    "\n",
    "**Deactivation of an Alarm:**\n",
    "* Recover : The alram is deactivated.\n",
    "* IOP  : Communication between the DCS and field is cut off (alarm activated).\n",
    "* IOP + Recover: communication problem is solved and the alarm is deactivated. \n",
    "* ALM : It represent alarm is activated\n",
    "* NR : The alarm is returned to normal state.\n"
   ]
  },
  {
   "cell_type": "code",
   "execution_count": 10,
   "metadata": {},
   "outputs": [],
   "source": [
    "from datetime import timedelta\n",
    "import statistics\n",
    "from collections import Counter\n",
    "# c = Counter([1,1,2,2,3])\n",
    "# c.most_common(1)\n",
    "\n",
    "def getDurationAndStats(alarms):\n",
    "    \"\"\"Returns list of dict and stats dictionary\"\"\"\n",
    "#     queue = []\n",
    "    conditions_queues = {}\n",
    "    stats = {} \n",
    "    start_end = []\n",
    "    d = None\n",
    "    alarms = [v for v in sorted(alarms, key=lambda arg: arg[\"EventTime\"], reverse = False) ]\n",
    "    for alarm in alarms:\n",
    "#         print(alarm[\"Message\"])\n",
    "        if conditions_queues.get(alarm[\"Condition\"]) == None:\n",
    "            conditions_queues[alarm[\"Condition\"]] = []\n",
    "\n",
    "        if alarm[\"Message\"].find(\"Recover\") == -1 and alarm[\"Message\"].find(\"NR\") == -1:\n",
    "            conditions_queues[alarm[\"Condition\"]].append(alarm) # enqueue the activation\n",
    "        else:\n",
    "            if len(conditions_queues[alarm[\"Condition\"]])== 0:\n",
    "#                 print(\"(\", alarm[\"SourceName\"],alarm[\"Message\"], \")\")\n",
    "                continue\n",
    "            d = conditions_queues[alarm[\"Condition\"]].pop(0) # dequeue\n",
    "            d = {k:v for k,v in d.items()}\n",
    "            d[\"StartTime\"] = d[\"EventTime\"]\n",
    "            d[\"EndTime\"] = alarm[\"EventTime\"]\n",
    "            d[\"EndMessage\"] = alarm[\"Message\"]\n",
    "            del d[\"EventTime\"]\n",
    "            \n",
    "            start_end.append(d)\n",
    "#     print(\"Remaining Elements in Queue\", len(queue))\n",
    "    temps = []\n",
    "    for alarm in start_end:\n",
    "        temps.append(timedelta.total_seconds (alarm[\"EndTime\"]-alarm[\"StartTime\"]))\n",
    "#     print(\">>log \", len(start_end))\n",
    "    if len(start_end) == 0:\n",
    "        return None,None\n",
    "    \n",
    "    stats[\"timedeltas\"] = [v for v in sorted(temps)]\n",
    "    stats[\"mean\"] =  round(statistics.mean(stats[\"timedeltas\"]),3) \n",
    "    stats[\"median\"] = statistics.median(stats[\"timedeltas\"])\n",
    "    stats[\"mode\"] =  Counter(stats[\"timedeltas\"]).most_common(1)#statistics.mode(stats[\"timedeltas\"])\n",
    "    stats[\"min\"] = stats[\"timedeltas\"][0]\n",
    "    stats[\"max\"] = stats[\"timedeltas\"][-1]\n",
    "    return (start_end, stats)"
   ]
  },
  {
   "cell_type": "code",
   "execution_count": 11,
   "metadata": {
    "tags": [
     "outputPrepend",
     "outputPrepend",
     "outputPrepend",
     "outputPrepend",
     "outputPrepend",
     "outputPrepend",
     "outputPrepend",
     "outputPrepend",
     "outputPrepend",
     "outputPrepend",
     "outputPrepend",
     "outputPrepend",
     "outputPrepend",
     "outputPrepend",
     "outputPrepend"
    ]
   },
   "outputs": [
    {
     "output_type": "stream",
     "name": "stdout",
     "text": "= 443.4\n295. source:48XL001-ANN, Total alarms:4 | min = 18.0, max = 2598.0, median = 222.5, mode = [(18.0, 1)], mean = 765.25\n296. source:47FI1540BCD, Total alarms:3 | min = 2670.0, max = 80176.0, median = 78574.0, mode = [(2670.0, 1)], mean = 53806.667\n297. source:47LIC004, Total alarms:3 | min = 11725.0, max = 616442.0, median = 199319.0, mode = [(11725.0, 1)], mean = 275828.667\n298. source:47TIC259, Total alarms:3 | min = 207804.0, max = 1435958.0, median = 519795.0, mode = [(207804.0, 1)], mean = 721185.667\n299. source:47TI618, Total alarms:4 | min = 3291.0, max = 54260.0, median = 47825.5, mode = [(3291.0, 1)], mean = 38300.5\n300. source:19LIC104, Total alarms:2 | min = 24.0, max = 24.0, median = 24.0, mode = [(24.0, 2)], mean = 24.0\n301. source:47FI2010D, Total alarms:4 | min = 82.0, max = 2474.0, median = 1265.0, mode = [(82.0, 1)], mean = 1271.5\n302. source:47XL026A-ANN, Total alarms:2 | min = 1034779.0, max = 2410619.0, median = 1722699.0, mode = [(1034779.0, 1)], mean = 1722699.0\n303. source:47XL026B-ANN, Total alarms:3 | min = 138.0, max = 1382476.0, median = 1029256.0, mode = [(138.0, 1)], mean = 803956.667\n304. source:47LIC1510, Total alarms:3 | min = 7.0, max = 1384839.0, median = 162.0, mode = [(7.0, 1)], mean = 461669.333\n305. source:47FI2020BCD, Total alarms:3 | min = 4.0, max = 19559.0, median = 8.0, mode = [(4.0, 1)], mean = 6523.667\n306. source:47FI2020B, Total alarms:3 | min = 4.0, max = 17238.0, median = 8.0, mode = [(4.0, 1)], mean = 5750.0\n307. source:47FI2020D, Total alarms:3 | min = 4.0, max = 17238.0, median = 8.0, mode = [(4.0, 1)], mean = 5750.0\n308. source:47FI2020C, Total alarms:3 | min = 4.0, max = 17238.0, median = 8.0, mode = [(4.0, 1)], mean = 5750.0\n309. source:47TI2111ABC, Total alarms:2 | min = 574744.0, max = 2026344.0, median = 1300544.0, mode = [(574744.0, 1)], mean = 1300544.0\n310. source:47PI2018, Total alarms:3 | min = 3535.0, max = 676085.0, median = 401758.0, mode = [(3535.0, 1)], mean = 360459.333\n311. source:47TI2111C, Total alarms:2 | min = 575488.0, max = 2019261.0, median = 1297374.5, mode = [(575488.0, 1)], mean = 1297374.5\n312. source:47XL1539A-ANN, Total alarms:3 | min = 18363.0, max = 1185917.0, median = 1021093.0, mode = [(18363.0, 1)], mean = 741791.0\n313. source:47TI3416, Total alarms:3 | min = 2845.0, max = 189612.0, median = 127526.0, mode = [(2845.0, 1)], mean = 106661.0\n314. source:48TIC016, Total alarms:3 | min = 5504.0, max = 514286.0, median = 101323.0, mode = [(5504.0, 1)], mean = 207037.667\n315. source:47TI3419, Total alarms:3 | min = 2879.0, max = 189595.0, median = 127556.0, mode = [(2879.0, 1)], mean = 106676.667\n316. source:47TI414R, Total alarms:3 | min = 890.0, max = 311090.0, median = 46077.0, mode = [(890.0, 1)], mean = 119352.333\n317. source:47FIC2008, Total alarms:3 | min = 92.0, max = 143658.0, median = 180.0, mode = [(92.0, 1)], mean = 47976.667\n318. source:47FIC1563, Total alarms:3 | min = 19.0, max = 428.0, median = 426.0, mode = [(19.0, 1)], mean = 291.0\n319. source:47FIC013, Total alarms:3 | min = 3688.0, max = 96380.0, median = 85676.0, mode = [(3688.0, 1)], mean = 61914.667\n320. source:47FIC2007, Total alarms:3 | min = 42.0, max = 143059.0, median = 123.0, mode = [(42.0, 1)], mean = 47741.333\n321. source:47FIC036, Total alarms:3 | min = 18.0, max = 934595.0, median = 21.0, mode = [(18.0, 1)], mean = 311544.667\n322. source:47XL011-ANN, Total alarms:3 | min = 504821.0, max = 932067.0, median = 644899.0, mode = [(504821.0, 1)], mean = 693929.0\n323. source:47TI1546, Total alarms:3 | min = 2244.0, max = 1205345.0, median = 86250.0, mode = [(2244.0, 1)], mean = 431279.667\n324. source:48PALL001X-ANN, Total alarms:3 | min = 2.0, max = 91115.0, median = 1274.0, mode = [(2.0, 1)], mean = 30797.0\n325. source:48XL004-ANN, Total alarms:3 | min = 1272.0, max = 841739.0, median = 328803.0, mode = [(1272.0, 1)], mean = 390604.667\n326. source:47PI1512, Total alarms:4 | min = 2.0, max = 7.0, median = 4.0, mode = [(4.0, 2)], mean = 4.25\n327. source:47FI2027, Total alarms:3 | min = 7.0, max = 105.0, median = 62.0, mode = [(7.0, 1)], mean = 58.0\n328. source:47TI3102, Total alarms:3 | min = 297.0, max = 246605.0, median = 460.0, mode = [(297.0, 1)], mean = 82454.0\n329. source:47TIC1501, Total alarms:3 | min = 371.0, max = 822058.0, median = 7401.0, mode = [(371.0, 1)], mean = 276610.0\n330. source:47FIC035, Total alarms:3 | min = 1.0, max = 331832.0, median = 78.0, mode = [(1.0, 1)], mean = 110637.0\n331. source:47PAL620-ANN, Total alarms:3 | min = 3.0, max = 250036.0, median = 5.0, mode = [(3.0, 1)], mean = 83348.0\n332. source:47FIC011, Total alarms:3 | min = 7.0, max = 1743.0, median = 70.0, mode = [(7.0, 1)], mean = 606.667\n333. source:47EM304D-ANN, Total alarms:2 | min = 167176.0, max = 270683.0, median = 218929.5, mode = [(167176.0, 1)], mean = 218929.5\n334. source:47HIC1573, Total alarms:3 | min = 6.0, max = 10.0, median = 7.0, mode = [(6.0, 1)], mean = 7.667\n335. source:47FI2002, Total alarms:2 | min = 10436.0, max = 181302.0, median = 95869.0, mode = [(10436.0, 1)], mean = 95869.0\n336. source:47FIC021, Total alarms:2 | min = 618.0, max = 895.0, median = 756.5, mode = [(618.0, 1)], mean = 756.5\n337. source:47TI436, Total alarms:2 | min = 37067.0, max = 364413.0, median = 200740.0, mode = [(37067.0, 1)], mean = 200740.0\n338. source:47HSD-006HH-ANN, Total alarms:3 | min = 76.0, max = 3454.0, median = 375.0, mode = [(76.0, 1)], mean = 1301.667\n339. source:47AAH301-ANN, Total alarms:3 | min = 193.0, max = 266.0, median = 236.0, mode = [(193.0, 1)], mean = 231.667\n340. source:TEST_FIC2065, Total alarms:3 | min = 25.0, max = 62.0, median = 41.0, mode = [(25.0, 1)], mean = 42.667\n341. source:47PDI3315, Total alarms:2 | min = 74.0, max = 252.0, median = 163.0, mode = [(74.0, 1)], mean = 163.0\n342. source:47TI134, Total alarms:2 | min = 23335.0, max = 2007695.0, median = 1015515.0, mode = [(23335.0, 1)], mean = 1015515.0\n343. source:47TI1722, Total alarms:2 | min = 262.0, max = 1461.0, median = 861.5, mode = [(262.0, 1)], mean = 861.5\n344. source:47TI017, Total alarms:2 | min = 48.0, max = 1911086.0, median = 955567.0, mode = [(48.0, 1)], mean = 955567.0\n345. source:47PI2100, Total alarms:2 | min = 3364.0, max = 1467304.0, median = 735334.0, mode = [(3364.0, 1)], mean = 735334.0\n346. source:47FSL014-ANN, Total alarms:2 | min = 1.0, max = 465980.0, median = 232990.5, mode = [(1.0, 1)], mean = 232990.5\n347. source:19TI105, Total alarms:2 | min = 15285.0, max = 1307302.0, median = 661293.5, mode = [(15285.0, 1)], mean = 661293.5\n348. source:47PI2022, Total alarms:2 | min = 3650.0, max = 404049.0, median = 203849.5, mode = [(3650.0, 1)], mean = 203849.5\n349. source:47TI414I, Total alarms:2 | min = 376.0, max = 15908.0, median = 8142.0, mode = [(376.0, 1)], mean = 8142.0\n350. source:48FALL006-ANN, Total alarms:2 | min = 746.0, max = 93219.0, median = 46982.5, mode = [(746.0, 1)], mean = 46982.5\n351. source:48FI012, Total alarms:2 | min = 695.0, max = 93062.0, median = 46878.5, mode = [(695.0, 1)], mean = 46878.5\n352. source:48PALL001-ANN, Total alarms:2 | min = 309.0, max = 92581.0, median = 46445.0, mode = [(309.0, 1)], mean = 46445.0\n353. source:48FIX008, Total alarms:2 | min = 751.0, max = 93221.0, median = 46986.0, mode = [(751.0, 1)], mean = 46986.0\n354. source:48FALL002-ANN, Total alarms:2 | min = 1002.0, max = 93175.0, median = 47088.5, mode = [(1002.0, 1)], mean = 47088.5\n355. source:48FI030B, Total alarms:2 | min = 6371.0, max = 6372.0, median = 6371.5, mode = [(6371.0, 1)], mean = 6371.5\n356. source:47TI2092, Total alarms:2 | min = 164.0, max = 1261123.0, median = 630643.5, mode = [(164.0, 1)], mean = 630643.5\n357. source:47TI414P, Total alarms:2 | min = 4468.0, max = 1459079.0, median = 731773.5, mode = [(4468.0, 1)], mean = 731773.5\n358. source:47XL1538A-ANN, Total alarms:2 | min = 4056.0, max = 1568151.0, median = 786103.5, mode = [(4056.0, 1)], mean = 786103.5\n359. source:47TIC3417, Total alarms:2 | min = 1167.0, max = 256730.0, median = 128948.5, mode = [(1167.0, 1)], mean = 128948.5\n360. source:47TI3433, Total alarms:2 | min = 731.0, max = 48577.0, median = 24654.0, mode = [(731.0, 1)], mean = 24654.0\n361. source:47FIC2023, Total alarms:2 | min = 2.0, max = 2019242.0, median = 1009622.0, mode = [(2.0, 1)], mean = 1009622.0\n362. source:47APC_NS_OFF-AN, Total alarms:2 | min = 200693.0, max = 1516406.0, median = 858549.5, mode = [(200693.0, 1)], mean = 858549.5\n363. source:47APC_FRC_WD-ANN, Total alarms:2 | min = 922.0, max = 133070.0, median = 66996.0, mode = [(922.0, 1)], mean = 66996.0\n364. source:47TI414E, Total alarms:2 | min = 194.0, max = 1630172.0, median = 815183.0, mode = [(194.0, 1)], mean = 815183.0\n365. source:47PIC1713, Total alarms:2 | min = 1845.0, max = 1845.0, median = 1845.0, mode = [(1845.0, 2)], mean = 1845.0\n366. source:47FLI-033, Total alarms:2 | min = 1811.0, max = 1811.0, median = 1811.0, mode = [(1811.0, 2)], mean = 1811.0\n367. source:48HA031-ANN, Total alarms:1 | min = 336.0, max = 336.0, median = 336.0, mode = [(336.0, 1)], mean = 336.0\n368. source:47G17A-ANN, Total alarms:1 | min = 215.0, max = 215.0, median = 215.0, mode = [(215.0, 1)], mean = 215.0\n369. source:47APC_NS_ON-ANN, Total alarms:2 | min = 1.0, max = 1313967.0, median = 656984.0, mode = [(1.0, 1)], mean = 656984.0\n370. source:47TI3418, Total alarms:2 | min = 844.0, max = 924.0, median = 884.0, mode = [(844.0, 1)], mean = 884.0\n371. source:47LIC2017, Total alarms:2 | min = 37.0, max = 21233.0, median = 10635.0, mode = [(37.0, 1)], mean = 10635.0\n372. source:47TI2076, Total alarms:2 | min = 2484.0, max = 5594.0, median = 4039.0, mode = [(2484.0, 1)], mean = 4039.0\n373. source:47TIC274, Total alarms:2 | min = 924.0, max = 167011.0, median = 83967.5, mode = [(924.0, 1)], mean = 83967.5\n374. source:47LIC1504, Total alarms:2 | min = 484.0, max = 85779.0, median = 43131.5, mode = [(484.0, 1)], mean = 43131.5\n375. source:47LI1512, Total alarms:2 | min = 202.0, max = 133307.0, median = 66754.5, mode = [(202.0, 1)], mean = 66754.5\n376. source:47TI275, Total alarms:2 | min = 24430.0, max = 525344.0, median = 274887.0, mode = [(24430.0, 1)], mean = 274887.0\n377. source:47AI005, Total alarms:2 | min = 26350.0, max = 716230.0, median = 371290.0, mode = [(26350.0, 1)], mean = 371290.0\n378. source:47TI442, Total alarms:2 | min = 845.0, max = 57002.0, median = 28923.5, mode = [(845.0, 1)], mean = 28923.5\n379. source:47FLI-032, Total alarms:2 | min = 10.0, max = 10.0, median = 10.0, mode = [(10.0, 2)], mean = 10.0\n380. source:47PDAH624-ANN, Total alarms:2 | min = 1.0, max = 250040.0, median = 125020.5, mode = [(1.0, 1)], mean = 125020.5\n381. source:47PAL621-ANN, Total alarms:2 | min = 4.0, max = 249915.0, median = 124959.5, mode = [(4.0, 1)], mean = 124959.5\n382. source:47PI1517ABC, Total alarms:2 | min = 165.0, max = 343.0, median = 254.0, mode = [(165.0, 1)], mean = 254.0\n383. source:47PI055, Total alarms:2 | min = 131.0, max = 9216.0, median = 4673.5, mode = [(131.0, 1)], mean = 4673.5\n384. source:47XL1557A-ANN, Total alarms:2 | min = 12071.0, max = 166540.0, median = 89305.5, mode = [(12071.0, 1)], mean = 89305.5\n385. source:47TI611, Total alarms:2 | min = 162.0, max = 291.0, median = 226.5, mode = [(162.0, 1)], mean = 226.5\n386. source:47PI707ABC, Total alarms:2 | min = 499.0, max = 499.0, median = 499.0, mode = [(499.0, 2)], mean = 499.0\n387. source:47XL1567-ANN, Total alarms:2 | min = 16924.0, max = 75305.0, median = 46114.5, mode = [(16924.0, 1)], mean = 46114.5\n388. source:47PI053ABC, Total alarms:2 | min = 0.0, max = 78162.0, median = 39081.0, mode = [(0.0, 1)], mean = 39081.0\n389. source:47EM304B-ANN, Total alarms:1 | min = 55665.0, max = 55665.0, median = 55665.0, mode = [(55665.0, 1)], mean = 55665.0\n390. source:47FI2010BCD, Total alarms:2 | min = 16135.0, max = 16135.0, median = 16135.0, mode = [(16135.0, 2)], mean = 16135.0\n391. source:47XL3602-ANN, Total alarms:1 | min = 79658.0, max = 79658.0, median = 79658.0, mode = [(79658.0, 1)], mean = 79658.0\n392. source:47HSD-005HH-ANN, Total alarms:2 | min = 19.0, max = 143.0, median = 81.0, mode = [(19.0, 1)], mean = 81.0\n393. source:47FIC1527, Total alarms:2 | min = 5.0, max = 437.0, median = 221.0, mode = [(5.0, 1)], mean = 221.0\n394. source:47XL1557C-ANN, Total alarms:1 | min = 1110108.0, max = 1110108.0, median = 1110108.0, mode = [(1110108.0, 1)], mean = 1110108.0\n395. source:47XA1508-ANN, Total alarms:1 | min = 47980.0, max = 47980.0, median = 47980.0, mode = [(47980.0, 1)], mean = 47980.0\n396. source:19G402, Total alarms:2 | min = 11.0, max = 13.0, median = 12.0, mode = [(11.0, 1)], mean = 12.0\n397. source:47FALL2010-ANN, Total alarms:2 | min = 82.0, max = 2444.0, median = 1263.0, mode = [(82.0, 1)], mean = 1263.0\n398. source:47TI260, Total alarms:1 | min = 73.0, max = 73.0, median = 73.0, mode = [(73.0, 1)], mean = 73.0\n399. source:TEST2_FIC2065, Total alarms:1 | min = 140.0, max = 140.0, median = 140.0, mode = [(140.0, 1)], mean = 140.0\n400. source:47EM306A-ANN, Total alarms:1 | min = 422684.0, max = 422684.0, median = 422684.0, mode = [(422684.0, 1)], mean = 422684.0\n401. source:47PDI709, Total alarms:1 | min = 7.0, max = 7.0, median = 7.0, mode = [(7.0, 1)], mean = 7.0\n402. source:47XL1529-ANN, Total alarms:1 | min = 20.0, max = 20.0, median = 20.0, mode = [(20.0, 1)], mean = 20.0\n403. source:47FI3016, Total alarms:2 | min = 1.0, max = 2.0, median = 1.5, mode = [(1.0, 1)], mean = 1.5\n404. source:47TI008, Total alarms:1 | min = 51031.0, max = 51031.0, median = 51031.0, mode = [(51031.0, 1)], mean = 51031.0\n405. source:47XL2022-ANN, Total alarms:1 | min = 19575.0, max = 19575.0, median = 19575.0, mode = [(19575.0, 1)], mean = 19575.0\n406. source:47FALL2020-ANN, Total alarms:1 | min = 4.0, max = 4.0, median = 4.0, mode = [(4.0, 1)], mean = 4.0\n407. source:47FI1016, Total alarms:1 | min = 26.0, max = 26.0, median = 26.0, mode = [(26.0, 1)], mean = 26.0\n408. source:47TI002, Total alarms:1 | min = 24953.0, max = 24953.0, median = 24953.0, mode = [(24953.0, 1)], mean = 24953.0\n409. source:48TIC034-ANN, Total alarms:1 | min = 6462.0, max = 6462.0, median = 6462.0, mode = [(6462.0, 1)], mean = 6462.0\n410. source:48TI023, Total alarms:1 | min = 12634.0, max = 12634.0, median = 12634.0, mode = [(12634.0, 1)], mean = 12634.0\n411. source:48TAHH035-ANN, Total alarms:1 | min = 74.0, max = 74.0, median = 74.0, mode = [(74.0, 1)], mean = 74.0\n412. source:47LI011, Total alarms:1 | min = 4490.0, max = 4490.0, median = 4490.0, mode = [(4490.0, 1)], mean = 4490.0\n413. source:47APC_FRC_OFF-AN, Total alarms:1 | min = 134611.0, max = 134611.0, median = 134611.0, mode = [(134611.0, 1)], mean = 134611.0\n414. source:47PIC1507, Total alarms:1 | min = 540.0, max = 540.0, median = 540.0, mode = [(540.0, 1)], mean = 540.0\n415. source:47APC_NS_WD-ANN, Total alarms:1 | min = 200149.0, max = 200149.0, median = 200149.0, mode = [(200149.0, 1)], mean = 200149.0\n416. source:47G17B-ANN, Total alarms:1 | min = 1546455.0, max = 1546455.0, median = 1546455.0, mode = [(1546455.0, 1)], mean = 1546455.0\n417. source:47FD-033F-ANN, Total alarms:1 | min = 49278.0, max = 49278.0, median = 49278.0, mode = [(49278.0, 1)], mean = 49278.0\n418. source:01XA049-ANN, Total alarms:1 | min = 45997.0, max = 45997.0, median = 45997.0, mode = [(45997.0, 1)], mean = 45997.0\n419. source:47TI2094, Total alarms:1 | min = 159.0, max = 159.0, median = 159.0, mode = [(159.0, 1)], mean = 159.0\n420. source:47XL3109-ANN, Total alarms:1 | min = 3620.0, max = 3620.0, median = 3620.0, mode = [(3620.0, 1)], mean = 3620.0\n421. source:47TI2111, Total alarms:1 | min = 3.0, max = 3.0, median = 3.0, mode = [(3.0, 1)], mean = 3.0\n422. source:47FIC1535, Total alarms:1 | min = 3.0, max = 3.0, median = 3.0, mode = [(3.0, 1)], mean = 3.0\n423. source:47PI2019, Total alarms:1 | min = 516.0, max = 516.0, median = 516.0, mode = [(516.0, 1)], mean = 516.0\n424. source:47HCD-004H-ANN, Total alarms:1 | min = 53.0, max = 53.0, median = 53.0, mode = [(53.0, 1)], mean = 53.0\n425. source:47HCD-044H-ANN, Total alarms:1 | min = 46.0, max = 46.0, median = 46.0, mode = [(46.0, 1)], mean = 46.0\n426. source:47TDI3313, Total alarms:1 | min = 1614.0, max = 1614.0, median = 1614.0, mode = [(1614.0, 1)], mean = 1614.0\n427. source:47APC_FRC_ON-ANN, Total alarms:1 | min = 1.0, max = 1.0, median = 1.0, mode = [(1.0, 1)], mean = 1.0\n428. source:47TI3415, Total alarms:1 | min = 856.0, max = 856.0, median = 856.0, mode = [(856.0, 1)], mean = 856.0\n429. source:47XL2016A-ANN, Total alarms:1 | min = 72922.0, max = 72922.0, median = 72922.0, mode = [(72922.0, 1)], mean = 72922.0\n430. source:47AIT2013, Total alarms:1 | min = 84153.0, max = 84153.0, median = 84153.0, mode = [(84153.0, 1)], mean = 84153.0\n431. source:47LIC1551, Total alarms:1 | min = 958.0, max = 958.0, median = 958.0, mode = [(958.0, 1)], mean = 958.0\n432. source:47PI861, Total alarms:1 | min = 17261.0, max = 17261.0, median = 17261.0, mode = [(17261.0, 1)], mean = 17261.0\n433. source:47TI010, Total alarms:1 | min = 658.0, max = 658.0, median = 658.0, mode = [(658.0, 1)], mean = 658.0\n434. source:47AI2008, Total alarms:1 | min = 133.0, max = 133.0, median = 133.0, mode = [(133.0, 1)], mean = 133.0\n435. source:47PI1517B, Total alarms:1 | min = 223.0, max = 223.0, median = 223.0, mode = [(223.0, 1)], mean = 223.0\n436. source:47PI1517C, Total alarms:1 | min = 238.0, max = 238.0, median = 238.0, mode = [(238.0, 1)], mean = 238.0\n437. source:47PI1517A, Total alarms:1 | min = 74.0, max = 74.0, median = 74.0, mode = [(74.0, 1)], mean = 74.0\n438. source:47TIC009, Total alarms:1 | min = 1464.0, max = 1464.0, median = 1464.0, mode = [(1464.0, 1)], mean = 1464.0\n439. source:47PIC029, Total alarms:1 | min = 1752.0, max = 1752.0, median = 1752.0, mode = [(1752.0, 1)], mean = 1752.0\n440. source:47PDAH625-ANN, Total alarms:1 | min = 0.0, max = 0.0, median = 0.0, mode = [(0.0, 1)], mean = 0.0\n441. source:47PDAH619-ANN, Total alarms:1 | min = 0.0, max = 0.0, median = 0.0, mode = [(0.0, 1)], mean = 0.0\n442. source:47PDAHH619-ANN, Total alarms:1 | min = 0.0, max = 0.0, median = 0.0, mode = [(0.0, 1)], mean = 0.0\n443. source:47PI604, Total alarms:1 | min = 1.0, max = 1.0, median = 1.0, mode = [(1.0, 1)], mean = 1.0\n444. source:47XL603-ANN, Total alarms:1 | min = 249918.0, max = 249918.0, median = 249918.0, mode = [(249918.0, 1)], mean = 249918.0\n445. source:47XL605-ANN, Total alarms:1 | min = 249912.0, max = 249912.0, median = 249912.0, mode = [(249912.0, 1)], mean = 249912.0\n446. source:47XL601-ANN, Total alarms:1 | min = 250076.0, max = 250076.0, median = 250076.0, mode = [(250076.0, 1)], mean = 250076.0\n447. source:47XL1537-ANN, Total alarms:1 | min = 1082259.0, max = 1082259.0, median = 1082259.0, mode = [(1082259.0, 1)], mean = 1082259.0\n448. source:47XL017C-ANN, Total alarms:1 | min = 221152.0, max = 221152.0, median = 221152.0, mode = [(221152.0, 1)], mean = 221152.0\n449. source:47XL017H-ANN, Total alarms:1 | min = 17471.0, max = 17471.0, median = 17471.0, mode = [(17471.0, 1)], mean = 17471.0\n450. source:47TI1529, Total alarms:1 | min = 21979.0, max = 21979.0, median = 21979.0, mode = [(21979.0, 1)], mean = 21979.0\n451. source:47TI414O, Total alarms:1 | min = 273.0, max = 273.0, median = 273.0, mode = [(273.0, 1)], mean = 273.0\n452. source:47TI808, Total alarms:1 | min = 20780.0, max = 20780.0, median = 20780.0, mode = [(20780.0, 1)], mean = 20780.0\n453. source:47EM304C-ANN, Total alarms:1 | min = 30276.0, max = 30276.0, median = 30276.0, mode = [(30276.0, 1)], mean = 30276.0\n454. source:47PI1512BCD, Total alarms:1 | min = 0.0, max = 0.0, median = 0.0, mode = [(0.0, 1)], mean = 0.0\n455. source:47FI1001, Total alarms:1 | min = 4.0, max = 4.0, median = 4.0, mode = [(4.0, 1)], mean = 4.0\n456. source:47LIC008, Total alarms:1 | min = 289.0, max = 289.0, median = 289.0, mode = [(289.0, 1)], mean = 289.0\n457. source:47EM304A-ANN, Total alarms:1 | min = 18802.0, max = 18802.0, median = 18802.0, mode = [(18802.0, 1)], mean = 18802.0\n458. source:47FFAL2012-ANN, Total alarms:1 | min = 1.0, max = 1.0, median = 1.0, mode = [(1.0, 1)], mean = 1.0\nNote: All the stats are in secods\n"
    }
   ],
   "source": [
    "i = 0\n",
    "for key in source_conditions.keys():\n",
    "    d = source_conditions[key]  \n",
    "    print(\"{}. Source: {}, # of activations= {}, # of deactivations = {}, Diff = {}\".format(i,key, d[\"Total\"]-d[\"Recover\"], d[\"Recover\"], (d[\"Total\"]-d[\"Recover\"])-d[\"Recover\"]))\n",
    "    i += 1\n",
    "#     if i > 4:\n",
    "#         break\n",
    "\n",
    "print (\"==================================================================================\")\n",
    "i = 1\n",
    "for sname in source_conditions.keys():\n",
    "#     sname = \"48TIC2026\"\n",
    "#     if i > 10: \n",
    "#         break \n",
    "    alarms = sources[sname]\n",
    "    _, stats = getDurationAndStats(alarms)\n",
    "    if stats == None:\n",
    "        continue\n",
    "    print(\"{}. source:{}, Total alarms:{} | min = {}, max = {}, median = {}, mode = {}, mean = {}\".format(i,sname,len(stats[\"timedeltas\"]) ,stats[\"min\"], stats[\"max\"], stats[\"median\"], stats[\"mode\"], stats[\"mean\"]))\n",
    "    i += 1\n",
    "print(\"Note: All the stats are in secods\")"
   ]
  },
  {
   "cell_type": "markdown",
   "metadata": {},
   "source": [
    "# Exporintg results to csv including communication alarms (IOPs)\n"
   ]
  },
  {
   "cell_type": "code",
   "execution_count": 12,
   "metadata": {},
   "outputs": [],
   "source": [
    "import calendar\n",
    "\n",
    "csv = {\"SourceName\":[],\"StartTime\":[], \"EndTime\": [] , \"Message\" : [], \"RecoveryMessage\":[] ,\"Quality\": [],\"Condition\":[],\"Mask\":[],\"NewState\": [],\"Status\": [],\"TimeDelta\": []} \n",
    "\n",
    "csv[\"Year\"]= []\n",
    "csv[\"Month\"] = []\n",
    "csv[\"MonthDay\"] = []\n",
    "csv[\"WeekDay\"] = []\n",
    "csv[\"Time\"]= []\n",
    "csv[\"Hour\"] = []\n",
    "csv[\"Minute\"] = []\n",
    "d = None\n",
    "i = 1\n",
    "\n",
    "for sname in source_conditions.keys():\n",
    "#     sname = \"48TIC2026\"\n",
    "# Break to get top 10\n",
    "#     if i > 10: \n",
    "#         break\n",
    "#     i += 1    \n",
    "\n",
    "#     sname = \"48TIC2026\"\n",
    "\n",
    "    alarms = sources[sname]\n",
    "    alarms,stats = getDurationAndStats(alarms)\n",
    "    if alarms == None:\n",
    "        continue\n",
    "\n",
    "    for alarm in alarms:\n",
    "        d = alarm[\"StartTime\"]\n",
    "        csv[\"SourceName\"].append(alarm[\"SourceName\"]) \n",
    "        csv[\"StartTime\"].append(alarm[\"StartTime\"]) \n",
    "        csv[\"EndTime\"].append(alarm[\"EndTime\"])\n",
    "        csv[\"TimeDelta\"].append(timedelta.total_seconds (alarm[\"EndTime\"]-alarm[\"StartTime\"]))\n",
    "        csv[\"Message\"].append(alarm[\"Message\"])\n",
    "        csv[\"RecoveryMessage\"].append(alarm[\"EndMessage\"])\n",
    "        csv[\"Quality\"].append(alarm[\"Quality\"])\n",
    "        csv[\"Condition\"].append(alarm[\"Condition\"])\n",
    "        csv[\"Mask\"].append(alarm[\"Mask\"])\n",
    "        csv[\"NewState\"].append(alarm[\"NewState\"])\n",
    "        csv[\"Status\"].append(alarm[\"Status\"])\n",
    "        csv[\"Year\"].append(d.year)\n",
    "        csv[\"Month\"].append(d.month)\n",
    "        csv[\"MonthDay\"].append(d.day)\n",
    "        csv[\"WeekDay\"].append(calendar.day_name[d.weekday()])\n",
    "        csv[\"Time\"].append(d.strftime(\"%H:%M\"))\n",
    "        csv[\"Hour\"].append(d.hour)\n",
    "        csv[\"Minute\"].append(d.minute)\n"
   ]
  },
  {
   "cell_type": "code",
   "execution_count": 13,
   "metadata": {},
   "outputs": [
    {
     "output_type": "stream",
     "name": "stdout",
     "text": "Total Entries : 633568\n"
    }
   ],
   "source": [
    "print(\"Total Entries :\", len(csv[\"Status\"]))\n",
    "data = pd.DataFrame(csv)\n",
    "data.to_csv(path + output_fname, index = False)\n"
   ]
  },
  {
   "cell_type": "markdown",
   "metadata": {},
   "source": [
    "# Exporintg results to csv withiout communication alarms (IOPs)"
   ]
  },
  {
   "cell_type": "code",
   "execution_count": 14,
   "metadata": {},
   "outputs": [],
   "source": [
    "\n",
    "# csv = {\"SourceName\":[],\"StartTime\":[], \"EndTime\": [] , \"Message\" : [], \"RecoveryMessage\":[] ,\"Quality\": [],\"Condition\":[],\"Mask\":[],\"NewState\": [],\"Status\": [],\"TimeDelta\": []} \n",
    "\n",
    "# csv[\"Year\"]= []\n",
    "# csv[\"Month\"] = []\n",
    "# csv[\"MonthDay\"] = []\n",
    "# csv[\"WeekDay\"] = []\n",
    "# csv[\"Time\"]= []\n",
    "# csv[\"Hour\"] = []\n",
    "# csv[\"Minute\"] = []\n",
    "# d = None\n",
    "# i = 1\n",
    "# for sname in source_conditions.keys():\n",
    "\n",
    "# # Break to get top 10\n",
    "#     if i > 10: \n",
    "#         break\n",
    "#     i += 1    \n",
    "\n",
    "# #     sname = \"48TIC2026\"\n",
    "\n",
    "#     alarms = sources[sname]\n",
    "#     alarms,stats = getDurationAndStats(alarms)\n",
    "#     if alarms == None:\n",
    "#         continue\n",
    "\n",
    "#     for alarm in alarms:\n",
    "#         if alarm[\"Condition\"] == \"IOP\" or alarm[\"Condition\"] == \"IOP-\":\n",
    "#             continue\n",
    "#         d = alarm[\"StartTime\"]\n",
    "#         csv[\"SourceName\"].append(alarm[\"SourceName\"]) \n",
    "#         csv[\"StartTime\"].append(alarm[\"StartTime\"]) \n",
    "#         csv[\"EndTime\"].append(alarm[\"EndTime\"])\n",
    "#         csv[\"TimeDelta\"].append(timedelta.total_seconds (alarm[\"EndTime\"]-alarm[\"StartTime\"]))\n",
    "#         csv[\"Message\"].append(alarm[\"Message\"])\n",
    "#         csv[\"RecoveryMessage\"].append(alarm[\"EndMessage\"])\n",
    "#         csv[\"Quality\"].append(alarm[\"Quality\"])\n",
    "#         csv[\"Condition\"].append(alarm[\"Condition\"])\n",
    "#         csv[\"Mask\"].append(alarm[\"Mask\"])\n",
    "#         csv[\"NewState\"].append(alarm[\"NewState\"])\n",
    "#         csv[\"Status\"].append(alarm[\"Status\"])\n",
    "#         csv[\"Year\"].append(d.year)\n",
    "#         csv[\"Month\"].append(d.month)\n",
    "#         csv[\"MonthDay\"].append(d.day)\n",
    "#         csv[\"WeekDay\"].append(calendar.day_name[d.weekday()])\n",
    "#         csv[\"Time\"].append(d.strftime(\"%H:%M\"))\n",
    "#         csv[\"Hour\"].append(d.hour)\n",
    "#         csv[\"Minute\"].append(d.minute)\n",
    "\n",
    "\n",
    "# print(\"Total Entries written in to CSV :\", len(csv[\"Status\"]))\n",
    "# data = pd.DataFrame(csv)\n",
    "# data.to_csv(\"./data/stats-without-IOPs.csv\", index = False)"
   ]
  },
  {
   "cell_type": "code",
   "execution_count": null,
   "metadata": {},
   "outputs": [],
   "source": []
  }
 ],
 "metadata": {
  "file_extension": ".py",
  "kernelspec": {
   "display_name": "Python 3.8.2 64-bit ('tupras': conda)",
   "language": "python",
   "name": "python38264bittuprasconda3988b302017c4d4b930c45df4dcda140"
  },
  "language_info": {
   "codemirror_mode": {
    "name": "ipython",
    "version": 3
   },
   "file_extension": ".py",
   "mimetype": "text/x-python",
   "name": "python",
   "nbconvert_exporter": "python",
   "pygments_lexer": "ipython3",
   "version": "3.7.7-final"
  },
  "mimetype": "text/x-python",
  "name": "python",
  "npconvert_exporter": "python",
  "pygments_lexer": "ipython3",
  "version": 3
 },
 "nbformat": 4,
 "nbformat_minor": 4
}