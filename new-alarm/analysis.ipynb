{
 "cells": [
  {
   "cell_type": "code",
   "execution_count": null,
   "metadata": {},
   "outputs": [],
   "source": [
    "import os\n",
    "from alarms import *\n",
    "print(pio.renderers)"
   ]
  },
  {
   "cell_type": "markdown",
   "metadata": {},
   "source": [
    "### Enter Input Variables to the script"
   ]
  },
  {
   "cell_type": "code",
   "execution_count": null,
   "metadata": {},
   "outputs": [],
   "source": [
    "input_fname = \"formatted-pre-2-haziran2019.csv\"\n",
    "include_iops = True\n",
    "num_top_sensors = 15 # include the sensors top x sensors which trigger most alarms\n",
    "num_top_conditions = 10\n",
    "chatter_filter = 100 # only consider those sources in which chattering happend more than these many times "
   ]
  },
  {
   "cell_type": "code",
   "execution_count": null,
   "metadata": {},
   "outputs": [],
   "source": [
    "path = \"./data/new/\"\n",
    "df = pd.read_csv(path + input_fname,low_memory=False, parse_dates = [\"StartTime\", \"EndTime\"])\n",
    "# print(\"Before:\",df[\"SourceName\"].unique())\n",
    "maskSourceNames(df)\n",
    "# print(\"After:\",df[\"SourceName\"].unique())\n",
    "df[\"Time\"] = df[\"Time\"].apply(lambda d: datetime.strptime(d,\"%H:%M\").time())\n",
    "df.head(5)"
   ]
  },
  {
   "cell_type": "code",
   "execution_count": null,
   "metadata": {},
   "outputs": [],
   "source": [
    "df.info()"
   ]
  },
  {
   "cell_type": "markdown",
   "metadata": {},
   "source": [
    "### Selecting the Sensors which trigger most number of alarms"
   ]
  },
  {
   "cell_type": "code",
   "execution_count": null,
   "metadata": {},
   "outputs": [],
   "source": [
    "temp_s = df['SourceName'].value_counts()\n",
    "# temp_s,temp_s.keys()[:10], temp_s.values[:10],\n",
    "top_sources = temp_s.keys()[:num_top_sensors]\n",
    "df_of_top_x_sensors = df.loc[df['SourceName'].isin(top_sources)]\n",
    "df_of_top_x_sensors.shape,df.shape, df.shape[0]-df_of_top_x_sensors.shape[0],temp_s"
   ]
  },
  {
   "cell_type": "markdown",
   "metadata": {},
   "source": [
    "### Selecting top conditions which occured most of the time in alarms"
   ]
  },
  {
   "cell_type": "code",
   "execution_count": null,
   "metadata": {},
   "outputs": [],
   "source": [
    "\n",
    "temp_s = df['Condition'].value_counts()\n",
    "top_conditions = temp_s.keys()[:num_top_conditions]\n",
    "df_of_top_x_conditions = df.loc[df['Condition'].isin(top_conditions)]\n",
    "df_of_top_x_conditions.shape,df.shape, df.shape[0]-df_of_top_x_conditions.shape[0],temp_s\n"
   ]
  },
  {
   "cell_type": "markdown",
   "metadata": {},
   "source": [
    "# StartTime \n",
    "\n",
    "The following graph shows all the alarms triggered in this dataset. The x-axis represents the activation time of an alarm, and the y-axis shows the duration (i.e., TimeDelta= StartTime - EndTime) of the corresponding activation. As we can see that most of the alarms deactivated within 20 seconds (it will be more clear in followings sections)."
   ]
  },
  {
   "cell_type": "code",
   "execution_count": null,
   "metadata": {},
   "outputs": [],
   "source": [
    "fig = px.scatter(df, x=\"StartTime\", y=\"TimeDelta\",render_mode=\"webgl\")\n",
    "fig.show(renderer=\"png\")"
   ]
  },
  {
   "cell_type": "markdown",
   "metadata": {},
   "source": [
    "# Box Plot of  TimeDelta for all alarms\n",
    "This is one of the most important box plots in the whole analysis. It will help us to determine the threshold for TimeDelta. If the duration between activation and deactivation (i.e., TimeDelta = Deactivation - Activation) is less than the threshold then we will not transmit such alarm to the historian. From the following box plot, we can see that the first quartile (q1) is equal to 16 seconds which means if we set the threshold constant equals to 16 seconds we will directly reduce 25% of the communications between the DCS systems and Historian server. Similarly, if we set threshold constant to 29 seconds (i.e., q2 or median value) the 50 % of the storage & and communication will be reduced.  \n",
    "**Questions:**\n",
    "* We need more data to determine the threshold constant value. Can I get more data of the same plant? For example, 1 year or  6 months.\n",
    "* Can I choose threshold value equals to 29 seconds?\n",
    "\n",
    "**Note: If hover the mouse over any graph it will show the values.**"
   ]
  },
  {
   "cell_type": "code",
   "execution_count": null,
   "metadata": {
    "scrolled": true
   },
   "outputs": [],
   "source": [
    "fig = px.box(df, y=\"TimeDelta\")\n",
    "fig.update_yaxes(range=[0,200])\n",
    "fig.update_yaxes(title_text='Alarm activation duration (seconds)')\n",
    "fig.show(renderer=\"png\")"
   ]
  },
  {
   "cell_type": "markdown",
   "metadata": {},
   "source": [
    "# SourceName Analysis\n",
    "\n",
    "From the first histograms, we can see that \"47TI931\" triggered the most number of alarms. Additionally, all the alarms are related to “IOP” condition. \n",
    "\n",
    "**Questions** \n",
    "* Why so many communications problems occur? Is it normal?\n"
   ]
  },
  {
   "cell_type": "code",
   "execution_count": null,
   "metadata": {},
   "outputs": [],
   "source": [
    "fig = px.histogram(df_of_top_x_sensors, x = \"SourceName\")\n",
    "fig.update_xaxes(title_text='Source Name')\n",
    "fig.update_yaxes(title_text='# of triggered alarms')\n",
    "fig.show(renderer=\"png\")\n",
    "\n",
    "# fig = px.histogram(df, x = \"SourceName\", color=\"Condition\",  barmode='group')\n",
    "# fig.update_layout(title=\"Number of times a condition occured for a SourceName.\")\n",
    "# fig.show()\n",
    "\n",
    "fig = px.box(df_of_top_x_sensors, x= \"SourceName\", y=\"TimeDelta\",notched=True)\n",
    "fig.update_yaxes(range=[0, 200], title_text='Alarm activation duration (seconds)')\n",
    "fig.update_xaxes(title_text='Source Name')\n",
    "# fig.update_layout(title=\"Box Plot of TimeDelats (Deactivaion - Activation) for each SourceName\")\n",
    "fig.show(renderer=\"png\")\n",
    "# fig.show(renderer=\"png\")\n"
   ]
  },
  {
   "cell_type": "markdown",
   "metadata": {},
   "source": [
    "# Conditions Analysis\n",
    "\n",
    "As we can see from the following graphs, the most frequent alarms are related to communication problems. For instance, IOP condition occurred more 191 thousand time. Additionally, from the box plot, we can see that that durations (i.e., timedelta = deactivation time - activation time)  of IOP alarms are shorter.\n",
    "\n",
    "**Conclusion:** IOP communications can discard easily as it just represent only the communication issue between the field device and the DCS system. So if we discard such alarms we reduce the communication between the DCS system and historian server to a few hundreds instead of thousands. \n",
    "\n",
    "**Questions:**\n",
    "* Why the Vel+ and Vel- conditions are lesser than compared to other conditions? Because they were the most in 1-day data (old data). Is it normal?\n",
    "* Whether my conclusion is correct or not? \n"
   ]
  },
  {
   "cell_type": "code",
   "execution_count": null,
   "metadata": {},
   "outputs": [],
   "source": [
    "fig = px.histogram(df, x = \"Condition\")\n",
    "fig.update_xaxes(title_text='Condition')\n",
    "fig.update_yaxes(title_text='# of triggered alarms related to a condition')\n",
    "fig.show(renderer=\"png\")\n",
    "\n",
    "\n",
    "# No need to use top_x_conditions .. \n",
    "fig = px.box(df, x= \"Condition\", y=\"TimeDelta\")\n",
    "fig.update_yaxes(range=[0, 1000], title_text='Alarm activation duration (seconds)')\n",
    "fig.show(renderer=\"png\")"
   ]
  },
  {
   "cell_type": "markdown",
   "metadata": {},
   "source": [
    "### Condtions Occuring on each day of Week"
   ]
  },
  {
   "cell_type": "code",
   "execution_count": null,
   "metadata": {},
   "outputs": [],
   "source": [
    "fig = px.histogram(df, x=\"WeekDay\", color=\"Condition\",  barmode='group')\n",
    "fig.show(renderer=\"png\")"
   ]
  },
  {
   "cell_type": "code",
   "execution_count": null,
   "metadata": {},
   "outputs": [],
   "source": [
    "# sources = {} # contains each unique sourcename as key and corresponding alarms in a list\n",
    "# for sname in df[\"SourceName\"].unique():\n",
    "#     sources[sname] =  []\n",
    "# temp_dict = None\n",
    "# for i in range(df.shape[0]):\n",
    "#     temp_dict = {}\n",
    "#     for key in df.columns:\n",
    "#         temp_dict[key] = df[key][i]\n",
    "#     sources[df[\"SourceName\"][i]].append(temp_dict)"
   ]
  },
  {
   "cell_type": "code",
   "execution_count": null,
   "metadata": {},
   "outputs": [],
   "source": [
    "# temp =  df.loc[df['SourceName'].isin([\"S1\"])]\n",
    "# len(temp.to_dict(orient=\"records\"))"
   ]
  },
  {
   "cell_type": "markdown",
   "metadata": {},
   "source": [
    "# Chattering \n",
    "If an alarm from the same source is triggered 3 times or less then such situation of chattering is considered normal.  However, from the following the histograms, we can see that thousands of alarms are triggered more than thrice in most of the sensors. For instance, consider \"47TI931A\", it chatters 6 times in a minute more than 31 thousand times. \n",
    "\n",
    "**Note:  x-axis represents the number of times an alarm chatter in the duration of one minute. The y-axis represents how many times such conditions (i.e., chatters) occur.** \n",
    "\n",
    "**Conclusion:** Such conditions (in which an alarm is triggered more than 3 times in a minute) are abnormals. So, if we detect such conditions at the edge it may help to do.... [list the usages].\n",
    " \n",
    "**Questions:** \n",
    "* Is my conclusion correct? \n",
    "* What are the use cases if we detect chatters in real-time? \n",
    "* How too much chattering effect system performance?"
   ]
  },
  {
   "cell_type": "code",
   "execution_count": null,
   "metadata": {},
   "outputs": [],
   "source": [
    "x_axis = []\n",
    "y_axis = []\n",
    "chatters = []\n",
    "total_alarms_in_all_chatters = 0\n",
    "\n",
    "\n",
    "for sname in df[\"SourceName\"].unique():\n",
    "    s_alarms =  df.loc[df['SourceName'].isin([sname])]\n",
    "    s_alarms = s_alarms.to_dict(orient=\"records\")\n",
    "    chats = findChatterings(s_alarms)\n",
    "    chatters.append((sname, len(chats.keys()), sum([d[\"count\"] for d in chats.values()])))\n",
    "    total_alarms_in_all_chatters += sum([d[\"count\"] for d in chats.values()]) \n",
    "\n",
    "chatters = list(filter(lambda arg: arg[1]>chatter_filter, chatters)) # alarms which chattered more than chatter_filter times\n",
    "print(\"check it\",chatters)\n",
    "\n",
    "\n",
    "# Graph of Percentage\n",
    "fig = make_subplots(rows=1, cols=2, column_widths=[0.3, 0.7], shared_yaxes=True,subplot_titles=(\"Chart 1\", \"Chart 2\"))\n",
    "x_axis = [\"Normal Alarms\", \"Chattering Alarms\"]\n",
    "y_axis = [df.shape[0]-total_alarms_in_all_chatters ,total_alarms_in_all_chatters]\n",
    "y_axis = list(map(lambda x: (x/df.shape[0])*100, y_axis))\n",
    "\n",
    "trace1 = go.Bar(x=x_axis, y=y_axis, text=x_axis)\n",
    "trace2 = go.Bar(x=[t[0] for t in chatters], y=[(t[2]/total_alarms_in_all_chatters)*100 for t in chatters])\n",
    "\n",
    "fig.add_trace(trace1, row=1, col=1)\n",
    "fig.add_trace(trace2, row=1, col =2)\n",
    "fig.update_layout(height=600, width=1000)\n",
    "fig.update_yaxes(title_text='% of alarms', row=1, col=1)\n",
    "fig.update_xaxes(title_text='Source Name', row=1, col=2)\n",
    "fig.show(renderer=\"png\")\n",
    "\n",
    "#Graph of Counting\n",
    "fig = make_subplots(rows=1, cols=2, column_widths=[0.3, 0.7], subplot_titles=(\"Chart 1\", \"Chart 2\") ,shared_yaxes=True)\n",
    "\n",
    "x_axis = [\"Normal Alarms\", \"Chattering Alarms\"]\n",
    "y_axis = [df.shape[0]-total_alarms_in_all_chatters ,total_alarms_in_all_chatters]\n",
    "# y_axis = list(map(lambda x: (x/df.shape[0])*100, y_axis))\n",
    "\n",
    "trace1 = go.Bar(x=x_axis, y=y_axis, text=x_axis)\n",
    "trace2 = go.Bar(x=[t[0] for t in chatters], y=[t[2] for t in chatters])\n",
    "\n",
    "fig.add_trace(trace1, row=1, col=1)\n",
    "fig.add_trace(trace2, row=1, col =2)\n",
    "fig.update_layout(height=600, width=1000)\n",
    "fig.show(renderer=\"png\")\n",
    "\n",
    "# fig = px.histogram(df, x=\"WeekDay\", color=\"Condition\",  barmode='group')\n",
    "# fig.show(renderer=\"png\")\n",
    "\n",
    "\n",
    "# check it [('S1', 40209, 537976), ('S2', 34645, 182638), ('S3', 3397, 31105), ('S4', 845, 10189), ('S5', 515, 10095), ('S6', 859, 4777), ('S7', 413, 7087), ('S8', 67, 226), ('S9', 169, 607), ('S10', 235, 1457), ('S11', 297, 1084), ('S12', 321, 2046), ('S13', 146, 565), ('S14', 209, 1346), ('S19', 83, 441), ('S20', 83, 441), ('S25', 60, 402), ('S29', 50, 225), ('S36', 34, 112)]"
   ]
  },
  {
   "cell_type": "markdown",
   "metadata": {},
   "source": [
    "# Time Between form one Deactivation to Next Activation for whole Data\n",
    "\n",
    "In this section, I tried to find the time between 1 deactivation to next activation. In ideal scenario, there should be 1 alarm per minute. However, when I took the time difference between 1 deactivation to the next activation of any alarm the difference (delta) was mostly under 10 seconds which means that a huge number alarms are generated in 1 minute.\n",
    "\n",
    "**Note: The x-axis represents the time delta (i.e., the time difference between deactivation and activation of an alarm), while the y-axis represents the frequency (count) of corresponding deltas.**\n",
    "\n",
    "**Questions:**  \n",
    "* Are my observations correct? If not please let me know what should I do to cross-check my results\n",
    "* If my observations are correct then what kind of conclusions I can draw from this graph?\n"
   ]
  },
  {
   "cell_type": "code",
   "execution_count": null,
   "metadata": {},
   "outputs": [],
   "source": [
    "alarms = df.to_dict(orient=\"records\")\n",
    "durations = frequencyOfAlarmsActivated(alarms)\n",
    "d = {}\n",
    "for v in durations:\n",
    "#     if v < 200:\n",
    "    d[v] = 0\n",
    "\n",
    "for v in durations:\n",
    "#     if v < 200:\n",
    "    d[v] +=1\n",
    "\n",
    "counts = [v for v in d.values()]\n",
    "deltas = [k for k in d.keys()]\n",
    "\n",
    "for delta in sorted(d.keys()):\n",
    "    print((delta, d[delta]), end=\" \")\n",
    "# (0.0, 404001) (1.0, 142133) (2.0, 171784) (3.0, 58800) (4.0, 52553) (5.0, 31374) (6.0, 21085) (7.0, 12020) (8.0, 7067) (9.0, 6146) (10.0, 3887) (11.0, 3134) (12.0, 2634) (13.0, 1276) (14.0, 962) (15.0, 188) (16.0, 236) (17.0, 75) (18.0, 30) (19.0, 14) (20.0, 11) (21.0, 13) (22.0, 9) (23.0, 4) (24.0, 2) (25.0, 4) (26.0, 1) (28.0, 1) (174.0, 1) (330.0, 1) (90403.0, 1) (90404.0, 1) "
   ]
  },
  {
   "cell_type": "code",
   "execution_count": null,
   "metadata": {
    "scrolled": true
   },
   "outputs": [],
   "source": [
    "# fig = px.bar(x=deltas, y = counts)\n",
    "# fig.show(render=\"png\")"
   ]
  },
  {
   "cell_type": "markdown",
   "metadata": {},
   "source": [
    "# End"
   ]
  },
  {
   "cell_type": "code",
   "execution_count": null,
   "metadata": {},
   "outputs": [],
   "source": []
  }
 ],
 "metadata": {
  "file_extension": ".py",
  "kernelspec": {
   "display_name": "Python 3.8.2 64-bit ('tupras': conda)",
   "language": "python",
   "name": "python38264bittuprasconda3988b302017c4d4b930c45df4dcda140"
  },
  "language_info": {
   "codemirror_mode": {
    "name": "ipython",
    "version": 3
   },
   "file_extension": ".py",
   "mimetype": "text/x-python",
   "name": "python",
   "nbconvert_exporter": "python",
   "pygments_lexer": "ipython3",
   "version": "3.7.7"
  },
  "mimetype": "text/x-python",
  "name": "python",
  "npconvert_exporter": "python",
  "pygments_lexer": "ipython3",
  "version": 3
 },
 "nbformat": 4,
 "nbformat_minor": 4
}
