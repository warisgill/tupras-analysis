{
 "cells": [
  {
   "cell_type": "code",
   "execution_count": 1,
   "metadata": {},
   "outputs": [],
   "source": [
    "import json\n",
    "import pandas as pd\n",
    "from datetime import datetime\n",
    "from dateutil.parser import parse\n",
    "# pio.renderers.default = \"notebook\""
   ]
  },
  {
   "cell_type": "code",
   "execution_count": 2,
   "metadata": {},
   "outputs": [
    {
     "name": "stdout",
     "output_type": "stream",
     "text": [
      "Column  Type\n",
      "MachineName <class 'str'>\n",
      "ServerProgID <class 'str'>\n",
      "ServerNodeName <class 'str'>\n",
      "SubscriptionName <class 'str'>\n",
      "SourceName <class 'str'>\n",
      "EventTime <class 'str'>\n",
      "EventTime_MS <class 'numpy.int64'>\n",
      "Severity <class 'numpy.int64'>\n",
      "Message <class 'str'>\n",
      "Quality <class 'numpy.int64'>\n",
      "Condition <class 'str'>\n",
      "SubCondition <class 'str'>\n",
      "Mask <class 'numpy.int64'>\n",
      "NewState <class 'numpy.int64'>\n",
      "EventType <class 'str'>\n",
      "EventCategory <class 'str'>\n",
      "AckReq <class 'str'>\n",
      "ActiveTime <class 'str'>\n",
      "ActiveTime_MS <class 'numpy.int64'>\n",
      "Cookie <class 'numpy.int64'>\n",
      "ActorID <class 'str'>\n",
      "Attributes <class 'str'>\n",
      "Area <class 'str'>\n",
      "Status <class 'numpy.int64'>\n",
      "Shelving <class 'numpy.int64'>\n",
      "Priority <class 'str'>\n",
      "<class 'str'>\n"
     ]
    }
   ],
   "source": [
    "input_file_name = \"result.csv\"\n",
    "output_flie_name = \"formatted-pre-1-\"+ input_file_name\n",
    "path = \"./data/new/\"  \n",
    "\n",
    "df = pd.read_csv(path+input_file_name, delimiter= \";\" ,encoding = \"ISO-8859-1\")\n",
    "print(\"Column  Type\")\n",
    "for col in df.columns:\n",
    "    print(col, type(df[col][0]))\n",
    "    if isinstance(df[col][0],str):\n",
    "        df[col] = df[col].apply(lambda s: \" \".join(s.split()))\n",
    "\n",
    "print(type(df[\"EventTime\"][0]))\n",
    "\n",
    "def changeDate(d):\n",
    "    d = d.replace(\".000000000\",\"\")\n",
    "    d = d.replace(\"/\",\"-\")\n",
    "    return parse(d)\n",
    "df[\"EventTime\"] = df[\"EventTime\"].apply(changeDate)"
   ]
  },
  {
   "cell_type": "code",
   "execution_count": 3,
   "metadata": {},
   "outputs": [
    {
     "name": "stdout",
     "output_type": "stream",
     "text": [
      "<class 'pandas.core.frame.DataFrame'>\n",
      "RangeIndex: 606532 entries, 0 to 606531\n",
      "Data columns (total 26 columns):\n",
      " #   Column            Non-Null Count   Dtype         \n",
      "---  ------            --------------   -----         \n",
      " 0   MachineName       606532 non-null  object        \n",
      " 1   ServerProgID      606532 non-null  object        \n",
      " 2   ServerNodeName    606532 non-null  object        \n",
      " 3   SubscriptionName  606532 non-null  object        \n",
      " 4   SourceName        606532 non-null  object        \n",
      " 5   EventTime         606532 non-null  datetime64[ns]\n",
      " 6   EventTime_MS      606532 non-null  int64         \n",
      " 7   Severity          606532 non-null  int64         \n",
      " 8   Message           606532 non-null  object        \n",
      " 9   Quality           606532 non-null  int64         \n",
      " 10  Condition         606532 non-null  object        \n",
      " 11  SubCondition      606532 non-null  object        \n",
      " 12  Mask              606532 non-null  int64         \n",
      " 13  NewState          606532 non-null  int64         \n",
      " 14  EventType         606532 non-null  object        \n",
      " 15  EventCategory     606532 non-null  object        \n",
      " 16  AckReq            606532 non-null  object        \n",
      " 17  ActiveTime        606532 non-null  object        \n",
      " 18  ActiveTime_MS     606532 non-null  int64         \n",
      " 19  Cookie            606532 non-null  int64         \n",
      " 20  ActorID           606532 non-null  object        \n",
      " 21  Attributes        606532 non-null  object        \n",
      " 22  Area              606532 non-null  object        \n",
      " 23  Status            606532 non-null  int64         \n",
      " 24  Shelving          606532 non-null  int64         \n",
      " 25  Priority          606532 non-null  object        \n",
      "dtypes: datetime64[ns](1), int64(9), object(16)\n",
      "memory usage: 120.3+ MB\n"
     ]
    }
   ],
   "source": [
    "df.to_csv(path+output_flie_name, index=False)\n",
    "df.info()"
   ]
  },
  {
   "cell_type": "code",
   "execution_count": null,
   "metadata": {},
   "outputs": [],
   "source": []
  }
 ],
 "metadata": {
  "kernelspec": {
   "display_name": "Python 3.8.2 64-bit ('tupras': conda)",
   "language": "python",
   "name": "python38264bittuprasconda3988b302017c4d4b930c45df4dcda140"
  },
  "language_info": {
   "codemirror_mode": {
    "name": "ipython",
    "version": 3
   },
   "file_extension": ".py",
   "mimetype": "text/x-python",
   "name": "python",
   "nbconvert_exporter": "python",
   "pygments_lexer": "ipython3",
   "version": "3.7.7"
  }
 },
 "nbformat": 4,
 "nbformat_minor": 4
}
