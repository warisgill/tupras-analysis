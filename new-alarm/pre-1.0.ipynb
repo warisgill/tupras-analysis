{
 "cells": [
  {
   "cell_type": "code",
   "execution_count": 1,
   "metadata": {},
   "outputs": [],
   "source": [
    "import json\n",
    "import pandas as pd\n",
    "from datetime import datetime\n",
    "from dateutil.parser import parse\n",
    "# pio.renderers.default = \"notebook\""
   ]
  },
  {
   "cell_type": "code",
   "execution_count": 2,
   "metadata": {},
   "outputs": [
    {
     "name": "stdout",
     "output_type": "stream",
     "text": [
      "Column  Type\n",
      "MachineName <class 'str'>\n",
      "ServerProgID <class 'str'>\n",
      "ServerNodeName <class 'str'>\n",
      "SubscriptionName <class 'str'>\n",
      "SourceName <class 'str'>\n",
      "EventTime <class 'str'>\n",
      "EventTime_MS <class 'numpy.int64'>\n",
      "Severity <class 'numpy.int64'>\n",
      "Message <class 'str'>\n",
      "Quality <class 'numpy.int64'>\n",
      "Condition <class 'str'>\n",
      "SubCondition <class 'str'>\n",
      "Mask <class 'numpy.int64'>\n",
      "NewState <class 'numpy.int64'>\n",
      "EventType <class 'str'>\n",
      "EventCategory <class 'str'>\n",
      "AckReq <class 'str'>\n",
      "ActiveTime <class 'str'>\n",
      "ActiveTime_MS <class 'numpy.int64'>\n",
      "Cookie <class 'numpy.int64'>\n",
      "ActorID <class 'str'>\n",
      "Attributes <class 'str'>\n",
      "Area <class 'str'>\n",
      "Status <class 'numpy.int64'>\n",
      "Shelving <class 'numpy.int64'>\n",
      "Priority <class 'str'>\n",
      "<class 'str'>\n"
     ]
    }
   ],
   "source": [
    "input_file_name = \"haziran2019.csv\"\n",
    "output_flie_name = \"formatted-pre-1-\"+ input_file_name\n",
    "path = \"./data/new/\"  \n",
    "\n",
    "df = pd.read_csv(path+input_file_name, delimiter= \";\" ,encoding = \"ISO-8859-1\")\n",
    "print(\"Column  Type\")\n",
    "for col in df.columns:\n",
    "    print(col, type(df[col][0]))\n",
    "    if isinstance(df[col][0],str):\n",
    "        df[col] = df[col].apply(lambda s: \" \".join(s.split()))\n",
    "\n",
    "print(type(df[\"EventTime\"][0]))\n",
    "\n",
    "def changeDate(d):\n",
    "    d = d.replace(\".000000000\",\"\")\n",
    "    d = d.replace(\"/\",\"-\")\n",
    "    return parse(d)\n",
    "df[\"EventTime\"] = df[\"EventTime\"].apply(changeDate)"
   ]
  },
  {
   "cell_type": "code",
   "execution_count": 3,
   "metadata": {},
   "outputs": [
    {
     "name": "stdout",
     "output_type": "stream",
     "text": [
      "<class 'pandas.core.frame.DataFrame'>\n",
      "RangeIndex: 1845691 entries, 0 to 1845690\n",
      "Data columns (total 26 columns):\n",
      " #   Column            Dtype         \n",
      "---  ------            -----         \n",
      " 0   MachineName       object        \n",
      " 1   ServerProgID      object        \n",
      " 2   ServerNodeName    object        \n",
      " 3   SubscriptionName  object        \n",
      " 4   SourceName        object        \n",
      " 5   EventTime         datetime64[ns]\n",
      " 6   EventTime_MS      int64         \n",
      " 7   Severity          int64         \n",
      " 8   Message           object        \n",
      " 9   Quality           int64         \n",
      " 10  Condition         object        \n",
      " 11  SubCondition      object        \n",
      " 12  Mask              int64         \n",
      " 13  NewState          int64         \n",
      " 14  EventType         object        \n",
      " 15  EventCategory     object        \n",
      " 16  AckReq            object        \n",
      " 17  ActiveTime        object        \n",
      " 18  ActiveTime_MS     int64         \n",
      " 19  Cookie            int64         \n",
      " 20  ActorID           object        \n",
      " 21  Attributes        object        \n",
      " 22  Area              object        \n",
      " 23  Status            int64         \n",
      " 24  Shelving          int64         \n",
      " 25  Priority          object        \n",
      "dtypes: datetime64[ns](1), int64(9), object(16)\n",
      "memory usage: 366.1+ MB\n"
     ]
    }
   ],
   "source": [
    "df.to_csv(path+output_flie_name, index=False)\n",
    "df.info()"
   ]
  },
  {
   "cell_type": "code",
   "execution_count": null,
   "metadata": {},
   "outputs": [],
   "source": []
  }
 ],
 "metadata": {
  "kernelspec": {
   "display_name": "Python 3.8.2 64-bit ('tupras': conda)",
   "language": "python",
   "name": "python38264bittuprasconda3988b302017c4d4b930c45df4dcda140"
  },
  "language_info": {
   "codemirror_mode": {
    "name": "ipython",
    "version": 3
   },
   "file_extension": ".py",
   "mimetype": "text/x-python",
   "name": "python",
   "nbconvert_exporter": "python",
   "pygments_lexer": "ipython3",
   "version": "3.7.7"
  }
 },
 "nbformat": 4,
 "nbformat_minor": 4
}
