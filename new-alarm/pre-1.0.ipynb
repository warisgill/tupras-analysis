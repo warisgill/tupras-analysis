{
 "cells": [
  {
   "cell_type": "code",
   "execution_count": 1,
   "metadata": {},
   "outputs": [],
   "source": [
    "import json\n",
    "import pandas as pd\n",
    "from datetime import datetime\n",
    "from dateutil.parser import parse\n",
    "from alarms import getMessageType\n",
    "# pio.renderers.default = \"notebook\""
   ]
  },
  {
   "cell_type": "code",
   "execution_count": 2,
   "metadata": {},
   "outputs": [
    {
     "output_type": "stream",
     "name": "stdout",
     "text": "============== File Name:haziran2019.csv =================\nColumn  Type\nMachineName <class 'str'>\nServerProgID <class 'str'>\nServerNodeName <class 'str'>\nSubscriptionName <class 'str'>\nSourceName <class 'str'>\nEventTime <class 'str'>\nEventTime_MS <class 'numpy.int64'>\nSeverity <class 'numpy.int64'>\nMessage <class 'str'>\nQuality <class 'numpy.int64'>\nCondition <class 'str'>\nSubCondition <class 'str'>\nMask <class 'numpy.int64'>\nNewState <class 'numpy.int64'>\nEventType <class 'str'>\nEventCategory <class 'str'>\nAckReq <class 'str'>\nActiveTime <class 'str'>\nActiveTime_MS <class 'numpy.int64'>\nCookie <class 'numpy.int64'>\nActorID <class 'str'>\nAttributes <class 'str'>\nArea <class 'str'>\nStatus <class 'numpy.int64'>\nShelving <class 'numpy.int64'>\nPriority <class 'str'>\n<class 'str'>\n<class 'pandas.core.frame.DataFrame'>\nRangeIndex: 1845691 entries, 0 to 1845690\nData columns (total 27 columns):\n #   Column            Dtype         \n---  ------            -----         \n 0   MachineName       object        \n 1   ServerProgID      object        \n 2   ServerNodeName    object        \n 3   SubscriptionName  object        \n 4   SourceName        object        \n 5   EventTime         datetime64[ns]\n 6   EventTime_MS      int64         \n 7   Severity          int64         \n 8   Message           object        \n 9   Quality           int64         \n 10  Condition         object        \n 11  SubCondition      object        \n 12  Mask              int64         \n 13  NewState          int64         \n 14  EventType         object        \n 15  EventCategory     object        \n 16  AckReq            object        \n 17  ActiveTime        object        \n 18  ActiveTime_MS     int64         \n 19  Cookie            int64         \n 20  ActorID           object        \n 21  Attributes        object        \n 22  Area              object        \n 23  Status            int64         \n 24  Shelving          int64         \n 25  Priority          object        \n 26  MeesageType       object        \ndtypes: datetime64[ns](1), int64(9), object(17)\nmemory usage: 380.2+ MB\nNone\n============== File Name:march2019.csv =================\nColumn  Type\nMachineName <class 'str'>\nServerProgID <class 'str'>\nServerNodeName <class 'str'>\nSubscriptionName <class 'str'>\nSourceName <class 'str'>\nEventTime <class 'str'>\nEventTime_MS <class 'numpy.int64'>\nSeverity <class 'numpy.int64'>\nMessage <class 'str'>\nQuality <class 'numpy.int64'>\nCondition <class 'str'>\nSubCondition <class 'str'>\nMask <class 'numpy.int64'>\nNewState <class 'numpy.int64'>\nEventType <class 'str'>\nEventCategory <class 'str'>\nAckReq <class 'str'>\nActiveTime <class 'str'>\nActiveTime_MS <class 'numpy.int64'>\nCookie <class 'numpy.int64'>\nActorID <class 'str'>\nAttributes <class 'str'>\nArea <class 'str'>\nStatus <class 'numpy.int64'>\nShelving <class 'numpy.int64'>\nPriority <class 'str'>\n<class 'str'>\n<class 'pandas.core.frame.DataFrame'>\nRangeIndex: 606532 entries, 0 to 606531\nData columns (total 27 columns):\n #   Column            Non-Null Count   Dtype         \n---  ------            --------------   -----         \n 0   MachineName       606532 non-null  object        \n 1   ServerProgID      606532 non-null  object        \n 2   ServerNodeName    606532 non-null  object        \n 3   SubscriptionName  606532 non-null  object        \n 4   SourceName        606532 non-null  object        \n 5   EventTime         606532 non-null  datetime64[ns]\n 6   EventTime_MS      606532 non-null  int64         \n 7   Severity          606532 non-null  int64         \n 8   Message           606532 non-null  object        \n 9   Quality           606532 non-null  int64         \n 10  Condition         606532 non-null  object        \n 11  SubCondition      606532 non-null  object        \n 12  Mask              606532 non-null  int64         \n 13  NewState          606532 non-null  int64         \n 14  EventType         606532 non-null  object        \n 15  EventCategory     606532 non-null  object        \n 16  AckReq            606532 non-null  object        \n 17  ActiveTime        606532 non-null  object        \n 18  ActiveTime_MS     606532 non-null  int64         \n 19  Cookie            606532 non-null  int64         \n 20  ActorID           606532 non-null  object        \n 21  Attributes        606532 non-null  object        \n 22  Area              606532 non-null  object        \n 23  Status            606532 non-null  int64         \n 24  Shelving          606532 non-null  int64         \n 25  Priority          606532 non-null  object        \n 26  MeesageType       606532 non-null  object        \ndtypes: datetime64[ns](1), int64(9), object(17)\nmemory usage: 124.9+ MB\nNone\n============== File Name:mayis2019.csv =================\nColumn  Type\nï»¿MachineName <class 'str'>\nServerProgID <class 'str'>\nServerNodeName <class 'str'>\nSubscriptionName <class 'str'>\nSourceName <class 'str'>\nEventTime <class 'str'>\nEventTime_MS <class 'numpy.int64'>\nSeverity <class 'numpy.int64'>\nMessage <class 'str'>\nQuality <class 'numpy.int64'>\nCondition <class 'str'>\nSubCondition <class 'str'>\nMask <class 'numpy.int64'>\nNewState <class 'numpy.int64'>\nEventType <class 'str'>\nEventCategory <class 'str'>\nAckReq <class 'numpy.bool_'>\nActiveTime <class 'str'>\nActiveTime_MS <class 'numpy.int64'>\nCookie <class 'numpy.int64'>\nActorID <class 'numpy.float64'>\nAttributes <class 'str'>\nArea <class 'str'>\nStatus <class 'numpy.int64'>\nShelving <class 'numpy.int64'>\nPriority <class 'numpy.float64'>\n<class 'str'>\n<class 'pandas.core.frame.DataFrame'>\nRangeIndex: 1776439 entries, 0 to 1776438\nData columns (total 27 columns):\n #   Column            Dtype         \n---  ------            -----         \n 0   ï»¿MachineName    object        \n 1   ServerProgID      object        \n 2   ServerNodeName    object        \n 3   SubscriptionName  object        \n 4   SourceName        object        \n 5   EventTime         datetime64[ns]\n 6   EventTime_MS      int64         \n 7   Severity          int64         \n 8   Message           object        \n 9   Quality           int64         \n 10  Condition         object        \n 11  SubCondition      object        \n 12  Mask              int64         \n 13  NewState          int64         \n 14  EventType         object        \n 15  EventCategory     object        \n 16  AckReq            bool          \n 17  ActiveTime        object        \n 18  ActiveTime_MS     int64         \n 19  Cookie            int64         \n 20  ActorID           float64       \n 21  Attributes        object        \n 22  Area              object        \n 23  Status            int64         \n 24  Shelving          int64         \n 25  Priority          float64       \n 26  MeesageType       object        \ndtypes: bool(1), datetime64[ns](1), float64(2), int64(9), object(14)\nmemory usage: 354.1+ MB\nNone\n============== File Name:nisan2019.csv =================\nColumn  Type\nMachineName <class 'str'>\nServerProgID <class 'str'>\nServerNodeName <class 'str'>\nSubscriptionName <class 'str'>\nSourceName <class 'str'>\nEventTime <class 'str'>\nEventTime_MS <class 'numpy.int64'>\nSeverity <class 'numpy.int64'>\nMessage <class 'str'>\nQuality <class 'numpy.int64'>\nCondition <class 'str'>\nSubCondition <class 'str'>\nMask <class 'numpy.int64'>\nNewState <class 'numpy.int64'>\nEventType <class 'str'>\nEventCategory <class 'str'>\nAckReq <class 'str'>\nActiveTime <class 'str'>\nActiveTime_MS <class 'numpy.int64'>\nCookie <class 'numpy.int64'>\nActorID <class 'str'>\nAttributes <class 'str'>\nArea <class 'str'>\nStatus <class 'numpy.int64'>\nShelving <class 'numpy.int64'>\nPriority <class 'str'>\n<class 'str'>\n<class 'pandas.core.frame.DataFrame'>\nRangeIndex: 1277118 entries, 0 to 1277117\nData columns (total 27 columns):\n #   Column            Non-Null Count    Dtype         \n---  ------            --------------    -----         \n 0   MachineName       1277118 non-null  object        \n 1   ServerProgID      1277118 non-null  object        \n 2   ServerNodeName    1277118 non-null  object        \n 3   SubscriptionName  1277118 non-null  object        \n 4   SourceName        1277118 non-null  object        \n 5   EventTime         1277118 non-null  datetime64[ns]\n 6   EventTime_MS      1277118 non-null  int64         \n 7   Severity          1277118 non-null  int64         \n 8   Message           1277118 non-null  object        \n 9   Quality           1277118 non-null  int64         \n 10  Condition         1277118 non-null  object        \n 11  SubCondition      1277118 non-null  object        \n 12  Mask              1277118 non-null  int64         \n 13  NewState          1277118 non-null  int64         \n 14  EventType         1277118 non-null  object        \n 15  EventCategory     1277118 non-null  object        \n 16  AckReq            1277118 non-null  object        \n 17  ActiveTime        1277118 non-null  object        \n 18  ActiveTime_MS     1277118 non-null  int64         \n 19  Cookie            1277118 non-null  int64         \n 20  ActorID           1277118 non-null  object        \n 21  Attributes        1277118 non-null  object        \n 22  Area              1277118 non-null  object        \n 23  Status            1277118 non-null  int64         \n 24  Shelving          1277118 non-null  int64         \n 25  Priority          1277118 non-null  object        \n 26  MeesageType       1277118 non-null  object        \ndtypes: datetime64[ns](1), int64(9), object(17)\nmemory usage: 263.1+ MB\nNone\n========================= Complete =====================\n"
    }
   ],
   "source": [
    "for f in [\"haziran2019.csv\",\"march2019.csv\",\"mayis2019.csv\",\"nisan2019.csv\"]:    \n",
    "    \n",
    "    print(\"============== File Name:{} =================\".format(f))\n",
    "    input_file_name = f\n",
    "    output_flie_name = \"formatted-pre-1-\"+ input_file_name\n",
    "    path = \"./data/new/\"  \n",
    "\n",
    "    df = pd.read_csv(path+input_file_name, delimiter= \";\" ,encoding = \"ISO-8859-1\")\n",
    "    print(\"Column  Type\")\n",
    "    for col in df.columns:\n",
    "        print(col, type(df[col][0]))\n",
    "        if isinstance(df[col][0],str):\n",
    "            df[col] = df[col].apply(lambda s: \" \".join(s.split()))\n",
    "\n",
    "    print(type(df[\"EventTime\"][0]))\n",
    "\n",
    "    def changeDate(d):\n",
    "        d = d.replace(\".000000000\",\"\")\n",
    "        d = d.replace(\"/\",\"-\")\n",
    "        return parse(d)\n",
    "    df[\"EventTime\"] = df[\"EventTime\"].apply(changeDate)\n",
    "    df[\"MessageType\"] = df[\"Message\"].apply(getMessageType)\n",
    "    \n",
    "    df.to_csv(path+output_flie_name, index=False)\n",
    "    print(df.info())\n",
    "\n",
    "print(\"========================= Complete =====================\")"
   ]
  },
  {
   "cell_type": "code",
   "execution_count": null,
   "metadata": {},
   "outputs": [],
   "source": []
  }
 ],
 "metadata": {
  "kernelspec": {
   "display_name": "Python 3.8.3 64-bit ('tupras': conda)",
   "language": "python",
   "name": "python38364bittuprascondad3f64d142d7848d8b5ff812324ef08eb"
  },
  "language_info": {
   "codemirror_mode": {
    "name": "ipython",
    "version": 3
   },
   "file_extension": ".py",
   "mimetype": "text/x-python",
   "name": "python",
   "nbconvert_exporter": "python",
   "pygments_lexer": "ipython3",
   "version": "3.8.3-final"
  }
 },
 "nbformat": 4,
 "nbformat_minor": 4
}