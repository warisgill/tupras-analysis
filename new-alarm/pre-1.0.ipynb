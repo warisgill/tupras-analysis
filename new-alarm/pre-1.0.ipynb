{
 "cells": [
  {
   "cell_type": "code",
   "execution_count": 1,
   "metadata": {},
   "outputs": [],
   "source": [
    "import json\n",
    "import pandas as pd\n",
    "from datetime import datetime\n",
    "from dateutil.parser import parse\n",
    "from alarms import getMessageType\n",
    "# pio.renderers.default = \"notebook\""
   ]
  },
  {
   "cell_type": "code",
   "execution_count": 3,
   "metadata": {
    "tags": []
   },
   "outputs": [
    {
     "output_type": "stream",
     "name": "stdout",
     "text": "============== File Name:haziran2019.csv =================\nColumn  Type\nMachineName <class 'str'>\nServerProgID <class 'str'>\nServerNodeName <class 'str'>\nSubscriptionName <class 'str'>\nSourceName <class 'str'>\nEventTime <class 'str'>\nEventTime_MS <class 'numpy.int64'>\nSeverity <class 'numpy.int64'>\nMessage <class 'str'>\nQuality <class 'numpy.int64'>\nCondition <class 'str'>\nSubCondition <class 'str'>\nMask <class 'numpy.int64'>\nNewState <class 'numpy.int64'>\nEventType <class 'str'>\nEventCategory <class 'str'>\nAckReq <class 'str'>\nActiveTime <class 'str'>\nActiveTime_MS <class 'numpy.int64'>\nCookie <class 'numpy.int64'>\nActorID <class 'str'>\nAttributes <class 'str'>\nArea <class 'str'>\nStatus <class 'numpy.int64'>\nShelving <class 'numpy.int64'>\nPriority <class 'str'>\n<class 'str'>\n(1845691, 27) (1839157, 27)\n(1839157, 27) (1839157, 27)\n============== File Name:march2019.csv =================\nColumn  Type\nMachineName <class 'str'>\nServerProgID <class 'str'>\nServerNodeName <class 'str'>\nSubscriptionName <class 'str'>\nSourceName <class 'str'>\nEventTime <class 'str'>\nEventTime_MS <class 'numpy.int64'>\nSeverity <class 'numpy.int64'>\nMessage <class 'str'>\nQuality <class 'numpy.int64'>\nCondition <class 'str'>\nSubCondition <class 'str'>\nMask <class 'numpy.int64'>\nNewState <class 'numpy.int64'>\nEventType <class 'str'>\nEventCategory <class 'str'>\nAckReq <class 'str'>\nActiveTime <class 'str'>\nActiveTime_MS <class 'numpy.int64'>\nCookie <class 'numpy.int64'>\nActorID <class 'str'>\nAttributes <class 'str'>\nArea <class 'str'>\nStatus <class 'numpy.int64'>\nShelving <class 'numpy.int64'>\nPriority <class 'str'>\n<class 'str'>\n(606532, 27) (601993, 27)\n(601993, 27) (601993, 27)\n============== File Name:mayis2019.csv =================\nColumn  Type\nï»¿MachineName <class 'str'>\nServerProgID <class 'str'>\nServerNodeName <class 'str'>\nSubscriptionName <class 'str'>\nSourceName <class 'str'>\nEventTime <class 'str'>\nEventTime_MS <class 'numpy.int64'>\nSeverity <class 'numpy.int64'>\nMessage <class 'str'>\nQuality <class 'numpy.int64'>\nCondition <class 'str'>\nSubCondition <class 'str'>\nMask <class 'numpy.int64'>\nNewState <class 'numpy.int64'>\nEventType <class 'str'>\nEventCategory <class 'str'>\nAckReq <class 'numpy.bool_'>\nActiveTime <class 'str'>\nActiveTime_MS <class 'numpy.int64'>\nCookie <class 'numpy.int64'>\nActorID <class 'numpy.float64'>\nAttributes <class 'str'>\nArea <class 'str'>\nStatus <class 'numpy.int64'>\nShelving <class 'numpy.int64'>\nPriority <class 'numpy.float64'>\n<class 'str'>\n(1776439, 27) (1766671, 27)\n(1766671, 27) (1766671, 27)\n============== File Name:nisan2019.csv =================\nColumn  Type\nMachineName <class 'str'>\nServerProgID <class 'str'>\nServerNodeName <class 'str'>\nSubscriptionName <class 'str'>\nSourceName <class 'str'>\nEventTime <class 'str'>\nEventTime_MS <class 'numpy.int64'>\nSeverity <class 'numpy.int64'>\nMessage <class 'str'>\nQuality <class 'numpy.int64'>\nCondition <class 'str'>\nSubCondition <class 'str'>\nMask <class 'numpy.int64'>\nNewState <class 'numpy.int64'>\nEventType <class 'str'>\nEventCategory <class 'str'>\nAckReq <class 'str'>\nActiveTime <class 'str'>\nActiveTime_MS <class 'numpy.int64'>\nCookie <class 'numpy.int64'>\nActorID <class 'str'>\nAttributes <class 'str'>\nArea <class 'str'>\nStatus <class 'numpy.int64'>\nShelving <class 'numpy.int64'>\nPriority <class 'str'>\n<class 'str'>\n(1277118, 27) (1267467, 27)\n(1267467, 27) (1267467, 27)\n========================= Complete =====================\n"
    }
   ],
   "source": [
    "msg_filter = \" ACK\"\n",
    "for f in [\"haziran2019.csv\",\"march2019.csv\",\"mayis2019.csv\",\"nisan2019.csv\"]:    \n",
    "    \n",
    "    print(\"============== File Name:{} =================\".format(f))\n",
    "    input_file_name = f\n",
    "    output_flie_name = \"formatted-pre-1-\"+ input_file_name\n",
    "    path = \"./data/new/\"  \n",
    "\n",
    "    df = pd.read_csv(path+input_file_name, delimiter= \";\" ,encoding = \"ISO-8859-1\")    \n",
    "\n",
    "    print(\"Column  Type\")\n",
    "    for col in df.columns:\n",
    "        print(col, type(df[col][0]))\n",
    "        if isinstance(df[col][0],str):\n",
    "            df[col] = df[col].apply(lambda s: \" \".join(s.split()))\n",
    "\n",
    "    print(type(df[\"EventTime\"][0]))\n",
    "\n",
    "    def changeDate(d):\n",
    "        d = d.replace(\".000000000\",\"\")\n",
    "        d = d.replace(\"/\",\"-\")\n",
    "        return parse(d)\n",
    "    df[\"EventTime\"] = df[\"EventTime\"].apply(changeDate)\n",
    "    df[\"MessageType\"] = df[\"Message\"].apply(getMessageType)\n",
    "    df2 = df.loc[df['Message'].map(lambda arg: arg.find(msg_filter)) == -1] # df_temp[~df_temp[\"Message\"].str.contains(msg_filter,case=True)] # filtering Ack messages. \n",
    "    print(df.shape,df2.shape)\n",
    "    df = df2\n",
    "    df.to_csv(path+output_flie_name, index=False)\n",
    "    # print(df.info())\n",
    "    print(df.shape,df2.shape)\n",
    "print(\"========================= Complete =====================\")"
   ]
  },
  {
   "cell_type": "code",
   "execution_count": null,
   "metadata": {},
   "outputs": [],
   "source": []
  }
 ],
 "metadata": {
  "kernelspec": {
   "display_name": "Python 3.8.3 64-bit ('tupras': conda)",
   "language": "python",
   "name": "python38364bittuprascondad3f64d142d7848d8b5ff812324ef08eb"
  },
  "language_info": {
   "codemirror_mode": {
    "name": "ipython",
    "version": 3
   },
   "file_extension": ".py",
   "mimetype": "text/x-python",
   "name": "python",
   "nbconvert_exporter": "python",
   "pygments_lexer": "ipython3",
   "version": "3.8.3-final"
  }
 },
 "nbformat": 4,
 "nbformat_minor": 4
}