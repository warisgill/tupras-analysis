{
 "cells": [
  {
   "cell_type": "code",
   "execution_count": 1,
   "metadata": {},
   "outputs": [],
   "source": [
    "import json\n",
    "import pandas as pd\n",
    "from datetime import datetime\n",
    "from dateutil.parser import parse\n",
    "# pio.renderers.default = \"notebook\""
   ]
  },
  {
   "cell_type": "code",
   "execution_count": 2,
   "metadata": {},
   "outputs": [
    {
     "output_type": "stream",
     "name": "stdout",
     "text": "Column  Type\nMachineName <class 'str'>\nServerProgID <class 'str'>\nServerNodeName <class 'str'>\nSubscriptionName <class 'str'>\nSourceName <class 'str'>\nEventTime <class 'str'>\nEventTime_MS <class 'numpy.int64'>\nSeverity <class 'numpy.int64'>\nMessage <class 'str'>\nQuality <class 'numpy.int64'>\nCondition <class 'str'>\nSubCondition <class 'str'>\nMask <class 'numpy.int64'>\nNewState <class 'numpy.int64'>\nEventType <class 'str'>\nEventCategory <class 'str'>\nAckReq <class 'str'>\nActiveTime <class 'str'>\nActiveTime_MS <class 'numpy.int64'>\nCookie <class 'numpy.int64'>\nActorID <class 'str'>\nAttributes <class 'str'>\nArea <class 'str'>\nStatus <class 'numpy.int64'>\nShelving <class 'numpy.int64'>\nPriority <class 'str'>\n<class 'str'>\n"
    }
   ],
   "source": [
    "input_file_name = \"nisan2019.csv\"\n",
    "output_flie_name = \"formatted-pre-1-\"+ input_file_name\n",
    "path = \"./data/new/\"  \n",
    "\n",
    "df = pd.read_csv(path+input_file_name, delimiter= \";\" ,encoding = \"ISO-8859-1\")\n",
    "print(\"Column  Type\")\n",
    "for col in df.columns:\n",
    "    print(col, type(df[col][0]))\n",
    "    if isinstance(df[col][0],str):\n",
    "        df[col] = df[col].apply(lambda s: \" \".join(s.split()))\n",
    "\n",
    "print(type(df[\"EventTime\"][0]))\n",
    "\n",
    "def changeDate(d):\n",
    "    d = d.replace(\".000000000\",\"\")\n",
    "    d = d.replace(\"/\",\"-\")\n",
    "    return parse(d)\n",
    "df[\"EventTime\"] = df[\"EventTime\"].apply(changeDate)"
   ]
  },
  {
   "cell_type": "code",
   "execution_count": 3,
   "metadata": {},
   "outputs": [
    {
     "output_type": "stream",
     "name": "stdout",
     "text": "<class 'pandas.core.frame.DataFrame'>\nRangeIndex: 1277118 entries, 0 to 1277117\nData columns (total 26 columns):\n #   Column            Non-Null Count    Dtype         \n---  ------            --------------    -----         \n 0   MachineName       1277118 non-null  object        \n 1   ServerProgID      1277118 non-null  object        \n 2   ServerNodeName    1277118 non-null  object        \n 3   SubscriptionName  1277118 non-null  object        \n 4   SourceName        1277118 non-null  object        \n 5   EventTime         1277118 non-null  datetime64[ns]\n 6   EventTime_MS      1277118 non-null  int64         \n 7   Severity          1277118 non-null  int64         \n 8   Message           1277118 non-null  object        \n 9   Quality           1277118 non-null  int64         \n 10  Condition         1277118 non-null  object        \n 11  SubCondition      1277118 non-null  object        \n 12  Mask              1277118 non-null  int64         \n 13  NewState          1277118 non-null  int64         \n 14  EventType         1277118 non-null  object        \n 15  EventCategory     1277118 non-null  object        \n 16  AckReq            1277118 non-null  object        \n 17  ActiveTime        1277118 non-null  object        \n 18  ActiveTime_MS     1277118 non-null  int64         \n 19  Cookie            1277118 non-null  int64         \n 20  ActorID           1277118 non-null  object        \n 21  Attributes        1277118 non-null  object        \n 22  Area              1277118 non-null  object        \n 23  Status            1277118 non-null  int64         \n 24  Shelving          1277118 non-null  int64         \n 25  Priority          1277118 non-null  object        \ndtypes: datetime64[ns](1), int64(9), object(16)\nmemory usage: 253.3+ MB\n"
    }
   ],
   "source": [
    "df.to_csv(path+output_flie_name, index=False)\n",
    "df.info()"
   ]
  },
  {
   "cell_type": "code",
   "execution_count": null,
   "metadata": {},
   "outputs": [],
   "source": []
  }
 ],
 "metadata": {
  "language_info": {
   "codemirror_mode": {
    "name": "ipython",
    "version": 3
   },
   "file_extension": ".py",
   "mimetype": "text/x-python",
   "name": "python",
   "nbconvert_exporter": "python",
   "pygments_lexer": "ipython3",
   "version": 3
  },
  "orig_nbformat": 2,
  "kernelspec": {
   "name": "python_defaultSpec_1589580852827",
   "display_name": "Python 3.7.6 64-bit ('base': conda)"
  }
 },
 "nbformat": 4,
 "nbformat_minor": 2
}