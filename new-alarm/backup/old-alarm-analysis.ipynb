{
 "cells": [
  {
   "cell_type": "code",
   "execution_count": null,
   "metadata": {},
   "outputs": [],
   "source": [
    "import numpy as np\n",
    "import matplotlib.pyplot as plt\n",
    "import matplotlib\n",
    "import json\n",
    "from pymongo import MongoClient\n",
    "import pandas as pd\n",
    "from datetime import datetime\n",
    "from dateutil.parser import parse\n",
    "import plotly.io as pio\n",
    "import plotly.express as px\n",
    "print(pio.renderers)\n",
    "pio.renderers.default = \"notebook\""
   ]
  },
  {
   "cell_type": "code",
   "execution_count": null,
   "metadata": {},
   "outputs": [],
   "source": [
    "cols = [\"MachineName\",\"SourceName\",\"EventTime\", \"Message\",\"Quality\",\"Condition\",\"Mask\",\"NewState\",\"Status\"]\n",
    "df = pd.read_excel(\"/home/waris/Github/tupras-analysis/new-alarm/proses_alarm.xls\",skipinitialspace=True, usecols=cols)\n",
    "df.tail(10)\n",
    "# df.tail(10)\n"
   ]
  },
  {
   "cell_type": "code",
   "execution_count": null,
   "metadata": {},
   "outputs": [],
   "source": [
    "# initial processing\n",
    "print(type(df[\"EventTime\"][i]))\n",
    "for i in range(0, len(df[\"EventTime\"])):\n",
    "    d = df[\"EventTime\"][i]\n",
    "    d = d.replace(\".000000000\",\"\")\n",
    "    d = d.replace(\"/\",\"-\")\n",
    "    df[\"EventTime\"][i] = parse(d)\n",
    "#     s = df[\"Message\"][i]\n",
    "#     df[\"Message\"][i] = \" \".join(s.split())\n",
    "\n",
    "print(type(df[\"EventTime\"][i]))\n",
    "\n",
    "df.info()"
   ]
  },
  {
   "cell_type": "code",
   "execution_count": null,
   "metadata": {},
   "outputs": [],
   "source": [
    "df.describe()\n",
    "\n",
    "# client = MongoClient()\n",
    "# db = client[\"tupras-db\"]\n",
    "# collection_raw_alarm = db[\"alarm\"]\n",
    "# data = json.loads(df.to_json(orient='records'))\n",
    "# collection_raw_alarm.remove()\n",
    "# print(data)\n",
    "# collection_raw_alarm.insert(data)"
   ]
  },
  {
   "cell_type": "markdown",
   "metadata": {},
   "source": [
    "# Preprocessing of Alarm data\n",
    "\n",
    "There are different types of alarm data but Excel file only contains \"Process Alarm Data\".\n",
    "\n",
    "**Excel Columns Description**\n",
    "* MachineName: It represent the unit (e.g.,Plant-47)\n",
    "* SourceName: The names of the devices operating in a unit (e.g., controller, transmitter, and calculator block names)\n",
    "    1. Five types of controllers: TIC, PIC, FIC, LIC, and AIC.\n",
    "    2. Three types of transmitters: TI, FI, LI\n",
    "    3. Calculator block names ?\n",
    "\n",
    "* EventTime: The date when an alarm is appeared. It also represent when it recovered right?\n",
    "\n",
    "**Deactivation of an Alarm:**\n",
    "* Recover : The alram is deactivated.\n",
    "* IOP  : Communication between the DCS and field is cut off (alarm activated).\n",
    "* IOP + Recover: communication problem is solved and the alarm is deactivated. \n",
    "* ALM : It represent alarm is activated\n",
    "* NR : The alarm is returned to normal state. \n",
    "\n",
    "**Questions:**\n",
    "1. Before alarm data analysis, if ALM, NR and RECOVER messages are seen, these rows must be deleted. Why?\n",
    "2. Alarm-off \n",
    "3. shelving of alarms\n",
    "4. Can alarm cannot trigger twice? \n",
    "5. "
   ]
  },
  {
   "cell_type": "code",
   "execution_count": null,
   "metadata": {},
   "outputs": [],
   "source": [
    "sources = {}\n",
    "source_conditions = {}\n",
    "conditions = {} # Vel, IOP ALM, NR etc\n",
    "key = \"\"\n",
    "temp_dict = None\n",
    "d = None\n",
    "conditions[\"Recover\"] = 0\n",
    "for i in range(0, len(df[\"EventTime\"])):\n",
    "    key = df[\"SourceName\"][i]\n",
    "    temp_dict = {\"Quality\":df[\"Quality\"][i], \"Mask\":df[\"Mask\"][i], \"NewState\":df[\"NewState\"][i], \"Status\": df[\"Status\"][i] ,\"SourceName\": key,\"EventTime\": df[\"EventTime\"][i], \"Message\":df[\"Message\"][i],\"Condition\": df[\"Condition\"][i]}\n",
    "    \n",
    "    if sources.get(key) != None:\n",
    "        sources[key].append(temp_dict)\n",
    "        \n",
    "        #source conditions\n",
    "        d =  source_conditions[key]\n",
    "        if d.get(temp_dict[\"Condition\"]) == None:\n",
    "            d[temp_dict[\"Condition\"]] = 0    \n",
    "        d[temp_dict[\"Condition\"]]  += 1\n",
    "        d[\"Total\"] += 1\n",
    "        \n",
    "        if d.get(\"Recover\") == None:\n",
    "            d[\"Recover\"] = 0\n",
    "        \n",
    "        # conditions           \n",
    "        c = temp_dict[\"Condition\"]\n",
    "        if conditions.get(c) == None:  \n",
    "            conditions[c] = 0\n",
    "        conditions[c] +=1\n",
    "        \n",
    "        if temp_dict[\"Message\"].find(\"Recover\") != -1:\n",
    "            conditions[\"Recover\"] += 1\n",
    "            d[\"Recover\"] += 1\n",
    "        if temp_dict[\"Message\"].strip().find(\"NR\") != -1:\n",
    "#             print(temp_dict[\"Message\"])\n",
    "            d[\"Recover\"] +=1\n",
    "            conditions[\"Recover\"] += 1\n",
    "    else:\n",
    "        sources[key] = []\n",
    "        source_conditions[key] = {}\n",
    "        sources[key].append(temp_dict)\n",
    "        d = source_conditions[key]\n",
    "        d[temp_dict[\"Condition\"]] = 1\n",
    "        d[\"Total\"] = 1\n",
    "        \n",
    "        if d.get(\"Recover\") == None:\n",
    "            d[\"Recover\"] = 0\n",
    "        \n",
    "        c = temp_dict[\"Condition\"]\n",
    "        if conditions.get(c) == None:  \n",
    "            conditions[c] = 0\n",
    "        conditions[c] +=1\n",
    "        \n",
    "        if temp_dict[\"Message\"].find(\"Recover\") != -1:\n",
    "            conditions[\"Recover\"] += 1\n",
    "            d[\"Recover\"] +=1\n",
    "        if temp_dict[\"Message\"].strip().find(\"NR\") != -1:\n",
    "#             print(temp_dict[\"Message\"])\n",
    "            d[\"Recover\"] +=1\n",
    "            conditions[\"Recover\"] += 1\n",
    "\n",
    "\n",
    "# sorting the source conditions dictionary based on the number of alarms related to each sensor\n",
    "source_conditions = {k:v for k,v in sorted(source_conditions.items(), key=lambda item: item[1][\"Total\"],reverse=True)}\n",
    "conditions = {k:v for k,v in sorted(conditions.items(), key=lambda item: item[1], reverse=True)}"
   ]
  },
  {
   "cell_type": "markdown",
   "metadata": {},
   "source": [
    "\n",
    "### Total number of disctinct SourceNames in the excel sheet."
   ]
  },
  {
   "cell_type": "code",
   "execution_count": null,
   "metadata": {},
   "outputs": [],
   "source": [
    "\n",
    "print(\"Total Number of Sourcenames: {s}\\n\\nSources List \\n\\n {l}\".format(s=len(sources.keys()), l = sources.keys()))\n"
   ]
  },
  {
   "cell_type": "markdown",
   "metadata": {},
   "source": [
    "### How many times each SourceName has been triggered (activation + Deactivation)?"
   ]
  },
  {
   "cell_type": "code",
   "execution_count": null,
   "metadata": {},
   "outputs": [],
   "source": [
    "\n",
    "total  = 0\n",
    "i =0\n",
    "for key in source_conditions.keys():\n",
    "    s1 = \"Source: \" + key + \", Total: {} | \".format(source_conditions[key][\"Total\"])\n",
    "    s2 = \"\"\n",
    "    total += source_conditions[key][\"Total\"]\n",
    "    for k in source_conditions[key].keys():\n",
    "        if k == \"Total\" or k == \"Recover\":\n",
    "            continue\n",
    "        s2 = s2 + k +\" \"+ str(source_conditions[key][k]) + \", \"    \n",
    "    s1 = s1 + s2\n",
    "    print(\"{}. \".format(i),s1)\n",
    "    i +=1\n",
    "    if i == 10:\n",
    "        break\n",
    "print(\"\\n\\n Total Number of Entries in the excel:\", total)\n",
    "# assert(total== len(df[\"SourceName\"]))"
   ]
  },
  {
   "cell_type": "markdown",
   "metadata": {},
   "source": [
    "### Number of times each condition appear\n"
   ]
  },
  {
   "cell_type": "code",
   "execution_count": null,
   "metadata": {},
   "outputs": [],
   "source": [
    "for k in conditions.keys():\n",
    "    if k == \"Recover\":\n",
    "        continue\n",
    "    print(k,conditions[k])\n",
    "\n",
    "print(\"Recover\", conditions[\"Recover\"]) ### including \"NR\" message"
   ]
  },
  {
   "cell_type": "markdown",
   "metadata": {},
   "source": [
    "### Displaying Messages of top SourceName alarms (oreder by EventTime)\n",
    "Which message is related to which message (i.e., activation and deactivation) ?\n"
   ]
  },
  {
   "cell_type": "code",
   "execution_count": null,
   "metadata": {
    "jupyter": {
     "outputs_hidden": true
    }
   },
   "outputs": [],
   "source": [
    "# conditions = {k:v for k,v in sorted(conditions.items(), key=lambda item: item[1], reverse=True)}\n",
    "\n",
    "i = 0\n",
    "for sname in source_conditions.keys():\n",
    "    \n",
    "    print(\"=======Source {}: {}========\".format(i,sname))\n",
    "    single_source_alarms = sources[sname]\n",
    "    single_source_alarms = [v for v in sorted(single_source_alarms, key=lambda arg: arg[\"EventTime\"], reverse = False) ]\n",
    "    \n",
    "    j = 0\n",
    "    for alarm in single_source_alarms:\n",
    "        print(\"{},---,{},--- Message: {}\".format(alarm[\"EventTime\"],alarm[\"Condition\"], alarm[\"Message\"]))\n",
    "        j += 1\n",
    "        if j == 30:\n",
    "            break\n",
    "    i += 1\n",
    "    if i == 10:\n",
    "        break\n"
   ]
  },
  {
   "cell_type": "markdown",
   "metadata": {},
   "source": [
    "### **Find the duration of activation of each Alarm i.e., duration =  DeactivationTime - ActivationTime**\n",
    "\n",
    "Compute mean, median, mode, on the duration...\n",
    "\n",
    "**Deactivation of an Alarm:**\n",
    "* Recover : The alram is deactivated.\n",
    "* IOP  : Communication between the DCS and field is cut off (alarm activated).\n",
    "* IOP + Recover: communication problem is solved and the alarm is deactivated. \n",
    "* ALM : It represent alarm is activated\n",
    "* NR : The alarm is returned to normal state.\n"
   ]
  },
  {
   "cell_type": "code",
   "execution_count": null,
   "metadata": {},
   "outputs": [],
   "source": [
    "from datetime import timedelta\n",
    "import statistics\n",
    "\n",
    "def getDurationAndStats(alarms):\n",
    "    \"\"\"Returns list of dict and stats dictionary\"\"\"\n",
    "#     queue = []\n",
    "    conditions_queues = {}\n",
    "    stats = {} \n",
    "    start_end = []\n",
    "    d = None\n",
    "    alarms = [v for v in sorted(alarms, key=lambda arg: arg[\"EventTime\"], reverse = False)]\n",
    "    for alarm in alarms:\n",
    "#         print(alarm[\"Message\"])\n",
    "        if conditions_queues.get(alarm[\"Condition\"]) == None:\n",
    "            conditions_queues[alarm[\"Condition\"]] = []\n",
    "\n",
    "        if alarm[\"Message\"].find(\"Recover\") == -1 and alarm[\"Message\"].find(\"NR\") == -1:\n",
    "            conditions_queues[alarm[\"Condition\"]].append(alarm) # enqueue the activation\n",
    "        else:\n",
    "            if len(conditions_queues[alarm[\"Condition\"]])== 0:\n",
    "#                 print(\"(\", alarm[\"SourceName\"],alarm[\"Message\"], \")\")\n",
    "                continue\n",
    "            d = conditions_queues[alarm[\"Condition\"]].pop(0) # dequeue\n",
    "            d = {k:v for k,v in d.items()}\n",
    "            d[\"StartTime\"] = d[\"EventTime\"]\n",
    "            d[\"EndTime\"] = alarm[\"EventTime\"]\n",
    "            d[\"EndMessage\"] = alarm[\"Message\"]\n",
    "            del d[\"EventTime\"]\n",
    "            \n",
    "            start_end.append(d)\n",
    "#     print(\"Remaining Elements in Queue\", len(queue))\n",
    "    temps = []\n",
    "    for alarm in start_end:\n",
    "        temps.append(timedelta.total_seconds (alarm[\"EndTime\"]-alarm[\"StartTime\"]))\n",
    "\n",
    "    stats[\"timedeltas\"] = [v for v in sorted(temps)]\n",
    "    stats[\"mean\"] =  round(statistics.mean(stats[\"timedeltas\"]),3) \n",
    "    stats[\"median\"] = statistics.median(stats[\"timedeltas\"])\n",
    "    stats[\"mode\"] = statistics.mode(stats[\"timedeltas\"])\n",
    "    stats[\"min\"] = stats[\"timedeltas\"][0]\n",
    "    stats[\"max\"] = stats[\"timedeltas\"][-1]\n",
    "    return (start_end, stats)"
   ]
  },
  {
   "cell_type": "code",
   "execution_count": null,
   "metadata": {},
   "outputs": [],
   "source": [
    "i = 0\n",
    "for key in source_conditions.keys():\n",
    "    d = source_conditions[key]  \n",
    "    print(\"{}. Source: {}, # of activations= {}, # of deactivations = {}, Diff = {}\".format(i,key, d[\"Total\"]-d[\"Recover\"], d[\"Recover\"], (d[\"Total\"]-d[\"Recover\"])-d[\"Recover\"]))\n",
    "    i += 1\n",
    "    if i > 4:\n",
    "        break\n",
    "\n",
    "print (\"==================================================================================\")\n",
    "i = 1\n",
    "for sname in source_conditions.keys():\n",
    "#     sname = \"48TIC2026\"\n",
    "    if i > 10: \n",
    "        break\n",
    "      \n",
    "    alarms = sources[sname]\n",
    "    _, stats = getDurationAndStats(alarms)\n",
    "    print(\"{}. source:{}, Total alarms:{} | min = {}, max = {}, median = {}, mode = {}, mean = {}\".format(i,sname,len(stats[\"timedeltas\"]) ,stats[\"min\"], stats[\"max\"], stats[\"median\"], stats[\"mode\"], stats[\"mean\"]))\n",
    "    i += 1\n",
    "print(\"Note: All the stats are in secods\")"
   ]
  },
  {
   "cell_type": "markdown",
   "metadata": {},
   "source": [
    "# Exporintg results to csv\n"
   ]
  },
  {
   "cell_type": "code",
   "execution_count": null,
   "metadata": {},
   "outputs": [],
   "source": [
    "csv = {\"SourceName\":[],\"StartTime\":[], \"EndTime\": [] , \"Message\" : [], \"RecoveryMessage\":[] ,\"Quality\": [],\"Condition\":[],\"Mask\":[],\"NewState\": [],\"Status\": [],\"TimeDelta\": []} \n",
    "\n",
    "i = 1\n",
    "for sname in source_conditions.keys():\n",
    "#     sname = \"48TIC2026\"\n",
    "    if i > 10: \n",
    "        break\n",
    "    i += 1    \n",
    "#     sname = \"48TIC2026\"\n",
    "\n",
    "    alarms = sources[sname]\n",
    "    alarms,stats = getDurationAndStats(alarms)\n",
    "\n",
    "    for alarm in alarms:\n",
    "        csv[\"SourceName\"].append(alarm[\"SourceName\"]) \n",
    "        csv[\"StartTime\"].append(alarm[\"StartTime\"]) \n",
    "        csv[\"EndTime\"].append(alarm[\"EndTime\"])\n",
    "        csv[\"TimeDelta\"].append(timedelta.total_seconds (alarm[\"EndTime\"]-alarm[\"StartTime\"]))\n",
    "        csv[\"Message\"].append(alarm[\"Message\"])\n",
    "        csv[\"RecoveryMessage\"].append(alarm[\"EndMessage\"])\n",
    "        csv[\"Quality\"].append(alarm[\"Quality\"])\n",
    "        csv[\"Condition\"].append(alarm[\"Condition\"])\n",
    "        csv[\"Mask\"].append(alarm[\"Mask\"])\n",
    "        csv[\"NewState\"].append(alarm[\"NewState\"])\n",
    "        csv[\"Status\"].append(alarm[\"Status\"])\n",
    "\n",
    "\n",
    "print(\"Total Entries :\", len(csv[\"Status\"]))\n",
    "df = pd.DataFrame(csv)\n",
    "df.to_csv(\"stats.csv\", index = False)\n"
   ]
  },
  {
   "cell_type": "code",
   "execution_count": null,
   "metadata": {},
   "outputs": [],
   "source": [
    "\n",
    "fig = px.box(csv, y=\"TimeDelta\", color=\"SourceName\",notched=True)\n",
    "fig.show()\n",
    "\n",
    "fig = px.violin(csv, y=\"TimeDelta\", color=\"SourceName\", box=True, points=\"all\")\n",
    "fig.show()\n",
    "\n",
    "fig = px.scatter(csv, x=\"StartTime\", y=\"TimeDelta\",facet_col=\"SourceName\", render_mode=\"webgl\")\n",
    "fig.show()\n",
    "\n",
    "fig = px.density_heatmap(df, x=\"SourceName\",y=\"TimeDelta\", template=\"seaborn\")\n",
    "fig.show()\n",
    "\n",
    "fig = px.scatter_matrix(csv, dimensions=[\"SourceName\", \"TimeDelta\", \"Condition\"])\n",
    "fig.show()\n",
    "\n",
    "fig = px.parallel_coordinates(csv,  labels={\"SourceName\": \"Source\",\n",
    "                  \"StartTime\": \"Start\",\"TimeDelta\": \"Delta\", \"Condition\": \"Condition\",},\n",
    "                    color_continuous_scale=px.colors.diverging.Tealrose, color_continuous_midpoint=2)\n",
    "fig.show()\n"
   ]
  },
  {
   "cell_type": "code",
   "execution_count": null,
   "metadata": {},
   "outputs": [],
   "source": []
  }
 ],
 "metadata": {
  "file_extension": ".py",
  "kernelspec": {
   "display_name": "Python 3.8.1 64-bit ('tupras': conda)",
   "language": "python",
   "name": "python38164bittuprasconda29eef5dda6c1493eac8cbe71aa58a6d6"
  },
  "language_info": {
   "codemirror_mode": {
    "name": "ipython",
    "version": 3
   },
   "file_extension": ".py",
   "mimetype": "text/x-python",
   "name": "python",
   "nbconvert_exporter": "python",
   "pygments_lexer": "ipython3",
   "version": "3.8.1"
  },
  "mimetype": "text/x-python",
  "name": "python",
  "npconvert_exporter": "python",
  "pygments_lexer": "ipython3",
  "version": 3
 },
 "nbformat": 4,
 "nbformat_minor": 4
}
