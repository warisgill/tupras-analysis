{
 "cells": [
  {
   "cell_type": "markdown",
   "metadata": {},
   "source": [
    "### Summary\n",
    "Concatination of raw csv files into 1 file"
   ]
  },
  {
   "cell_type": "code",
   "execution_count": 1,
   "metadata": {},
   "outputs": [],
   "source": [
    "import numpy as np\n",
    "import json\n",
    "import pandas as pd\n",
    "from datetime import datetime\n",
    "from dateutil.parser import parse"
   ]
  },
  {
   "cell_type": "code",
   "execution_count": 2,
   "metadata": {},
   "outputs": [],
   "source": [
    "f0 = \"formatted-pre-2-march2019.csv\"\n",
    "f1 = \"formatted-pre-2-nisan2019.csv\"\n",
    "f2 = \"formatted-pre-2-mayis2019.csv\" \n",
    "f3 = \"formatted-pre-2-haziran2019.csv\"\n",
    "\n",
    "output_f = 'formatted-main-alarms.csv' \n",
    "\n",
    "path = \"./data/new/\"\n",
    "df0 = pd.read_csv(path + f0, parse_dates = [\"StartTime\",\"EndTime\"])\n",
    "df1 = pd.read_csv(path + f1, parse_dates = [\"StartTime\",\"EndTime\"])\n",
    "df2 = pd.read_csv(path + f2, parse_dates = [\"StartTime\",\"EndTime\"])\n",
    "df3 = pd.read_csv(path + f3, parse_dates = [\"StartTime\",\"EndTime\"])\n"
   ]
  },
  {
   "cell_type": "code",
   "execution_count": 3,
   "metadata": {},
   "outputs": [
    {
     "output_type": "execute_result",
     "data": {
      "text/plain": "       MachineName SourceName  \\\n300882      PHD47B   47FI3016   \n300883      PHD47B   47FI3016   \n\n                                                  Message  Quality Condition  \\\n300882  47FI3016 MANIF.YAG. KOND.URETIMI PV = 20.3 m3/...        0       IOP   \n300883  47FI3016 MANIF.YAG. KOND.URETIMI PV = 20.7 m3/...        0       IOP   \n\n        Mask  NewState  Status           StartTime             EndTime  \\\n300882   249         3       1 2019-03-18 01:10:15 2019-03-18 01:10:17   \n300883   201         3       1 2019-03-18 21:04:49 2019-03-18 21:04:50   \n\n                                               EndMessage  \n300882  47FI3016 MANIF.YAG. KOND.URETIMI PV = 21.0 m3/...  \n300883  47FI3016 MANIF.YAG. KOND.URETIMI PV = 21.1 m3/...  ",
      "text/html": "<div>\n<style scoped>\n    .dataframe tbody tr th:only-of-type {\n        vertical-align: middle;\n    }\n\n    .dataframe tbody tr th {\n        vertical-align: top;\n    }\n\n    .dataframe thead th {\n        text-align: right;\n    }\n</style>\n<table border=\"1\" class=\"dataframe\">\n  <thead>\n    <tr style=\"text-align: right;\">\n      <th></th>\n      <th>MachineName</th>\n      <th>SourceName</th>\n      <th>Message</th>\n      <th>Quality</th>\n      <th>Condition</th>\n      <th>Mask</th>\n      <th>NewState</th>\n      <th>Status</th>\n      <th>StartTime</th>\n      <th>EndTime</th>\n      <th>EndMessage</th>\n    </tr>\n  </thead>\n  <tbody>\n    <tr>\n      <th>300882</th>\n      <td>PHD47B</td>\n      <td>47FI3016</td>\n      <td>47FI3016 MANIF.YAG. KOND.URETIMI PV = 20.3 m3/...</td>\n      <td>0</td>\n      <td>IOP</td>\n      <td>249</td>\n      <td>3</td>\n      <td>1</td>\n      <td>2019-03-18 01:10:15</td>\n      <td>2019-03-18 01:10:17</td>\n      <td>47FI3016 MANIF.YAG. KOND.URETIMI PV = 21.0 m3/...</td>\n    </tr>\n    <tr>\n      <th>300883</th>\n      <td>PHD47B</td>\n      <td>47FI3016</td>\n      <td>47FI3016 MANIF.YAG. KOND.URETIMI PV = 20.7 m3/...</td>\n      <td>0</td>\n      <td>IOP</td>\n      <td>201</td>\n      <td>3</td>\n      <td>1</td>\n      <td>2019-03-18 21:04:49</td>\n      <td>2019-03-18 21:04:50</td>\n      <td>47FI3016 MANIF.YAG. KOND.URETIMI PV = 21.1 m3/...</td>\n    </tr>\n  </tbody>\n</table>\n</div>"
     },
     "metadata": {},
     "execution_count": 3
    }
   ],
   "source": [
    "df0.tail(2)"
   ]
  },
  {
   "cell_type": "code",
   "execution_count": 4,
   "metadata": {},
   "outputs": [
    {
     "output_type": "execute_result",
     "data": {
      "text/plain": "       MachineName   SourceName  \\\n633566      PHD47B  47FI2010BCD   \n633567      PHD47B  47FI2010BCD   \n\n                                                  Message  Quality Condition  \\\n633566  47FI2010BCD 47F-201 DUSUK HC KORUMAS PV = 0.0 ...      192      LTRP   \n633567  47FI2010BCD 47F-201 DUSUK HC KORUMAS PV = 0.0 ...      192       LLL   \n\n        Mask  NewState  Status           StartTime             EndTime  \\\n633566   241         3       0 2019-04-30 12:26:16 2019-04-30 16:55:11   \n633567   241         3       0 2019-04-30 12:26:16 2019-04-30 16:55:11   \n\n                                               EndMessage  \n633566  47FI2010BCD 47F-201 DUSUK HC KORUMAS PV =42866...  \n633567  47FI2010BCD 47F-201 DUSUK HC KORUMAS PV =42866...  ",
      "text/html": "<div>\n<style scoped>\n    .dataframe tbody tr th:only-of-type {\n        vertical-align: middle;\n    }\n\n    .dataframe tbody tr th {\n        vertical-align: top;\n    }\n\n    .dataframe thead th {\n        text-align: right;\n    }\n</style>\n<table border=\"1\" class=\"dataframe\">\n  <thead>\n    <tr style=\"text-align: right;\">\n      <th></th>\n      <th>MachineName</th>\n      <th>SourceName</th>\n      <th>Message</th>\n      <th>Quality</th>\n      <th>Condition</th>\n      <th>Mask</th>\n      <th>NewState</th>\n      <th>Status</th>\n      <th>StartTime</th>\n      <th>EndTime</th>\n      <th>EndMessage</th>\n    </tr>\n  </thead>\n  <tbody>\n    <tr>\n      <th>633566</th>\n      <td>PHD47B</td>\n      <td>47FI2010BCD</td>\n      <td>47FI2010BCD 47F-201 DUSUK HC KORUMAS PV = 0.0 ...</td>\n      <td>192</td>\n      <td>LTRP</td>\n      <td>241</td>\n      <td>3</td>\n      <td>0</td>\n      <td>2019-04-30 12:26:16</td>\n      <td>2019-04-30 16:55:11</td>\n      <td>47FI2010BCD 47F-201 DUSUK HC KORUMAS PV =42866...</td>\n    </tr>\n    <tr>\n      <th>633567</th>\n      <td>PHD47B</td>\n      <td>47FI2010BCD</td>\n      <td>47FI2010BCD 47F-201 DUSUK HC KORUMAS PV = 0.0 ...</td>\n      <td>192</td>\n      <td>LLL</td>\n      <td>241</td>\n      <td>3</td>\n      <td>0</td>\n      <td>2019-04-30 12:26:16</td>\n      <td>2019-04-30 16:55:11</td>\n      <td>47FI2010BCD 47F-201 DUSUK HC KORUMAS PV =42866...</td>\n    </tr>\n  </tbody>\n</table>\n</div>"
     },
     "metadata": {},
     "execution_count": 4
    }
   ],
   "source": [
    "df1.tail(2)"
   ]
  },
  {
   "cell_type": "code",
   "execution_count": 5,
   "metadata": {},
   "outputs": [
    {
     "output_type": "execute_result",
     "data": {
      "text/plain": "       MachineName SourceName                                     Message  \\\n357723      PHD47B    48TI004  48TI004 F-1 RX. YAN.BOLGESI PV = 1203 C HI   \n357724      PHD47B    48TI004  48TI004 F-1 RX. YAN.BOLGESI PV = 1203 C HH   \n\n        Quality Condition  Mask  NewState  Status           StartTime  \\\n357723      192        HI   241         3       0 2019-05-24 10:29:01   \n357724      192        HH   241         3       0 2019-05-24 10:29:01   \n\n                   EndTime                                         EndMessage  \n357723 2019-05-24 11:17:16  48TI004 F-1 RX. YAN.BOLGESI PV = 958 C HI Recover  \n357724 2019-05-24 11:17:16  48TI004 F-1 RX. YAN.BOLGESI PV = 958 C HH Recover  ",
      "text/html": "<div>\n<style scoped>\n    .dataframe tbody tr th:only-of-type {\n        vertical-align: middle;\n    }\n\n    .dataframe tbody tr th {\n        vertical-align: top;\n    }\n\n    .dataframe thead th {\n        text-align: right;\n    }\n</style>\n<table border=\"1\" class=\"dataframe\">\n  <thead>\n    <tr style=\"text-align: right;\">\n      <th></th>\n      <th>MachineName</th>\n      <th>SourceName</th>\n      <th>Message</th>\n      <th>Quality</th>\n      <th>Condition</th>\n      <th>Mask</th>\n      <th>NewState</th>\n      <th>Status</th>\n      <th>StartTime</th>\n      <th>EndTime</th>\n      <th>EndMessage</th>\n    </tr>\n  </thead>\n  <tbody>\n    <tr>\n      <th>357723</th>\n      <td>PHD47B</td>\n      <td>48TI004</td>\n      <td>48TI004 F-1 RX. YAN.BOLGESI PV = 1203 C HI</td>\n      <td>192</td>\n      <td>HI</td>\n      <td>241</td>\n      <td>3</td>\n      <td>0</td>\n      <td>2019-05-24 10:29:01</td>\n      <td>2019-05-24 11:17:16</td>\n      <td>48TI004 F-1 RX. YAN.BOLGESI PV = 958 C HI Recover</td>\n    </tr>\n    <tr>\n      <th>357724</th>\n      <td>PHD47B</td>\n      <td>48TI004</td>\n      <td>48TI004 F-1 RX. YAN.BOLGESI PV = 1203 C HH</td>\n      <td>192</td>\n      <td>HH</td>\n      <td>241</td>\n      <td>3</td>\n      <td>0</td>\n      <td>2019-05-24 10:29:01</td>\n      <td>2019-05-24 11:17:16</td>\n      <td>48TI004 F-1 RX. YAN.BOLGESI PV = 958 C HH Recover</td>\n    </tr>\n  </tbody>\n</table>\n</div>"
     },
     "metadata": {},
     "execution_count": 5
    }
   ],
   "source": [
    "df2.tail(2)"
   ]
  },
  {
   "cell_type": "code",
   "execution_count": 6,
   "metadata": {},
   "outputs": [
    {
     "output_type": "execute_result",
     "data": {
      "text/plain": "       MachineName SourceName  \\\n919453      PHD47B  47PIC1760   \n919454      PHD47B   47TI1003   \n\n                                                  Message  Quality Condition  \\\n919453  47PIC1760 E-132 SOGUK CIKIS TARAFI PV = 3.00 K...      192        LL   \n919454                  47TI1003 50 STEAM PV = 145.0 C LO      192        LO   \n\n        Mask  NewState  Status           StartTime             EndTime  \\\n919453   241         3       0 2019-06-29 06:23:58 2019-06-29 07:09:34   \n919454   241         3       0 2019-06-29 06:21:24 2019-06-29 07:19:23   \n\n                                               EndMessage  \n919453  47PIC1760 E-132 SOGUK CIKIS TARAFI PV = 3.14 K...  \n919454          47TI1003 50 STEAM PV = 149.0 C LO Recover  ",
      "text/html": "<div>\n<style scoped>\n    .dataframe tbody tr th:only-of-type {\n        vertical-align: middle;\n    }\n\n    .dataframe tbody tr th {\n        vertical-align: top;\n    }\n\n    .dataframe thead th {\n        text-align: right;\n    }\n</style>\n<table border=\"1\" class=\"dataframe\">\n  <thead>\n    <tr style=\"text-align: right;\">\n      <th></th>\n      <th>MachineName</th>\n      <th>SourceName</th>\n      <th>Message</th>\n      <th>Quality</th>\n      <th>Condition</th>\n      <th>Mask</th>\n      <th>NewState</th>\n      <th>Status</th>\n      <th>StartTime</th>\n      <th>EndTime</th>\n      <th>EndMessage</th>\n    </tr>\n  </thead>\n  <tbody>\n    <tr>\n      <th>919453</th>\n      <td>PHD47B</td>\n      <td>47PIC1760</td>\n      <td>47PIC1760 E-132 SOGUK CIKIS TARAFI PV = 3.00 K...</td>\n      <td>192</td>\n      <td>LL</td>\n      <td>241</td>\n      <td>3</td>\n      <td>0</td>\n      <td>2019-06-29 06:23:58</td>\n      <td>2019-06-29 07:09:34</td>\n      <td>47PIC1760 E-132 SOGUK CIKIS TARAFI PV = 3.14 K...</td>\n    </tr>\n    <tr>\n      <th>919454</th>\n      <td>PHD47B</td>\n      <td>47TI1003</td>\n      <td>47TI1003 50 STEAM PV = 145.0 C LO</td>\n      <td>192</td>\n      <td>LO</td>\n      <td>241</td>\n      <td>3</td>\n      <td>0</td>\n      <td>2019-06-29 06:21:24</td>\n      <td>2019-06-29 07:19:23</td>\n      <td>47TI1003 50 STEAM PV = 149.0 C LO Recover</td>\n    </tr>\n  </tbody>\n</table>\n</div>"
     },
     "metadata": {},
     "execution_count": 6
    }
   ],
   "source": [
    "df3.tail(2)"
   ]
  },
  {
   "cell_type": "code",
   "execution_count": 7,
   "metadata": {},
   "outputs": [
    {
     "output_type": "execute_result",
     "data": {
      "text/plain": "        MachineName       SourceName  \\\n0            PHD47B        48FIX2040   \n1            PHD47B        48FIX2040   \n2            PHD47B        48FIX2040   \n3            PHD47B        48FIX2040   \n4            PHD47B        48FIX2040   \n...             ...              ...   \n2211627      PHD47B    47XL2016A-ANN   \n2211628      PHD47B  47APC_NS_ON-ANN   \n2211629      PHD47B        47PIC1760   \n2211630      PHD47B        47PIC1760   \n2211631      PHD47B         47TI1003   \n\n                                                   Message  Quality Condition  \\\n0         48FIX2040 C206'DAN C4'E A.GAZ CPV = -1 m3/h IOP-      192      IOP-   \n1         48FIX2040 C206'DAN C4'E A.GAZ CPV = -1 m3/h IOP-      192      IOP-   \n2         48FIX2040 C206'DAN C4'E A.GAZ CPV = -1 m3/h IOP-      192      IOP-   \n3         48FIX2040 C206'DAN C4'E A.GAZ CPV = -1 m3/h IOP-      192      IOP-   \n4         48FIX2040 C206'DAN C4'E A.GAZ CPV = -1 m3/h IOP-      192      IOP-   \n...                                                    ...      ...       ...   \n2211627                   47XL2016A-AN 47E-205A STATUS ALM      192       ALM   \n2211628          47APC_NS_ON- 47NAFTASPLIT APC DEVREDE ALM      192       ALM   \n2211629  47PIC1760 E-132 SOGUK CIKIS TARAFI PV = 3.00 K...      192        LO   \n2211630  47PIC1760 E-132 SOGUK CIKIS TARAFI PV = 3.00 K...      192        LL   \n2211631                  47TI1003 50 STEAM PV = 145.0 C LO      192        LO   \n\n         Mask  NewState  Status           StartTime             EndTime  \\\n0         193         3       1 2019-03-06 13:19:00 2019-03-06 13:19:02   \n1         193         3       1 2019-03-06 13:19:24 2019-03-06 13:19:26   \n2         193         3       1 2019-03-06 13:19:35 2019-03-06 13:19:36   \n3         193         3       1 2019-03-06 13:19:38 2019-03-06 13:19:39   \n4         193         3       1 2019-03-06 13:19:47 2019-03-06 13:19:48   \n...       ...       ...     ...                 ...                 ...   \n2211627   193         3       0 2019-06-25 14:45:09 2019-06-25 14:48:37   \n2211628   241         3       0 2019-06-28 10:36:36 2019-06-28 10:36:37   \n2211629   241         3       0 2019-06-29 06:23:58 2019-06-29 07:09:34   \n2211630   241         3       0 2019-06-29 06:23:58 2019-06-29 07:09:34   \n2211631   241         3       0 2019-06-29 06:21:24 2019-06-29 07:19:23   \n\n                                                EndMessage  \n0        48FIX2040 C206'DAN C4'E A.GAZ CPV = -1 m3/h IO...  \n1        48FIX2040 C206'DAN C4'E A.GAZ CPV = -1 m3/h IO...  \n2        48FIX2040 C206'DAN C4'E A.GAZ CPV = -1 m3/h IO...  \n3        48FIX2040 C206'DAN C4'E A.GAZ CPV = -1 m3/h IO...  \n4        48FIX2040 C206'DAN C4'E A.GAZ CPV = -1 m3/h IO...  \n...                                                    ...  \n2211627                    47XL2016A-AN 47E-205A STATUS NR  \n2211628           47APC_NS_ON- 47NAFTASPLIT APC DEVREDE NR  \n2211629  47PIC1760 E-132 SOGUK CIKIS TARAFI PV = 3.14 K...  \n2211630  47PIC1760 E-132 SOGUK CIKIS TARAFI PV = 3.14 K...  \n2211631          47TI1003 50 STEAM PV = 149.0 C LO Recover  \n\n[2211632 rows x 11 columns]",
      "text/html": "<div>\n<style scoped>\n    .dataframe tbody tr th:only-of-type {\n        vertical-align: middle;\n    }\n\n    .dataframe tbody tr th {\n        vertical-align: top;\n    }\n\n    .dataframe thead th {\n        text-align: right;\n    }\n</style>\n<table border=\"1\" class=\"dataframe\">\n  <thead>\n    <tr style=\"text-align: right;\">\n      <th></th>\n      <th>MachineName</th>\n      <th>SourceName</th>\n      <th>Message</th>\n      <th>Quality</th>\n      <th>Condition</th>\n      <th>Mask</th>\n      <th>NewState</th>\n      <th>Status</th>\n      <th>StartTime</th>\n      <th>EndTime</th>\n      <th>EndMessage</th>\n    </tr>\n  </thead>\n  <tbody>\n    <tr>\n      <th>0</th>\n      <td>PHD47B</td>\n      <td>48FIX2040</td>\n      <td>48FIX2040 C206'DAN C4'E A.GAZ CPV = -1 m3/h IOP-</td>\n      <td>192</td>\n      <td>IOP-</td>\n      <td>193</td>\n      <td>3</td>\n      <td>1</td>\n      <td>2019-03-06 13:19:00</td>\n      <td>2019-03-06 13:19:02</td>\n      <td>48FIX2040 C206'DAN C4'E A.GAZ CPV = -1 m3/h IO...</td>\n    </tr>\n    <tr>\n      <th>1</th>\n      <td>PHD47B</td>\n      <td>48FIX2040</td>\n      <td>48FIX2040 C206'DAN C4'E A.GAZ CPV = -1 m3/h IOP-</td>\n      <td>192</td>\n      <td>IOP-</td>\n      <td>193</td>\n      <td>3</td>\n      <td>1</td>\n      <td>2019-03-06 13:19:24</td>\n      <td>2019-03-06 13:19:26</td>\n      <td>48FIX2040 C206'DAN C4'E A.GAZ CPV = -1 m3/h IO...</td>\n    </tr>\n    <tr>\n      <th>2</th>\n      <td>PHD47B</td>\n      <td>48FIX2040</td>\n      <td>48FIX2040 C206'DAN C4'E A.GAZ CPV = -1 m3/h IOP-</td>\n      <td>192</td>\n      <td>IOP-</td>\n      <td>193</td>\n      <td>3</td>\n      <td>1</td>\n      <td>2019-03-06 13:19:35</td>\n      <td>2019-03-06 13:19:36</td>\n      <td>48FIX2040 C206'DAN C4'E A.GAZ CPV = -1 m3/h IO...</td>\n    </tr>\n    <tr>\n      <th>3</th>\n      <td>PHD47B</td>\n      <td>48FIX2040</td>\n      <td>48FIX2040 C206'DAN C4'E A.GAZ CPV = -1 m3/h IOP-</td>\n      <td>192</td>\n      <td>IOP-</td>\n      <td>193</td>\n      <td>3</td>\n      <td>1</td>\n      <td>2019-03-06 13:19:38</td>\n      <td>2019-03-06 13:19:39</td>\n      <td>48FIX2040 C206'DAN C4'E A.GAZ CPV = -1 m3/h IO...</td>\n    </tr>\n    <tr>\n      <th>4</th>\n      <td>PHD47B</td>\n      <td>48FIX2040</td>\n      <td>48FIX2040 C206'DAN C4'E A.GAZ CPV = -1 m3/h IOP-</td>\n      <td>192</td>\n      <td>IOP-</td>\n      <td>193</td>\n      <td>3</td>\n      <td>1</td>\n      <td>2019-03-06 13:19:47</td>\n      <td>2019-03-06 13:19:48</td>\n      <td>48FIX2040 C206'DAN C4'E A.GAZ CPV = -1 m3/h IO...</td>\n    </tr>\n    <tr>\n      <th>...</th>\n      <td>...</td>\n      <td>...</td>\n      <td>...</td>\n      <td>...</td>\n      <td>...</td>\n      <td>...</td>\n      <td>...</td>\n      <td>...</td>\n      <td>...</td>\n      <td>...</td>\n      <td>...</td>\n    </tr>\n    <tr>\n      <th>2211627</th>\n      <td>PHD47B</td>\n      <td>47XL2016A-ANN</td>\n      <td>47XL2016A-AN 47E-205A STATUS ALM</td>\n      <td>192</td>\n      <td>ALM</td>\n      <td>193</td>\n      <td>3</td>\n      <td>0</td>\n      <td>2019-06-25 14:45:09</td>\n      <td>2019-06-25 14:48:37</td>\n      <td>47XL2016A-AN 47E-205A STATUS NR</td>\n    </tr>\n    <tr>\n      <th>2211628</th>\n      <td>PHD47B</td>\n      <td>47APC_NS_ON-ANN</td>\n      <td>47APC_NS_ON- 47NAFTASPLIT APC DEVREDE ALM</td>\n      <td>192</td>\n      <td>ALM</td>\n      <td>241</td>\n      <td>3</td>\n      <td>0</td>\n      <td>2019-06-28 10:36:36</td>\n      <td>2019-06-28 10:36:37</td>\n      <td>47APC_NS_ON- 47NAFTASPLIT APC DEVREDE NR</td>\n    </tr>\n    <tr>\n      <th>2211629</th>\n      <td>PHD47B</td>\n      <td>47PIC1760</td>\n      <td>47PIC1760 E-132 SOGUK CIKIS TARAFI PV = 3.00 K...</td>\n      <td>192</td>\n      <td>LO</td>\n      <td>241</td>\n      <td>3</td>\n      <td>0</td>\n      <td>2019-06-29 06:23:58</td>\n      <td>2019-06-29 07:09:34</td>\n      <td>47PIC1760 E-132 SOGUK CIKIS TARAFI PV = 3.14 K...</td>\n    </tr>\n    <tr>\n      <th>2211630</th>\n      <td>PHD47B</td>\n      <td>47PIC1760</td>\n      <td>47PIC1760 E-132 SOGUK CIKIS TARAFI PV = 3.00 K...</td>\n      <td>192</td>\n      <td>LL</td>\n      <td>241</td>\n      <td>3</td>\n      <td>0</td>\n      <td>2019-06-29 06:23:58</td>\n      <td>2019-06-29 07:09:34</td>\n      <td>47PIC1760 E-132 SOGUK CIKIS TARAFI PV = 3.14 K...</td>\n    </tr>\n    <tr>\n      <th>2211631</th>\n      <td>PHD47B</td>\n      <td>47TI1003</td>\n      <td>47TI1003 50 STEAM PV = 145.0 C LO</td>\n      <td>192</td>\n      <td>LO</td>\n      <td>241</td>\n      <td>3</td>\n      <td>0</td>\n      <td>2019-06-29 06:21:24</td>\n      <td>2019-06-29 07:19:23</td>\n      <td>47TI1003 50 STEAM PV = 149.0 C LO Recover</td>\n    </tr>\n  </tbody>\n</table>\n<p>2211632 rows × 11 columns</p>\n</div>"
     },
     "metadata": {},
     "execution_count": 7
    }
   ],
   "source": [
    "df = pd.concat([df0,df1, df2, df3], ignore_index=True)\n",
    "df.to_csv( path + output_f, index=False)\n",
    "df"
   ]
  },
  {
   "cell_type": "code",
   "execution_count": null,
   "metadata": {},
   "outputs": [],
   "source": []
  }
 ],
 "metadata": {
  "kernelspec": {
   "display_name": "Python 3.8.3 64-bit ('tupras': conda)",
   "language": "python",
   "name": "python38364bittuprascondad3f64d142d7848d8b5ff812324ef08eb"
  },
  "language_info": {
   "codemirror_mode": {
    "name": "ipython",
    "version": 3
   },
   "file_extension": ".py",
   "mimetype": "text/x-python",
   "name": "python",
   "nbconvert_exporter": "python",
   "pygments_lexer": "ipython3",
   "version": "3.8.3-final"
  }
 },
 "nbformat": 4,
 "nbformat_minor": 4
}