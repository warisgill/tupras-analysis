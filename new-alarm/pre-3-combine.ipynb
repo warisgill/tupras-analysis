{
 "cells": [
  {
   "cell_type": "markdown",
   "metadata": {},
   "source": [
    "### Summary\n",
    "Concatination of raw csv files into 1 file"
   ]
  },
  {
   "cell_type": "code",
   "execution_count": 1,
   "metadata": {},
   "outputs": [],
   "source": [
    "import numpy as np\n",
    "import json\n",
    "import pandas as pd\n",
    "from datetime import datetime\n",
    "from dateutil.parser import parse"
   ]
  },
  {
   "cell_type": "code",
   "execution_count": 2,
   "metadata": {},
   "outputs": [],
   "source": [
    "f0 = \"formatted-pre-2-march2019.csv\"\n",
    "f1 = \"formatted-pre-2-nisan2019.csv\"\n",
    "f2 = \"formatted-pre-2-mayis2019.csv\" \n",
    "f3 = \"formatted-pre-2-haziran2019.csv\"\n",
    "\n",
    "output_f = 'formatted-main-alarms.csv' \n",
    "\n",
    "path = \"./data/new/\"\n",
    "df0 = pd.read_csv(path + f0, parse_dates = [\"StartTime\",\"EndTime\"])\n",
    "df1 = pd.read_csv(path + f1, parse_dates = [\"StartTime\",\"EndTime\"])\n",
    "df2 = pd.read_csv(path + f2, parse_dates = [\"StartTime\",\"EndTime\"])\n",
    "df3 = pd.read_csv(path + f3, parse_dates = [\"StartTime\",\"EndTime\"])\n"
   ]
  },
  {
   "cell_type": "code",
   "execution_count": 3,
   "metadata": {},
   "outputs": [
    {
     "output_type": "execute_result",
     "data": {
      "text/plain": "       MachineName    SourceName  \\\n294038      PHD47B     47FI1502C   \n294039      PHD47B  48AAH006-ANN   \n\n                                                  Message  Quality Condition  \\\n294038  47FI1502C 47F-101 FEED FLOW 1. INL PV = 31.98 ...      192       LLL   \n294039              48AAH006-ANN 48F-1 48C-4 H2S ALRM ALM      192       ALM   \n\n        Mask  NewState  Status MessageType           StartTime  \\\n294038   241         3       0  Activation 2019-03-14 20:25:49   \n294039   241         3       0  Activation 2019-03-17 17:26:02   \n\n                   EndTime                                         EndMessage  \n294038 2019-03-14 20:27:06  47FI1502C 47F-101 FEED FLOW 1. INL PV = 32.64 ...  \n294039 2019-03-17 17:26:27               48AAH006-ANN 48F-1 48C-4 H2S ALRM NR  ",
      "text/html": "<div>\n<style scoped>\n    .dataframe tbody tr th:only-of-type {\n        vertical-align: middle;\n    }\n\n    .dataframe tbody tr th {\n        vertical-align: top;\n    }\n\n    .dataframe thead th {\n        text-align: right;\n    }\n</style>\n<table border=\"1\" class=\"dataframe\">\n  <thead>\n    <tr style=\"text-align: right;\">\n      <th></th>\n      <th>MachineName</th>\n      <th>SourceName</th>\n      <th>Message</th>\n      <th>Quality</th>\n      <th>Condition</th>\n      <th>Mask</th>\n      <th>NewState</th>\n      <th>Status</th>\n      <th>MessageType</th>\n      <th>StartTime</th>\n      <th>EndTime</th>\n      <th>EndMessage</th>\n    </tr>\n  </thead>\n  <tbody>\n    <tr>\n      <th>294038</th>\n      <td>PHD47B</td>\n      <td>47FI1502C</td>\n      <td>47FI1502C 47F-101 FEED FLOW 1. INL PV = 31.98 ...</td>\n      <td>192</td>\n      <td>LLL</td>\n      <td>241</td>\n      <td>3</td>\n      <td>0</td>\n      <td>Activation</td>\n      <td>2019-03-14 20:25:49</td>\n      <td>2019-03-14 20:27:06</td>\n      <td>47FI1502C 47F-101 FEED FLOW 1. INL PV = 32.64 ...</td>\n    </tr>\n    <tr>\n      <th>294039</th>\n      <td>PHD47B</td>\n      <td>48AAH006-ANN</td>\n      <td>48AAH006-ANN 48F-1 48C-4 H2S ALRM ALM</td>\n      <td>192</td>\n      <td>ALM</td>\n      <td>241</td>\n      <td>3</td>\n      <td>0</td>\n      <td>Activation</td>\n      <td>2019-03-17 17:26:02</td>\n      <td>2019-03-17 17:26:27</td>\n      <td>48AAH006-ANN 48F-1 48C-4 H2S ALRM NR</td>\n    </tr>\n  </tbody>\n</table>\n</div>"
     },
     "metadata": {},
     "execution_count": 3
    }
   ],
   "source": [
    "df0.tail(2)"
   ]
  },
  {
   "cell_type": "code",
   "execution_count": 4,
   "metadata": {},
   "outputs": [
    {
     "output_type": "execute_result",
     "data": {
      "text/plain": "       MachineName        SourceName  \\\n632983      PHD47B  47APC_FRC_OFF-AN   \n632984      PHD47B          47FI1016   \n\n                                             Message  Quality Condition  Mask  \\\n632983         47APC_FRC_OF 47RXN APC DEVRE DISI ALM      192       ALM   241   \n632984  47FI1016 C13'E D.GAZ AKIMI PV = 4434 m3/h HI      192        HI   241   \n\n        NewState  Status MessageType           StartTime             EndTime  \\\n632983         3       0  Activation 2019-04-10 23:08:35 2019-04-12 12:32:06   \n632984         3       0  Activation 2019-04-03 14:12:47 2019-04-03 14:13:13   \n\n                                               EndMessage  \n632983               47APC_FRC_OF 47RXN APC DEVRE DISI NR  \n632984  47FI1016 C13'E D.GAZ AKIMI PV = 2261 m3/h HI R...  ",
      "text/html": "<div>\n<style scoped>\n    .dataframe tbody tr th:only-of-type {\n        vertical-align: middle;\n    }\n\n    .dataframe tbody tr th {\n        vertical-align: top;\n    }\n\n    .dataframe thead th {\n        text-align: right;\n    }\n</style>\n<table border=\"1\" class=\"dataframe\">\n  <thead>\n    <tr style=\"text-align: right;\">\n      <th></th>\n      <th>MachineName</th>\n      <th>SourceName</th>\n      <th>Message</th>\n      <th>Quality</th>\n      <th>Condition</th>\n      <th>Mask</th>\n      <th>NewState</th>\n      <th>Status</th>\n      <th>MessageType</th>\n      <th>StartTime</th>\n      <th>EndTime</th>\n      <th>EndMessage</th>\n    </tr>\n  </thead>\n  <tbody>\n    <tr>\n      <th>632983</th>\n      <td>PHD47B</td>\n      <td>47APC_FRC_OFF-AN</td>\n      <td>47APC_FRC_OF 47RXN APC DEVRE DISI ALM</td>\n      <td>192</td>\n      <td>ALM</td>\n      <td>241</td>\n      <td>3</td>\n      <td>0</td>\n      <td>Activation</td>\n      <td>2019-04-10 23:08:35</td>\n      <td>2019-04-12 12:32:06</td>\n      <td>47APC_FRC_OF 47RXN APC DEVRE DISI NR</td>\n    </tr>\n    <tr>\n      <th>632984</th>\n      <td>PHD47B</td>\n      <td>47FI1016</td>\n      <td>47FI1016 C13'E D.GAZ AKIMI PV = 4434 m3/h HI</td>\n      <td>192</td>\n      <td>HI</td>\n      <td>241</td>\n      <td>3</td>\n      <td>0</td>\n      <td>Activation</td>\n      <td>2019-04-03 14:12:47</td>\n      <td>2019-04-03 14:13:13</td>\n      <td>47FI1016 C13'E D.GAZ AKIMI PV = 2261 m3/h HI R...</td>\n    </tr>\n  </tbody>\n</table>\n</div>"
     },
     "metadata": {},
     "execution_count": 4
    }
   ],
   "source": [
    "df1.tail(2)"
   ]
  },
  {
   "cell_type": "code",
   "execution_count": 5,
   "metadata": {},
   "outputs": [
    {
     "output_type": "execute_result",
     "data": {
      "text/plain": "       MachineName SourceName                                         Message  \\\n873546      PHD47B   47TI931E  47TI931E C5 1.YTK GIRICCAP SICAK PV = 350 C LO   \n873547      PHD47B   47TI3310     47TI3310 E-302 CIKIS TEMIZ DEA PV = 40 C LO   \n\n        Quality Condition  Mask  NewState  Status MessageType  \\\n873546      192        LO   241         3       0  Activation   \n873547      192        LO   241         3       0  Activation   \n\n                 StartTime             EndTime  \\\n873546 2019-05-13 14:47:25 2019-05-14 05:58:48   \n873547 2019-05-14 09:54:02 2019-05-15 03:55:22   \n\n                                               EndMessage  \n873546  47TI931E C5 1.YTK GIRICCAP SICAK PV = 363 C LO...  \n873547  47TI3310 E-302 CIKIS TEMIZ DEA PV = 44 C LO Re...  ",
      "text/html": "<div>\n<style scoped>\n    .dataframe tbody tr th:only-of-type {\n        vertical-align: middle;\n    }\n\n    .dataframe tbody tr th {\n        vertical-align: top;\n    }\n\n    .dataframe thead th {\n        text-align: right;\n    }\n</style>\n<table border=\"1\" class=\"dataframe\">\n  <thead>\n    <tr style=\"text-align: right;\">\n      <th></th>\n      <th>MachineName</th>\n      <th>SourceName</th>\n      <th>Message</th>\n      <th>Quality</th>\n      <th>Condition</th>\n      <th>Mask</th>\n      <th>NewState</th>\n      <th>Status</th>\n      <th>MessageType</th>\n      <th>StartTime</th>\n      <th>EndTime</th>\n      <th>EndMessage</th>\n    </tr>\n  </thead>\n  <tbody>\n    <tr>\n      <th>873546</th>\n      <td>PHD47B</td>\n      <td>47TI931E</td>\n      <td>47TI931E C5 1.YTK GIRICCAP SICAK PV = 350 C LO</td>\n      <td>192</td>\n      <td>LO</td>\n      <td>241</td>\n      <td>3</td>\n      <td>0</td>\n      <td>Activation</td>\n      <td>2019-05-13 14:47:25</td>\n      <td>2019-05-14 05:58:48</td>\n      <td>47TI931E C5 1.YTK GIRICCAP SICAK PV = 363 C LO...</td>\n    </tr>\n    <tr>\n      <th>873547</th>\n      <td>PHD47B</td>\n      <td>47TI3310</td>\n      <td>47TI3310 E-302 CIKIS TEMIZ DEA PV = 40 C LO</td>\n      <td>192</td>\n      <td>LO</td>\n      <td>241</td>\n      <td>3</td>\n      <td>0</td>\n      <td>Activation</td>\n      <td>2019-05-14 09:54:02</td>\n      <td>2019-05-15 03:55:22</td>\n      <td>47TI3310 E-302 CIKIS TEMIZ DEA PV = 44 C LO Re...</td>\n    </tr>\n  </tbody>\n</table>\n</div>"
     },
     "metadata": {},
     "execution_count": 5
    }
   ],
   "source": [
    "df2.tail(2)"
   ]
  },
  {
   "cell_type": "code",
   "execution_count": 6,
   "metadata": {},
   "outputs": [
    {
     "output_type": "execute_result",
     "data": {
      "text/plain": "       MachineName SourceName  \\\n919342      PHD47B  47TIC927E   \n919343      PHD47B  47LIC2004   \n\n                                                  Message  Quality Condition  \\\n919342  47TIC927E C4 2.YTK GIRICCAP SICAK PV = 385.0 C LO      192        LO   \n919343       47LIC2004 C215 KONDAN.DRAMI PV = 19.3 % VEL+      192      VEL+   \n\n        Mask  NewState  Status MessageType           StartTime  \\\n919342   241         3       0  Activation 2019-06-18 21:56:34   \n919343   241         3       0  Activation 2019-06-20 07:35:30   \n\n                   EndTime                                         EndMessage  \n919342 2019-06-21 00:51:26  47TIC927E C4 2.YTK GIRICCAP SICAK PV = 387.0 C...  \n919343 2019-06-20 07:35:32  47LIC2004 C215 KONDAN.DRAMI PV = 38.6 % VEL+ R...  ",
      "text/html": "<div>\n<style scoped>\n    .dataframe tbody tr th:only-of-type {\n        vertical-align: middle;\n    }\n\n    .dataframe tbody tr th {\n        vertical-align: top;\n    }\n\n    .dataframe thead th {\n        text-align: right;\n    }\n</style>\n<table border=\"1\" class=\"dataframe\">\n  <thead>\n    <tr style=\"text-align: right;\">\n      <th></th>\n      <th>MachineName</th>\n      <th>SourceName</th>\n      <th>Message</th>\n      <th>Quality</th>\n      <th>Condition</th>\n      <th>Mask</th>\n      <th>NewState</th>\n      <th>Status</th>\n      <th>MessageType</th>\n      <th>StartTime</th>\n      <th>EndTime</th>\n      <th>EndMessage</th>\n    </tr>\n  </thead>\n  <tbody>\n    <tr>\n      <th>919342</th>\n      <td>PHD47B</td>\n      <td>47TIC927E</td>\n      <td>47TIC927E C4 2.YTK GIRICCAP SICAK PV = 385.0 C LO</td>\n      <td>192</td>\n      <td>LO</td>\n      <td>241</td>\n      <td>3</td>\n      <td>0</td>\n      <td>Activation</td>\n      <td>2019-06-18 21:56:34</td>\n      <td>2019-06-21 00:51:26</td>\n      <td>47TIC927E C4 2.YTK GIRICCAP SICAK PV = 387.0 C...</td>\n    </tr>\n    <tr>\n      <th>919343</th>\n      <td>PHD47B</td>\n      <td>47LIC2004</td>\n      <td>47LIC2004 C215 KONDAN.DRAMI PV = 19.3 % VEL+</td>\n      <td>192</td>\n      <td>VEL+</td>\n      <td>241</td>\n      <td>3</td>\n      <td>0</td>\n      <td>Activation</td>\n      <td>2019-06-20 07:35:30</td>\n      <td>2019-06-20 07:35:32</td>\n      <td>47LIC2004 C215 KONDAN.DRAMI PV = 38.6 % VEL+ R...</td>\n    </tr>\n  </tbody>\n</table>\n</div>"
     },
     "metadata": {},
     "execution_count": 6
    }
   ],
   "source": [
    "df3.tail(2)"
   ]
  },
  {
   "cell_type": "code",
   "execution_count": 7,
   "metadata": {},
   "outputs": [
    {
     "output_type": "execute_result",
     "data": {
      "text/plain": "        MachineName      SourceName  \\\n0            PHD47B        47TI931A   \n1            PHD47B        47TI931A   \n2            PHD47B        47TI931A   \n3            PHD47B        47TI931A   \n4            PHD47B        47TI931A   \n...             ...             ...   \n2719912      PHD47B        47TI1003   \n2719913      PHD47B  47PDAHH619-ANN   \n2719914      PHD47B         47TI453   \n2719915      PHD47B       47TIC927E   \n2719916      PHD47B       47LIC2004   \n\n                                                   Message  Quality Condition  \\\n0         47TI931A C5 1.YTK GIRDISCAP SICAK PV = 691 C IOP        0       IOP   \n1         47TI931A C5 1.YTK GIRDISCAP SICAK PV = 691 C IOP        0       IOP   \n2         47TI931A C5 1.YTK GIRDISCAP SICAK PV = 691 C IOP        0       IOP   \n3         47TI931A C5 1.YTK GIRDISCAP SICAK PV = 691 C IOP        0       IOP   \n4         47TI931A C5 1.YTK GIRDISCAP SICAK PV = 691 C IOP        0       IOP   \n...                                                    ...      ...       ...   \n2719912                  47TI1003 50 STEAM PV = 145.0 C LO      192        LO   \n2719913      47PDAHH619-ANN K-14 K-1 SEAL OIL FILTRESI ALM      192       ALM   \n2719914         47TI453 E-7 CIKIS REAK.URUNU PV = 190 C HI      192        HI   \n2719915  47TIC927E C4 2.YTK GIRICCAP SICAK PV = 385.0 C LO      192        LO   \n2719916       47LIC2004 C215 KONDAN.DRAMI PV = 19.3 % VEL+      192      VEL+   \n\n         Mask  NewState  Status MessageType           StartTime  \\\n0         201         3       1  Activation 2019-03-06 13:19:17   \n1         201         3       1  Activation 2019-03-06 13:19:35   \n2         201         3       1  Activation 2019-03-06 13:20:24   \n3         201         3       1  Activation 2019-03-06 13:20:30   \n4         201         3       1  Activation 2019-03-06 13:20:51   \n...       ...       ...     ...         ...                 ...   \n2719912   241         3       0  Activation 2019-06-29 06:21:24   \n2719913   241         3       0  Activation 2019-06-21 10:01:32   \n2719914   241         3       0  Activation 2019-06-23 12:08:01   \n2719915   241         3       0  Activation 2019-06-18 21:56:34   \n2719916   241         3       0  Activation 2019-06-20 07:35:30   \n\n                    EndTime                                         EndMessage  \n0       2019-03-06 13:19:33  47TI931A C5 1.YTK GIRDISCAP SICAK PV = 691 C I...  \n1       2019-03-06 13:20:22  47TI931A C5 1.YTK GIRDISCAP SICAK PV = 691 C I...  \n2       2019-03-06 13:20:28  47TI931A C5 1.YTK GIRDISCAP SICAK PV = 691 C I...  \n3       2019-03-06 13:20:49  47TI931A C5 1.YTK GIRDISCAP SICAK PV = 691 C I...  \n4       2019-03-06 13:21:03  47TI931A C5 1.YTK GIRDISCAP SICAK PV = 691 C I...  \n...                     ...                                                ...  \n2719912 2019-06-29 07:19:23          47TI1003 50 STEAM PV = 149.0 C LO Recover  \n2719913 2019-06-21 10:01:38       47PDAHH619-ANN K-14 K-1 SEAL OIL FILTRESI NR  \n2719914 2019-06-24 02:49:52  47TI453 E-7 CIKIS REAK.URUNU PV = 185 C HI Rec...  \n2719915 2019-06-21 00:51:26  47TIC927E C4 2.YTK GIRICCAP SICAK PV = 387.0 C...  \n2719916 2019-06-20 07:35:32  47LIC2004 C215 KONDAN.DRAMI PV = 38.6 % VEL+ R...  \n\n[2719917 rows x 12 columns]",
      "text/html": "<div>\n<style scoped>\n    .dataframe tbody tr th:only-of-type {\n        vertical-align: middle;\n    }\n\n    .dataframe tbody tr th {\n        vertical-align: top;\n    }\n\n    .dataframe thead th {\n        text-align: right;\n    }\n</style>\n<table border=\"1\" class=\"dataframe\">\n  <thead>\n    <tr style=\"text-align: right;\">\n      <th></th>\n      <th>MachineName</th>\n      <th>SourceName</th>\n      <th>Message</th>\n      <th>Quality</th>\n      <th>Condition</th>\n      <th>Mask</th>\n      <th>NewState</th>\n      <th>Status</th>\n      <th>MessageType</th>\n      <th>StartTime</th>\n      <th>EndTime</th>\n      <th>EndMessage</th>\n    </tr>\n  </thead>\n  <tbody>\n    <tr>\n      <th>0</th>\n      <td>PHD47B</td>\n      <td>47TI931A</td>\n      <td>47TI931A C5 1.YTK GIRDISCAP SICAK PV = 691 C IOP</td>\n      <td>0</td>\n      <td>IOP</td>\n      <td>201</td>\n      <td>3</td>\n      <td>1</td>\n      <td>Activation</td>\n      <td>2019-03-06 13:19:17</td>\n      <td>2019-03-06 13:19:33</td>\n      <td>47TI931A C5 1.YTK GIRDISCAP SICAK PV = 691 C I...</td>\n    </tr>\n    <tr>\n      <th>1</th>\n      <td>PHD47B</td>\n      <td>47TI931A</td>\n      <td>47TI931A C5 1.YTK GIRDISCAP SICAK PV = 691 C IOP</td>\n      <td>0</td>\n      <td>IOP</td>\n      <td>201</td>\n      <td>3</td>\n      <td>1</td>\n      <td>Activation</td>\n      <td>2019-03-06 13:19:35</td>\n      <td>2019-03-06 13:20:22</td>\n      <td>47TI931A C5 1.YTK GIRDISCAP SICAK PV = 691 C I...</td>\n    </tr>\n    <tr>\n      <th>2</th>\n      <td>PHD47B</td>\n      <td>47TI931A</td>\n      <td>47TI931A C5 1.YTK GIRDISCAP SICAK PV = 691 C IOP</td>\n      <td>0</td>\n      <td>IOP</td>\n      <td>201</td>\n      <td>3</td>\n      <td>1</td>\n      <td>Activation</td>\n      <td>2019-03-06 13:20:24</td>\n      <td>2019-03-06 13:20:28</td>\n      <td>47TI931A C5 1.YTK GIRDISCAP SICAK PV = 691 C I...</td>\n    </tr>\n    <tr>\n      <th>3</th>\n      <td>PHD47B</td>\n      <td>47TI931A</td>\n      <td>47TI931A C5 1.YTK GIRDISCAP SICAK PV = 691 C IOP</td>\n      <td>0</td>\n      <td>IOP</td>\n      <td>201</td>\n      <td>3</td>\n      <td>1</td>\n      <td>Activation</td>\n      <td>2019-03-06 13:20:30</td>\n      <td>2019-03-06 13:20:49</td>\n      <td>47TI931A C5 1.YTK GIRDISCAP SICAK PV = 691 C I...</td>\n    </tr>\n    <tr>\n      <th>4</th>\n      <td>PHD47B</td>\n      <td>47TI931A</td>\n      <td>47TI931A C5 1.YTK GIRDISCAP SICAK PV = 691 C IOP</td>\n      <td>0</td>\n      <td>IOP</td>\n      <td>201</td>\n      <td>3</td>\n      <td>1</td>\n      <td>Activation</td>\n      <td>2019-03-06 13:20:51</td>\n      <td>2019-03-06 13:21:03</td>\n      <td>47TI931A C5 1.YTK GIRDISCAP SICAK PV = 691 C I...</td>\n    </tr>\n    <tr>\n      <th>...</th>\n      <td>...</td>\n      <td>...</td>\n      <td>...</td>\n      <td>...</td>\n      <td>...</td>\n      <td>...</td>\n      <td>...</td>\n      <td>...</td>\n      <td>...</td>\n      <td>...</td>\n      <td>...</td>\n      <td>...</td>\n    </tr>\n    <tr>\n      <th>2719912</th>\n      <td>PHD47B</td>\n      <td>47TI1003</td>\n      <td>47TI1003 50 STEAM PV = 145.0 C LO</td>\n      <td>192</td>\n      <td>LO</td>\n      <td>241</td>\n      <td>3</td>\n      <td>0</td>\n      <td>Activation</td>\n      <td>2019-06-29 06:21:24</td>\n      <td>2019-06-29 07:19:23</td>\n      <td>47TI1003 50 STEAM PV = 149.0 C LO Recover</td>\n    </tr>\n    <tr>\n      <th>2719913</th>\n      <td>PHD47B</td>\n      <td>47PDAHH619-ANN</td>\n      <td>47PDAHH619-ANN K-14 K-1 SEAL OIL FILTRESI ALM</td>\n      <td>192</td>\n      <td>ALM</td>\n      <td>241</td>\n      <td>3</td>\n      <td>0</td>\n      <td>Activation</td>\n      <td>2019-06-21 10:01:32</td>\n      <td>2019-06-21 10:01:38</td>\n      <td>47PDAHH619-ANN K-14 K-1 SEAL OIL FILTRESI NR</td>\n    </tr>\n    <tr>\n      <th>2719914</th>\n      <td>PHD47B</td>\n      <td>47TI453</td>\n      <td>47TI453 E-7 CIKIS REAK.URUNU PV = 190 C HI</td>\n      <td>192</td>\n      <td>HI</td>\n      <td>241</td>\n      <td>3</td>\n      <td>0</td>\n      <td>Activation</td>\n      <td>2019-06-23 12:08:01</td>\n      <td>2019-06-24 02:49:52</td>\n      <td>47TI453 E-7 CIKIS REAK.URUNU PV = 185 C HI Rec...</td>\n    </tr>\n    <tr>\n      <th>2719915</th>\n      <td>PHD47B</td>\n      <td>47TIC927E</td>\n      <td>47TIC927E C4 2.YTK GIRICCAP SICAK PV = 385.0 C LO</td>\n      <td>192</td>\n      <td>LO</td>\n      <td>241</td>\n      <td>3</td>\n      <td>0</td>\n      <td>Activation</td>\n      <td>2019-06-18 21:56:34</td>\n      <td>2019-06-21 00:51:26</td>\n      <td>47TIC927E C4 2.YTK GIRICCAP SICAK PV = 387.0 C...</td>\n    </tr>\n    <tr>\n      <th>2719916</th>\n      <td>PHD47B</td>\n      <td>47LIC2004</td>\n      <td>47LIC2004 C215 KONDAN.DRAMI PV = 19.3 % VEL+</td>\n      <td>192</td>\n      <td>VEL+</td>\n      <td>241</td>\n      <td>3</td>\n      <td>0</td>\n      <td>Activation</td>\n      <td>2019-06-20 07:35:30</td>\n      <td>2019-06-20 07:35:32</td>\n      <td>47LIC2004 C215 KONDAN.DRAMI PV = 38.6 % VEL+ R...</td>\n    </tr>\n  </tbody>\n</table>\n<p>2719917 rows × 12 columns</p>\n</div>"
     },
     "metadata": {},
     "execution_count": 7
    }
   ],
   "source": [
    "df = pd.concat([df0,df1, df2, df3], ignore_index=True)\n",
    "df.to_csv( path + output_f, index=False)\n",
    "df"
   ]
  },
  {
   "cell_type": "code",
   "execution_count": null,
   "metadata": {},
   "outputs": [],
   "source": []
  }
 ],
 "metadata": {
  "kernelspec": {
   "display_name": "Python 3.8.3 64-bit ('tupras': conda)",
   "language": "python",
   "name": "python38364bittuprascondad3f64d142d7848d8b5ff812324ef08eb"
  },
  "language_info": {
   "codemirror_mode": {
    "name": "ipython",
    "version": 3
   },
   "file_extension": ".py",
   "mimetype": "text/x-python",
   "name": "python",
   "nbconvert_exporter": "python",
   "pygments_lexer": "ipython3",
   "version": "3.8.3-final"
  }
 },
 "nbformat": 4,
 "nbformat_minor": 4
}