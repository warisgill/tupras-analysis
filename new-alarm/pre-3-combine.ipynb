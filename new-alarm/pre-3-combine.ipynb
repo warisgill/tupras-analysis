{
 "cells": [
  {
   "cell_type": "markdown",
   "metadata": {},
   "source": [
    "### Summary\n",
    "Concatination of raw csv files into 1 file"
   ]
  },
  {
   "cell_type": "code",
   "execution_count": 1,
   "metadata": {},
   "outputs": [],
   "source": [
    "import numpy as np\n",
    "import json\n",
    "import pandas as pd\n",
    "from datetime import datetime\n",
    "from dateutil.parser import parse"
   ]
  },
  {
   "cell_type": "code",
   "execution_count": 2,
   "metadata": {},
   "outputs": [],
   "source": [
    "f0 = \"formatted-pre-2-march2019.csv\"\n",
    "f1 = \"formatted-pre-2-nisan2019.csv\"\n",
    "f2 = \"formatted-pre-2-mayis2019.csv\" \n",
    "f3 = \"formatted-pre-2-haziran2019.csv\"\n",
    "\n",
    "output_f = 'formatted-main-alarms.csv' \n",
    "\n",
    "path = \"./data/new/\"\n",
    "df0 = pd.read_csv(path + f0, parse_dates = [\"StartTime\",\"EndTime\"])\n",
    "df1 = pd.read_csv(path + f1, parse_dates = [\"StartTime\",\"EndTime\"])\n",
    "df2 = pd.read_csv(path + f2, parse_dates = [\"StartTime\",\"EndTime\"])\n",
    "df3 = pd.read_csv(path + f3, parse_dates = [\"StartTime\",\"EndTime\"])\n"
   ]
  },
  {
   "cell_type": "code",
   "execution_count": 3,
   "metadata": {},
   "outputs": [
    {
     "output_type": "execute_result",
     "data": {
      "text/plain": "       MachineName SourceName                                      Message  \\\n294042      PHD47B    47TI808  47TI808 K-2C III.KADBOG.KARBON PV = 80 C HI   \n294043      PHD47B    47TI017              47TI017 C-4 GIRIS SICAKLIGI ACK   \n\n        Quality Condition  Mask  NewState  Status MessageType  \\\n294042      192        HI   241         3       0  Activation   \n294043      192        HI   194         7       0  Activation   \n\n                 StartTime             EndTime  \\\n294042 2019-03-18 16:12:41 2019-03-18 18:11:30   \n294043 2019-03-06 18:41:25 2019-03-07 14:57:30   \n\n                                               EndMessage  \n294042  47TI808 K-2C III.KADBOG.KARBON PV = 78 C HI Re...  \n294043  47TI017 C-4 GIRIS SICAKLIGI PV = 372 C HI Recover  ",
      "text/html": "<div>\n<style scoped>\n    .dataframe tbody tr th:only-of-type {\n        vertical-align: middle;\n    }\n\n    .dataframe tbody tr th {\n        vertical-align: top;\n    }\n\n    .dataframe thead th {\n        text-align: right;\n    }\n</style>\n<table border=\"1\" class=\"dataframe\">\n  <thead>\n    <tr style=\"text-align: right;\">\n      <th></th>\n      <th>MachineName</th>\n      <th>SourceName</th>\n      <th>Message</th>\n      <th>Quality</th>\n      <th>Condition</th>\n      <th>Mask</th>\n      <th>NewState</th>\n      <th>Status</th>\n      <th>MessageType</th>\n      <th>StartTime</th>\n      <th>EndTime</th>\n      <th>EndMessage</th>\n    </tr>\n  </thead>\n  <tbody>\n    <tr>\n      <th>294042</th>\n      <td>PHD47B</td>\n      <td>47TI808</td>\n      <td>47TI808 K-2C III.KADBOG.KARBON PV = 80 C HI</td>\n      <td>192</td>\n      <td>HI</td>\n      <td>241</td>\n      <td>3</td>\n      <td>0</td>\n      <td>Activation</td>\n      <td>2019-03-18 16:12:41</td>\n      <td>2019-03-18 18:11:30</td>\n      <td>47TI808 K-2C III.KADBOG.KARBON PV = 78 C HI Re...</td>\n    </tr>\n    <tr>\n      <th>294043</th>\n      <td>PHD47B</td>\n      <td>47TI017</td>\n      <td>47TI017 C-4 GIRIS SICAKLIGI ACK</td>\n      <td>192</td>\n      <td>HI</td>\n      <td>194</td>\n      <td>7</td>\n      <td>0</td>\n      <td>Activation</td>\n      <td>2019-03-06 18:41:25</td>\n      <td>2019-03-07 14:57:30</td>\n      <td>47TI017 C-4 GIRIS SICAKLIGI PV = 372 C HI Recover</td>\n    </tr>\n  </tbody>\n</table>\n</div>"
     },
     "metadata": {},
     "execution_count": 3
    }
   ],
   "source": [
    "df0.tail(2)"
   ]
  },
  {
   "cell_type": "code",
   "execution_count": 4,
   "metadata": {},
   "outputs": [
    {
     "output_type": "execute_result",
     "data": {
      "text/plain": "       MachineName    SourceName                            Message  Quality  \\\n633000      PHD47B  47XL2022-ANN   47XL2022-ANN 47G-201B STATUS ACK      192   \n633001      PHD47B  47EM304C-ANN  47EM304C-ANN 47 E-304C STATUS ACK      192   \n\n       Condition  Mask  NewState  Status MessageType           StartTime  \\\n633000       ALM   194         7       0  Activation 2019-04-02 09:40:37   \n633001       ALM   194         7       0  Activation 2019-04-29 09:22:26   \n\n                   EndTime                        EndMessage  \n633000 2019-04-02 14:27:54   47XL2022-ANN 47G-201B STATUS NR  \n633001 2019-04-29 17:10:29  47EM304C-ANN 47 E-304C STATUS NR  ",
      "text/html": "<div>\n<style scoped>\n    .dataframe tbody tr th:only-of-type {\n        vertical-align: middle;\n    }\n\n    .dataframe tbody tr th {\n        vertical-align: top;\n    }\n\n    .dataframe thead th {\n        text-align: right;\n    }\n</style>\n<table border=\"1\" class=\"dataframe\">\n  <thead>\n    <tr style=\"text-align: right;\">\n      <th></th>\n      <th>MachineName</th>\n      <th>SourceName</th>\n      <th>Message</th>\n      <th>Quality</th>\n      <th>Condition</th>\n      <th>Mask</th>\n      <th>NewState</th>\n      <th>Status</th>\n      <th>MessageType</th>\n      <th>StartTime</th>\n      <th>EndTime</th>\n      <th>EndMessage</th>\n    </tr>\n  </thead>\n  <tbody>\n    <tr>\n      <th>633000</th>\n      <td>PHD47B</td>\n      <td>47XL2022-ANN</td>\n      <td>47XL2022-ANN 47G-201B STATUS ACK</td>\n      <td>192</td>\n      <td>ALM</td>\n      <td>194</td>\n      <td>7</td>\n      <td>0</td>\n      <td>Activation</td>\n      <td>2019-04-02 09:40:37</td>\n      <td>2019-04-02 14:27:54</td>\n      <td>47XL2022-ANN 47G-201B STATUS NR</td>\n    </tr>\n    <tr>\n      <th>633001</th>\n      <td>PHD47B</td>\n      <td>47EM304C-ANN</td>\n      <td>47EM304C-ANN 47 E-304C STATUS ACK</td>\n      <td>192</td>\n      <td>ALM</td>\n      <td>194</td>\n      <td>7</td>\n      <td>0</td>\n      <td>Activation</td>\n      <td>2019-04-29 09:22:26</td>\n      <td>2019-04-29 17:10:29</td>\n      <td>47EM304C-ANN 47 E-304C STATUS NR</td>\n    </tr>\n  </tbody>\n</table>\n</div>"
     },
     "metadata": {},
     "execution_count": 4
    }
   ],
   "source": [
    "df1.tail(2)"
   ]
  },
  {
   "cell_type": "code",
   "execution_count": 5,
   "metadata": {},
   "outputs": [
    {
     "output_type": "execute_result",
     "data": {
      "text/plain": "       MachineName SourceName                   Message  Quality Condition  \\\n873557      PHD47B  47PDI1751  47PDI1751 E-139 FARK ACK        0       IOP   \n873558      PHD47B     48RPT1   48RPT1 CPV = 0.0 % CERR        0      CERR   \n\n        Mask  NewState  Status MessageType           StartTime  \\\n873557   194         7       0  Activation 2019-05-13 15:17:15   \n873558   249         3       1  Activation 2019-05-14 16:47:24   \n\n                   EndTime                                     EndMessage  \n873557 2019-05-13 15:19:35  47PDI1751 E-139 FARK PV = 0.71 Kg IOP Recover  \n873558 2019-05-14 16:47:40                48RPT1 CPV = 2.9 % CERR Recover  ",
      "text/html": "<div>\n<style scoped>\n    .dataframe tbody tr th:only-of-type {\n        vertical-align: middle;\n    }\n\n    .dataframe tbody tr th {\n        vertical-align: top;\n    }\n\n    .dataframe thead th {\n        text-align: right;\n    }\n</style>\n<table border=\"1\" class=\"dataframe\">\n  <thead>\n    <tr style=\"text-align: right;\">\n      <th></th>\n      <th>MachineName</th>\n      <th>SourceName</th>\n      <th>Message</th>\n      <th>Quality</th>\n      <th>Condition</th>\n      <th>Mask</th>\n      <th>NewState</th>\n      <th>Status</th>\n      <th>MessageType</th>\n      <th>StartTime</th>\n      <th>EndTime</th>\n      <th>EndMessage</th>\n    </tr>\n  </thead>\n  <tbody>\n    <tr>\n      <th>873557</th>\n      <td>PHD47B</td>\n      <td>47PDI1751</td>\n      <td>47PDI1751 E-139 FARK ACK</td>\n      <td>0</td>\n      <td>IOP</td>\n      <td>194</td>\n      <td>7</td>\n      <td>0</td>\n      <td>Activation</td>\n      <td>2019-05-13 15:17:15</td>\n      <td>2019-05-13 15:19:35</td>\n      <td>47PDI1751 E-139 FARK PV = 0.71 Kg IOP Recover</td>\n    </tr>\n    <tr>\n      <th>873558</th>\n      <td>PHD47B</td>\n      <td>48RPT1</td>\n      <td>48RPT1 CPV = 0.0 % CERR</td>\n      <td>0</td>\n      <td>CERR</td>\n      <td>249</td>\n      <td>3</td>\n      <td>1</td>\n      <td>Activation</td>\n      <td>2019-05-14 16:47:24</td>\n      <td>2019-05-14 16:47:40</td>\n      <td>48RPT1 CPV = 2.9 % CERR Recover</td>\n    </tr>\n  </tbody>\n</table>\n</div>"
     },
     "metadata": {},
     "execution_count": 5
    }
   ],
   "source": [
    "df2.tail(2)"
   ]
  },
  {
   "cell_type": "code",
   "execution_count": 6,
   "metadata": {},
   "outputs": [
    {
     "output_type": "execute_result",
     "data": {
      "text/plain": "       MachineName    SourceName  \\\n919352      PHD47B    47FIC2013B   \n919353      PHD47B  47XL017B-ANN   \n\n                                                  Message  Quality Condition  \\\n919352  47FIC2013B HC SARJ VANASI NAFTA PV =13665.0 Kg...      192       DV+   \n919353                       47XL017B-ANN E-8B STATUS ALM      192       ALM   \n\n        Mask  NewState  Status MessageType           StartTime  \\\n919352   241         3       1  Activation 2019-06-18 23:01:29   \n919353   241         3       0  Activation 2019-06-18 22:32:53   \n\n                   EndTime                                         EndMessage  \n919352 2019-06-18 23:08:42  47FIC2013B HC SARJ VANASI NAFTA PV =13532.1 Kg...  \n919353 2019-06-22 09:56:07                        47XL017B-ANN E-8B STATUS NR  ",
      "text/html": "<div>\n<style scoped>\n    .dataframe tbody tr th:only-of-type {\n        vertical-align: middle;\n    }\n\n    .dataframe tbody tr th {\n        vertical-align: top;\n    }\n\n    .dataframe thead th {\n        text-align: right;\n    }\n</style>\n<table border=\"1\" class=\"dataframe\">\n  <thead>\n    <tr style=\"text-align: right;\">\n      <th></th>\n      <th>MachineName</th>\n      <th>SourceName</th>\n      <th>Message</th>\n      <th>Quality</th>\n      <th>Condition</th>\n      <th>Mask</th>\n      <th>NewState</th>\n      <th>Status</th>\n      <th>MessageType</th>\n      <th>StartTime</th>\n      <th>EndTime</th>\n      <th>EndMessage</th>\n    </tr>\n  </thead>\n  <tbody>\n    <tr>\n      <th>919352</th>\n      <td>PHD47B</td>\n      <td>47FIC2013B</td>\n      <td>47FIC2013B HC SARJ VANASI NAFTA PV =13665.0 Kg...</td>\n      <td>192</td>\n      <td>DV+</td>\n      <td>241</td>\n      <td>3</td>\n      <td>1</td>\n      <td>Activation</td>\n      <td>2019-06-18 23:01:29</td>\n      <td>2019-06-18 23:08:42</td>\n      <td>47FIC2013B HC SARJ VANASI NAFTA PV =13532.1 Kg...</td>\n    </tr>\n    <tr>\n      <th>919353</th>\n      <td>PHD47B</td>\n      <td>47XL017B-ANN</td>\n      <td>47XL017B-ANN E-8B STATUS ALM</td>\n      <td>192</td>\n      <td>ALM</td>\n      <td>241</td>\n      <td>3</td>\n      <td>0</td>\n      <td>Activation</td>\n      <td>2019-06-18 22:32:53</td>\n      <td>2019-06-22 09:56:07</td>\n      <td>47XL017B-ANN E-8B STATUS NR</td>\n    </tr>\n  </tbody>\n</table>\n</div>"
     },
     "metadata": {},
     "execution_count": 6
    }
   ],
   "source": [
    "df3.tail(2)"
   ]
  },
  {
   "cell_type": "code",
   "execution_count": 7,
   "metadata": {},
   "outputs": [
    {
     "output_type": "execute_result",
     "data": {
      "text/plain": "        MachineName        SourceName  \\\n0            PHD47B          47TI931A   \n1            PHD47B          47TI931A   \n2            PHD47B          47TI931A   \n3            PHD47B          47TI931A   \n4            PHD47B          47TI931A   \n...             ...               ...   \n2719954      PHD47B     47XL2016B-ANN   \n2719955      PHD47B     47XL1557B-ANN   \n2719956      PHD47B  47APC_FRC_OFF-AN   \n2719957      PHD47B        47FIC2013B   \n2719958      PHD47B      47XL017B-ANN   \n\n                                                   Message  Quality Condition  \\\n0         47TI931A C5 1.YTK GIRDISCAP SICAK PV = 691 C IOP        0       IOP   \n1         47TI931A C5 1.YTK GIRDISCAP SICAK PV = 691 C IOP        0       IOP   \n2         47TI931A C5 1.YTK GIRDISCAP SICAK PV = 691 C IOP        0       IOP   \n3         47TI931A C5 1.YTK GIRDISCAP SICAK PV = 691 C IOP        0       IOP   \n4         47TI931A C5 1.YTK GIRDISCAP SICAK PV = 691 C IOP        0       IOP   \n...                                                    ...      ...       ...   \n2719954                   47XL2016B-AN 47E-205B STATUS ACK      192       ALM   \n2719955                     47XL1557B-AN E-116B STATUS ALM      192       ALM   \n2719956              47APC_FRC_OF 47RXN APC DEVRE DISI ACK      192       ALM   \n2719957  47FIC2013B HC SARJ VANASI NAFTA PV =13665.0 Kg...      192       DV+   \n2719958                       47XL017B-ANN E-8B STATUS ALM      192       ALM   \n\n         Mask  NewState  Status MessageType           StartTime  \\\n0         201         3       1  Activation 2019-03-06 13:19:17   \n1         201         3       1  Activation 2019-03-06 13:19:35   \n2         201         3       1  Activation 2019-03-06 13:20:24   \n3         201         3       1  Activation 2019-03-06 13:20:30   \n4         201         3       1  Activation 2019-03-06 13:20:51   \n...       ...       ...     ...         ...                 ...   \n2719954   194         7       0  Activation 2019-05-31 17:14:05   \n2719955   241         3       0  Activation 2019-06-21 13:00:18   \n2719956   194         7       0  Activation 2019-06-22 05:57:52   \n2719957   241         3       1  Activation 2019-06-18 23:01:29   \n2719958   241         3       0  Activation 2019-06-18 22:32:53   \n\n                    EndTime                                         EndMessage  \n0       2019-03-06 13:19:33  47TI931A C5 1.YTK GIRDISCAP SICAK PV = 691 C I...  \n1       2019-03-06 13:20:22  47TI931A C5 1.YTK GIRDISCAP SICAK PV = 691 C I...  \n2       2019-03-06 13:20:28  47TI931A C5 1.YTK GIRDISCAP SICAK PV = 691 C I...  \n3       2019-03-06 13:20:49  47TI931A C5 1.YTK GIRDISCAP SICAK PV = 691 C I...  \n4       2019-03-06 13:21:03  47TI931A C5 1.YTK GIRDISCAP SICAK PV = 691 C I...  \n...                     ...                                                ...  \n2719954 2019-05-31 17:33:31                    47XL2016B-AN 47E-205B STATUS NR  \n2719955 2019-06-21 13:30:39                      47XL1557B-AN E-116B STATUS NR  \n2719956 2019-06-28 10:30:36               47APC_FRC_OF 47RXN APC DEVRE DISI NR  \n2719957 2019-06-18 23:08:42  47FIC2013B HC SARJ VANASI NAFTA PV =13532.1 Kg...  \n2719958 2019-06-22 09:56:07                        47XL017B-ANN E-8B STATUS NR  \n\n[2719959 rows x 12 columns]",
      "text/html": "<div>\n<style scoped>\n    .dataframe tbody tr th:only-of-type {\n        vertical-align: middle;\n    }\n\n    .dataframe tbody tr th {\n        vertical-align: top;\n    }\n\n    .dataframe thead th {\n        text-align: right;\n    }\n</style>\n<table border=\"1\" class=\"dataframe\">\n  <thead>\n    <tr style=\"text-align: right;\">\n      <th></th>\n      <th>MachineName</th>\n      <th>SourceName</th>\n      <th>Message</th>\n      <th>Quality</th>\n      <th>Condition</th>\n      <th>Mask</th>\n      <th>NewState</th>\n      <th>Status</th>\n      <th>MessageType</th>\n      <th>StartTime</th>\n      <th>EndTime</th>\n      <th>EndMessage</th>\n    </tr>\n  </thead>\n  <tbody>\n    <tr>\n      <th>0</th>\n      <td>PHD47B</td>\n      <td>47TI931A</td>\n      <td>47TI931A C5 1.YTK GIRDISCAP SICAK PV = 691 C IOP</td>\n      <td>0</td>\n      <td>IOP</td>\n      <td>201</td>\n      <td>3</td>\n      <td>1</td>\n      <td>Activation</td>\n      <td>2019-03-06 13:19:17</td>\n      <td>2019-03-06 13:19:33</td>\n      <td>47TI931A C5 1.YTK GIRDISCAP SICAK PV = 691 C I...</td>\n    </tr>\n    <tr>\n      <th>1</th>\n      <td>PHD47B</td>\n      <td>47TI931A</td>\n      <td>47TI931A C5 1.YTK GIRDISCAP SICAK PV = 691 C IOP</td>\n      <td>0</td>\n      <td>IOP</td>\n      <td>201</td>\n      <td>3</td>\n      <td>1</td>\n      <td>Activation</td>\n      <td>2019-03-06 13:19:35</td>\n      <td>2019-03-06 13:20:22</td>\n      <td>47TI931A C5 1.YTK GIRDISCAP SICAK PV = 691 C I...</td>\n    </tr>\n    <tr>\n      <th>2</th>\n      <td>PHD47B</td>\n      <td>47TI931A</td>\n      <td>47TI931A C5 1.YTK GIRDISCAP SICAK PV = 691 C IOP</td>\n      <td>0</td>\n      <td>IOP</td>\n      <td>201</td>\n      <td>3</td>\n      <td>1</td>\n      <td>Activation</td>\n      <td>2019-03-06 13:20:24</td>\n      <td>2019-03-06 13:20:28</td>\n      <td>47TI931A C5 1.YTK GIRDISCAP SICAK PV = 691 C I...</td>\n    </tr>\n    <tr>\n      <th>3</th>\n      <td>PHD47B</td>\n      <td>47TI931A</td>\n      <td>47TI931A C5 1.YTK GIRDISCAP SICAK PV = 691 C IOP</td>\n      <td>0</td>\n      <td>IOP</td>\n      <td>201</td>\n      <td>3</td>\n      <td>1</td>\n      <td>Activation</td>\n      <td>2019-03-06 13:20:30</td>\n      <td>2019-03-06 13:20:49</td>\n      <td>47TI931A C5 1.YTK GIRDISCAP SICAK PV = 691 C I...</td>\n    </tr>\n    <tr>\n      <th>4</th>\n      <td>PHD47B</td>\n      <td>47TI931A</td>\n      <td>47TI931A C5 1.YTK GIRDISCAP SICAK PV = 691 C IOP</td>\n      <td>0</td>\n      <td>IOP</td>\n      <td>201</td>\n      <td>3</td>\n      <td>1</td>\n      <td>Activation</td>\n      <td>2019-03-06 13:20:51</td>\n      <td>2019-03-06 13:21:03</td>\n      <td>47TI931A C5 1.YTK GIRDISCAP SICAK PV = 691 C I...</td>\n    </tr>\n    <tr>\n      <th>...</th>\n      <td>...</td>\n      <td>...</td>\n      <td>...</td>\n      <td>...</td>\n      <td>...</td>\n      <td>...</td>\n      <td>...</td>\n      <td>...</td>\n      <td>...</td>\n      <td>...</td>\n      <td>...</td>\n      <td>...</td>\n    </tr>\n    <tr>\n      <th>2719954</th>\n      <td>PHD47B</td>\n      <td>47XL2016B-ANN</td>\n      <td>47XL2016B-AN 47E-205B STATUS ACK</td>\n      <td>192</td>\n      <td>ALM</td>\n      <td>194</td>\n      <td>7</td>\n      <td>0</td>\n      <td>Activation</td>\n      <td>2019-05-31 17:14:05</td>\n      <td>2019-05-31 17:33:31</td>\n      <td>47XL2016B-AN 47E-205B STATUS NR</td>\n    </tr>\n    <tr>\n      <th>2719955</th>\n      <td>PHD47B</td>\n      <td>47XL1557B-ANN</td>\n      <td>47XL1557B-AN E-116B STATUS ALM</td>\n      <td>192</td>\n      <td>ALM</td>\n      <td>241</td>\n      <td>3</td>\n      <td>0</td>\n      <td>Activation</td>\n      <td>2019-06-21 13:00:18</td>\n      <td>2019-06-21 13:30:39</td>\n      <td>47XL1557B-AN E-116B STATUS NR</td>\n    </tr>\n    <tr>\n      <th>2719956</th>\n      <td>PHD47B</td>\n      <td>47APC_FRC_OFF-AN</td>\n      <td>47APC_FRC_OF 47RXN APC DEVRE DISI ACK</td>\n      <td>192</td>\n      <td>ALM</td>\n      <td>194</td>\n      <td>7</td>\n      <td>0</td>\n      <td>Activation</td>\n      <td>2019-06-22 05:57:52</td>\n      <td>2019-06-28 10:30:36</td>\n      <td>47APC_FRC_OF 47RXN APC DEVRE DISI NR</td>\n    </tr>\n    <tr>\n      <th>2719957</th>\n      <td>PHD47B</td>\n      <td>47FIC2013B</td>\n      <td>47FIC2013B HC SARJ VANASI NAFTA PV =13665.0 Kg...</td>\n      <td>192</td>\n      <td>DV+</td>\n      <td>241</td>\n      <td>3</td>\n      <td>1</td>\n      <td>Activation</td>\n      <td>2019-06-18 23:01:29</td>\n      <td>2019-06-18 23:08:42</td>\n      <td>47FIC2013B HC SARJ VANASI NAFTA PV =13532.1 Kg...</td>\n    </tr>\n    <tr>\n      <th>2719958</th>\n      <td>PHD47B</td>\n      <td>47XL017B-ANN</td>\n      <td>47XL017B-ANN E-8B STATUS ALM</td>\n      <td>192</td>\n      <td>ALM</td>\n      <td>241</td>\n      <td>3</td>\n      <td>0</td>\n      <td>Activation</td>\n      <td>2019-06-18 22:32:53</td>\n      <td>2019-06-22 09:56:07</td>\n      <td>47XL017B-ANN E-8B STATUS NR</td>\n    </tr>\n  </tbody>\n</table>\n<p>2719959 rows × 12 columns</p>\n</div>"
     },
     "metadata": {},
     "execution_count": 7
    }
   ],
   "source": [
    "df = pd.concat([df0,df1, df2, df3], ignore_index=True)\n",
    "df.to_csv( path + output_f, index=False)\n",
    "df"
   ]
  },
  {
   "cell_type": "code",
   "execution_count": null,
   "metadata": {},
   "outputs": [],
   "source": []
  }
 ],
 "metadata": {
  "kernelspec": {
   "display_name": "Python 3.8.3 64-bit ('tupras': conda)",
   "language": "python",
   "name": "python38364bittuprascondad3f64d142d7848d8b5ff812324ef08eb"
  },
  "language_info": {
   "codemirror_mode": {
    "name": "ipython",
    "version": 3
   },
   "file_extension": ".py",
   "mimetype": "text/x-python",
   "name": "python",
   "nbconvert_exporter": "python",
   "pygments_lexer": "ipython3",
   "version": "3.8.3-final"
  }
 },
 "nbformat": 4,
 "nbformat_minor": 4
}