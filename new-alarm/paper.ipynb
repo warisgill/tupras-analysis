{
 "cells": [
  {
   "cell_type": "markdown",
   "metadata": {},
   "source": [
    "# Next Paper "
   ]
  },
  {
   "cell_type": "code",
   "execution_count": 1,
   "metadata": {},
   "outputs": [],
   "source": [
    "from alarms2 import *"
   ]
  },
  {
   "cell_type": "markdown",
   "metadata": {},
   "source": [
    "# Section 0: Setting Default Variables & Loading Alarm and Operator Data"
   ]
  },
  {
   "cell_type": "code",
   "execution_count": 2,
   "metadata": {},
   "outputs": [],
   "source": [
    "filter_short_alarms = [20, 120]  #seconds\n",
    "path = \"./data/new/\""
   ]
  },
  {
   "cell_type": "code",
   "execution_count": 3,
   "metadata": {},
   "outputs": [],
   "source": [
    "alarms_fname = \"formatted-all-month-alarms.csv\" \n",
    "operator_fname = \"operator-all-month-actions.csv\"\n",
    "\n",
    "df_main_alarms = pd.read_csv(path + alarms_fname, low_memory=False ,parse_dates=[\"StartTime\", \"EndTime\"])\n",
    "df_main_alarms[\"TimeDelta\"] = df_main_alarms[\"EndTime\"] - df_main_alarms[\"StartTime\"]\n",
    "df_main_alarms[\"TimeDelta\"] = df_main_alarms[\"TimeDelta\"].apply(lambda arg: timedelta.total_seconds(arg)) \n",
    "df_main_alarms[\"Month\"] = df_main_alarms[\"StartTime\"].apply(lambda arg: arg.month)\n",
    "\n",
    "df_main_actions = pd.read_csv(path + operator_fname, low_memory=False ,parse_dates=[\"EventTime\"])\n",
    "df_main_actions[\"Month\"] = df_main_actions[\"EventTime\"].apply(lambda arg: arg.month)"
   ]
  },
  {
   "cell_type": "code",
   "execution_count": 4,
   "metadata": {
    "tags": []
   },
   "outputs": [
    {
     "output_type": "stream",
     "name": "stdout",
     "text": "<class 'pandas.core.frame.DataFrame'>\nRangeIndex: 56656 entries, 0 to 56655\nData columns (total 14 columns):\n #   Column         Non-Null Count  Dtype         \n---  ------         --------------  -----         \n 0   MachineName    56656 non-null  object        \n 1   SourceName     56656 non-null  object        \n 2   EventTime      56656 non-null  datetime64[ns]\n 3   Severity       56656 non-null  int64         \n 4   Message        56656 non-null  object        \n 5   Mask           56656 non-null  int64         \n 6   NewState       56656 non-null  int64         \n 7   EventType      56656 non-null  object        \n 8   EventCategory  56656 non-null  object        \n 9   AckReq         56656 non-null  bool          \n 10  ActorID        56656 non-null  object        \n 11  Attributes     56656 non-null  object        \n 12  Area           56656 non-null  object        \n 13  Month          56656 non-null  int64         \ndtypes: bool(1), datetime64[ns](1), int64(4), object(8)\nmemory usage: 5.7+ MB\n<class 'pandas.core.frame.DataFrame'>\nRangeIndex: 2719917 entries, 0 to 2719916\nData columns (total 14 columns):\n #   Column       Dtype         \n---  ------       -----         \n 0   MachineName  object        \n 1   SourceName   object        \n 2   Message      object        \n 3   Quality      int64         \n 4   Condition    object        \n 5   Mask         int64         \n 6   NewState     int64         \n 7   Status       int64         \n 8   MessageType  object        \n 9   StartTime    datetime64[ns]\n 10  EndTime      datetime64[ns]\n 11  EndMessage   object        \n 12  TimeDelta    float64       \n 13  Month        int64         \ndtypes: datetime64[ns](2), float64(1), int64(5), object(6)\nmemory usage: 290.5+ MB\n"
    },
    {
     "output_type": "execute_result",
     "data": {
      "text/plain": "(None, None)"
     },
     "metadata": {},
     "execution_count": 4
    }
   ],
   "source": [
    "df_main_actions.info(), df_main_alarms.info()"
   ]
  },
  {
   "cell_type": "markdown",
   "metadata": {},
   "source": [
    "# Section 1: Removing Chattering from Alarms Data\n",
    "\n",
    "### use case=> Bandwidht and Storage Reduction\n",
    "\n",
    "Retention period.\n",
    "\n",
    "Suppose that on average each alarm takes roughly 1KB of sotorage space. \n",
    "\n"
   ]
  },
  {
   "cell_type": "code",
   "execution_count": 5,
   "metadata": {},
   "outputs": [],
   "source": [
    "# removeShortDurationAlarms(df_main_alarms)\n",
    "# storageAnalysis(df_main_alarms)"
   ]
  },
  {
   "cell_type": "markdown",
   "metadata": {},
   "source": [
    "# Section 2: Relating Operator Action with Alarm Data\n",
    "\n",
    "How is this use case important?"
   ]
  },
  {
   "cell_type": "code",
   "execution_count": 6,
   "metadata": {
    "tags": []
   },
   "outputs": [],
   "source": [
    "# months_f = df_main_alarms[\"Month\"].unique()\n",
    "# chunks = 8\n",
    "# min_intersection_f = 6\n",
    "# gapf = (60 * 60)* 4 \n",
    "# weightf = 2 # to remove edges in the final graph\n",
    "# snames_f = [\"47TI1713\"]\n",
    "\n",
    "# mg1,mg2 = getFinalOperatorAlarmRelationGraph(df_main_alarms,df_main_actions,chunks,min_intersection_f,months_f,snames_f,filter_short_alarms[1],gapf,weightf)\n",
    "# print(\">> Done\")"
   ]
  },
  {
   "cell_type": "code",
   "execution_count": 7,
   "metadata": {
    "tags": []
   },
   "outputs": [],
   "source": [
    "# # assert mg1.number_of_edges() == mg2.number_of_edges()\n",
    "# print(\">> # of Edges Main graph1 {} and in graph2 {}\".format( mg1.number_of_edges() , mg2.number_of_edges()))\n",
    "\n",
    "# operator_nodes = [action for action in mg1.nodes if action.find(\"Operator\")!=-1]\n",
    "\n",
    "# node2num_neigbs = {n: len(list(mg1.neighbors(n))) for n in operator_nodes}\n",
    "# t3 = [(source,mg1.nodes[source][\"count\"],num_neighbs) for source,num_neighbs in node2num_neigbs.items()]\n",
    "# print(*[\">>{},{},# of neighbours {}\\n\".format(*tup) for tup in sorted(t3,key=lambda arg: arg[1], reverse=True)])\n",
    "\n",
    "# Verify the results based count with orignal csv data\n",
    "\n"
   ]
  },
  {
   "cell_type": "code",
   "execution_count": null,
   "metadata": {},
   "outputs": [],
   "source": []
  },
  {
   "cell_type": "code",
   "execution_count": 8,
   "metadata": {
    "tags": []
   },
   "outputs": [],
   "source": [
    "# print(\">> Building Visualization .....\")\n",
    "# print(g.number_of_nodes())\n",
    "# nt = Network(\"400x\", \"100%\", notebook=True)\n",
    "# nt.from_nx(g)\n",
    "# nt.options.edges.Color  = \"Gray\"\n",
    "# nt.toggle_hide_edges_on_drag(True)\n",
    "# # nt.toggle_physics(False)\n",
    "# nt.repulsion()\n",
    "# nt.toggle_stabilization(True)\n",
    "# nt.show_buttons(filter_=['physics','edges'])\n",
    "# # nt.toggle_ph\n",
    "# nt.show(\"nt.html\")"
   ]
  },
  {
   "cell_type": "markdown",
   "metadata": {},
   "source": [
    "# Section 3: Finding the most important alarms in the data. "
   ]
  },
  {
   "cell_type": "code",
   "execution_count": 16,
   "metadata": {
    "tags": []
   },
   "outputs": [
    {
     "output_type": "stream",
     "name": "stdout",
     "text": ">> Starting to find relations between alarms....\n>> Number of sub graphs to be constructed : 20\n>> Filter: Only Include these months:  [3 4 5 6]\n>> Filter: Gap Filter for prev to next alarm = 120s.\n>> Filter: Ingore SourceNames  ['47TI1713']\n        ----------------------------------\n>> Index Range = (0, 2742), Min & Max dates = (datetime.date(2019, 3, 6), datetime.date(2019, 3, 10))\n>> # of nodes = 152, # of edges = 475\n        ----------------------------------\n>> Index Range = (2742, 5484), Min & Max dates = (datetime.date(2019, 3, 10), datetime.date(2019, 3, 15))\n>> # of nodes = 156, # of edges = 715\n        ----------------------------------\n>> Index Range = (5484, 8226), Min & Max dates = (datetime.date(2019, 3, 15), datetime.date(2019, 3, 19))\n>> # of nodes = 170, # of edges = 727\n        ----------------------------------\n>> Index Range = (8226, 10968), Min & Max dates = (datetime.date(2019, 3, 19), datetime.date(2019, 4, 3))\n>> # of nodes = 168, # of edges = 647\n        ----------------------------------\n>> Index Range = (10968, 13710), Min & Max dates = (datetime.date(2019, 4, 3), datetime.date(2019, 4, 8))\n>> # of nodes = 213, # of edges = 986\n        ----------------------------------\n>> Index Range = (13710, 16452), Min & Max dates = (datetime.date(2019, 4, 8), datetime.date(2019, 4, 13))\n>> # of nodes = 249, # of edges = 980\n        ----------------------------------\n>> Index Range = (16452, 19194), Min & Max dates = (datetime.date(2019, 4, 13), datetime.date(2019, 4, 18))\n>> # of nodes = 194, # of edges = 916\n        ----------------------------------\n>> Index Range = (19194, 21936), Min & Max dates = (datetime.date(2019, 4, 18), datetime.date(2019, 4, 23))\n>> # of nodes = 170, # of edges = 790\n        ----------------------------------\n>> Index Range = (21936, 24678), Min & Max dates = (datetime.date(2019, 4, 23), datetime.date(2019, 4, 29))\n>> # of nodes = 185, # of edges = 886\n        ----------------------------------\n>> Index Range = (24678, 27420), Min & Max dates = (datetime.date(2019, 4, 29), datetime.date(2019, 5, 4))\n>> # of nodes = 195, # of edges = 662\n        ----------------------------------\n>> Index Range = (27420, 30162), Min & Max dates = (datetime.date(2019, 5, 4), datetime.date(2019, 5, 10))\n>> # of nodes = 175, # of edges = 757\n        ----------------------------------\n>> Index Range = (30162, 32904), Min & Max dates = (datetime.date(2019, 5, 10), datetime.date(2019, 5, 14))\n>> # of nodes = 481, # of edges = 4535\n        ----------------------------------\n>> Index Range = (32904, 35646), Min & Max dates = (datetime.date(2019, 5, 14), datetime.date(2019, 5, 16))\n>> # of nodes = 352, # of edges = 2678\n        ----------------------------------\n>> Index Range = (35646, 38388), Min & Max dates = (datetime.date(2019, 5, 16), datetime.date(2019, 5, 24))\n>> # of nodes = 174, # of edges = 578\n        ----------------------------------\n>> Index Range = (38388, 41130), Min & Max dates = (datetime.date(2019, 5, 24), datetime.date(2019, 6, 2))\n>> # of nodes = 193, # of edges = 545\n        ----------------------------------\n>> Index Range = (41130, 43872), Min & Max dates = (datetime.date(2019, 6, 2), datetime.date(2019, 6, 7))\n>> # of nodes = 116, # of edges = 506\n        ----------------------------------\n>> Index Range = (43872, 46614), Min & Max dates = (datetime.date(2019, 6, 7), datetime.date(2019, 6, 14))\n>> # of nodes = 222, # of edges = 938\n        ----------------------------------\n>> Index Range = (46614, 49356), Min & Max dates = (datetime.date(2019, 6, 14), datetime.date(2019, 6, 20))\n>> # of nodes = 206, # of edges = 791\n        ----------------------------------\n>> Index Range = (49356, 52098), Min & Max dates = (datetime.date(2019, 6, 20), datetime.date(2019, 6, 25))\n>> # of nodes = 202, # of edges = 797\n        ----------------------------------\n>> Index Range = (52098, 54851), Min & Max dates = (datetime.date(2019, 6, 25), datetime.date(2019, 6, 30))\n>> # of nodes = 136, # of edges = 442\n        ----------------------------------\n>> Taking intersection of 20 sub-graphs\n>> # of Edges Main graph1 729 and in graph2 4\n>> Done\n"
    }
   ],
   "source": [
    "months_f = df_main_alarms[\"Month\"].unique()\n",
    "chunks = 20\n",
    "min_intersection_f = 4\n",
    "gapf = 60*2 \n",
    "snames_f = [\"47TI1713\"]\n",
    "\n",
    "mg1,mg2 = getFinalAlarmRelationsGraph(df_main_alarms,chunks,min_intersection_f,months_f,snames_f,filter_short_alarms[1],gapf)\n",
    "\n",
    "print(\">> # of Edges Main graph1 {} and in graph2 {}\".format( mg1.number_of_edges() , mg2.number_of_edges()))\n",
    "print(\">> Done\")"
   ]
  },
  {
   "cell_type": "code",
   "execution_count": 17,
   "metadata": {
    "tags": []
   },
   "outputs": [
    {
     "output_type": "stream",
     "name": "stdout",
     "text": ">> Page Rank (Highest to Lowest) : [('48PI2025', 0.1157), ('47PIC1755', 0.0449), ('47PI1734', 0.0418), ('47LIC005', 0.0412), ('47FI1568', 0.035), ('47LI003', 0.0273), ('47PDI1746', 0.0246), ('48FIX2040', 0.0243), ('48TIC2027', 0.0241), ('47TI003A', 0.019), ('48XL002-ANN', 0.0177), ('47TI1512C', 0.0162), ('47TI003B', 0.0154), ('SIO-18XA001', 0.0154), ('47TIC3520', 0.0141), ('47TAL003AB-ANN', 0.014), ('47FD-036H-ANN', 0.0139), ('47FD-036HH-ANN', 0.0139), ('48XL001-ANN', 0.0108), ('47_AMPSC_PMCC1L', 0.0102), ('47TI1512B', 0.01), ('47_AMPSA_PMCC1L', 0.0099), ('47TI1512ABC', 0.0099), ('47TXI1592', 0.0098), ('48FI2021A', 0.0093), ('47FI1575', 0.0088), ('48FALL2021-ANN', 0.0084), ('47PI2031A', 0.0081), ('47PI2031ABC', 0.0081), ('47TI414H', 0.0081), ('47TI414G', 0.0081), ('47FIC1524', 0.0081), ('47FIC1524_CALX', 0.0081), ('47PIC027', 0.0075), ('47PDI1747', 0.0072), ('19LI105A', 0.0071), ('47TI1723', 0.0065), ('47PI2039C', 0.0062), ('47FI043', 0.0061), ('47PIC2023', 0.0061), ('47XL015-ANN', 0.0059), ('47LIC1511', 0.0058), ('47PIC2064', 0.0057), ('48TIC034', 0.0057), ('47TI1512A', 0.0055), ('47TI1533', 0.0054), ('47TI1769', 0.0051), ('47XL016-ANN', 0.0051), ('47LIC1513', 0.0047), ('47TIC1535', 0.0047)]\n              --------------------------------------------------\n>> Eigenvector Centrality (Highest to Lowest) : [('48PI2025', 0.5395), ('47LI003', 0.3995), ('47PI1734', 0.3946), ('47PIC1755', 0.2876), ('47LIC005', 0.2459), ('47FI1568', 0.1918), ('47PDI1746', 0.1829), ('48FIX2040', 0.1544), ('48TIC2027', 0.151), ('47TI1512C', 0.1209), ('47TI003B', 0.1157), ('47XL015-ANN', 0.1101), ('SIO-18XA001', 0.1082), ('47XL016-ANN', 0.105), ('48XL002-ANN', 0.1024), ('47TIC3520', 0.0905), ('47TI003A', 0.0874), ('47TI1512ABC', 0.0795), ('47TI1512B', 0.0789), ('48XL001-ANN', 0.0771), ('47FI1575', 0.0684), ('47TAL003AB-ANN', 0.0673), ('19LI105A', 0.0581), ('47FI043', 0.0518), ('47PDI1747', 0.0446), ('47TI1512A', 0.0416), ('47LIC1503', 0.0361), ('47PIC2033A', 0.0334), ('47TI1723', 0.0311), ('47TI1769', 0.0245), ('48TIC034', 0.0239), ('47TI3519', 0.0203), ('47FLI-039', 0.0191), ('47PIC3522', 0.0172), ('47TI002C', 0.0156), ('47TI1521', 0.0137), ('47LIC3408', 0.0117), ('47LIC1509', 0.0116), ('47TI416', 0.0106), ('47PIC1505', 0.0098), ('48FI2003A', 0.0092), ('47PI2029B', 0.0086), ('47PIC2064', 0.0085), ('47PIC027-ANN', 0.0071), ('47PIC2038', 0.0057), ('48FALL2003-ANN', 0.0047), ('47FLI-042', 0.0043), ('47_AMPSC_PMCC1L', 0.0042), ('47LIC1518', 0.0038), ('47FLI-037', 0.0027)]\n"
    }
   ],
   "source": [
    "# Google PageRank Algo\n",
    "result = nx.algorithms.link_analysis.pagerank_alg.pagerank(mg1,weight=\"weight\",max_iter=100000)\n",
    "result = {k:float(format(v, '.4f')) for k,v in sorted(result.items(), key=lambda arg: arg[1], reverse=True)}\n",
    "print(\">> Page Rank (Highest to Lowest) :\",list(result.items())[:50])\n",
    "\n",
    "print(\"              --------------------------------------------------\")\n",
    "\n",
    "# Eigenvector Centrality Algo\n",
    "result = nx.eigenvector_centrality(mg1, weight=\"weight\")\n",
    "result = {k:float(format(v, '.4f')) for k,v in sorted(result.items(), key=lambda arg: arg[1], reverse=True)}\n",
    "print(\">> Eigenvector Centrality (Highest to Lowest) :\",list(result.items())[:50])\n"
   ]
  },
  {
   "cell_type": "code",
   "execution_count": 18,
   "metadata": {
    "tags": []
   },
   "outputs": [
    {
     "output_type": "stream",
     "name": "stdout",
     "text": ">> Hub => Outgoing Edges: Based on out_degree (max to min): [('47XL016-ANN', 0.2226), ('47XL015-ANN', 0.2173), ('47PI1734', 0.0445), ('48PI2025', 0.042), ('47FLI-039', 0.039), ('48XL002-ANN', 0.0356), ('48XL001-ANN', 0.0336), ('SIO-18XA001', 0.0332), ('47PIC1755', 0.0271), ('47TIC3520', 0.0184), ('47PIC1505', 0.0183), ('47TI003B', 0.0156), ('48TIC034', 0.0147), ('47FLI-042', 0.0146), ('47PIC2033A', 0.0129), ('47FI1568', 0.0127), ('47PDI1746', 0.0123), ('47LI003', 0.0115), ('47LIC005', 0.0098), ('47TI003A', 0.0091), ('48LI015', 0.0088), ('48FI2003A', 0.0086), ('47TI1769', 0.008), ('47PIC3522', 0.0065), ('48TIC2027', 0.0063), ('48FIX2040', 0.0062), ('48LI013', 0.0061), ('19LI105A', 0.0059), ('47FI1005', 0.0057), ('47TAL003AB-ANN', 0.0055), ('47TI3519', 0.0053), ('47LIC009', 0.0046), ('47FI043', 0.004), ('47TI002C', 0.0036), ('47LIC1509', 0.0033), ('48XL010-ANN', 0.0031), ('48XL009-ANN', 0.003), ('47TI1512A', 0.0029), ('48LI011', 0.0028), ('48FALL2003-ANN', 0.0027), ('47FLI-037', 0.0026), ('47FI1509', 0.0025), ('47FI1575', 0.0024), ('48XL012-ANN', 0.0023), ('47LIC1503', 0.0021), ('47LIC1501', 0.002), ('47TI1705', 0.0019), ('19PI119A', 0.0019), ('47PDI1747', 0.0018), ('47TI2111A', 0.0018)]\n              --------------------------------------------------\n>> Auth => Incoming Edges: Based on in_degree (max to min): [('47LI003', 0.3034), ('47XL015-ANN', 0.1131), ('47XL016-ANN', 0.1078), ('48PI2025', 0.074), ('47PI1734', 0.0537), ('47PIC1755', 0.0411), ('47LIC005', 0.0323), ('47FI1568', 0.0282), ('47PDI1746', 0.0248), ('SIO-18XA001', 0.0246), ('48XL002-ANN', 0.0236), ('48XL001-ANN', 0.0194), ('47TI003B', 0.0164), ('47TIC3520', 0.0158), ('47TI003A', 0.0125), ('47FI1575', 0.0093), ('47TAL003AB-ANN', 0.0093), ('47PIC2033A', 0.008), ('48FIX2040', 0.008), ('48TIC2027', 0.0078), ('19LI105A', 0.007), ('47FI043', 0.0068), ('47TI1512A', 0.0064), ('47TI1512B', 0.0038), ('47TI1512C', 0.0037), ('47TI1512ABC', 0.0037), ('47PDI1747', 0.0028), ('47TI1769', 0.0027), ('48TIC034', 0.0027), ('48FALL2003-ANN', 0.0026), ('47TI3519', 0.0025), ('47TI1723', 0.0025), ('47FLI-039', 0.0023), ('47LIC1503', 0.0018), ('47PIC3522', 0.0018), ('47PIC1505', 0.0014), ('48FI2003A', 0.0012), ('48XL009-ANN', 0.0012), ('47TI002C', 0.0011), ('48XL010-ANN', 0.001), ('47FLI-042', 0.0009), ('47LIC1509', 0.0009), ('47TI416', 0.0008), ('47LIC3408', 0.0008), ('47TI1521', 0.0008), ('47FLI-037', 0.0006), ('47PI2029B', 0.0004), ('47PIC2064', 0.0004), ('48LI011', 0.0003), ('47PIC027-ANN', 0.0003)]\n"
    }
   ],
   "source": [
    "# Hits Algo\n",
    "h, a = nx.hits(mg1)\n",
    "result = h\n",
    "result = {k:float(format(v, '.4f')) for k,v in sorted(result.items(), key=lambda arg: arg[1], reverse=True)}\n",
    "print(\">> Hub => Outgoing Edges: Based on out_degree (max to min):\",list(result.items())[:50])\n",
    "\n",
    "print(\"              --------------------------------------------------\")\n",
    "\n",
    "result = a\n",
    "result = {k:float(format(v, '.4f')) for k,v in sorted(result.items(), key=lambda arg: arg[1], reverse=True)}\n",
    "print(\">> Auth => Incoming Edges: Based on in_degree (max to min):\",list(result.items())[:50])\n"
   ]
  },
  {
   "cell_type": "code",
   "execution_count": 12,
   "metadata": {
    "tags": []
   },
   "outputs": [
    {
     "output_type": "stream",
     "name": "stdout",
     "text": "{'48PI2025': {'count': 5036, 'outd': 992, 'ind': 1926, 'totald': 2918}, '47LI003': {'count': 1016, 'outd': 201, 'ind': 1295, 'totald': 1496}, '47PIC1755': {'count': 2455, 'outd': 446, 'ind': 908, 'totald': 1354}, '47PI1734': {'count': 3208, 'outd': 614, 'ind': 887, 'totald': 1501}, '47LIC005': {'count': 1720, 'outd': 234, 'ind': 765, 'totald': 999}, '47FI1568': {'count': 1843, 'outd': 250, 'ind': 698, 'totald': 948}, '47TI1512C': {'count': 191, 'outd': 25, 'ind': 627, 'totald': 652}, '19G402-ANN': {'count': 592, 'outd': 29, 'ind': 595, 'totald': 624}, 'SIO-18XA001': {'count': 1943, 'outd': 625, 'ind': 493, 'totald': 1118}, '47PDI1746': {'count': 1408, 'outd': 250, 'ind': 485, 'totald': 735}, '48XL002-ANN': {'count': 1844, 'outd': 870, 'ind': 425, 'totald': 1295}, '47TI1512B': {'count': 221, 'outd': 340, 'ind': 406, 'totald': 746}, '47TI1512ABC': {'count': 209, 'outd': 287, 'ind': 406, 'totald': 693}, '47TIC3520': {'count': 954, 'outd': 364, 'ind': 406, 'totald': 770}, '47XL015-ANN': {'count': 635, 'outd': 1020, 'ind': 383, 'totald': 1403}, '48XL001-ANN': {'count': 2101, 'outd': 564, 'ind': 374, 'totald': 938}, '47XL016-ANN': {'count': 626, 'outd': 1022, 'ind': 369, 'totald': 1391}, '48FIX2040': {'count': 397, 'outd': 280, 'ind': 363, 'totald': 643}, '48TIC2027': {'count': 397, 'outd': 293, 'ind': 351, 'totald': 644}, '47TI003A': {'count': 502, 'outd': 311, 'ind': 316, 'totald': 627}, '47TAL003AB-ANN': {'count': 276, 'outd': 161, 'ind': 313, 'totald': 474}, '47TI003B': {'count': 770, 'outd': 383, 'ind': 276, 'totald': 659}, '47PI2039C': {'count': 78, 'outd': 9, 'ind': 255, 'totald': 264}, '47FI1575': {'count': 661, 'outd': 88, 'ind': 212, 'totald': 300}, '48FALL2003-ANN': {'count': 223, 'outd': 186, 'ind': 205, 'totald': 391}, '47PI2039A': {'count': 93, 'outd': 151, 'ind': 191, 'totald': 342}, '47PDI1747': {'count': 583, 'outd': 62, 'ind': 174, 'totald': 236}, '48XL009-ANN': {'count': 220, 'outd': 167, 'ind': 173, 'totald': 340}, '19LI105A': {'count': 450, 'outd': 64, 'ind': 165, 'totald': 229}, '47PI2029B': {'count': 90, 'outd': 121, 'ind': 160, 'totald': 281}, '48FI2003A': {'count': 444, 'outd': 350, 'ind': 157, 'totald': 507}, '48TIC034': {'count': 691, 'outd': 278, 'ind': 146, 'totald': 424}, '47FI043': {'count': 579, 'outd': 69, 'ind': 145, 'totald': 214}, '48XL010-ANN': {'count': 221, 'outd': 200, 'ind': 139, 'totald': 339}, '47TI1723': {'count': 339, 'outd': 18, 'ind': 138, 'totald': 156}, '47TI1512A': {'count': 261, 'outd': 604, 'ind': 136, 'totald': 740}, '47TI3519': {'count': 246, 'outd': 169, 'ind': 128, 'totald': 297}, '47FLI-039': {'count': 1864, 'outd': 773, 'ind': 124, 'totald': 897}, '47TI1769': {'count': 548, 'outd': 236, 'ind': 119, 'totald': 355}, '47PI2039B': {'count': 91, 'outd': 175, 'ind': 112, 'totald': 287}, '47PIC2033A': {'count': 671, 'outd': 273, 'ind': 109, 'totald': 382}, '47PI2029A': {'count': 80, 'outd': 189, 'ind': 109, 'totald': 298}, '47LIC1509': {'count': 219, 'outd': 55, 'ind': 89, 'totald': 144}, '47PIC3522': {'count': 283, 'outd': 110, 'ind': 81, 'totald': 191}, '47FLI-042': {'count': 649, 'outd': 192, 'ind': 74, 'totald': 266}, '47TIC1535': {'count': 88, 'outd': 76, 'ind': 66, 'totald': 142}, '47FI1502C': {'count': 58, 'outd': 21, 'ind': 66, 'totald': 87}, '48LI011': {'count': 234, 'outd': 69, 'ind': 64, 'totald': 133}, '47TI1533': {'count': 122, 'outd': 101, 'ind': 64, 'totald': 165}, '47PIC1505': {'count': 695, 'outd': 364, 'ind': 63, 'totald': 427}, '47TI002C': {'count': 257, 'outd': 84, 'ind': 59, 'totald': 143}, '47PDIC1759': {'count': 266, 'outd': 43, 'ind': 57, 'totald': 100}, '47FD-032HH-ANN': {'count': 45, 'outd': 37, 'ind': 55, 'totald': 92}, '47TI2111A': {'count': 144, 'outd': 72, 'ind': 55, 'totald': 127}, '48FALL2021-ANN': {'count': 32, 'outd': 24, 'ind': 54, 'totald': 78}, '47PI123B': {'count': 25, 'outd': 22, 'ind': 54, 'totald': 76}, '47TI416': {'count': 123, 'outd': 51, 'ind': 53, 'totald': 104}, '47LIC1511': {'count': 57, 'outd': 15, 'ind': 53, 'totald': 68}, '47PIC2064': {'count': 145, 'outd': 18, 'ind': 53, 'totald': 71}, '47FI1502D': {'count': 54, 'outd': 38, 'ind': 53, 'totald': 91}, '47LIC1513': {'count': 68, 'outd': 23, 'ind': 52, 'totald': 75}, '47LIC3408': {'count': 244, 'outd': 43, 'ind': 50, 'totald': 93}, '48FI2021A': {'count': 66, 'outd': 51, 'ind': 49, 'totald': 100}, '47TI2111B': {'count': 88, 'outd': 40, 'ind': 47, 'totald': 87}, '48BAL005-ANN': {'count': 13, 'outd': 7, 'ind': 47, 'totald': 54}, '47TI2112A': {'count': 170, 'outd': 73, 'ind': 45, 'totald': 118}, '47TXI1592': {'count': 67, 'outd': 11, 'ind': 45, 'totald': 56}, '48UA005-ANN': {'count': 13, 'outd': 9, 'ind': 45, 'totald': 54}, '19LIC104': {'count': 52, 'outd': 0, 'ind': 43, 'totald': 43}, '47FIC1504': {'count': 34, 'outd': 28, 'ind': 42, 'totald': 70}, '47FLI-037': {'count': 351, 'outd': 86, 'ind': 41, 'totald': 127}, '47PIC027': {'count': 70, 'outd': 33, 'ind': 41, 'totald': 74}, '47_AMPSC_PMCC1L': {'count': 45, 'outd': 12, 'ind': 39, 'totald': 51}, '47FD-036HH-ANN': {'count': 29, 'outd': 23, 'ind': 39, 'totald': 62}, '47FD-036H-ANN': {'count': 30, 'outd': 30, 'ind': 35, 'totald': 65}, '47TI2112B': {'count': 78, 'outd': 30, 'ind': 33, 'totald': 63}, '47TI1521': {'count': 100, 'outd': 8, 'ind': 32, 'totald': 40}, '47PI123A': {'count': 26, 'outd': 46, 'ind': 32, 'totald': 78}, '47FIC1502': {'count': 37, 'outd': 17, 'ind': 30, 'totald': 47}, '47PI123C': {'count': 26, 'outd': 48, 'ind': 30, 'totald': 78}, '47FI1005': {'count': 306, 'outd': 106, 'ind': 29, 'totald': 135}, '47TXI1594': {'count': 95, 'outd': 36, 'ind': 28, 'totald': 64}, '47PI2029C': {'count': 101, 'outd': 126, 'ind': 28, 'totald': 154}, '47PDI003': {'count': 100, 'outd': 16, 'ind': 28, 'totald': 44}, '47LIC009': {'count': 217, 'outd': 62, 'ind': 28, 'totald': 90}, '47FIC3513': {'count': 74, 'outd': 12, 'ind': 28, 'totald': 40}, '47PIC2023': {'count': 60, 'outd': 52, 'ind': 28, 'totald': 80}, '47TI414H': {'count': 31, 'outd': 27, 'ind': 27, 'totald': 54}, '47TI1507': {'count': 54, 'outd': 34, 'ind': 27, 'totald': 61}, '47TI2112ABC': {'count': 24, 'outd': 31, 'ind': 26, 'totald': 57}, '47TI2077': {'count': 151, 'outd': 37, 'ind': 26, 'totald': 63}, '47TI414P': {'count': 9, 'outd': 4, 'ind': 26, 'totald': 30}, '47PI1710': {'count': 110, 'outd': 61, 'ind': 25, 'totald': 86}, '47TI2111ABC': {'count': 44, 'outd': 57, 'ind': 25, 'totald': 82}, '47PIC1504': {'count': 51, 'outd': 24, 'ind': 24, 'totald': 48}, '48FFX019': {'count': 19, 'outd': 8, 'ind': 24, 'totald': 32}, '47LIC1505': {'count': 142, 'outd': 28, 'ind': 23, 'totald': 51}, '47_AMPSA_PMCC1L': {'count': 65, 'outd': 31, 'ind': 23, 'totald': 54}, '47FIC1503': {'count': 27, 'outd': 39, 'ind': 23, 'totald': 62}, '47FD-032H-ANN': {'count': 45, 'outd': 55, 'ind': 22, 'totald': 77}, '47AI2003': {'count': 24, 'outd': 2, 'ind': 22, 'totald': 24}, '47LIC1506': {'count': 128, 'outd': 23, 'ind': 22, 'totald': 45}, '47FI1504B': {'count': 21, 'outd': 0, 'ind': 22, 'totald': 22}, '47TI1509': {'count': 18, 'outd': 20, 'ind': 21, 'totald': 41}, '47TAH808-ANN': {'count': 67, 'outd': 10, 'ind': 21, 'totald': 31}, '47PIC027-ANN': {'count': 54, 'outd': 5, 'ind': 20, 'totald': 25}, '48FFIC014': {'count': 9, 'outd': 8, 'ind': 20, 'totald': 28}, '47TI1508': {'count': 52, 'outd': 15, 'ind': 19, 'totald': 34}, '48UA007-ANN': {'count': 11, 'outd': 7, 'ind': 19, 'totald': 26}, '47LIC1503': {'count': 373, 'outd': 0, 'ind': 19, 'totald': 19}, '47FI1503C': {'count': 23, 'outd': 12, 'ind': 19, 'totald': 31}, '47AIT2014': {'count': 35, 'outd': 0, 'ind': 18, 'totald': 18}, '47FI1571': {'count': 70, 'outd': 4, 'ind': 18, 'totald': 22}, '47FI1504C': {'count': 26, 'outd': 0, 'ind': 18, 'totald': 18}, '47LIC1518': {'count': 85, 'outd': 2, 'ind': 17, 'totald': 19}, '47PI614ABC': {'count': 6, 'outd': 0, 'ind': 16, 'totald': 16}, '47TI414G': {'count': 26, 'outd': 21, 'ind': 15, 'totald': 36}, '48LI015': {'count': 395, 'outd': 241, 'ind': 15, 'totald': 256}, '47PTOPC62': {'count': 11, 'outd': 0, 'ind': 15, 'totald': 15}, '47TI414Q': {'count': 54, 'outd': 46, 'ind': 13, 'totald': 59}, '47LIC3409': {'count': 122, 'outd': 18, 'ind': 13, 'totald': 31}, '47PI1711': {'count': 22, 'outd': 40, 'ind': 13, 'totald': 53}, '48TI035B': {'count': 10, 'outd': 9, 'ind': 12, 'totald': 21}, '47TIC2056': {'count': 65, 'outd': 25, 'ind': 12, 'totald': 37}, '47LIC1501': {'count': 220, 'outd': 51, 'ind': 12, 'totald': 63}, '47FI1502BCD': {'count': 6, 'outd': 13, 'ind': 12, 'totald': 25}, '47PI2064': {'count': 13, 'outd': 7, 'ind': 12, 'totald': 19}, '47FIC1505': {'count': 38, 'outd': 22, 'ind': 11, 'totald': 33}, '48LI013': {'count': 188, 'outd': 98, 'ind': 11, 'totald': 109}, '47TIC2050': {'count': 44, 'outd': 32, 'ind': 11, 'totald': 43}, '48BAL007-ANN': {'count': 13, 'outd': 15, 'ind': 11, 'totald': 26}, '47FIC004': {'count': 12, 'outd': 7, 'ind': 11, 'totald': 18}, '47FI1503B': {'count': 28, 'outd': 32, 'ind': 11, 'totald': 43}, '47TIC2078': {'count': 80, 'outd': 27, 'ind': 10, 'totald': 37}, '47FI1509': {'count': 164, 'outd': 48, 'ind': 10, 'totald': 58}, '47HCI-003': {'count': 104, 'outd': 0, 'ind': 10, 'totald': 10}, '47TI414I': {'count': 13, 'outd': 5, 'ind': 9, 'totald': 14}, '19PI119A': {'count': 87, 'outd': 29, 'ind': 9, 'totald': 38}, '47FIC1522A': {'count': 28, 'outd': 0, 'ind': 9, 'totald': 9}, '47TI414R': {'count': 10, 'outd': 4, 'ind': 9, 'totald': 13}, '47TI1506': {'count': 183, 'outd': 62, 'ind': 8, 'totald': 70}, '47TI2076': {'count': 13, 'outd': 6, 'ind': 8, 'totald': 14}, '47LIC3103': {'count': 124, 'outd': 3, 'ind': 8, 'totald': 11}, '47LIC002': {'count': 125, 'outd': 18, 'ind': 8, 'totald': 26}, '47FIC021': {'count': 33, 'outd': 11, 'ind': 8, 'totald': 19}, '47FIC1515': {'count': 69, 'outd': 15, 'ind': 8, 'totald': 23}, '48TI003A': {'count': 32, 'outd': 2, 'ind': 8, 'totald': 10}, '47TI1765': {'count': 16, 'outd': 0, 'ind': 8, 'totald': 8}, '47FIC1512': {'count': 9, 'outd': 0, 'ind': 8, 'totald': 8}, '47TI870D': {'count': 90, 'outd': 12, 'ind': 7, 'totald': 19}, '47TI2112C': {'count': 10, 'outd': 29, 'ind': 7, 'totald': 36}, '47TI414L': {'count': 26, 'outd': 15, 'ind': 7, 'totald': 22}, '48FFIC019': {'count': 20, 'outd': 0, 'ind': 7, 'totald': 7}, '47TI2058B': {'count': 37, 'outd': 9, 'ind': 7, 'totald': 16}, '47FIC037': {'count': 22, 'outd': 8, 'ind': 7, 'totald': 15}, '47TI3416': {'count': 10, 'outd': 3, 'ind': 7, 'totald': 10}, '47FIC1507': {'count': 44, 'outd': 2, 'ind': 7, 'totald': 9}, '47TI2092': {'count': 14, 'outd': 2, 'ind': 7, 'totald': 9}, '47PI1519': {'count': 49, 'outd': 2, 'ind': 7, 'totald': 9}, '47LI024': {'count': 65, 'outd': 4, 'ind': 7, 'totald': 11}, '47FI1505D': {'count': 27, 'outd': 0, 'ind': 7, 'totald': 7}, '48LIC009': {'count': 65, 'outd': 12, 'ind': 6, 'totald': 18}, '47TIC1511': {'count': 41, 'outd': 38, 'ind': 6, 'totald': 44}, '47FIC1524_CALX': {'count': 7, 'outd': 5, 'ind': 6, 'totald': 11}, '47PDI3420': {'count': 33, 'outd': 12, 'ind': 6, 'totald': 18}, '47PI2031A': {'count': 7, 'outd': 5, 'ind': 5, 'totald': 10}, '47PI2031ABC': {'count': 7, 'outd': 5, 'ind': 5, 'totald': 10}, '47PI2020': {'count': 16, 'outd': 7, 'ind': 5, 'totald': 12}, '47FIC035': {'count': 8, 'outd': 0, 'ind': 5, 'totald': 5}, '47FIC1524': {'count': 10, 'outd': 6, 'ind': 5, 'totald': 11}, '47TI3418': {'count': 28, 'outd': 4, 'ind': 5, 'totald': 9}, '47AIC003': {'count': 25, 'outd': 0, 'ind': 5, 'totald': 5}, '47PI1701': {'count': 20, 'outd': 0, 'ind': 4, 'totald': 4}, '48LI010': {'count': 114, 'outd': 31, 'ind': 4, 'totald': 35}, '47PIC2038': {'count': 45, 'outd': 10, 'ind': 4, 'totald': 14}, '47FIC1517': {'count': 13, 'outd': 6, 'ind': 4, 'totald': 10}, '47FIC1516': {'count': 15, 'outd': 0, 'ind': 4, 'totald': 4}, '48FI013': {'count': 14, 'outd': 59, 'ind': 4, 'totald': 63}, '47PI2018': {'count': 7, 'outd': 4, 'ind': 4, 'totald': 8}, '47FSL019-ANN': {'count': 59, 'outd': 7, 'ind': 4, 'totald': 11}, '47LIC1515': {'count': 21, 'outd': 4, 'ind': 4, 'totald': 8}, '47TI2094': {'count': 11, 'outd': 2, 'ind': 4, 'totald': 6}, '47FI1503D': {'count': 24, 'outd': 19, 'ind': 4, 'totald': 23}, '47FI1505B': {'count': 34, 'outd': 26, 'ind': 4, 'totald': 30}, '19XL101-ANN': {'count': 592, 'outd': 621, 'ind': 4, 'totald': 625}, '47TI414F': {'count': 5, 'outd': 0, 'ind': 4, 'totald': 4}, '47PI2002': {'count': 18, 'outd': 7, 'ind': 3, 'totald': 10}, '47LIC1504': {'count': 26, 'outd': 2, 'ind': 3, 'totald': 5}, '47TI1727': {'count': 30, 'outd': 17, 'ind': 3, 'totald': 20}, '47_AMPSB_PMCC1L': {'count': 12, 'outd': 0, 'ind': 3, 'totald': 3}, '47FI2002': {'count': 6, 'outd': 0, 'ind': 3, 'totald': 3}, '47XL011-ANN': {'count': 6, 'outd': 13, 'ind': 3, 'totald': 16}, '47PDI1749': {'count': 43, 'outd': 6, 'ind': 3, 'totald': 9}, '47LIC1507': {'count': 22, 'outd': 0, 'ind': 3, 'totald': 3}, '47LIC1551': {'count': 112, 'outd': 29, 'ind': 3, 'totald': 32}, '47LI1512': {'count': 16, 'outd': 0, 'ind': 2, 'totald': 2}, '47TI1724': {'count': 28, 'outd': 2, 'ind': 2, 'totald': 4}, '19FI108A': {'count': 68, 'outd': 4, 'ind': 2, 'totald': 6}, '47TI3531': {'count': 123, 'outd': 42, 'ind': 2, 'totald': 44}, '48FFIC2002': {'count': 43, 'outd': 6, 'ind': 2, 'totald': 8}, '47XL1525B-ANN': {'count': 19, 'outd': 11, 'ind': 2, 'totald': 13}, '47LIC1508': {'count': 12, 'outd': 0, 'ind': 2, 'totald': 2}, '47PIC3522-ANN': {'count': 24, 'outd': 5, 'ind': 2, 'totald': 7}, '47G12-A': {'count': 37, 'outd': 2, 'ind': 2, 'totald': 4}, '47PIC2028': {'count': 52, 'outd': 5, 'ind': 2, 'totald': 7}, '47LIC1510': {'count': 18, 'outd': 0, 'ind': 2, 'totald': 2}, '47LIC1520': {'count': 26, 'outd': 0, 'ind': 2, 'totald': 2}, '47LIC1514': {'count': 14, 'outd': 0, 'ind': 2, 'totald': 2}, '47FI1505C': {'count': 21, 'outd': 7, 'ind': 2, 'totald': 9}, '47FI1504D': {'count': 24, 'outd': 2, 'ind': 2, 'totald': 4}, '47TI2093': {'count': 12, 'outd': 3, 'ind': 2, 'totald': 5}, '19ZAH119A-ANN': {'count': 37, 'outd': 12, 'ind': 0, 'totald': 12}, '48XL012-ANN': {'count': 101, 'outd': 24, 'ind': 0, 'totald': 24}, '19ZAL119A-ANN': {'count': 42, 'outd': 14, 'ind': 0, 'totald': 14}, '19TI104': {'count': 56, 'outd': 10, 'ind': 0, 'totald': 10}, '47TI2086': {'count': 70, 'outd': 26, 'ind': 0, 'totald': 26}, '47PDI3104': {'count': 62, 'outd': 17, 'ind': 0, 'totald': 17}, '47TI2003': {'count': 30, 'outd': 7, 'ind': 0, 'totald': 7}, '48FI2021B': {'count': 65, 'outd': 54, 'ind': 0, 'totald': 54}, '47TI1705': {'count': 97, 'outd': 55, 'ind': 0, 'totald': 55}, '48LIC2003': {'count': 82, 'outd': 32, 'ind': 0, 'totald': 32}, '47TI1505': {'count': 42, 'outd': 5, 'ind': 0, 'totald': 5}, '48XL005-ANN': {'count': 82, 'outd': 43, 'ind': 0, 'totald': 43}, '47LI606A': {'count': 60, 'outd': 5, 'ind': 0, 'totald': 5}, '47FIC016': {'count': 35, 'outd': 6, 'ind': 0, 'totald': 6}, '47XL1526A-ANN': {'count': 10, 'outd': 3, 'ind': 0, 'totald': 3}, '48XL006-ANN': {'count': 84, 'outd': 30, 'ind': 0, 'totald': 30}, '47FIC1520': {'count': 25, 'outd': 4, 'ind': 0, 'totald': 4}, '47PI1003': {'count': 73, 'outd': 17, 'ind': 0, 'totald': 17}, '47TI1529': {'count': 41, 'outd': 4, 'ind': 0, 'totald': 4}, '47XL1001-ANN': {'count': 73, 'outd': 35, 'ind': 0, 'totald': 35}, '47UA2500-ANN': {'count': 5, 'outd': 16, 'ind': 0, 'totald': 16}, '47TI2057A': {'count': 29, 'outd': 5, 'ind': 0, 'totald': 5}, '47TI2111C': {'count': 7, 'outd': 20, 'ind': 0, 'totald': 20}, '47XL026A-ANN': {'count': 9, 'outd': 2, 'ind': 0, 'totald': 2}, '47PI1005': {'count': 12, 'outd': 2, 'ind': 0, 'totald': 2}, '47TI926I': {'count': 18, 'outd': 7, 'ind': 0, 'totald': 7}, '47FIC020': {'count': 22, 'outd': 5, 'ind': 0, 'totald': 5}, '47BA001P-ANN': {'count': 26, 'outd': 8, 'ind': 0, 'totald': 8}, '47FI1505BCD': {'count': 5, 'outd': 13, 'ind': 0, 'totald': 13}, '47TI1540': {'count': 78, 'outd': 20, 'ind': 0, 'totald': 20}, '48TIC008': {'count': 7, 'outd': 2, 'ind': 0, 'totald': 2}, '47FIC038': {'count': 22, 'outd': 6, 'ind': 0, 'totald': 6}, '47LIC015': {'count': 16, 'outd': 3, 'ind': 0, 'totald': 3}, '47TI1722': {'count': 20, 'outd': 3, 'ind': 0, 'totald': 3}, '48FFIC031': {'count': 23, 'outd': 5, 'ind': 0, 'totald': 5}, '47FIC2001': {'count': 14, 'outd': 3, 'ind': 0, 'totald': 3}, '48FI020': {'count': 11, 'outd': 40, 'ind': 0, 'totald': 40}, '47TI3419': {'count': 16, 'outd': 13, 'ind': 0, 'totald': 13}, '47TI2095': {'count': 44, 'outd': 15, 'ind': 0, 'totald': 15}, '47FIC2002': {'count': 24, 'outd': 5, 'ind': 0, 'totald': 5}, '47XL017G-ANN': {'count': 6, 'outd': 4, 'ind': 0, 'totald': 4}, '47TI1003': {'count': 31, 'outd': 2, 'ind': 0, 'totald': 2}, '47TI618': {'count': 34, 'outd': 6, 'ind': 0, 'totald': 6}, '47XL1525A-ANN': {'count': 7, 'outd': 3, 'ind': 0, 'totald': 3}, '47XL1526B-ANN': {'count': 11, 'outd': 4, 'ind': 0, 'totald': 4}, '47G122-ANN': {'count': 35, 'outd': 9, 'ind': 0, 'totald': 9}, '47FI3005': {'count': 7, 'outd': 3, 'ind': 0, 'totald': 3}, '47PIC1757': {'count': 14, 'outd': 3, 'ind': 0, 'totald': 3}, '47TIC1501': {'count': 68, 'outd': 2, 'ind': 0, 'totald': 2}, '47PI632ABC': {'count': 6, 'outd': 16, 'ind': 0, 'totald': 16}, '47PI055': {'count': 11, 'outd': 2, 'ind': 0, 'totald': 2}, '47TI808': {'count': 10, 'outd': 14, 'ind': 0, 'totald': 14}, '47TI414B': {'count': 29, 'outd': 14, 'ind': 0, 'totald': 14}, '47TIC3417': {'count': 28, 'outd': 5, 'ind': 0, 'totald': 5}, '47XL3508-ANN': {'count': 6, 'outd': 2, 'ind': 0, 'totald': 2}, '47TI412': {'count': 13, 'outd': 15, 'ind': 0, 'totald': 15}, '47PI1707': {'count': 22, 'outd': 4, 'ind': 0, 'totald': 4}, '47FI1502B': {'count': 40, 'outd': 22, 'ind': 0, 'totald': 22}, '47AI003': {'count': 11, 'outd': 5, 'ind': 0, 'totald': 5}, '48TI004': {'count': 14, 'outd': 4, 'ind': 0, 'totald': 4}, '19LIC102': {'count': 40, 'outd': 8, 'ind': 0, 'totald': 8}, '47TI2072': {'count': 13, 'outd': 8, 'ind': 0, 'totald': 8}}\n"
    }
   ],
   "source": [
    "# Degree Analysis\n",
    "nodes_dict = {}\n",
    "for s in list(mg1.nodes):\n",
    "    nodes_dict[s] = {\"count\":mg1.nodes[s][\"count\"], \"outd\" : mg1.out_degree(s,\"weight\"), \"ind\":mg1.in_degree(s,\"weight\"), \"totald\": mg1.degree(s,\"weight\")}\n",
    "\n",
    "nodes_dict = {k:v for k, v in sorted(nodes_dict.items(), key=lambda arg: arg[1][\"ind\"], reverse=True) if v[\"count\"]>4 and v[\"totald\"]>1}\n",
    "print(nodes_dict)"
   ]
  },
  {
   "cell_type": "code",
   "execution_count": 19,
   "metadata": {},
   "outputs": [
    {
     "output_type": "execute_result",
     "data": {
      "text/plain": "<IPython.lib.display.IFrame at 0x7faa57be1250>",
      "text/html": "\n        <iframe\n            width=\"100%\"\n            height=\"400x\"\n            src=\"nt.html\"\n            frameborder=\"0\"\n            allowfullscreen\n        ></iframe>\n        "
     },
     "metadata": {},
     "execution_count": 19
    }
   ],
   "source": [
    "for edge in mg1.edges:\n",
    "    mg1.edges[edge][\"value\"] = mg1.edges[edge][\"weight\"]\n",
    "    mg1.edges[edge][\"title\"] = \"{},{}\".format(edge,mg1.edges[edge][\"weight\"])\n",
    "\n",
    "for node in mg1.nodes:\n",
    "    mg1.nodes[node][\"title\"] = \"{}, {}\".format(node,mg1.nodes[node]['count']) \n",
    "\n",
    "\n",
    "nt = Network(\"400x\", \"100%\", notebook=True)\n",
    "nt.from_nx(mg1)\n",
    "nt.options.edges.Color  = \"Gray\"\n",
    "nt.toggle_hide_edges_on_drag(True)\n",
    "# nt.toggle_physics(False)\n",
    "nt.repulsion()\n",
    "nt.toggle_stabilization(True)\n",
    "nt.show_buttons(filter_=['physics','edges'])\n",
    "# nt.toggle_ph\n",
    "nt.show(\"nt.html\")\n",
    "# visualize_graph(mg1)"
   ]
  },
  {
   "cell_type": "markdown",
   "metadata": {},
   "source": [
    "# Extras\n",
    "\n",
    "\n",
    "### Per Sensor Based Analysis"
   ]
  },
  {
   "cell_type": "code",
   "execution_count": null,
   "metadata": {},
   "outputs": [],
   "source": []
  }
 ],
 "metadata": {
  "kernelspec": {
   "display_name": "Python 3.8.3 64-bit ('tupras': conda)",
   "language": "python",
   "name": "python38364bittuprascondad3f64d142d7848d8b5ff812324ef08eb"
  },
  "language_info": {
   "codemirror_mode": {
    "name": "ipython",
    "version": 3
   },
   "file_extension": ".py",
   "mimetype": "text/x-python",
   "name": "python",
   "nbconvert_exporter": "python",
   "pygments_lexer": "ipython3",
   "version": "3.8.3-final"
  }
 },
 "nbformat": 4,
 "nbformat_minor": 4
}