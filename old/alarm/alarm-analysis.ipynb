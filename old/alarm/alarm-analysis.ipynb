{
 "cells": [
  {
   "cell_type": "code",
   "execution_count": 1,
   "metadata": {},
   "outputs": [],
   "source": [
    "import pandas as pd\n",
    "import numpy as np\n",
    "import matplotlib.pyplot as plt\n",
    "import matplotlib\n",
    "from pymongo import MongoClient"
   ]
  },
  {
   "cell_type": "code",
   "execution_count": 2,
   "metadata": {},
   "outputs": [],
   "source": [
    "df = pd.read_excel(\"/home/waris/Github/tupras-analysis/alarm.xlsx\")\n"
   ]
  },
  {
   "cell_type": "code",
   "execution_count": 3,
   "metadata": {},
   "outputs": [],
   "source": [
    "client = MongoClient()\n",
    "db = client[\"Tupras\"]\n",
    "collectionRawData = [\"Raw-Data\"]\n",
    "collectionT = db[\"Alarm-Preprocessing-Step1\"]"
   ]
  },
  {
   "cell_type": "code",
   "execution_count": 6,
   "metadata": {},
   "outputs": [
    {
     "ename": "SyntaxError",
     "evalue": "invalid syntax (<ipython-input-6-4cd7499e222e>, line 9)",
     "output_type": "error",
     "traceback": [
      "\u001b[0;36m  File \u001b[0;32m\"<ipython-input-6-4cd7499e222e>\"\u001b[0;36m, line \u001b[0;32m9\u001b[0m\n\u001b[0;31m    df.\u001b[0m\n\u001b[0m       ^\u001b[0m\n\u001b[0;31mSyntaxError\u001b[0m\u001b[0;31m:\u001b[0m invalid syntax\n"
     ]
    }
   ],
   "source": [
    "# sources = df[\"SourceName\"].values\n",
    "# start_time = df[\"ActiveTime\"].values\n",
    "# end_time = df[\"EventTime\"].values\n",
    "# message = df[\"Message\"].values\n",
    "# print(sources, start_time, end_time, message)\n",
    "# print(type(end_time[0]), type(message[0]))\n",
    "# print(end_time[0]-start_time[0])\n",
    "\n",
    "df.\n"
   ]
  },
  {
   "cell_type": "code",
   "execution_count": null,
   "metadata": {},
   "outputs": [],
   "source": []
  },
  {
   "cell_type": "markdown",
   "metadata": {},
   "source": [
    "Preprocessing Step 1"
   ]
  },
  {
   "cell_type": "code",
   "execution_count": null,
   "metadata": {},
   "outputs": [],
   "source": [
    "def getTargetEventList(start,stime,etime):\n",
    "    tList = []\n",
    "\n",
    "    for i in range(start,len(start_time)):\n",
    "                \n",
    "        if (stime < start_time[i]):\n",
    "            if (start_time[i] < etime):\n",
    "                if (end_time[i] < etime):\n",
    "                    tList.append({\"target\": sources[i], \"target-start-time\": np.datetime_as_string(start_time[i]), \"target-end-time\": np.datetime_as_string(end_time[i])}) \n",
    "            else:\n",
    "                break\n",
    "        else:\n",
    "            break\n",
    "\n",
    "    return tList"
   ]
  },
  {
   "cell_type": "code",
   "execution_count": null,
   "metadata": {},
   "outputs": [],
   "source": [
    "# for i, s in enumerate(sources):\n",
    "#     tList = getTargetEventList(i+1,start_time[i], end_time[i])\n",
    "#     if len(tList) > 0:\n",
    "#         # print(\"Iteration\", i, \"Number of alarms\", len(tList))\n",
    "#         collectionT.insert_one({\"source\":s, \"source-start-time\": np.datetime_as_string(start_time[i]), \"source-end-time\":np.datetime_as_string(end_time[i]),\"tList\": tList})\n"
   ]
  },
  {
   "cell_type": "code",
   "execution_count": null,
   "metadata": {},
   "outputs": [],
   "source": [
    "def intersection1(lst1, lst2): \n",
    "    lst3 = [d[\"target\"] for d in lst1 if d[\"target\"] in lst2] \n",
    "    return list(set(lst3)) \n",
    "\n",
    "def intersection2(lst1, lst2): \n",
    "    return list(set(lst1) & set(lst2)) \n",
    "\n",
    "def convertToProperList(l):\n",
    "    temp = []\n",
    "\n",
    "    for d in l:\n",
    "        temp.append(d[\"target\"])\n",
    "    \n",
    "    return list(set(temp))\n"
   ]
  },
  {
   "cell_type": "code",
   "execution_count": null,
   "metadata": {},
   "outputs": [],
   "source": [
    "def test(s):\n",
    "    cursor_target_lists = collectionT.find({\"source\": s}, { \"tList.target\": 1,\"_id\": 0 })\n",
    "    intersection_list = []\n",
    "    flag = True\n",
    "    duplicates = 0\n",
    "    for d in cursor_target_lists:\n",
    "        list1 = d[\"tList\"]\n",
    "        \n",
    "        if len(list1)>8:\n",
    "            if flag:\n",
    "                flag = False       \n",
    "                intersection_list = convertToProperList(list1)\n",
    "            \n",
    "            temp_len_intersection = len(intersection_list) \n",
    "            temp_len_list1 = len(list1) \n",
    "            list1 = convertToProperList(list1)\n",
    "            intersection_list = intersection2(list1, intersection_list)\n",
    "            duplicates += (temp_len_list1 - len(list1))\n",
    "            print(\"Orignal Length :{l}, after len: {al}, duplicates: {dup}\".format(l=temp_len_list1, al=len(list1), dup=duplicates))\n",
    "            if (len(intersection_list)>0):\n",
    "                print(\"List1: {l1}, List2: {l2}, Intersection: {l3}\".format(l1= len(list1), l2 = temp_len_intersection, l3= len(intersection_list)))\n",
    "        \n",
    "            \n",
    "    return intersection_list, duplicates\n",
    "\n"
   ]
  },
  {
   "cell_type": "code",
   "execution_count": null,
   "metadata": {},
   "outputs": [],
   "source": [
    "## Tacking Intersection\n",
    "sensors = collectionT.distinct(\"source\")\n"
   ]
  },
  {
   "cell_type": "code",
   "execution_count": null,
   "metadata": {},
   "outputs": [],
   "source": [
    "\n",
    "DUPLICATES = 0\n",
    "\n",
    "for i, s in enumerate(sensors):\n",
    "    print(\"==================== {}============================\".format(i))\n",
    "    _ , d = test(s)\n",
    "    print(\"Duplicates\",  d)\n",
    "    DUPLICATES += d \n",
    "\n",
    "print(\"Total Duplicates\", DUPLICATES)"
   ]
  },
  {
   "cell_type": "code",
   "execution_count": null,
   "metadata": {},
   "outputs": [],
   "source": [
    "col"
   ]
  }
 ],
 "metadata": {
  "file_extension": ".py",
  "kernelspec": {
   "display_name": "Python 3",
   "language": "python",
   "name": "python3"
  },
  "language_info": {
   "codemirror_mode": {
    "name": "ipython",
    "version": 3
   },
   "file_extension": ".py",
   "mimetype": "text/x-python",
   "name": "python",
   "nbconvert_exporter": "python",
   "pygments_lexer": "ipython3",
   "version": "3.7.4"
  },
  "mimetype": "text/x-python",
  "name": "python",
  "npconvert_exporter": "python",
  "pygments_lexer": "ipython3",
  "version": 3
 },
 "nbformat": 4,
 "nbformat_minor": 4
}
