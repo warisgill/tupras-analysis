{
 "nbformat": 4,
 "nbformat_minor": 2,
 "metadata": {
  "language_info": {
   "name": "python",
   "codemirror_mode": {
    "name": "ipython",
    "version": 3
   },
   "version": "3.7.5"
  },
  "orig_nbformat": 2,
  "file_extension": ".py",
  "mimetype": "text/x-python",
  "name": "python",
  "npconvert_exporter": "python",
  "pygments_lexer": "ipython3",
  "version": 3
 },
 "cells": [
  {
   "cell_type": "code",
   "execution_count": 1,
   "metadata": {},
   "outputs": [],
   "source": [
    "import pandas as pd\n",
    "import numpy as np\n",
    "import matplotlib.pyplot as plt\n",
    "import matplotlib\n",
    "from pymongo import MongoClient"
   ]
  },
  {
   "cell_type": "code",
   "execution_count": 2,
   "metadata": {},
   "outputs": [],
   "source": [
    "df = pd.read_excel(\"/home/waris/Github/tupras-analysis/alarm.xlsx\")\n",
    "client = MongoClient()"
   ]
  },
  {
   "cell_type": "code",
   "execution_count": 3,
   "metadata": {},
   "outputs": [],
   "source": [
    "db = client[\"Tupras-DB\"]\n",
    "collectionT = db[\"Alarm\"]"
   ]
  },
  {
   "cell_type": "code",
   "execution_count": 4,
   "metadata": {},
   "outputs": [
    {
     "name": "stdout",
     "output_type": "stream",
     "text": "['5FIC366' '18FIC356A' '5FIC316' ... '5PIC373' '5LIC509' '5LIC509'] ['2016-12-20T19:59:28.000000000' '2016-12-30T18:33:54.000000000'\n '2017-01-02T08:24:42.000000000' ... '2017-12-31T23:22:10.000000000'\n '2017-12-31T23:25:30.000000000' '2017-12-31T23:25:30.000000000'] ['2017-01-04T16:45:50.000000000' '2017-01-02T14:18:44.000000000'\n '2017-01-02T08:31:24.000000000' ... '2017-12-31T23:56:50.000000000'\n '2017-12-31T23:25:30.000000000' '2017-12-31T23:25:31.000000000'] ['5FIC366      5E-12 DEN   AGIR DIZEL R ACK'\n '18FIC356A    18G-356A DENPLT5 E H.PET PV  = 219.93 M3/H HI   Recover'\n '5FIC316      5F-3 3.KOL  AKIMI        PV  =  529.7 M3/D LO   Recover'\n ...\n '5PIC373      5C-2 TEPE   BASINCI      MV  =   73.0 %    MHI  Recover'\n '5LIC509      5D-101 MAYI SEVIYESI     PV  =   20.0 %    LO'\n '5LIC509      5D-101 MAYI SEVIYESI     PV  =   37.2 %    LO   Recover']\n<class 'numpy.datetime64'> <class 'str'>\n1284382000000000 nanoseconds\n"
    }
   ],
   "source": [
    "sources = df[\"SourceName\"].values\n",
    "start_time = df[\"ActiveTime\"].values\n",
    "end_time = df[\"EventTime\"].values\n",
    "message = df[\"Message\"].values\n",
    "print(sources, start_time, end_time, message)\n",
    "print(type(end_time[0]), type(message[0]))\n",
    "print(end_time[0]-start_time[0])\n"
   ]
  },
  {
   "cell_type": "markdown",
   "metadata": {},
   "outputs": [],
   "source": [
    "Preprocessing Step 1"
   ]
  },
  {
   "cell_type": "code",
   "execution_count": 16,
   "metadata": {},
   "outputs": [],
   "source": [
    "# def getTargetEventList(start,stime,etime):\n",
    "#     tList = []\n",
    "\n",
    "#     for i in range(start,len(start_time)):\n",
    "#         if (stime < start_time[i]) and (start_time[i] < etime) and (end_time[i] < etime):\n",
    "#             tList.append({\"target\": sources[i], \"target-start-time\": np.datetime_as_string(start_time[i]), \"target-end-time\": np.datetime_as_string(end_time[i])})\n",
    "\n",
    "#     return tList"
   ]
  },
  {
   "cell_type": "code",
   "execution_count": 17,
   "metadata": {},
   "outputs": [
    {
     "name": "stdout",
     "output_type": "stream",
     "text": "ion 61722 Number of alarms 2\nIteration 61723 Number of alarms 7\nIteration 61826 Number of alarms 2\nIteration 61873 Number of alarms 2\nIteration 61874 Number of alarms 2\nIteration 61875 Number of alarms 3\nIteration 61877 Number of alarms 3\nIteration 61878 Number of alarms 1\nIteration 61879 Number of alarms 8\nIteration 61880 Number of alarms 8\nIteration 61881 Number of alarms 8\nIteration 61902 Number of alarms 2\nIteration 61946 Number of alarms 1\nIteration 62005 Number of alarms 30\nIteration 62021 Number of alarms 4\nIteration 62044 Number of alarms 1\nIteration 62050 Number of alarms 91\nIteration 62064 Number of alarms 32\nIteration 62109 Number of alarms 1\nIteration 62125 Number of alarms 34\nIteration 62126 Number of alarms 36\nIteration 62141 Number of alarms 3547\nIteration 62142 Number of alarms 6\nIteration 62189 Number of alarms 104\nIteration 62190 Number of alarms 35\nIteration 62192 Number of alarms 4178\nIteration 62199 Number of alarms 4\nIteration 62207 Number of alarms 67\nIteration 62209 Number of alarms 1\nIteration 62239 Number of alarms 6\nIteration 62251 Number of alarms 1\nIteration 62264 Number of alarms 2\nIteration 62299 Number of alarms 1\nIteration 62302 Number of alarms 2\nIteration 62345 Number of alarms 2\nIteration 62354 Number of alarms 4\nIteration 62355 Number of alarms 4\nIteration 62359 Number of alarms 7\nIteration 62379 Number of alarms 1\nIteration 62387 Number of alarms 6\nIteration 62450 Number of alarms 8\nIteration 62522 Number of alarms 32\nIteration 62523 Number of alarms 15\nIteration 62528 Number of alarms 2\nIteration 62591 Number of alarms 4\nIteration 62623 Number of alarms 2\nIteration 62678 Number of alarms 4\nIteration 62679 Number of alarms 5\nIteration 62707 Number of alarms 93\nIteration 62708 Number of alarms 94\nIteration 62709 Number of alarms 99\nIteration 62710 Number of alarms 157\nIteration 62711 Number of alarms 18\nIteration 62731 Number of alarms 1\nIteration 62738 Number of alarms 1\nIteration 62793 Number of alarms 25\nIteration 62814 Number of alarms 10\nIteration 62823 Number of alarms 9\nIteration 62841 Number of alarms 4\nIteration 62843 Number of alarms 87\nIteration 62900 Number of alarms 1\nIteration 62925 Number of alarms 32\nIteration 62926 Number of alarms 1\nIteration 62936 Number of alarms 6\nIteration 62971 Number of alarms 1\nIteration 62976 Number of alarms 25\nIteration 62992 Number of alarms 2\nIteration 62994 Number of alarms 1\nIteration 63011 Number of alarms 1\nIteration 63015 Number of alarms 12\nIteration 63034 Number of alarms 2\nIteration 63036 Number of alarms 19\nIteration 63082 Number of alarms 94\nIteration 63091 Number of alarms 2\nIteration 63101 Number of alarms 2\nIteration 63113 Number of alarms 158\nIteration 63138 Number of alarms 1\nIteration 63140 Number of alarms 1\nIteration 63142 Number of alarms 101\nIteration 63152 Number of alarms 2\nIteration 63155 Number of alarms 12\nIteration 63166 Number of alarms 102\nIteration 63190 Number of alarms 7\nIteration 63191 Number of alarms 8\nIteration 63192 Number of alarms 6\nIteration 63194 Number of alarms 4\nIteration 63202 Number of alarms 3\nIteration 63204 Number of alarms 12\nIteration 63224 Number of alarms 3\nIteration 63274 Number of alarms 2\nIteration 63276 Number of alarms 30\nIteration 63277 Number of alarms 34\nIteration 63278 Number of alarms 36\nIteration 63279 Number of alarms 99\nIteration 63280 Number of alarms 99\nIteration 63346 Number of alarms 1\nIteration 63396 Number of alarms 1\nIteration 63414 Number of alarms 129\nIteration 63469 Number of alarms 2\nIteration 63502 Number of alarms 175\nIteration 63523 Number of alarms 1\nIteration 63578 Number of alarms 171\nIteration 63579 Number of alarms 923\nIteration 63591 Number of alarms 2\nIteration 63637 Number of alarms 752\nIteration 63638 Number of alarms 49\nIteration 63646 Number of alarms 129\nIteration 63663 Number of alarms 55\nIteration 63736 Number of alarms 54\nIteration 63759 Number of alarms 3\nIteration 63819 Number of alarms 15\nIteration 63823 Number of alarms 1\nIteration 63839 Number of alarms 52\nIteration 63937 Number of alarms 7\nIteration 63958 Number of alarms 1\nIteration 63974 Number of alarms 3\nIteration 64019 Number of alarms 105\nIteration 64054 Number of alarms 1\nIteration 64063 Number of alarms 112\nIteration 64076 Number of alarms 99\nIteration 64099 Number of alarms 2\nIteration 64117 Number of alarms 1\nIteration 64119 Number of alarms 2\nIteration 64155 Number of alarms 31\nIteration 64158 Number of alarms 10\nIteration 64159 Number of alarms 5\nIteration 64160 Number of alarms 8\nIteration 64206 Number of alarms 2\nIteration 64232 Number of alarms 34\nIteration 64233 Number of alarms 34\nIteration 64234 Number of alarms 19\nIteration 64235 Number of alarms 38\nIteration 64264 Number of alarms 72\nIteration 64287 Number of alarms 71\nIteration 64290 Number of alarms 56\nIteration 64291 Number of alarms 54\nIteration 64491 Number of alarms 4\nIteration 64492 Number of alarms 1\nIteration 64649 Number of alarms 8\nIteration 64749 Number of alarms 1\nIteration 64786 Number of alarms 60\nIteration 64873 Number of alarms 13\nIteration 64938 Number of alarms 142\nIteration 65027 Number of alarms 2\nIteration 65042 Number of alarms 13\nIteration 65044 Number of alarms 43\nIteration 65045 Number of alarms 20\nIteration 65071 Number of alarms 45\nIteration 65077 Number of alarms 58\nIteration 65110 Number of alarms 4\nIteration 65126 Number of alarms 1\nIteration 65153 Number of alarms 28\nIteration 65234 Number of alarms 1\nIteration 65235 Number of alarms 33\nIteration 65241 Number of alarms 2\nIteration 65260 Number of alarms 27\nIteration 65276 Number of alarms 2\nIteration 65277 Number of alarms 4\nIteration 65278 Number of alarms 1\nIteration 65301 Number of alarms 65\nIteration 65302 Number of alarms 144\nIteration 65303 Number of alarms 128\nIteration 65304 Number of alarms 132\nIteration 65305 Number of alarms 139\nIteration 65306 Number of alarms 30\nIteration 65307 Number of alarms 71\nIteration 65308 Number of alarms 129\nIteration 65309 Number of alarms 136\nIteration 65339 Number of alarms 5\nIteration 65364 Number of alarms 1\nIteration 65399 Number of alarms 2\nIteration 65428 Number of alarms 7\nIteration 65503 Number of alarms 1\nIteration 65527 Number of alarms 1\nIteration 65566 Number of alarms 92\nIteration 65588 Number of alarms 5\nIteration 65599 Number of alarms 1\nIteration 65600 Number of alarms 2\nIteration 65608 Number of alarms 4\nIteration 65609 Number of alarms 77\nIteration 65677 Number of alarms 4\nIteration 65683 Number of alarms 79\nIteration 65732 Number of alarms 18\nIteration 65733 Number of alarms 18\nIteration 65741 Number of alarms 15\nIteration 65745 Number of alarms 3\nIteration 65746 Number of alarms 17\nIteration 65759 Number of alarms 11\nIteration 65814 Number of alarms 17\nIteration 65831 Number of alarms 1\nIteration 65850 Number of alarms 161\nIteration 65868 Number of alarms 9\nIteration 65876 Number of alarms 16\nIteration 65886 Number of alarms 30\nIteration 65938 Number of alarms 93\nIteration 65945 Number of alarms 8\nIteration 65958 Number of alarms 39\nIteration 65972 Number of alarms 6\nIteration 65987 Number of alarms 1\nIteration 66012 Number of alarms 56\nIteration 66013 Number of alarms 60\nIteration 66019 Number of alarms 1\nIteration 66105 Number of alarms 65\nIteration 66118 Number of alarms 4\nIteration 66160 Number of alarms 996\nIteration 66161 Number of alarms 996\nIteration 66162 Number of alarms 1094\nIteration 66163 Number of alarms 878\nIteration 66170 Number of alarms 4\nIteration 66171 Number of alarms 4\nIteration 66205 Number of alarms 52\nIteration 66208 Number of alarms 1\nIteration 66232 Number of alarms 211\nIteration 66244 Number of alarms 11\nIteration 66367 Number of alarms 3\nIteration 66375 Number of alarms 17\nIteration 66384 Number of alarms 110\nIteration 66409 Number of alarms 1\nIteration 66443 Number of alarms 1\nIteration 66480 Number of alarms 1\nIteration 66486 Number of alarms 1\nIteration 66558 Number of alarms 2\nIteration 66574 Number of alarms 1\nIteration 66604 Number of alarms 2\nIteration 66614 Number of alarms 25\nIteration 66682 Number of alarms 5\nIteration 66684 Number of alarms 36\nIteration 66705 Number of alarms 27\nIteration 66717 Number of alarms 2\nIteration 66725 Number of alarms 4\nIteration 66726 Number of alarms 13\nIteration 66730 Number of alarms 170\nIteration 66779 Number of alarms 11\nIteration 66788 Number of alarms 1\nIteration 66812 Number of alarms 1\nIteration 66868 Number of alarms 4\nIteration 66896 Number of alarms 175\nIteration 66897 Number of alarms 739\nIteration 67026 Number of alarms 84\nIteration 67027 Number of alarms 78\nIteration 67028 Number of alarms 80\nIteration 67029 Number of alarms 80\nIteration 67030 Number of alarms 80\nIteration 67039 Number of alarms 90\nIteration 67051 Number of alarms 80\nIteration 67052 Number of alarms 80\nIteration 67053 Number of alarms 80\nIteration 67054 Number of alarms 80\nIteration 67143 Number of alarms 35\nIteration 67197 Number of alarms 22\nIteration 67249 Number of alarms 73\nIteration 67306 Number of alarms 1\nIteration 67310 Number of alarms 38\nIteration 67338 Number of alarms 2068\nIteration 67358 Number of alarms 1\nIteration 67369 Number of alarms 1\nIteration 67375 Number of alarms 8\nIteration 67390 Number of alarms 2\nIteration 67408 Number of alarms 35\nIteration 67409 Number of alarms 35\nIteration 67410 Number of alarms 35\nIteration 67421 Number of alarms 35\nIteration 67422 Number of alarms 13\nIteration 67423 Number of alarms 35\nIteration 67438 Number of alarms 5\nIteration 67441 Number of alarms 47\nIteration 67442 Number of alarms 47\nIteration 67461 Number of alarms 80\nIteration 67513 Number of alarms 3\nIteration 67534 Number of alarms 6\nIteration 67535 Number of alarms 7\nIteration 67536 Number of alarms 6\nIteration 67537 Number of alarms 9\nIteration 67552 Number of alarms 10\nIteration 67568 Number of alarms 65\nIteration 67592 Number of alarms 151\nIteration 67756 Number of alarms 3\nIteration 67758 Number of alarms 3\nIteration 67810 Number of alarms 1\nIteration 67813 Number of alarms 148\nIteration 67822 Number of alarms 1\nIteration 67832 Number of alarms 1\nIteration 67841 Number of alarms 4\nIteration 67843 Number of alarms 4\nIteration 67864 Number of alarms 2\nIteration 67873 Number of alarms 28\nIteration 67897 Number of alarms 29\nIteration 67936 Number of alarms 38\nIteration 67949 Number of alarms 2\nIteration 68021 Number of alarms 63\nIteration 68029 Number of alarms 43\nIteration 68032 Number of alarms 6\nIteration 68033 Number of alarms 10\nIteration 68140 Number of alarms 6\nIteration 68151 Number of alarms 2\nIteration 68160 Number of alarms 1\nIteration 68172 Number of alarms 5\nIteration 68210 Number of alarms 1\nIteration 68229 Number of alarms 21\nIteration 68301 Number of alarms 3\nIteration 68302 Number of alarms 3\nIteration 68322 Number of alarms 376\nIteration 68326 Number of alarms 6\nIteration 68381 Number of alarms 96\nIteration 68403 Number of alarms 2\nIteration 68404 Number of alarms 16\nIteration 68405 Number of alarms 16\nIteration 68432 Number of alarms 2\nIteration 68443 Number of alarms 1\nIteration 68502 Number of alarms 4\nIteration 68570 Number of alarms 39\nIteration 68595 Number of alarms 33\nIteration 68649 Number of alarms 1\nIteration 68650 Number of alarms 27\nIteration 68651 Number of alarms 28\nIteration 68652 Number of alarms 11\nIteration 68694 Number of alarms 42\nIteration 68695 Number of alarms 49\nIteration 68721 Number of alarms 52\nIteration 68746 Number of alarms 13\nIteration 68760 Number of alarms 2\nIteration 68832 Number of alarms 85\nIteration 68887 Number of alarms 2\nIteration 68899 Number of alarms 1\nIteration 68942 Number of alarms 1\nIteration 68947 Number of alarms 1\nIteration 69049 Number of alarms 3\nIteration 69104 Number of alarms 7\nIteration 69146 Number of alarms 18\nIteration 69217 Number of alarms 20\nIteration 69218 Number of alarms 39\nIteration 69219 Number of alarms 23\nIteration 69220 Number of alarms 39\nIteration 69232 Number of alarms 2\nIteration 69244 Number of alarms 1\nIteration 69283 Number of alarms 3\nIteration 69285 Number of alarms 29\nIteration 69288 Number of alarms 32\nIteration 69308 Number of alarms 1\nIteration 69310 Number of alarms 1\nIteration 69313 Number of alarms 1\nIteration 69314 Number of alarms 7\nIteration 69315 Number of alarms 2\nIteration 69316 Number of alarms 3\nIteration 69317 Number of alarms 1\nIteration 69318 Number of alarms 6\nIteration 69319 Number of alarms 8\nIteration 69320 Number of alarms 9\nIteration 69321 Number of alarms 8\nIteration 69322 Number of alarms 9\nIteration 69394 Number of alarms 3\nIteration 69399 Number of alarms 2\nIteration 69402 Number of alarms 11\nIteration 69403 Number of alarms 7\nIteration 69420 Number of alarms 2\nIteration 69421 Number of alarms 2\nIteration 69490 Number of alarms 8\nIteration 69509 Number of alarms 7\nIteration 69510 Number of alarms 7\nIteration 69667 Number of alarms 3\nIteration 69809 Number of alarms 7\nIteration 69837 Number of alarms 1\nIteration 69838 Number of alarms 3\nIteration 69839 Number of alarms 3\nIteration 69840 Number of alarms 3\nIteration 69841 Number of alarms 3\nIteration 69863 Number of alarms 5\nIteration 69864 Number of alarms 5\nIteration 69929 Number of alarms 1\nIteration 69964 Number of alarms 7\nIteration 69990 Number of alarms 1\nIteration 69991 Number of alarms 14\nIteration 70013 Number of alarms 8\nIteration 70117 Number of alarms 1\nIteration 70167 Number of alarms 3\nIteration 70168 Number of alarms 3\nIteration 70194 Number of alarms 2\nIteration 70324 Number of alarms 205\nIteration 70325 Number of alarms 205\nIteration 70326 Number of alarms 205\nIteration 70327 Number of alarms 205\nIteration 70328 Number of alarms 205\nIteration 70329 Number of alarms 22\nIteration 70359 Number of alarms 12\nIteration 70393 Number of alarms 1\nIteration 70460 Number of alarms 2\nIteration 70471 Number of alarms 24\nIteration 70489 Number of alarms 2\nIteration 70491 Number of alarms 1\nIteration 70497 Number of alarms 1\nIteration 70507 Number of alarms 1\nIteration 70518 Number of alarms 13\nIteration 70520 Number of alarms 7\nIteration 70524 Number of alarms 32\nIteration 70542 Number of alarms 5\nIteration 70573 Number of alarms 27\nIteration 70580 Number of alarms 3\nIteration 70582 Number of alarms 2\nIteration 70658 Number of alarms 29\nIteration 70665 Number of alarms 4\nIteration 70681 Number of alarms 5\nIteration 70687 Number of alarms 2\nIteration 70688 Number of alarms 2\nIteration 71623 Number of alarms 10\nIteration 71624 Number of alarms 11\nIteration 71625 Number of alarms 3\nIteration 71626 Number of alarms 1\nIteration 71641 Number of alarms 1\nIteration 71658 Number of alarms 4\nIteration 71659 Number of alarms 2\nIteration 71660 Number of alarms 12\nIteration 71661 Number of alarms 4\nIteration 71663 Number of alarms 1\nIteration 71923 Number of alarms 3\nIteration 71926 Number of alarms 2\nIteration 71927 Number of alarms 6\nIteration 71928 Number of alarms 28\nIteration 71929 Number of alarms 24\nIteration 71932 Number of alarms 7\nIteration 71933 Number of alarms 8\nIteration 71935 Number of alarms 107\nIteration 71936 Number of alarms 1\nIteration 71937 Number of alarms 4\nIteration 71940 Number of alarms 2\nIteration 71941 Number of alarms 1\nIteration 71942 Number of alarms 21\nIteration 71944 Number of alarms 7\nIteration 71946 Number of alarms 6\nIteration 71948 Number of alarms 26\nIteration 71949 Number of alarms 26\nIteration 71950 Number of alarms 4\nIteration 71953 Number of alarms 1\nIteration 71954 Number of alarms 9\nIteration 71955 Number of alarms 10\nIteration 71958 Number of alarms 241\nIteration 71959 Number of alarms 48\nIteration 71960 Number of alarms 16\nIteration 71962 Number of alarms 18\nIteration 71963 Number of alarms 26\nIteration 71964 Number of alarms 10\nIteration 71965 Number of alarms 269\nIteration 71966 Number of alarms 3\nIteration 71967 Number of alarms 41\nIteration 71968 Number of alarms 42\nIteration 71969 Number of alarms 11\nIteration 71970 Number of alarms 1\nIteration 71971 Number of alarms 598\nIteration 71972 Number of alarms 5\nIteration 71973 Number of alarms 45\nIteration 71974 Number of alarms 11\nIteration 71975 Number of alarms 6\nIteration 71976 Number of alarms 712\nIteration 71977 Number of alarms 1\nIteration 71978 Number of alarms 30\nIteration 71979 Number of alarms 164\nIteration 71980 Number of alarms 165\nIteration 71983 Number of alarms 3\nIteration 71984 Number of alarms 27\nIteration 71985 Number of alarms 3\nIteration 71986 Number of alarms 51\nIteration 71988 Number of alarms 1\nIteration 71989 Number of alarms 5\nIteration 71990 Number of alarms 2\nIteration 71992 Number of alarms 6\nIteration 71993 Number of alarms 9\nIteration 71994 Number of alarms 7\nIteration 71995 Number of alarms 8\nIteration 71997 Number of alarms 2\nIteration 71998 Number of alarms 6\nIteration 71999 Number of alarms 11\nIteration 72000 Number of alarms 1\nIteration 72001 Number of alarms 12\nIteration 72002 Number of alarms 3\nIteration 72003 Number of alarms 2\nIteration 72005 Number of alarms 5\nIteration 72008 Number of alarms 8\nIteration 72009 Number of alarms 46\nIteration 72010 Number of alarms 2\nIteration 72011 Number of alarms 27\nIteration 72012 Number of alarms 47\nIteration 72013 Number of alarms 96\nIteration 72014 Number of alarms 8\nIteration 72015 Number of alarms 3\nIteration 72016 Number of alarms 37\nIteration 72017 Number of alarms 40\nIteration 72018 Number of alarms 44\nIteration 72019 Number of alarms 109\nIteration 72020 Number of alarms 1\nIteration 72022 Number of alarms 46\nIteration 72023 Number of alarms 40\nIteration 72024 Number of alarms 12\nIteration 72025 Number of alarms 22\nIteration 72026 Number of alarms 28\nIteration 72027 Number of alarms 2\nIteration 72028 Number of alarms 31\nIteration 72029 Number of alarms 4\nIteration 72030 Number of alarms 16\nIteration 72031 Number of alarms 1\nIteration 72032 Number of alarms 4\nIteration 72033 Number of alarms 41\nIteration 72034 Number of alarms 68\nIteration 72035 Number of alarms 167\nIteration 72036 Number of alarms 19\nIteration 72040 Number of alarms 1\nIteration 72042 Number of alarms 2\nIteration 72043 Number of alarms 3\nIteration 72045 Number of alarms 6\nIteration 72046 Number of alarms 5\nIteration 72048 Number of alarms 1\nIteration 72049 Number of alarms 2\nIteration 72050 Number of alarms 3\nIteration 72058 Number of alarms 3\nIteration 72078 Number of alarms 35\nIteration 72114 Number of alarms 19\nIteration 72133 Number of alarms 3\nIteration 72346 Number of alarms 1\nIteration 72388 Number of alarms 3\nIteration 72392 Number of alarms 552\nIteration 72393 Number of alarms 1\nIteration 72406 Number of alarms 14\nIteration 72437 Number of alarms 3\nIteration 72438 Number of alarms 3\nIteration 72447 Number of alarms 1\nIteration 72472 Number of alarms 6\nIteration 72474 Number of alarms 5\nIteration 72475 Number of alarms 6\nIteration 72476 Number of alarms 2\nIteration 72478 Number of alarms 3\nIteration 72483 Number of alarms 13\nIteration 72484 Number of alarms 3\nIteration 72525 Number of alarms 3\nIteration 72528 Number of alarms 3\nIteration 72529 Number of alarms 1\nIteration 72530 Number of alarms 2\nIteration 72532 Number of alarms 3\nIteration 72533 Number of alarms 14\nIteration 72539 Number of alarms 5\nIteration 72540 Number of alarms 18\nIteration 72542 Number of alarms 17\nIteration 72544 Number of alarms 1\nIteration 72547 Number of alarms 3\nIteration 72549 Number of alarms 14\nIteration 72581 Number of alarms 5\nIteration 72588 Number of alarms 1\nIteration 72613 Number of alarms 2\nIteration 72615 Number of alarms 1\nIteration 72742 Number of alarms 1\nIteration 72757 Number of alarms 1\nIteration 72785 Number of alarms 1\nIteration 72922 Number of alarms 1\nIteration 72923 Number of alarms 1\nIteration 72996 Number of alarms 7\nIteration 72999 Number of alarms 5\nIteration 73001 Number of alarms 1\nIteration 73010 Number of alarms 5\nIteration 73110 Number of alarms 1928\nIteration 73127 Number of alarms 3\nIteration 73271 Number of alarms 2\nIteration 73274 Number of alarms 1\nIteration 73282 Number of alarms 1\nIteration 73285 Number of alarms 1\nIteration 73316 Number of alarms 3\nIteration 73422 Number of alarms 12\n"
    }
   ],
   "source": [
    "# for i, s in enumerate(sources):\n",
    "#     tList = getTargetEventList(i+1,start_time[i], end_time[i])\n",
    "#     if len(tList) > 0:\n",
    "#         print(\"Iteration\", i, \"Number of alarms\", len(tList))\n",
    "#         collectionT.insert_one({\"source\":s, \"source-start-time\": np.datetime_as_string(start_time[i]), \"source-end-time\":np.datetime_as_string(end_time[i]),\"tList\": tList})\n"
   ]
  },
  {
   "cell_type": "code",
   "execution_count": 6,
   "metadata": {},
   "outputs": [
    {
     "ename": "NameError",
     "evalue": "name 'source' is not defined",
     "output_type": "error",
     "traceback": [
      "\u001b[0;31m---------------------------------------------------------------------------\u001b[0m",
      "\u001b[0;31mRemoteTraceback\u001b[0m                           Traceback (most recent call last)",
      "\u001b[0;31mRemoteTraceback\u001b[0m: \n\"\"\"\nTraceback (most recent call last):\n  File \"/home/waris/anaconda3/envs/comp451/lib/python3.7/multiprocessing/pool.py\", line 121, in worker\n    result = (True, func(*args, **kwds))\n  File \"/home/waris/anaconda3/envs/comp451/lib/python3.7/multiprocessing/pool.py\", line 44, in mapstar\n    return list(map(*args))\n  File \"<ipython-input-6-b7c51266fad7>\", line 10, in getAndStoreTargetEventList\n    if source[i] == s:\nNameError: name 'source' is not defined\n\"\"\"",
      "\nThe above exception was the direct cause of the following exception:\n",
      "\u001b[0;31mNameError\u001b[0m                                 Traceback (most recent call last)",
      "\u001b[0;32m<ipython-input-6-b7c51266fad7>\u001b[0m in \u001b[0;36m<module>\u001b[0;34m\u001b[0m\n\u001b[1;32m     26\u001b[0m \u001b[0;34m\u001b[0m\u001b[0m\n\u001b[1;32m     27\u001b[0m \u001b[0;32mwith\u001b[0m \u001b[0mPool\u001b[0m\u001b[0;34m(\u001b[0m\u001b[0;36m3\u001b[0m\u001b[0;34m)\u001b[0m \u001b[0;32mas\u001b[0m \u001b[0mp\u001b[0m\u001b[0;34m:\u001b[0m\u001b[0;34m\u001b[0m\u001b[0;34m\u001b[0m\u001b[0m\n\u001b[0;32m---> 28\u001b[0;31m     \u001b[0mp\u001b[0m\u001b[0;34m.\u001b[0m\u001b[0mmap\u001b[0m\u001b[0;34m(\u001b[0m\u001b[0mgetAndStoreTargetEventList\u001b[0m\u001b[0;34m,\u001b[0m \u001b[0mrange\u001b[0m\u001b[0;34m(\u001b[0m\u001b[0mlen\u001b[0m\u001b[0;34m(\u001b[0m\u001b[0msources\u001b[0m\u001b[0;34m)\u001b[0m\u001b[0;34m)\u001b[0m \u001b[0;34m)\u001b[0m\u001b[0;34m\u001b[0m\u001b[0;34m\u001b[0m\u001b[0m\n\u001b[0m",
      "\u001b[0;32m~/anaconda3/envs/comp451/lib/python3.7/multiprocessing/pool.py\u001b[0m in \u001b[0;36mmap\u001b[0;34m(self, func, iterable, chunksize)\u001b[0m\n\u001b[1;32m    266\u001b[0m         \u001b[0;32min\u001b[0m \u001b[0ma\u001b[0m \u001b[0mlist\u001b[0m \u001b[0mthat\u001b[0m \u001b[0;32mis\u001b[0m \u001b[0mreturned\u001b[0m\u001b[0;34m.\u001b[0m\u001b[0;34m\u001b[0m\u001b[0;34m\u001b[0m\u001b[0m\n\u001b[1;32m    267\u001b[0m         '''\n\u001b[0;32m--> 268\u001b[0;31m         \u001b[0;32mreturn\u001b[0m \u001b[0mself\u001b[0m\u001b[0;34m.\u001b[0m\u001b[0m_map_async\u001b[0m\u001b[0;34m(\u001b[0m\u001b[0mfunc\u001b[0m\u001b[0;34m,\u001b[0m \u001b[0miterable\u001b[0m\u001b[0;34m,\u001b[0m \u001b[0mmapstar\u001b[0m\u001b[0;34m,\u001b[0m \u001b[0mchunksize\u001b[0m\u001b[0;34m)\u001b[0m\u001b[0;34m.\u001b[0m\u001b[0mget\u001b[0m\u001b[0;34m(\u001b[0m\u001b[0;34m)\u001b[0m\u001b[0;34m\u001b[0m\u001b[0;34m\u001b[0m\u001b[0m\n\u001b[0m\u001b[1;32m    269\u001b[0m \u001b[0;34m\u001b[0m\u001b[0m\n\u001b[1;32m    270\u001b[0m     \u001b[0;32mdef\u001b[0m \u001b[0mstarmap\u001b[0m\u001b[0;34m(\u001b[0m\u001b[0mself\u001b[0m\u001b[0;34m,\u001b[0m \u001b[0mfunc\u001b[0m\u001b[0;34m,\u001b[0m \u001b[0miterable\u001b[0m\u001b[0;34m,\u001b[0m \u001b[0mchunksize\u001b[0m\u001b[0;34m=\u001b[0m\u001b[0;32mNone\u001b[0m\u001b[0;34m)\u001b[0m\u001b[0;34m:\u001b[0m\u001b[0;34m\u001b[0m\u001b[0;34m\u001b[0m\u001b[0m\n",
      "\u001b[0;32m~/anaconda3/envs/comp451/lib/python3.7/multiprocessing/pool.py\u001b[0m in \u001b[0;36mget\u001b[0;34m(self, timeout)\u001b[0m\n\u001b[1;32m    655\u001b[0m             \u001b[0;32mreturn\u001b[0m \u001b[0mself\u001b[0m\u001b[0;34m.\u001b[0m\u001b[0m_value\u001b[0m\u001b[0;34m\u001b[0m\u001b[0;34m\u001b[0m\u001b[0m\n\u001b[1;32m    656\u001b[0m         \u001b[0;32melse\u001b[0m\u001b[0;34m:\u001b[0m\u001b[0;34m\u001b[0m\u001b[0;34m\u001b[0m\u001b[0m\n\u001b[0;32m--> 657\u001b[0;31m             \u001b[0;32mraise\u001b[0m \u001b[0mself\u001b[0m\u001b[0;34m.\u001b[0m\u001b[0m_value\u001b[0m\u001b[0;34m\u001b[0m\u001b[0;34m\u001b[0m\u001b[0m\n\u001b[0m\u001b[1;32m    658\u001b[0m \u001b[0;34m\u001b[0m\u001b[0m\n\u001b[1;32m    659\u001b[0m     \u001b[0;32mdef\u001b[0m \u001b[0m_set\u001b[0m\u001b[0;34m(\u001b[0m\u001b[0mself\u001b[0m\u001b[0;34m,\u001b[0m \u001b[0mi\u001b[0m\u001b[0;34m,\u001b[0m \u001b[0mobj\u001b[0m\u001b[0;34m)\u001b[0m\u001b[0;34m:\u001b[0m\u001b[0;34m\u001b[0m\u001b[0;34m\u001b[0m\u001b[0m\n",
      "\u001b[0;31mNameError\u001b[0m: name 'source' is not defined"
     ]
    }
   ],
   "source": [
    "from multiprocessing import Pool\n",
    "\n",
    "def getAndStoreTargetEventList(index):\n",
    "\n",
    "    tList = []\n",
    "    s = sources[index]\n",
    "    start, stime, etime = index+1, start_time[index], end_time[index]\n",
    "\n",
    "    for i in range(start,len(start_time)):\n",
    "        # if source[i] == s:\n",
    "        #     continue\n",
    "        \n",
    "        if (stime < start_time[i]):\n",
    "            if (start_time[i] < etime):\n",
    "                if (end_time[i] < etime):\n",
    "                    tList.append({\"target\": sources[i], \"target-start-time\": np.datetime_as_string(start_time[i]), \"target-end-time\": np.datetime_as_string(end_time[i])}) \n",
    "            else:\n",
    "                break\n",
    "        else:\n",
    "            break\n",
    "    \n",
    "    if len(tList)> 0:\n",
    "        print(\"Iteration\", index, \"Number of alarms\", len(tList))\n",
    "        collectionT.insert_one({\"source\":s, \"source-start-time\": np.datetime_as_string(stime), \"source-end-time\":np.datetime_as_string(etime),\"tList\": tList})\n",
    "\n",
    "\n",
    "with Pool(3) as p:\n",
    "    p.map(getAndStoreTargetEventList, range(len(sources)) )\n"
   ]
  },
  {
   "cell_type": "code",
   "execution_count": null,
   "metadata": {},
   "outputs": [],
   "source": []
  }
 ]
}