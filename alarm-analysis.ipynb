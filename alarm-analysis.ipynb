{
 "nbformat": 4,
 "nbformat_minor": 2,
 "metadata": {
  "language_info": {
   "name": "python",
   "codemirror_mode": {
    "name": "ipython",
    "version": 3
   },
   "version": "3.7.5"
  },
  "orig_nbformat": 2,
  "file_extension": ".py",
  "mimetype": "text/x-python",
  "name": "python",
  "npconvert_exporter": "python",
  "pygments_lexer": "ipython3",
  "version": 3
 },
 "cells": [
  {
   "cell_type": "code",
   "execution_count": 2,
   "metadata": {},
   "outputs": [],
   "source": [
    "import pandas as pd\n",
    "import numpy as np\n",
    "import matplotlib.pyplot as plt\n",
    "import matplotlib\n",
    "from pymongo import MongoClient"
   ]
  },
  {
   "cell_type": "code",
   "execution_count": 2,
   "metadata": {},
   "outputs": [],
   "source": [
    "# df = pd.read_excel(\"/home/kutem/github/tupras-analysis/alarm.xlsx\")\n"
   ]
  },
  {
   "cell_type": "code",
   "execution_count": 3,
   "metadata": {},
   "outputs": [],
   "source": [
    "client = MongoClient()\n",
    "db = client[\"Tupras\"]\n",
    "collectionT = db[\"Alarm-Preprocessing-Step1\"]"
   ]
  },
  {
   "cell_type": "code",
   "execution_count": 4,
   "metadata": {},
   "outputs": [
    {
     "name": "stdout",
     "output_type": "stream",
     "text": "['5FIC366' '18FIC356A' '5FIC316' ... '5PIC373' '5LIC509' '5LIC509'] ['2016-12-20T19:59:28.000000000' '2016-12-30T18:33:54.000000000'\n '2017-01-02T08:24:42.000000000' ... '2017-12-31T23:22:10.000000000'\n '2017-12-31T23:25:30.000000000' '2017-12-31T23:25:30.000000000'] ['2017-01-04T16:45:50.000000000' '2017-01-02T14:18:44.000000000'\n '2017-01-02T08:31:24.000000000' ... '2017-12-31T23:56:50.000000000'\n '2017-12-31T23:25:30.000000000' '2017-12-31T23:25:31.000000000'] ['5FIC366      5E-12 DEN   AGIR DIZEL R ACK'\n '18FIC356A    18G-356A DENPLT5 E H.PET PV  = 219.93 M3/H HI   Recover'\n '5FIC316      5F-3 3.KOL  AKIMI        PV  =  529.7 M3/D LO   Recover'\n ...\n '5PIC373      5C-2 TEPE   BASINCI      MV  =   73.0 %    MHI  Recover'\n '5LIC509      5D-101 MAYI SEVIYESI     PV  =   20.0 %    LO'\n '5LIC509      5D-101 MAYI SEVIYESI     PV  =   37.2 %    LO   Recover']\n<class 'numpy.datetime64'> <class 'str'>\n1284382000000000 nanoseconds\n"
    }
   ],
   "source": [
    "# sources = df[\"SourceName\"].values\n",
    "# start_time = df[\"ActiveTime\"].values\n",
    "# end_time = df[\"EventTime\"].values\n",
    "# message = df[\"Message\"].values\n",
    "# print(sources, start_time, end_time, message)\n",
    "# print(type(end_time[0]), type(message[0]))\n",
    "# print(end_time[0]-start_time[0])\n"
   ]
  },
  {
   "cell_type": "markdown",
   "metadata": {},
   "outputs": [],
   "source": [
    "Preprocessing Step 1"
   ]
  },
  {
   "cell_type": "code",
   "execution_count": 5,
   "metadata": {},
   "outputs": [],
   "source": [
    "def getTargetEventList(start,stime,etime):\n",
    "    tList = []\n",
    "\n",
    "    for i in range(start,len(start_time)):\n",
    "                \n",
    "        if (stime < start_time[i]):\n",
    "            if (start_time[i] < etime):\n",
    "                if (end_time[i] < etime):\n",
    "                    tList.append({\"target\": sources[i], \"target-start-time\": np.datetime_as_string(start_time[i]), \"target-end-time\": np.datetime_as_string(end_time[i])}) \n",
    "            else:\n",
    "                break\n",
    "        else:\n",
    "            break\n",
    "\n",
    "    return tList"
   ]
  },
  {
   "cell_type": "code",
   "execution_count": 6,
   "metadata": {},
   "outputs": [],
   "source": [
    "# for i, s in enumerate(sources):\n",
    "#     tList = getTargetEventList(i+1,start_time[i], end_time[i])\n",
    "#     if len(tList) > 0:\n",
    "#         # print(\"Iteration\", i, \"Number of alarms\", len(tList))\n",
    "#         collectionT.insert_one({\"source\":s, \"source-start-time\": np.datetime_as_string(start_time[i]), \"source-end-time\":np.datetime_as_string(end_time[i]),\"tList\": tList})\n"
   ]
  },
  {
   "cell_type": "code",
   "execution_count": 24,
   "metadata": {},
   "outputs": [
    {
     "name": "stdout",
     "output_type": "stream",
     "text": "['18FIC332', '18FIC356A', '18FIC356B', '18FIC358B', '5FIC301', '5FIC302', '5FIC305', '5FIC305E', '5FIC313', '5FIC314', '5FIC315', '5FIC316', '5FIC317', '5FIC318', '5FIC319', '5FIC325', '5FIC327', '5FIC332', '5FIC333', '5FIC334', '5FIC335', '5FIC336', '5FIC338', '5FIC338B', '5FIC339B', '5FIC340', '5FIC341', '5FIC341E', '5FIC346', '5FIC348', '5FIC352', '5FIC353', '5FIC354', '5FIC355', '5FIC356', '5FIC360', '5FIC360E', '5FIC362', '5FIC363', '5FIC364', '5FIC365', '5FIC366', '5FIC367', '5FIC368', '5FIC369', '5FIC369E', '5FIC371', '5FIC372', '5FIC373', '5FIC374', '5FIC390', '5FIC501', '5FIC502', '5FIC505', '5FIC509', '5FIC513', '5FIC514B', '5FIC521', '5FIC522', '5FIC523', '5FIC525', '5FIC529', '5FIC530', '5FIC532', '5FIC541', '5FIC810', '5FIC811', '5FIC812', '5FIC813', '5LIC301', '5LIC302', '5LIC306', '5LIC309', '5LIC312', '5LIC316', '5LIC320', '5LIC323', '5LIC326', '5LIC330', '5LIC334', '5LIC338', '5LIC342', '5LIC345', '5LIC360', '5LIC501', '5LIC502', '5LIC503', '5LIC505', '5LIC509', '5LIC512', '5LIC513', '5LIC519', '5LIC523', '5PDIC301', '5PDIC302', '5PDIC303', '5PDIC304', '5PDIC306', '5PDIC308', '5PDIC309', '5PDIC501', '5PIC103', '5PIC307', '5PIC338', '5PIC349B', '5PIC353', '5PIC373', '5PIC379', '5PIC383', '5PIC391', '5PIC513', '5PIC520', '5TIC339', '5TIC360', '5TIC411', '5TIC423', '5TIC431', '5TIC448', '5TIC453', '5TIC461', '5TIC470', '5TIC473', '5TIC532', '5TIC543', '5TIC547', '5TIC553', '5TIC585', '5TIC595']\n128\n"
    }
   ],
   "source": [
    "## Tacking Intersection\n",
    "\n",
    "sensors = collectionT.distinct(\"source\")\n",
    "print(sensors)\n",
    "print(len(sensors))\n",
    "\n",
    "# for s in sensors:\n",
    "s = \"5FIC366\"\n",
    "\n",
    "\n",
    "\n",
    "\n",
    "\n"
   ]
  },
  {
   "cell_type": "code",
   "execution_count": 30,
   "metadata": {},
   "outputs": [],
   "source": [
    "tLists = collectionT.find({\"source\": s}, { \"tList.target\": 1,\"_id\": 0 })\n"
   ]
  },
  {
   "cell_type": "code",
   "execution_count": 34,
   "metadata": {},
   "outputs": [
    {
     "ename": "TypeError",
     "evalue": "object of type 'Cursor' has no len()",
     "output_type": "error",
     "traceback": [
      "\u001b[0;31m---------------------------------------------------------------------------\u001b[0m",
      "\u001b[0;31mTypeError\u001b[0m                                 Traceback (most recent call last)",
      "\u001b[0;32m<ipython-input-34-2181383d4b3e>\u001b[0m in \u001b[0;36m<module>\u001b[0;34m\u001b[0m\n\u001b[1;32m      4\u001b[0m \u001b[0;34m\u001b[0m\u001b[0m\n\u001b[1;32m      5\u001b[0m \u001b[0;34m\u001b[0m\u001b[0m\n\u001b[0;32m----> 6\u001b[0;31m \u001b[0mprint\u001b[0m\u001b[0;34m(\u001b[0m\u001b[0mlen\u001b[0m\u001b[0;34m(\u001b[0m\u001b[0mtarget_lists\u001b[0m\u001b[0;34m)\u001b[0m\u001b[0;34m)\u001b[0m\u001b[0;34m\u001b[0m\u001b[0;34m\u001b[0m\u001b[0m\n\u001b[0m\u001b[1;32m      7\u001b[0m \u001b[0;34m\u001b[0m\u001b[0m\n\u001b[1;32m      8\u001b[0m \u001b[0mprint\u001b[0m\u001b[0;34m(\u001b[0m\u001b[0mtarget_lists\u001b[0m\u001b[0;34m[\u001b[0m\u001b[0;36m0\u001b[0m\u001b[0;34m]\u001b[0m\u001b[0;34m[\u001b[0m\u001b[0;34m\"tList\"\u001b[0m\u001b[0;34m]\u001b[0m\u001b[0;34m[\u001b[0m\u001b[0;36m0\u001b[0m\u001b[0;34m]\u001b[0m\u001b[0;34m[\u001b[0m\u001b[0;34m\"target\"\u001b[0m\u001b[0;34m]\u001b[0m\u001b[0;34m)\u001b[0m\u001b[0;34m\u001b[0m\u001b[0;34m\u001b[0m\u001b[0m\n",
      "\u001b[0;31mTypeError\u001b[0m: object of type 'Cursor' has no len()"
     ]
    }
   ],
   "source": [
    "target_lists = tLists\n",
    "\n",
    "# print(target_lists[0])\n",
    "\n",
    "\n",
    "# print(len(target_lists))\n",
    "\n",
    "print(target_lists[0][\"tList\"][0][\"target\"])\n",
    "d = target_lists[0][\"tList\"][0]\n",
    "print(d[\"target\"])\n",
    "\n",
    "\n",
    "def intersection(lst1, lst2): \n",
    "    lst3 = [d[\"target\"] for d in lst1 if d[\"target\"] in lst2] \n",
    "    return lst3 \n",
    "\n",
    "\n",
    "\n",
    "\n"
   ]
  },
  {
   "cell_type": "code",
   "execution_count": null,
   "metadata": {},
   "outputs": [],
   "source": []
  },
  {
   "cell_type": "code",
   "execution_count": null,
   "metadata": {},
   "outputs": [],
   "source": [
    "col"
   ]
  }
 ]
}