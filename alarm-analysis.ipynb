{
 "nbformat": 4,
 "nbformat_minor": 2,
 "metadata": {
  "language_info": {
   "name": "python",
   "codemirror_mode": {
    "name": "ipython",
    "version": 3
   },
   "version": "3.7.5"
  },
  "orig_nbformat": 2,
  "file_extension": ".py",
  "mimetype": "text/x-python",
  "name": "python",
  "npconvert_exporter": "python",
  "pygments_lexer": "ipython3",
  "version": 3
 },
 "cells": [
  {
   "cell_type": "code",
   "execution_count": 1,
   "metadata": {},
   "outputs": [],
   "source": [
    "import pandas as pd\n",
    "import numpy as np\n",
    "import matplotlib.pyplot as plt\n",
    "import matplotlib\n",
    "from pymongo import MongoClient"
   ]
  },
  {
   "cell_type": "code",
   "execution_count": 2,
   "metadata": {},
   "outputs": [],
   "source": [
    "df = pd.read_excel(\"/home/waris/Github/tupras-analysis/alarm.xlsx\")\n",
    "client = MongoClient()"
   ]
  },
  {
   "cell_type": "code",
   "execution_count": 3,
   "metadata": {},
   "outputs": [],
   "source": [
    "db = client[\"Tupras-DB\"]\n",
    "collectionT = db[\"Alarm\"]"
   ]
  },
  {
   "cell_type": "code",
   "execution_count": 4,
   "metadata": {},
   "outputs": [
    {
     "name": "stdout",
     "output_type": "stream",
     "text": "['5LIC519' '5LIC519' '5LIC519' ... '5TIC585' '5LIC509' '5PIC373'] ['2017-04-14T17:02:34.000000000' '2017-04-14T17:03:34.000000000'\n '2017-04-14T17:03:45.000000000' ... '2017-12-31T14:44:46.000000000'\n '2017-12-31T23:25:30.000000000' '2017-12-31T23:22:10.000000000'] ['2017-04-14T17:02:42.000000000' '2017-04-14T17:03:41.000000000'\n '2017-04-14T17:03:47.000000000' ... '2017-12-31T22:13:18.000000000'\n '2017-12-31T23:25:31.000000000' '2017-12-31T23:56:50.000000000'] ['5LIC519      E-116A SU   SEVIYESI     PV  =    9.5 %    LO   Recover'\n '5LIC519      E-116A SU   SEVIYESI     PV  =   11.7 %    LO   Recover'\n '5LIC519      E-116A SU   SEVIYESI     PV  =   11.0 %    LO   Recover'\n ...\n '5TIC585      HVGO PLT-47 REFLUX       MV  =    3.0 %    MLO  Recover'\n '5LIC509      5D-101 MAYI SEVIYESI     PV  =   37.2 %    LO   Recover'\n '5PIC373      5C-2 TEPE   BASINCI      MV  =   73.0 %    MHI  Recover']\n<class 'numpy.datetime64'> <class 'str'>\n8000000000 nanoseconds\n"
    }
   ],
   "source": [
    "sources = df[\"SourceName\"].values\n",
    "start_time = df[\"ActiveTime\"].values\n",
    "end_time = df[\"EventTime\"].values\n",
    "message = df[\"Message\"].values\n",
    "print(sources, start_time, end_time, message)\n",
    "print(type(end_time[0]), type(message[0]))\n",
    "print(end_time[0]-start_time[0])\n"
   ]
  },
  {
   "cell_type": "markdown",
   "metadata": {},
   "outputs": [],
   "source": [
    "Preprocessing Step 1"
   ]
  },
  {
   "cell_type": "code",
   "execution_count": 13,
   "metadata": {},
   "outputs": [],
   "source": [
    "def getTargetEventList(start,stime,etime):\n",
    "    tList = []\n",
    "\n",
    "    for i in range(start,len(start_time)):\n",
    "        if (stime < start_time[i]) and (start_time[i] < etime) and (end_time[i] < etime):\n",
    "            tList.append({\"target\": sources[i], \"target-start-time\": np.datetime_as_string(start_time[i]), \"target-end-time\": np.datetime_as_string(end_time[i])})\n",
    "\n",
    "    return tList"
   ]
  },
  {
   "cell_type": "code",
   "execution_count": 14,
   "metadata": {},
   "outputs": [
    {
     "name": "stdout",
     "output_type": "stream",
     "text": "Iteration 31\nIteration 32\nIteration 34\nIteration 66\nIteration 67\nIteration 71\nIteration 91\nIteration 95\nIteration 96\nIteration 106\nIteration 113\nIteration 141\nIteration 191\nIteration 194\nIteration 195\nIteration 196\nIteration 197\nIteration 199\nIteration 200\nIteration 201\nIteration 202\nIteration 207\nIteration 212\nIteration 214\nIteration 217\nIteration 218\nIteration 221\nIteration 245\nIteration 249\nIteration 252\nIteration 253\nIteration 255\nIteration 256\nIteration 270\nIteration 272\nIteration 274\nIteration 278\nIteration 282\nIteration 284\nIteration 290\nIteration 292\nIteration 296\nIteration 302\nIteration 305\nIteration 322\nIteration 324\nIteration 334\nIteration 336\nIteration 344\nIteration 354\nIteration 363\nIteration 367\nIteration 371\nIteration 383\nIteration 385\nIteration 386\nIteration 387\nIteration 388\nIteration 395\nIteration 400\nIteration 401\nIteration 402\nIteration 412\nIteration 436\nIteration 439\nIteration 477\nIteration 478\nIteration 647\nIteration 648\nIteration 649\nIteration 673\nIteration 674\nIteration 675\nIteration 676\nIteration 677\nIteration 678\nIteration 680\nIteration 681\nIteration 682\nIteration 686\nIteration 688\nIteration 690\nIteration 692\nIteration 695\nIteration 696\nIteration 697\nIteration 698\nIteration 699\nIteration 700\nIteration 701\nIteration 702\nIteration 705\nIteration 706\nIteration 707\nIteration 708\nIteration 709\nIteration 711\nIteration 713\nIteration 714\nIteration 715\nIteration 716\nIteration 717\nIteration 731\nIteration 752\nIteration 756\nIteration 757\nIteration 767\nIteration 770\nIteration 773\nIteration 796\nIteration 799\nIteration 803\nIteration 810\nIteration 818\nIteration 825\nIteration 827\nIteration 829\nIteration 840\nIteration 846\nIteration 851\nIteration 853\nIteration 855\nIteration 860\nIteration 865\nIteration 877\nIteration 880\nIteration 884\nIteration 903\nIteration 931\nIteration 938\nIteration 940\nIteration 948\nIteration 955\nIteration 959\nIteration 963\nIteration 971\nIteration 984\nIteration 1067\nIteration 1110\nIteration 1112\nIteration 1114\nIteration 1116\nIteration 1117\nIteration 1121\nIteration 1125\nIteration 1129\nIteration 1132\nIteration 1135\nIteration 1171\nIteration 1191\nIteration 1197\nIteration 1202\nIteration 1208\nIteration 1215\nIteration 1218\nIteration 1232\nIteration 1239\nIteration 1257\nIteration 1269\nIteration 1282\nIteration 1284\nIteration 1294\nIteration 1310\nIteration 1318\nIteration 1321\nIteration 1323\nIteration 1328\nIteration 1349\nIteration 1352\nIteration 1354\nIteration 1358\nIteration 1359\nIteration 1363\nIteration 1366\nIteration 1370\nIteration 1373\nIteration 1378\nIteration 1382\nIteration 1383\nIteration 1386\nIteration 1388\nIteration 1391\nIteration 1412\nIteration 1415\nIteration 1416\nIteration 1418\nIteration 1422\nIteration 1426\nIteration 1430\nIteration 1433\nIteration 1436\nIteration 1440\nIteration 1442\nIteration 1444\nIteration 1447\nIteration 1454\nIteration 1462\nIteration 1464\nIteration 1466\nIteration 1470\nIteration 1474\nIteration 1476\nIteration 1477\nIteration 1478\nIteration 1484\nIteration 1488\nIteration 1489\nIteration 1501\nIteration 1502\nIteration 1504\nIteration 1512\nIteration 1515\nIteration 1524\nIteration 1538\nIteration 1539\nIteration 1540\nIteration 1542\nIteration 1543\nIteration 1544\nIteration 1546\nIteration 1548\nIteration 1551\nIteration 1620\nIteration 1622\nIteration 1822\nIteration 1823\nIteration 1843\nIteration 1844\nIteration 1997\nIteration 1999\nIteration 2001\nIteration 2015\nIteration 2020\nIteration 2021\nIteration 2025\nIteration 2031\nIteration 2043\nIteration 2049\nIteration 2050\nIteration 2051\nIteration 2052\nIteration 2053\nIteration 2055\nIteration 2057\nIteration 2058\nIteration 2060\nIteration 2061\nIteration 2062\nIteration 2063\nIteration 2064\nIteration 2065\nIteration 2067\nIteration 2069\nIteration 2072\nIteration 2073\nIteration 2076\nIteration 2077\nIteration 2079\nIteration 2080\nIteration 2082\nIteration 2084\nIteration 2087\nIteration 2089\nIteration 2091\nIteration 2094\nIteration 2096\nIteration 2099\nIteration 2111\nIteration 2112\nIteration 2114\nIteration 2119\nIteration 2127\nIteration 2159\nIteration 2181\nIteration 2183\nIteration 2185\nIteration 2195\nIteration 2206\nIteration 2216\nIteration 2218\nIteration 2219\nIteration 2221\nIteration 2247\nIteration 2260\nIteration 2274\nIteration 2319\nIteration 2434\nIteration 2438\nIteration 2439\nIteration 2451\nIteration 2463\nIteration 2464\nIteration 2465\nIteration 2476\nIteration 2477\nIteration 2478\nIteration 2481\nIteration 2482\nIteration 2483\nIteration 2485\nIteration 2486\nIteration 2487\nIteration 2488\nIteration 2490\nIteration 2491\nIteration 2494\nIteration 2495\nIteration 2549\nIteration 2555\nIteration 2558\nIteration 2559\nIteration 2562\nIteration 2565\nIteration 2566\nIteration 2568\nIteration 2569\nIteration 2570\nIteration 2572\nIteration 2574\nIteration 2575\nIteration 2576\nIteration 2578\nIteration 2596\nIteration 2624\nIteration 2642\nIteration 2644\nIteration 2646\nIteration 2647\nIteration 2650\nIteration 2651\nIteration 2652\nIteration 2653\nIteration 2654\nIteration 2655\nIteration 2657\nIteration 2658\nIteration 2660\nIteration 2662\nIteration 2663\nIteration 2664\nIteration 2665\nIteration 2668\nIteration 2669\nIteration 2670\nIteration 2671\nIteration 2672\nIteration 2673\nIteration 2674\nIteration 2676\nIteration 2677\nIteration 2679\nIteration 2680\nIteration 2681\nIteration 2683\nIteration 2684\nIteration 2685\nIteration 2686\nIteration 2692\nIteration 2695\nIteration 2697\nIteration 2714\nIteration 2719\nIteration 2724\nIteration 2725\nIteration 2733\nIteration 2739\nIteration 2749\nIteration 2770\nIteration 2777\nIteration 2834\nIteration 2842\nIteration 2901\nIteration 2954\nIteration 2956\nIteration 3008\nIteration 3012\nIteration 3013\nIteration 3029\nIteration 3030\nIteration 3035\nIteration 3037\nIteration 3043\nIteration 3044\nIteration 3045\nIteration 3050\nIteration 3052\nIteration 3063\nIteration 3068\nIteration 3072\nIteration 3074\nIteration 3078\nIteration 3081\nIteration 3082\nIteration 3094\nIteration 3117\nIteration 3137\nIteration 3147\nIteration 3153\nIteration 3155\nIteration 3175\nIteration 3180\nIteration 3181\nIteration 3183\nIteration 3194\nIteration 3205\nIteration 3206\nIteration 3228\nIteration 3231\nIteration 3232\nIteration 3233\nIteration 3260\nIteration 3283\nIteration 3294\nIteration 3311\nIteration 3314\nIteration 3323\nIteration 3326\nIteration 3329\nIteration 3350\nIteration 3351\nIteration 3362\nIteration 3365\nIteration 3367\nIteration 3368\nIteration 3369\nIteration 3370\nIteration 3371\nIteration 3373\nIteration 3379\nIteration 3383\nIteration 3384\nIteration 3385\n"
    },
    {
     "ename": "KeyboardInterrupt",
     "evalue": "",
     "output_type": "error",
     "traceback": [
      "\u001b[0;31m---------------------------------------------------------------------------\u001b[0m",
      "\u001b[0;31mKeyboardInterrupt\u001b[0m                         Traceback (most recent call last)",
      "\u001b[0;32m<ipython-input-14-176010334b60>\u001b[0m in \u001b[0;36m<module>\u001b[0;34m\u001b[0m\n\u001b[1;32m      1\u001b[0m \u001b[0;32mfor\u001b[0m \u001b[0mi\u001b[0m\u001b[0;34m,\u001b[0m \u001b[0ms\u001b[0m \u001b[0;32min\u001b[0m \u001b[0menumerate\u001b[0m\u001b[0;34m(\u001b[0m\u001b[0msources\u001b[0m\u001b[0;34m)\u001b[0m\u001b[0;34m:\u001b[0m\u001b[0;34m\u001b[0m\u001b[0;34m\u001b[0m\u001b[0m\n\u001b[0;32m----> 2\u001b[0;31m     \u001b[0mtList\u001b[0m \u001b[0;34m=\u001b[0m \u001b[0mgetTargetEventList\u001b[0m\u001b[0;34m(\u001b[0m\u001b[0mstart_time\u001b[0m\u001b[0;34m[\u001b[0m\u001b[0mi\u001b[0m\u001b[0;34m]\u001b[0m\u001b[0;34m,\u001b[0m \u001b[0mend_time\u001b[0m\u001b[0;34m[\u001b[0m\u001b[0mi\u001b[0m\u001b[0;34m]\u001b[0m\u001b[0;34m)\u001b[0m\u001b[0;34m\u001b[0m\u001b[0;34m\u001b[0m\u001b[0m\n\u001b[0m\u001b[1;32m      3\u001b[0m     \u001b[0;32mif\u001b[0m \u001b[0mlen\u001b[0m\u001b[0;34m(\u001b[0m\u001b[0mtList\u001b[0m\u001b[0;34m)\u001b[0m \u001b[0;34m>\u001b[0m \u001b[0;36m0\u001b[0m\u001b[0;34m:\u001b[0m\u001b[0;34m\u001b[0m\u001b[0;34m\u001b[0m\u001b[0m\n\u001b[1;32m      4\u001b[0m         \u001b[0mprint\u001b[0m\u001b[0;34m(\u001b[0m\u001b[0;34m\"Iteration\"\u001b[0m\u001b[0;34m,\u001b[0m \u001b[0mi\u001b[0m\u001b[0;34m)\u001b[0m\u001b[0;34m\u001b[0m\u001b[0;34m\u001b[0m\u001b[0m\n\u001b[1;32m      5\u001b[0m         \u001b[0mcollectionT\u001b[0m\u001b[0;34m.\u001b[0m\u001b[0minsert_one\u001b[0m\u001b[0;34m(\u001b[0m\u001b[0;34m{\u001b[0m\u001b[0;34m\"source\"\u001b[0m\u001b[0;34m:\u001b[0m\u001b[0ms\u001b[0m\u001b[0;34m,\u001b[0m \u001b[0;34m\"source-start-time\"\u001b[0m\u001b[0;34m:\u001b[0m \u001b[0mnp\u001b[0m\u001b[0;34m.\u001b[0m\u001b[0mdatetime_as_string\u001b[0m\u001b[0;34m(\u001b[0m\u001b[0mstart_time\u001b[0m\u001b[0;34m[\u001b[0m\u001b[0mi\u001b[0m\u001b[0;34m]\u001b[0m\u001b[0;34m)\u001b[0m\u001b[0;34m,\u001b[0m \u001b[0;34m\"source-end-time\"\u001b[0m\u001b[0;34m:\u001b[0m\u001b[0mnp\u001b[0m\u001b[0;34m.\u001b[0m\u001b[0mdatetime_as_string\u001b[0m\u001b[0;34m(\u001b[0m\u001b[0mend_time\u001b[0m\u001b[0;34m[\u001b[0m\u001b[0mi\u001b[0m\u001b[0;34m]\u001b[0m\u001b[0;34m)\u001b[0m\u001b[0;34m,\u001b[0m\u001b[0;34m\"tList\"\u001b[0m\u001b[0;34m:\u001b[0m \u001b[0mtList\u001b[0m\u001b[0;34m}\u001b[0m\u001b[0;34m)\u001b[0m\u001b[0;34m\u001b[0m\u001b[0;34m\u001b[0m\u001b[0m\n",
      "\u001b[0;32m<ipython-input-13-f39502cf0564>\u001b[0m in \u001b[0;36mgetTargetEventList\u001b[0;34m(stime, etime)\u001b[0m\n\u001b[1;32m      3\u001b[0m \u001b[0;34m\u001b[0m\u001b[0m\n\u001b[1;32m      4\u001b[0m     \u001b[0;32mfor\u001b[0m \u001b[0mi\u001b[0m \u001b[0;32min\u001b[0m \u001b[0mrange\u001b[0m\u001b[0;34m(\u001b[0m\u001b[0mlen\u001b[0m\u001b[0;34m(\u001b[0m\u001b[0mstart_time\u001b[0m\u001b[0;34m)\u001b[0m\u001b[0;34m)\u001b[0m\u001b[0;34m:\u001b[0m\u001b[0;34m\u001b[0m\u001b[0;34m\u001b[0m\u001b[0m\n\u001b[0;32m----> 5\u001b[0;31m         \u001b[0;32mif\u001b[0m \u001b[0;34m(\u001b[0m\u001b[0mstime\u001b[0m \u001b[0;34m<\u001b[0m \u001b[0mstart_time\u001b[0m\u001b[0;34m[\u001b[0m\u001b[0mi\u001b[0m\u001b[0;34m]\u001b[0m\u001b[0;34m)\u001b[0m \u001b[0;32mand\u001b[0m \u001b[0;34m(\u001b[0m\u001b[0mstart_time\u001b[0m\u001b[0;34m[\u001b[0m\u001b[0mi\u001b[0m\u001b[0;34m]\u001b[0m \u001b[0;34m<\u001b[0m \u001b[0metime\u001b[0m\u001b[0;34m)\u001b[0m \u001b[0;32mand\u001b[0m \u001b[0;34m(\u001b[0m\u001b[0mend_time\u001b[0m\u001b[0;34m[\u001b[0m\u001b[0mi\u001b[0m\u001b[0;34m]\u001b[0m \u001b[0;34m<\u001b[0m \u001b[0metime\u001b[0m\u001b[0;34m)\u001b[0m\u001b[0;34m:\u001b[0m\u001b[0;34m\u001b[0m\u001b[0;34m\u001b[0m\u001b[0m\n\u001b[0m\u001b[1;32m      6\u001b[0m             \u001b[0mtList\u001b[0m\u001b[0;34m.\u001b[0m\u001b[0mappend\u001b[0m\u001b[0;34m(\u001b[0m\u001b[0;34m{\u001b[0m\u001b[0;34m\"target\"\u001b[0m\u001b[0;34m:\u001b[0m \u001b[0msources\u001b[0m\u001b[0;34m[\u001b[0m\u001b[0mi\u001b[0m\u001b[0;34m]\u001b[0m\u001b[0;34m,\u001b[0m \u001b[0;34m\"target-start-time\"\u001b[0m\u001b[0;34m:\u001b[0m \u001b[0mnp\u001b[0m\u001b[0;34m.\u001b[0m\u001b[0mdatetime_as_string\u001b[0m\u001b[0;34m(\u001b[0m\u001b[0mstart_time\u001b[0m\u001b[0;34m[\u001b[0m\u001b[0mi\u001b[0m\u001b[0;34m]\u001b[0m\u001b[0;34m)\u001b[0m\u001b[0;34m,\u001b[0m \u001b[0;34m\"target-end-time\"\u001b[0m\u001b[0;34m:\u001b[0m \u001b[0mnp\u001b[0m\u001b[0;34m.\u001b[0m\u001b[0mdatetime_as_string\u001b[0m\u001b[0;34m(\u001b[0m\u001b[0mend_time\u001b[0m\u001b[0;34m[\u001b[0m\u001b[0mi\u001b[0m\u001b[0;34m]\u001b[0m\u001b[0;34m)\u001b[0m\u001b[0;34m}\u001b[0m\u001b[0;34m)\u001b[0m\u001b[0;34m\u001b[0m\u001b[0;34m\u001b[0m\u001b[0m\n\u001b[1;32m      7\u001b[0m \u001b[0;34m\u001b[0m\u001b[0m\n",
      "\u001b[0;31mKeyboardInterrupt\u001b[0m: "
     ]
    }
   ],
   "source": [
    "for i, s in enumerate(sources):\n",
    "    tList = getTargetEventList(i+1,start_time[i], end_time[i])\n",
    "    if len(tList) > 0:\n",
    "        print(\"Iteration\", i)\n",
    "        collectionT.insert_one({\"source\":s, \"source-start-time\": np.datetime_as_string(start_time[i]), \"source-end-time\":np.datetime_as_string(end_time[i]),\"tList\": tList})\n"
   ]
  },
  {
   "cell_type": "code",
   "metadata": {},
   "outputs": [],
   "source": []
  }
 ]
}